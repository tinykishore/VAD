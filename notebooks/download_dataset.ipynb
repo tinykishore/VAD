{
 "metadata": {
  "kernelspec": {
   "language": "python",
   "display_name": "Python 3",
   "name": "python3"
  },
  "language_info": {
   "name": "python",
   "version": "3.10.13",
   "mimetype": "text/x-python",
   "codemirror_mode": {
    "name": "ipython",
    "version": 3
   },
   "pygments_lexer": "ipython3",
   "nbconvert_exporter": "python",
   "file_extension": ".py"
  },
  "kaggle": {
   "accelerator": "none",
   "dataSources": [
    {
     "sourceId": 4769020,
     "sourceType": "datasetVersion",
     "datasetId": 2760272
    }
   ],
   "dockerImageVersionId": 30646,
   "isInternetEnabled": true,
   "language": "python",
   "sourceType": "notebook",
   "isGpuEnabled": false
  }
 },
 "nbformat_minor": 4,
 "nbformat": 4,
 "cells": [
  {
   "cell_type": "markdown",
   "source": [
    "## This notebook contains cells that download individual folders in dataset\n",
    "\n",
    "[Open In Kaggle](https://www.kaggle.com/code/shantabiswas/download-dataset-folder/notebook?scriptVersionId=163463134)\n",
    "\n",
    "**Add the dataset and specify the directory location**\n",
    "- `/kaggle/input/real-time-anomaly-detection-in-cctv-surveillance/data/abuse`\n",
    "- `/kaggle/input/real-time-anomaly-detection-in-cctv-surveillance/data/arrest`\n",
    "- `/kaggle/input/real-time-anomaly-detection-in-cctv-surveillance/data/arson`\n",
    "- `/kaggle/input/real-time-anomaly-detection-in-cctv-surveillance/data/assault`\n",
    "- `/kaggle/input/real-time-anomaly-detection-in-cctv-surveillance/data/burglary`\n",
    "- `/kaggle/input/real-time-anomaly-detection-in-cctv-surveillance/data/explosion`\n",
    "- `/kaggle/input/real-time-anomaly-detection-in-cctv-surveillance/data/fighting`\n",
    "- `/kaggle/input/real-time-anomaly-detection-in-cctv-surveillance/data/roadaccidents`\n",
    "- `/kaggle/input/real-time-anomaly-detection-in-cctv-surveillance/data/robbery`\n",
    "- `/kaggle/input/real-time-anomaly-detection-in-cctv-surveillance/data/shooting`\n",
    "- `/kaggle/input/real-time-anomaly-detection-in-cctv-surveillance/data/shoplifting`\n",
    "- `/kaggle/input/real-time-anomaly-detection-in-cctv-surveillance/data/stealing`\n",
    "- `/kaggle/input/real-time-anomaly-detection-in-cctv-surveillance/data/vandalism`\n",
    "---\n",
    "\n",
    "**Add the path you want to download in `source_directory`**"
   ],
   "metadata": {
    "_uuid": "8f2839f25d086af736a60e9eeb907d3b93b6e0e5",
    "_cell_guid": "b1076dfc-b9ad-4769-8c92-a6c4dae69d19"
   }
  },
  {
   "cell_type": "code",
   "source": [
    "source_directory = '/kaggle/input/real-time-anomaly-detection-in-cctv-surveillance/data/abuse'"
   ],
   "metadata": {
    "trusted": true,
    "ExecuteTime": {
     "end_time": "2024-02-19T17:36:33.190407Z",
     "start_time": "2024-02-19T17:36:33.187062Z"
    }
   },
   "execution_count": 1,
   "outputs": []
  },
  {
   "cell_type": "markdown",
   "source": [
    "### Generate Download Link\n",
    "\n",
    "The code below will generate a zip folder download link for the directory you specified"
   ],
   "metadata": {}
  },
  {
   "cell_type": "code",
   "source": [
    "# Zip the folder\n",
    "name = source_directory.split('/')[5]\n",
    "!zip -r {name}.zip {source_directory}\n",
    "from IPython.display import clear_output, FileLink\n",
    "clear_output()\n",
    "print('Click the following link to download your zipped folder: ')\n",
    "FileLink(f'{name}.zip')"
   ],
   "metadata": {
    "trusted": true
   },
   "execution_count": null,
   "outputs": []
  }
 ]
}
