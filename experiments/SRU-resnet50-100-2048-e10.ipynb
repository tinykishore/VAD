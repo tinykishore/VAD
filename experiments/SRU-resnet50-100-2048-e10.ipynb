{
 "cells": [
  {
   "cell_type": "markdown",
   "id": "509fd4d4",
   "metadata": {
    "papermill": {
     "duration": 0.007566,
     "end_time": "2024-03-19T20:59:15.270671",
     "exception": false,
     "start_time": "2024-03-19T20:59:15.263105",
     "status": "completed"
    },
    "tags": []
   },
   "source": [
    "## Train SRU model with embeddings-resnet50-100\n",
    "\n",
    "Hope it will work..."
   ]
  },
  {
   "cell_type": "markdown",
   "id": "0ab6a7e7",
   "metadata": {
    "papermill": {
     "duration": 0.006596,
     "end_time": "2024-03-19T20:59:15.284241",
     "exception": false,
     "start_time": "2024-03-19T20:59:15.277645",
     "status": "completed"
    },
    "tags": []
   },
   "source": [
    "### Installing SRU with v3.0.0"
   ]
  },
  {
   "cell_type": "code",
   "execution_count": 1,
   "id": "dace428e",
   "metadata": {
    "_cell_guid": "b1076dfc-b9ad-4769-8c92-a6c4dae69d19",
    "_uuid": "8f2839f25d086af736a60e9eeb907d3b93b6e0e5",
    "execution": {
     "iopub.execute_input": "2024-03-19T20:59:15.299199Z",
     "iopub.status.busy": "2024-03-19T20:59:15.298788Z",
     "iopub.status.idle": "2024-03-19T20:59:28.870849Z",
     "shell.execute_reply": "2024-03-19T20:59:28.869782Z"
    },
    "papermill": {
     "duration": 13.582394,
     "end_time": "2024-03-19T20:59:28.873266",
     "exception": false,
     "start_time": "2024-03-19T20:59:15.290872",
     "status": "completed"
    },
    "tags": []
   },
   "outputs": [
    {
     "name": "stdout",
     "output_type": "stream",
     "text": [
      "Collecting sru==3.0.0.dev6\r\n",
      "  Downloading sru-3.0.0.dev6-py3-none-any.whl.metadata (3.8 kB)\r\n",
      "Requirement already satisfied: torch>=1.5.1 in /opt/conda/lib/python3.10/site-packages (from sru==3.0.0.dev6) (2.1.2)\r\n",
      "Requirement already satisfied: ninja in /opt/conda/lib/python3.10/site-packages (from sru==3.0.0.dev6) (1.11.1.1)\r\n",
      "Requirement already satisfied: filelock in /opt/conda/lib/python3.10/site-packages (from torch>=1.5.1->sru==3.0.0.dev6) (3.13.1)\r\n",
      "Requirement already satisfied: typing-extensions in /opt/conda/lib/python3.10/site-packages (from torch>=1.5.1->sru==3.0.0.dev6) (4.9.0)\r\n",
      "Requirement already satisfied: sympy in /opt/conda/lib/python3.10/site-packages (from torch>=1.5.1->sru==3.0.0.dev6) (1.12)\r\n",
      "Requirement already satisfied: networkx in /opt/conda/lib/python3.10/site-packages (from torch>=1.5.1->sru==3.0.0.dev6) (3.2.1)\r\n",
      "Requirement already satisfied: jinja2 in /opt/conda/lib/python3.10/site-packages (from torch>=1.5.1->sru==3.0.0.dev6) (3.1.2)\r\n",
      "Requirement already satisfied: fsspec in /opt/conda/lib/python3.10/site-packages (from torch>=1.5.1->sru==3.0.0.dev6) (2024.2.0)\r\n",
      "Requirement already satisfied: MarkupSafe>=2.0 in /opt/conda/lib/python3.10/site-packages (from jinja2->torch>=1.5.1->sru==3.0.0.dev6) (2.1.3)\r\n",
      "Requirement already satisfied: mpmath>=0.19 in /opt/conda/lib/python3.10/site-packages (from sympy->torch>=1.5.1->sru==3.0.0.dev6) (1.3.0)\r\n",
      "Downloading sru-3.0.0.dev6-py3-none-any.whl (30 kB)\r\n",
      "Installing collected packages: sru\r\n",
      "Successfully installed sru-3.0.0.dev6\r\n"
     ]
    }
   ],
   "source": [
    "!pip install sru==3.0.0.dev6"
   ]
  },
  {
   "cell_type": "markdown",
   "id": "268b6db7",
   "metadata": {
    "papermill": {
     "duration": 0.0063,
     "end_time": "2024-03-19T20:59:28.886503",
     "exception": false,
     "start_time": "2024-03-19T20:59:28.880203",
     "status": "completed"
    },
    "tags": []
   },
   "source": [
    "### Importing Necessary Libraries"
   ]
  },
  {
   "cell_type": "code",
   "execution_count": 2,
   "id": "4ec9cd6d",
   "metadata": {
    "execution": {
     "iopub.execute_input": "2024-03-19T20:59:28.901000Z",
     "iopub.status.busy": "2024-03-19T20:59:28.900690Z",
     "iopub.status.idle": "2024-03-19T21:00:22.587415Z",
     "shell.execute_reply": "2024-03-19T21:00:22.586476Z"
    },
    "papermill": {
     "duration": 53.703038,
     "end_time": "2024-03-19T21:00:22.596077",
     "exception": false,
     "start_time": "2024-03-19T20:59:28.893039",
     "status": "completed"
    },
    "tags": []
   },
   "outputs": [
    {
     "data": {
      "text/plain": [
       "40"
      ]
     },
     "execution_count": 2,
     "metadata": {},
     "output_type": "execute_result"
    }
   ],
   "source": [
    "import logging\n",
    "import os\n",
    "\n",
    "import numpy as np\n",
    "import torch\n",
    "from sklearn.model_selection import train_test_split\n",
    "from sru import SRU\n",
    "from torch.nn import CrossEntropyLoss\n",
    "from torch.nn import Module, Dropout, Linear\n",
    "from torch.optim import Adam\n",
    "from torch.utils.data import TensorDataset, DataLoader\n",
    "from tqdm import tqdm\n",
    "import gc\n",
    "\n",
    "gc.collect()"
   ]
  },
  {
   "cell_type": "markdown",
   "id": "ac538aaa",
   "metadata": {
    "papermill": {
     "duration": 0.006385,
     "end_time": "2024-03-19T21:00:22.609127",
     "exception": false,
     "start_time": "2024-03-19T21:00:22.602742",
     "status": "completed"
    },
    "tags": []
   },
   "source": [
    "### Set the Device to CUDA"
   ]
  },
  {
   "cell_type": "code",
   "execution_count": 3,
   "id": "af33c68d",
   "metadata": {
    "execution": {
     "iopub.execute_input": "2024-03-19T21:00:22.623592Z",
     "iopub.status.busy": "2024-03-19T21:00:22.623185Z",
     "iopub.status.idle": "2024-03-19T21:00:22.783112Z",
     "shell.execute_reply": "2024-03-19T21:00:22.782177Z"
    },
    "papermill": {
     "duration": 0.169507,
     "end_time": "2024-03-19T21:00:22.785205",
     "exception": false,
     "start_time": "2024-03-19T21:00:22.615698",
     "status": "completed"
    },
    "tags": []
   },
   "outputs": [
    {
     "name": "stdout",
     "output_type": "stream",
     "text": [
      "Device selected: cuda\n",
      "Tue Mar 19 21:00:22 2024       \n",
      "+---------------------------------------------------------------------------------------+\n",
      "| NVIDIA-SMI 535.129.03             Driver Version: 535.129.03   CUDA Version: 12.2     |\n",
      "|-----------------------------------------+----------------------+----------------------+\n",
      "| GPU  Name                 Persistence-M | Bus-Id        Disp.A | Volatile Uncorr. ECC |\n",
      "| Fan  Temp   Perf          Pwr:Usage/Cap |         Memory-Usage | GPU-Util  Compute M. |\n",
      "|                                         |                      |               MIG M. |\n",
      "|=========================================+======================+======================|\n",
      "|   0  Tesla P100-PCIE-16GB           Off | 00000000:00:04.0 Off |                    0 |\n",
      "| N/A   40C    P0              25W / 250W |      2MiB / 16384MiB |      0%      Default |\n",
      "|                                         |                      |                  N/A |\n",
      "+-----------------------------------------+----------------------+----------------------+\n",
      "                                                                                         \n",
      "+---------------------------------------------------------------------------------------+\n",
      "| Processes:                                                                            |\n",
      "|  GPU   GI   CI        PID   Type   Process name                            GPU Memory |\n",
      "|        ID   ID                                                             Usage      |\n",
      "|=======================================================================================|\n",
      "|  No running processes found                                                           |\n",
      "+---------------------------------------------------------------------------------------+\n",
      "\n",
      "Device type: cuda\n",
      "Capability: (6, 0)\n"
     ]
    },
    {
     "data": {
      "text/plain": [
       "0"
      ]
     },
     "execution_count": 3,
     "metadata": {},
     "output_type": "execute_result"
    }
   ],
   "source": [
    "# Set the device to use (e.g., 'cpu', 'cuda', 'mps')\n",
    "device = torch.device(\"mps\" if torch.backends.mps.is_available() else\n",
    "                      (\"cuda\" if torch.cuda.is_available() else \"cpu\"))\n",
    "\n",
    "# Select Device According to Availability\n",
    "print(\"Device selected:\", device)\n",
    "\n",
    "# If the device is CUDA, print the device capability\n",
    "if device.type == \"cuda\":\n",
    "    os.system(\"nvidia-smi\")\n",
    "    print()\n",
    "    print(\"Device type:\", device.type)\n",
    "    print(\"Capability:\", torch.cuda.get_device_capability(device))\n",
    "else:\n",
    "    print(\"Device capabilities are limited on MPSs and CPUs.\")\n",
    "\n",
    "gc.collect()"
   ]
  },
  {
   "cell_type": "markdown",
   "id": "d1d75c0d",
   "metadata": {
    "papermill": {
     "duration": 0.008044,
     "end_time": "2024-03-19T21:00:22.800264",
     "exception": false,
     "start_time": "2024-03-19T21:00:22.792220",
     "status": "completed"
    },
    "tags": []
   },
   "source": [
    "### Read the file, Validate and View Shape"
   ]
  },
  {
   "cell_type": "code",
   "execution_count": 4,
   "id": "959c59df",
   "metadata": {
    "execution": {
     "iopub.execute_input": "2024-03-19T21:00:22.815690Z",
     "iopub.status.busy": "2024-03-19T21:00:22.815077Z",
     "iopub.status.idle": "2024-03-19T21:01:28.273563Z",
     "shell.execute_reply": "2024-03-19T21:01:28.272614Z"
    },
    "papermill": {
     "duration": 65.474963,
     "end_time": "2024-03-19T21:01:28.282008",
     "exception": false,
     "start_time": "2024-03-19T21:00:22.807045",
     "status": "completed"
    },
    "tags": []
   },
   "outputs": [
    {
     "name": "stdout",
     "output_type": "stream",
     "text": [
      "Files Loaded Successfully\n",
      "Video Embeddings Shape: (9150, 100, 2048)\n",
      "Video Labels Shape: (9150,)\n"
     ]
    },
    {
     "data": {
      "text/plain": [
       "22"
      ]
     },
     "execution_count": 4,
     "metadata": {},
     "output_type": "execute_result"
    }
   ],
   "source": [
    "file_embeddings = np.load('/kaggle/input/embeddings-resnet50-100/train_embeddings.npy')\n",
    "file_labels = np.load('/kaggle/input/embeddings-resnet50-100/train_labels.npy')\n",
    "\n",
    "# Check if the embeddings and labels are of the same length\n",
    "if len(file_embeddings) != len(file_labels):\n",
    "    raise ValueError(\"The length of the embeddings and labels should be the same\")\n",
    "\n",
    "# check if the embedding is a 3D array\n",
    "if len(file_embeddings.shape) != 3:\n",
    "    raise ValueError(f\"The embeddings should be a 4D array [instances, windows, frames, features].\"\n",
    "                     f\" Found {len(file_embeddings.shape)}D instead.\")\n",
    "\n",
    "print(\"Files Loaded Successfully\")\n",
    "print(\"Video Embeddings Shape:\", file_embeddings.shape)\n",
    "print(\"Video Labels Shape:\", file_labels.shape)\n",
    "gc.collect()"
   ]
  },
  {
   "cell_type": "markdown",
   "id": "559f1311",
   "metadata": {
    "papermill": {
     "duration": 0.007227,
     "end_time": "2024-03-19T21:01:28.296304",
     "exception": false,
     "start_time": "2024-03-19T21:01:28.289077",
     "status": "completed"
    },
    "tags": []
   },
   "source": [
    "### Train Test Split, Convert to torch.tensor and View Shape"
   ]
  },
  {
   "cell_type": "code",
   "execution_count": 5,
   "id": "89ef0154",
   "metadata": {
    "execution": {
     "iopub.execute_input": "2024-03-19T21:01:28.312037Z",
     "iopub.status.busy": "2024-03-19T21:01:28.311206Z",
     "iopub.status.idle": "2024-03-19T21:01:32.288060Z",
     "shell.execute_reply": "2024-03-19T21:01:32.287128Z"
    },
    "papermill": {
     "duration": 3.987191,
     "end_time": "2024-03-19T21:01:32.290404",
     "exception": false,
     "start_time": "2024-03-19T21:01:28.303213",
     "status": "completed"
    },
    "tags": []
   },
   "outputs": [
    {
     "name": "stdout",
     "output_type": "stream",
     "text": [
      "Shape of Train Embeddings: torch.Size([7320, 100, 2048])\n",
      "Shape of Train Labels: torch.Size([7320])\n",
      "Shape of Test Embeddings: torch.Size([1830, 100, 2048])\n",
      "Shape of Test Labels: torch.Size([1830])\n"
     ]
    },
    {
     "data": {
      "text/plain": [
       "0"
      ]
     },
     "execution_count": 5,
     "metadata": {},
     "output_type": "execute_result"
    }
   ],
   "source": [
    "test_size = 0.2\n",
    "\n",
    "\n",
    "# Split the data into training and testing\n",
    "x_train, x_test, y_train, y_test = train_test_split(file_embeddings,\n",
    "                                                    file_labels,\n",
    "                                                    test_size=test_size,\n",
    "                                                    random_state=42)\n",
    "\n",
    "\n",
    "# convert to tensor\n",
    "train_embeddings = torch.from_numpy(x_train).to(device)\n",
    "# train_embeddings = train_embeddings.reshape(train_embeddings.shape[0], -1)\n",
    "train_labels = torch.from_numpy(y_train).to(device)\n",
    "test_embeddings = torch.from_numpy(x_test).to(device)\n",
    "# test_embeddings = test_embeddings.reshape(test_embeddings.shape[0], -1)\n",
    "test_labels = torch.from_numpy(y_test).to(device)\n",
    "\n",
    "print('Shape of Train Embeddings:', train_embeddings.shape)\n",
    "print('Shape of Train Labels:', train_labels.shape)\n",
    "print('Shape of Test Embeddings:', test_embeddings.shape)\n",
    "print('Shape of Test Labels:', test_labels.shape)\n",
    "\n",
    "gc.collect()"
   ]
  },
  {
   "cell_type": "markdown",
   "id": "a102856b",
   "metadata": {
    "papermill": {
     "duration": 0.007533,
     "end_time": "2024-03-19T21:01:32.306037",
     "exception": false,
     "start_time": "2024-03-19T21:01:32.298504",
     "status": "completed"
    },
    "tags": []
   },
   "source": [
    "### Delete all unnecessary variables\n",
    "\n",
    "This is important because the embeddings are huge in size and the variables take around 15.1 GiB / 29 GiB. **After running the cell it will drop down to 1.2 GiB**"
   ]
  },
  {
   "cell_type": "code",
   "execution_count": 6,
   "id": "b2c04e4d",
   "metadata": {
    "execution": {
     "iopub.execute_input": "2024-03-19T21:01:32.322516Z",
     "iopub.status.busy": "2024-03-19T21:01:32.322197Z",
     "iopub.status.idle": "2024-03-19T21:01:32.458413Z",
     "shell.execute_reply": "2024-03-19T21:01:32.457388Z"
    },
    "papermill": {
     "duration": 0.146978,
     "end_time": "2024-03-19T21:01:32.460671",
     "exception": false,
     "start_time": "2024-03-19T21:01:32.313693",
     "status": "completed"
    },
    "tags": []
   },
   "outputs": [
    {
     "data": {
      "text/plain": [
       "0"
      ]
     },
     "execution_count": 6,
     "metadata": {},
     "output_type": "execute_result"
    }
   ],
   "source": [
    "del file_embeddings\n",
    "del file_labels\n",
    "del x_train\n",
    "del x_test\n",
    "del y_train\n",
    "del y_test\n",
    "gc.collect()"
   ]
  },
  {
   "cell_type": "markdown",
   "id": "8d90f3fd",
   "metadata": {
    "papermill": {
     "duration": 0.007701,
     "end_time": "2024-03-19T21:01:32.476478",
     "exception": false,
     "start_time": "2024-03-19T21:01:32.468777",
     "status": "completed"
    },
    "tags": []
   },
   "source": [
    "### Reshaping the tensors\n",
    "\n",
    "To fit in SRU model we need to reshape the tensors. Currently, they are in 3D shape, `(videos, frames, features)`. But SRU expects the tensor in different format.\n",
    "\n",
    "SRU expects a 3D tensor shaped like `(sequence_length, batch_size, input_size)`, which for our case, `sequence_length` would be `frames`, `batch_size` would be `videos` and `input_size` would be `features`. So, we need to convert from shape `(7320, 100, 2048)` to shape `(100, 7320, 2048)`"
   ]
  },
  {
   "cell_type": "markdown",
   "id": "d29ffea8",
   "metadata": {
    "papermill": {
     "duration": 0.007618,
     "end_time": "2024-03-19T21:01:32.491870",
     "exception": false,
     "start_time": "2024-03-19T21:01:32.484252",
     "status": "completed"
    },
    "tags": []
   },
   "source": [
    "Now we need to reshape the labels as well"
   ]
  },
  {
   "cell_type": "code",
   "execution_count": 7,
   "id": "ced553dd",
   "metadata": {
    "execution": {
     "iopub.execute_input": "2024-03-19T21:01:32.508439Z",
     "iopub.status.busy": "2024-03-19T21:01:32.508100Z",
     "iopub.status.idle": "2024-03-19T21:01:32.513675Z",
     "shell.execute_reply": "2024-03-19T21:01:32.512727Z"
    },
    "papermill": {
     "duration": 0.016101,
     "end_time": "2024-03-19T21:01:32.515665",
     "exception": false,
     "start_time": "2024-03-19T21:01:32.499564",
     "status": "completed"
    },
    "tags": []
   },
   "outputs": [],
   "source": [
    "batch_size = 8\n",
    "\n",
    "# Create TensorDataset\n",
    "train_data = TensorDataset(train_embeddings, train_labels)\n",
    "test_data = TensorDataset(test_embeddings, test_labels)\n",
    "\n",
    "train_loader = DataLoader(train_data, shuffle=True, batch_size=batch_size)\n",
    "test_loader = DataLoader(test_data, shuffle=True, batch_size=batch_size)\n",
    "\n",
    "# Train loader length is = 915 which means 915 * batch size 8 = 7320 data points, which are actually videos.\n",
    "# same goes for test loader\n",
    "# our sequence length is then 204800 which is the total features"
   ]
  },
  {
   "cell_type": "code",
   "execution_count": 8,
   "id": "ef56839f",
   "metadata": {
    "execution": {
     "iopub.execute_input": "2024-03-19T21:01:32.531958Z",
     "iopub.status.busy": "2024-03-19T21:01:32.531630Z",
     "iopub.status.idle": "2024-03-19T21:01:32.797286Z",
     "shell.execute_reply": "2024-03-19T21:01:32.796183Z"
    },
    "papermill": {
     "duration": 0.276451,
     "end_time": "2024-03-19T21:01:32.799580",
     "exception": false,
     "start_time": "2024-03-19T21:01:32.523129",
     "status": "completed"
    },
    "tags": []
   },
   "outputs": [
    {
     "data": {
      "text/plain": [
       "SRUModel(\n",
       "  (sru_layers): SRU(\n",
       "    (rnn_lst): ModuleList(\n",
       "      (0): SRUCell(2048, 1024, rescale=True,\n",
       "        transform_module=Linear(in_features=2048, out_features=4096, bias=False)\n",
       "      )\n",
       "      (1): SRUCell(1024, 1024, rescale=True,\n",
       "        transform_module=Linear(in_features=1024, out_features=3072, bias=False)\n",
       "      )\n",
       "    )\n",
       "  )\n",
       "  (dropout): Dropout(p=0.2, inplace=False)\n",
       "  (linear): Linear(in_features=1024, out_features=2, bias=True)\n",
       ")"
      ]
     },
     "execution_count": 8,
     "metadata": {},
     "output_type": "execute_result"
    }
   ],
   "source": [
    "class SRUModel(Module):\n",
    "    def __init__(self, input_size, hidden_size, **kwargs):\n",
    "        super(SRUModel, self).__init__()\n",
    "        # Main SRU layer\n",
    "        self.sru_layers = SRU(\n",
    "            input_size=input_size,\n",
    "            hidden_size=hidden_size,\n",
    "            num_layers=kwargs.get('num_layers', 2),\n",
    "            dropout=kwargs.get('dropout_prob', 0.0),\n",
    "            bidirectional=kwargs.get('bidirectional', False),\n",
    "            layer_norm=kwargs.get('layer_norm', False),\n",
    "            highway_bias=kwargs.get('highway_bias', 0.0),\n",
    "            rescale=kwargs.get('rescale', True),\n",
    "            nn_rnn_compatible_return=kwargs.get('nn_rnn_compatible_return', False),\n",
    "            proj_input_to_hidden_first=kwargs.get('proj_input_to_hidden_first', False),\n",
    "            amp_recurrence_fp16=kwargs.get('amp_recurrence_fp16', False),\n",
    "            normalize_after=kwargs.get('normalize_after', False),\n",
    "        ).to(device)\n",
    "        # Dropout layer\n",
    "        self.dropout = Dropout(kwargs.get('dropout_layer_prob', 0.2)).to(device)\n",
    "        # Linear layer (Fully connected layer)\n",
    "        self.linear = Linear(\n",
    "            in_features=hidden_size * 2 if kwargs.get('bidirectional', False) else hidden_size,\n",
    "            out_features=kwargs.get('num_classes', 2)\n",
    "        ).to(device)\n",
    "        # L2 regularization\n",
    "        self.l2_reg_lambda = kwargs.get('l2_reg_lambda', 1e-5)\n",
    "\n",
    "    def forward(self, x):\n",
    "        output_states, _ = self.sru_layers(x)\n",
    "        output = self.linear(self.dropout(output_states[-1]))\n",
    "        return output\n",
    "\n",
    "    def l2_regularization(self):\n",
    "        l2_reg = torch.tensor(0., device=device)\n",
    "        for param in self.parameters():\n",
    "            l2_reg += torch.norm(param, p=2)\n",
    "        return self.l2_reg_lambda * l2_reg\n",
    "\n",
    "\n",
    "model = SRUModel(2048, 1024)\n",
    "model = model.to(device)\n",
    "model"
   ]
  },
  {
   "cell_type": "code",
   "execution_count": 9,
   "id": "30cc6c08",
   "metadata": {
    "execution": {
     "iopub.execute_input": "2024-03-19T21:01:32.817371Z",
     "iopub.status.busy": "2024-03-19T21:01:32.816635Z",
     "iopub.status.idle": "2024-03-19T21:01:35.369707Z",
     "shell.execute_reply": "2024-03-19T21:01:35.368905Z"
    },
    "papermill": {
     "duration": 2.564431,
     "end_time": "2024-03-19T21:01:35.372045",
     "exception": false,
     "start_time": "2024-03-19T21:01:32.807614",
     "status": "completed"
    },
    "tags": []
   },
   "outputs": [],
   "source": [
    "# Define your loss function and optimizer\n",
    "criterion = CrossEntropyLoss()\n",
    "optimizer = Adam(model.parameters())"
   ]
  },
  {
   "cell_type": "code",
   "execution_count": 10,
   "id": "bf15beb1",
   "metadata": {
    "execution": {
     "iopub.execute_input": "2024-03-19T21:01:35.389558Z",
     "iopub.status.busy": "2024-03-19T21:01:35.388790Z",
     "iopub.status.idle": "2024-03-19T21:03:23.999713Z",
     "shell.execute_reply": "2024-03-19T21:03:23.998779Z"
    },
    "papermill": {
     "duration": 108.621613,
     "end_time": "2024-03-19T21:03:24.001775",
     "exception": false,
     "start_time": "2024-03-19T21:01:35.380162",
     "status": "completed"
    },
    "tags": []
   },
   "outputs": [
    {
     "name": "stderr",
     "output_type": "stream",
     "text": [
      "Epoch 1/10: 100%|██████████| 915/915 [00:11<00:00, 78.50it/s, accuracy=79, loss=0.531]\n"
     ]
    },
    {
     "name": "stdout",
     "output_type": "stream",
     "text": [
      "Epoch [1/10], Loss: 0.4815697338940993, Accuracy: 78.96174863387978%\n"
     ]
    },
    {
     "name": "stderr",
     "output_type": "stream",
     "text": [
      "Epoch 2/10: 100%|██████████| 915/915 [00:10<00:00, 85.47it/s, accuracy=84.5, loss=0.24]\n"
     ]
    },
    {
     "name": "stdout",
     "output_type": "stream",
     "text": [
      "Epoch [2/10], Loss: 0.3909272361867374, Accuracy: 84.50819672131148%\n"
     ]
    },
    {
     "name": "stderr",
     "output_type": "stream",
     "text": [
      "Epoch 3/10: 100%|██████████| 915/915 [00:10<00:00, 85.43it/s, accuracy=88.3, loss=0.274]\n"
     ]
    },
    {
     "name": "stdout",
     "output_type": "stream",
     "text": [
      "Epoch [3/10], Loss: 0.31067453143135976, Accuracy: 88.30601092896175%\n"
     ]
    },
    {
     "name": "stderr",
     "output_type": "stream",
     "text": [
      "Epoch 4/10: 100%|██████████| 915/915 [00:10<00:00, 85.04it/s, accuracy=89.5, loss=0.0575]\n"
     ]
    },
    {
     "name": "stdout",
     "output_type": "stream",
     "text": [
      "Epoch [4/10], Loss: 0.28302793130227694, Accuracy: 89.49453551912568%\n"
     ]
    },
    {
     "name": "stderr",
     "output_type": "stream",
     "text": [
      "Epoch 5/10: 100%|██████████| 915/915 [00:10<00:00, 84.92it/s, accuracy=90.8, loss=0.0612]\n"
     ]
    },
    {
     "name": "stdout",
     "output_type": "stream",
     "text": [
      "Epoch [5/10], Loss: 0.29869648456787234, Accuracy: 90.77868852459017%\n"
     ]
    },
    {
     "name": "stderr",
     "output_type": "stream",
     "text": [
      "Epoch 6/10: 100%|██████████| 915/915 [00:10<00:00, 84.93it/s, accuracy=92.8, loss=0.00895]\n"
     ]
    },
    {
     "name": "stdout",
     "output_type": "stream",
     "text": [
      "Epoch [6/10], Loss: 0.19009021383130037, Accuracy: 92.75956284153006%\n"
     ]
    },
    {
     "name": "stderr",
     "output_type": "stream",
     "text": [
      "Epoch 7/10: 100%|██████████| 915/915 [00:10<00:00, 84.70it/s, accuracy=93.8, loss=0.19]\n"
     ]
    },
    {
     "name": "stdout",
     "output_type": "stream",
     "text": [
      "Epoch [7/10], Loss: 0.16784262239571682, Accuracy: 93.81147540983606%\n"
     ]
    },
    {
     "name": "stderr",
     "output_type": "stream",
     "text": [
      "Epoch 8/10: 100%|██████████| 915/915 [00:10<00:00, 85.00it/s, accuracy=93, loss=0.00902]\n"
     ]
    },
    {
     "name": "stdout",
     "output_type": "stream",
     "text": [
      "Epoch [8/10], Loss: 0.2536225889666932, Accuracy: 92.95081967213115%\n"
     ]
    },
    {
     "name": "stderr",
     "output_type": "stream",
     "text": [
      "Epoch 9/10: 100%|██████████| 915/915 [00:10<00:00, 84.74it/s, accuracy=92.8, loss=0.166]\n"
     ]
    },
    {
     "name": "stdout",
     "output_type": "stream",
     "text": [
      "Epoch [9/10], Loss: 0.24020503815187172, Accuracy: 92.81420765027322%\n"
     ]
    },
    {
     "name": "stderr",
     "output_type": "stream",
     "text": [
      "Epoch 10/10: 100%|██████████| 915/915 [00:10<00:00, 84.64it/s, accuracy=95.3, loss=0.0289]\n"
     ]
    },
    {
     "name": "stdout",
     "output_type": "stream",
     "text": [
      "Epoch [10/10], Loss: 0.13985368790680064, Accuracy: 95.28688524590164%\n",
      "Average Train Accuracy of the model on the train videos: 89.54775455174553%\n"
     ]
    }
   ],
   "source": [
    "epochs = 10\n",
    "\n",
    "total_correct_all_epochs = 0\n",
    "total_samples_all_epochs = 0\n",
    "\n",
    "# Setup logging\n",
    "logging.basicConfig(filename='training.log', level=logging.INFO)\n",
    "\n",
    "for epoch in range(epochs):\n",
    "    total_correct = 0\n",
    "    total_samples = 0\n",
    "    total_loss = 0.0\n",
    "\n",
    "    # Create tqdm progress bar for training loader\n",
    "    progress_bar = tqdm(enumerate(train_loader), desc=f\"Epoch {epoch + 1}/{epochs}\", total=len(train_loader))\n",
    "\n",
    "    for i, (videos, labels) in progress_bar:\n",
    "        videos = videos.permute(1, 0, 2)\n",
    "        # Forward pass\n",
    "        outputs = model(videos)\n",
    "        labels = labels.long()  # Convert labels to Long type\n",
    "        loss = criterion(outputs, labels) + model.l2_regularization()  # calculates loss\n",
    "        total_loss += loss.item()\n",
    "        # Backward and optimize\n",
    "        optimizer.zero_grad()\n",
    "        loss.backward()\n",
    "        optimizer.step()\n",
    "        # Calculate accuracy per batch\n",
    "        _, predicted = torch.max(outputs.data, 1)\n",
    "        total_samples += labels.size(0)\n",
    "        total_correct += (predicted == labels).sum().item()\n",
    "        batch_accuracy = 100 * total_correct / total_samples\n",
    "\n",
    "        # Update progress bar\n",
    "        progress_bar.set_postfix(loss=loss.item(), accuracy=batch_accuracy)\n",
    "        \n",
    "        # Update overall accuracy counters\n",
    "        total_correct_all_epochs += total_correct\n",
    "        total_samples_all_epochs += total_samples\n",
    "\n",
    "    # Log epoch statistics\n",
    "    epoch_loss = total_loss / len(train_loader)\n",
    "    epoch_accuracy = 100 * total_correct / total_samples\n",
    "    logging.info(f'Epoch [{epoch + 1}/{epochs}], Loss: {epoch_loss}, Accuracy: {epoch_accuracy}%')\n",
    "\n",
    "    print(f'Epoch [{epoch + 1}/{epochs}], Loss: {epoch_loss}, Accuracy: {epoch_accuracy}%')\n",
    "\n",
    "# Close logging\n",
    "logging.shutdown()\n",
    "\n",
    "overall_accuracy = 100 * total_correct_all_epochs / total_samples_all_epochs\n",
    "print(f'Average Train Accuracy of the model on the train videos: {overall_accuracy}%')"
   ]
  },
  {
   "cell_type": "code",
   "execution_count": 11,
   "id": "f9833659",
   "metadata": {
    "execution": {
     "iopub.execute_input": "2024-03-19T21:03:25.675548Z",
     "iopub.status.busy": "2024-03-19T21:03:25.674664Z",
     "iopub.status.idle": "2024-03-19T21:03:26.445078Z",
     "shell.execute_reply": "2024-03-19T21:03:26.444178Z"
    },
    "papermill": {
     "duration": 1.585045,
     "end_time": "2024-03-19T21:03:26.447207",
     "exception": false,
     "start_time": "2024-03-19T21:03:24.862162",
     "status": "completed"
    },
    "tags": []
   },
   "outputs": [
    {
     "name": "stdout",
     "output_type": "stream",
     "text": [
      "Test Accuracy of the model on the test videos: 93.87978142076503%\n"
     ]
    }
   ],
   "source": [
    "model.eval()\n",
    "\n",
    "with torch.no_grad():\n",
    "    correct = 0\n",
    "    total = 0\n",
    "    for videos, labels in test_loader:\n",
    "        videos = videos.permute(1, 0, 2)\n",
    "        outputs = model(videos)\n",
    "        _, predicted = torch.max(outputs.data, 1)\n",
    "        total += labels.size(0)\n",
    "        correct += (predicted == labels).sum().item()\n",
    "        #print test accuracy per test\n",
    "\n",
    "    print(f'Test Accuracy of the model on the test videos: {100 * correct / total}%')"
   ]
  },
  {
   "cell_type": "code",
   "execution_count": 12,
   "id": "e3069474",
   "metadata": {
    "execution": {
     "iopub.execute_input": "2024-03-19T21:03:28.121771Z",
     "iopub.status.busy": "2024-03-19T21:03:28.121388Z",
     "iopub.status.idle": "2024-03-19T21:03:30.093630Z",
     "shell.execute_reply": "2024-03-19T21:03:30.092778Z"
    },
    "papermill": {
     "duration": 2.78686,
     "end_time": "2024-03-19T21:03:30.095580",
     "exception": false,
     "start_time": "2024-03-19T21:03:27.308720",
     "status": "completed"
    },
    "tags": []
   },
   "outputs": [
    {
     "name": "stdout",
     "output_type": "stream",
     "text": [
      "Confusion Matrix:\n",
      "[[850 101]\n",
      " [ 11 868]]\n"
     ]
    },
    {
     "data": {
      "image/png": "[encoded data removed]",
      "text/plain": [
       "<Figure size 800x600 with 2 Axes>"
      ]
     },
     "metadata": {},
     "output_type": "display_data"
    }
   ],
   "source": [
    "from sklearn.metrics import confusion_matrix\n",
    "import numpy as np\n",
    "\n",
    "# Set model to evaluation mode\n",
    "model.eval()\n",
    "\n",
    "# Initialize variables for predictions and ground truth labels\n",
    "all_predictions = []\n",
    "all_labels = []\n",
    "\n",
    "# Iterate through the test dataset\n",
    "for videos, labels in test_loader:\n",
    "#     videos = videos.unsqueeze(0)\n",
    "    videos = videos.permute(1, 0, 2)\n",
    "    # Forward pass\n",
    "    outputs = model(videos)\n",
    "    # Predictions\n",
    "    _, predicted = torch.max(outputs.data, 1)\n",
    "    # Append predictions and labels to the lists\n",
    "    all_predictions.extend(predicted.tolist())\n",
    "    all_labels.extend(labels.tolist())\n",
    "\n",
    "# Convert predictions and labels lists to numpy arrays\n",
    "all_predictions = np.array(all_predictions)\n",
    "all_labels = np.array(all_labels)\n",
    "\n",
    "# Generate confusion matrix\n",
    "conf_matrix = confusion_matrix(all_labels, all_predictions)\n",
    "\n",
    "print(\"Confusion Matrix:\")\n",
    "print(conf_matrix)\n",
    "\n",
    "import matplotlib.pyplot as plt\n",
    "import seaborn as sns\n",
    "\n",
    "# Plot confusion matrix\n",
    "plt.figure(figsize=(8, 6))\n",
    "sns.heatmap(conf_matrix, annot=True, fmt=\"d\", cmap=\"Blues\")\n",
    "plt.title(\"Confusion Matrix\")\n",
    "plt.xlabel(\"Predicted\")\n",
    "plt.ylabel(\"True\")\n",
    "plt.show()"
   ]
  },
  {
   "cell_type": "code",
   "execution_count": 13,
   "id": "7bee7c05",
   "metadata": {
    "execution": {
     "iopub.execute_input": "2024-03-19T21:03:31.816155Z",
     "iopub.status.busy": "2024-03-19T21:03:31.815633Z",
     "iopub.status.idle": "2024-03-19T21:03:33.130075Z",
     "shell.execute_reply": "2024-03-19T21:03:33.129056Z"
    },
    "papermill": {
     "duration": 2.210689,
     "end_time": "2024-03-19T21:03:33.132059",
     "exception": false,
     "start_time": "2024-03-19T21:03:30.921370",
     "status": "completed"
    },
    "tags": []
   },
   "outputs": [
    {
     "data": {
      "image/png": "[encoded data removed]",
      "text/plain": [
       "<Figure size 640x480 with 1 Axes>"
      ]
     },
     "metadata": {},
     "output_type": "display_data"
    },
    {
     "data": {
      "image/png": "[encoded data removed]",
      "text/plain": [
       "<Figure size 640x480 with 1 Axes>"
      ]
     },
     "metadata": {},
     "output_type": "display_data"
    }
   ],
   "source": [
    "from sklearn.metrics import roc_curve, auc, precision_recall_curve, average_precision_score\n",
    "import matplotlib.pyplot as plt\n",
    "\n",
    "# Set model to evaluation mode\n",
    "model.eval()\n",
    "\n",
    "# Initialize variables for predictions and ground truth labels\n",
    "all_probs = []\n",
    "all_labels = []\n",
    "\n",
    "# Iterate through the test dataset\n",
    "for videos, labels in test_loader:\n",
    "#     videos = videos.unsqueeze(0)\n",
    "    videos = videos.permute(1, 0, 2)\n",
    "    # Forward pass\n",
    "    outputs = model(videos)\n",
    "    # Get probabilities\n",
    "    probs = torch.softmax(outputs, dim=1)[:, 1].detach().cpu().numpy()\n",
    "    # Append probabilities and labels to the lists\n",
    "    all_probs.extend(probs.tolist())\n",
    "    all_labels.extend(labels.tolist())\n",
    "\n",
    "# Convert probabilities and labels lists to numpy arrays\n",
    "all_probs = np.array(all_probs)\n",
    "all_labels = np.array(all_labels)\n",
    "\n",
    "# AUC ROC Curve\n",
    "fpr, tpr, _ = roc_curve(all_labels, all_probs)\n",
    "roc_auc = auc(fpr, tpr)\n",
    "\n",
    "plt.figure()\n",
    "plt.plot(fpr, tpr, color='darkorange', lw=2, label='ROC curve (area = %0.2f)' % roc_auc)\n",
    "plt.plot([0, 1], [0, 1], color='navy', lw=2, linestyle='--')\n",
    "plt.xlim([0.0, 1.0])\n",
    "plt.ylim([0.0, 1.05])\n",
    "plt.xlabel('False Positive Rate')\n",
    "plt.ylabel('True Positive Rate')\n",
    "plt.title('Receiver Operating Characteristic (ROC) Curve')\n",
    "plt.legend(loc=\"lower right\")\n",
    "plt.show()\n",
    "\n",
    "# Precision-Recall Curve\n",
    "precision, recall, _ = precision_recall_curve(all_labels, all_probs)\n",
    "average_precision = average_precision_score(all_labels, all_probs)\n",
    "\n",
    "plt.figure()\n",
    "plt.step(recall, precision, color='b', alpha=0.2, where='post')\n",
    "plt.fill_between(recall, precision, step='post', alpha=0.2, color='b')\n",
    "plt.xlabel('Recall')\n",
    "plt.ylabel('Precision')\n",
    "plt.ylim([0.0, 1.05])\n",
    "plt.xlim([0.0, 1.0])\n",
    "plt.title('Precision-Recall Curve (AP={0:0.2f})'.format(average_precision))\n",
    "plt.show()"
   ]
  },
  {
   "cell_type": "code",
   "execution_count": null,
   "id": "56dcf6b8",
   "metadata": {
    "papermill": {
     "duration": 0.90069,
     "end_time": "2024-03-19T21:03:34.870251",
     "exception": false,
     "start_time": "2024-03-19T21:03:33.969561",
     "status": "completed"
    },
    "tags": []
   },
   "outputs": [],
   "source": []
  }
 ],
 "metadata": {
  "kaggle": {
   "accelerator": "gpu",
   "dataSources": [
    {
     "datasetId": 4631625,
     "sourceId": 7889217,
     "sourceType": "datasetVersion"
    }
   ],
   "dockerImageVersionId": 30665,
   "isGpuEnabled": true,
   "isInternetEnabled": true,
   "language": "python",
   "sourceType": "notebook"
  },
  "kernelspec": {
   "display_name": "Python 3",
   "language": "python",
   "name": "python3"
  },
  "language_info": {
   "codemirror_mode": {
    "name": "ipython",
    "version": 3
   },
   "file_extension": ".py",
   "mimetype": "text/x-python",
   "name": "python",
   "nbconvert_exporter": "python",
   "pygments_lexer": "ipython3",
   "version": "3.10.13"
  },
  "papermill": {
   "default_parameters": {},
   "duration": 265.407109,
   "end_time": "2024-03-19T21:03:37.944139",
   "environment_variables": {},
   "exception": null,
   "input_path": "__notebook__.ipynb",
   "output_path": "__notebook__.ipynb",
   "parameters": {},
   "start_time": "2024-03-19T20:59:12.537030",
   "version": "2.5.0"
  }
 },
 "nbformat": 4,
 "nbformat_minor": 5
}
