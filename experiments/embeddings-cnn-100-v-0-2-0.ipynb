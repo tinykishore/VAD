{
 "cells": [
  {
   "cell_type": "markdown",
   "id": "b325f9b2",
   "metadata": {
    "papermill": {
     "duration": 0.004518,
     "end_time": "2024-03-16T11:46:13.893368",
     "exception": false,
     "start_time": "2024-03-16T11:46:13.888850",
     "status": "completed"
    },
    "tags": []
   },
   "source": [
    "# Create Embeddings with CNN\n",
    "\n",
    "In this notebook, we use dataset created by @ummaymariamuna and embed all the videos from that dataset using custom CNN model.\n",
    "\n",
    "Dataset Structure:\n",
    "\n",
    "```\n",
    "/train\n",
    "|- anomalous\n",
    "|- nonanomalous\n",
    "```\n",
    "\n"
   ]
  },
  {
   "cell_type": "code",
   "execution_count": 1,
   "id": "fb4f3497",
   "metadata": {
    "execution": {
     "iopub.execute_input": "2024-03-16T11:46:13.902799Z",
     "iopub.status.busy": "2024-03-16T11:46:13.902476Z",
     "iopub.status.idle": "2024-03-16T11:46:17.487757Z",
     "shell.execute_reply": "2024-03-16T11:46:17.486959Z"
    },
    "papermill": {
     "duration": 3.592555,
     "end_time": "2024-03-16T11:46:17.490111",
     "exception": false,
     "start_time": "2024-03-16T11:46:13.897556",
     "status": "completed"
    },
    "tags": []
   },
   "outputs": [],
   "source": [
    "import cv2\n",
    "import numpy as np\n",
    "import torch\n",
    "import torch.nn as nn\n",
    "import torch.nn.functional as F\n",
    "import os"
   ]
  },
  {
   "cell_type": "code",
   "execution_count": 2,
   "id": "e2694266",
   "metadata": {
    "execution": {
     "iopub.execute_input": "2024-03-16T11:46:17.499493Z",
     "iopub.status.busy": "2024-03-16T11:46:17.499083Z",
     "iopub.status.idle": "2024-03-16T11:46:17.627449Z",
     "shell.execute_reply": "2024-03-16T11:46:17.626436Z"
    },
    "papermill": {
     "duration": 0.135225,
     "end_time": "2024-03-16T11:46:17.629491",
     "exception": false,
     "start_time": "2024-03-16T11:46:17.494266",
     "status": "completed"
    },
    "tags": []
   },
   "outputs": [
    {
     "name": "stdout",
     "output_type": "stream",
     "text": [
      "Device selected: cuda\n",
      "Sat Mar 16 11:46:17 2024       \n",
      "+---------------------------------------------------------------------------------------+\n",
      "| NVIDIA-SMI 535.129.03             Driver Version: 535.129.03   CUDA Version: 12.2     |\n",
      "|-----------------------------------------+----------------------+----------------------+\n",
      "| GPU  Name                 Persistence-M | Bus-Id        Disp.A | Volatile Uncorr. ECC |\n",
      "| Fan  Temp   Perf          Pwr:Usage/Cap |         Memory-Usage | GPU-Util  Compute M. |\n",
      "|                                         |                      |               MIG M. |\n",
      "|=========================================+======================+======================|\n",
      "|   0  Tesla P100-PCIE-16GB           Off | 00000000:00:04.0 Off |                    0 |\n",
      "| N/A   31C    P0              25W / 250W |      2MiB / 16384MiB |      0%      Default |\n",
      "|                                         |                      |                  N/A |\n",
      "+-----------------------------------------+----------------------+----------------------+\n",
      "                                                                                         \n",
      "+---------------------------------------------------------------------------------------+\n",
      "| Processes:                                                                            |\n",
      "|  GPU   GI   CI        PID   Type   Process name                            GPU Memory |\n",
      "|        ID   ID                                                             Usage      |\n",
      "|=======================================================================================|\n",
      "|  No running processes found                                                           |\n",
      "+---------------------------------------------------------------------------------------+\n",
      "\n",
      "Device type: cuda\n",
      "Capability: (6, 0)\n"
     ]
    }
   ],
   "source": [
    "# Set the device to use (e.g., 'cpu', 'cuda', 'mps')\n",
    "device = torch.device(\"mps\" if torch.backends.mps.is_available() else\n",
    "                      (\"cuda\" if torch.cuda.is_available() else \"cpu\"))\n",
    "\n",
    "# Select Device According to Availability\n",
    "print(\"Device selected:\", device)\n",
    "\n",
    "# If the device is CUDA, print the device capability\n",
    "if device.type == \"cuda\":\n",
    "    os.system(\"nvidia-smi\")\n",
    "    print()\n",
    "    print(\"Device type:\", device.type)\n",
    "    print(\"Capability:\", torch.cuda.get_device_capability(device))\n",
    "else:\n",
    "    print(\"Device capabilities are limited on MPSs and CPUs.\")"
   ]
  },
  {
   "cell_type": "code",
   "execution_count": 3,
   "id": "f1fcd34e",
   "metadata": {
    "execution": {
     "iopub.execute_input": "2024-03-16T11:46:17.638960Z",
     "iopub.status.busy": "2024-03-16T11:46:17.638664Z",
     "iopub.status.idle": "2024-03-16T11:46:19.034586Z",
     "shell.execute_reply": "2024-03-16T11:46:19.033708Z"
    },
    "papermill": {
     "duration": 1.403048,
     "end_time": "2024-03-16T11:46:19.036809",
     "exception": false,
     "start_time": "2024-03-16T11:46:17.633761",
     "status": "completed"
    },
    "tags": []
   },
   "outputs": [
    {
     "data": {
      "text/plain": [
       "CNN(\n",
       "  (conv1): Conv2d(3, 64, kernel_size=(3, 3), stride=(1, 1), padding=(1, 1))\n",
       "  (conv2): Conv2d(64, 128, kernel_size=(3, 3), stride=(1, 1), padding=(1, 1))\n",
       "  (conv3): Conv2d(128, 256, kernel_size=(3, 3), stride=(1, 1), padding=(1, 1))\n",
       "  (conv4): Conv2d(256, 512, kernel_size=(3, 3), stride=(1, 1), padding=(1, 1))\n",
       "  (conv5): Conv2d(512, 512, kernel_size=(3, 3), stride=(1, 1), padding=(1, 1))\n",
       "  (pool): MaxPool2d(kernel_size=2, stride=2, padding=0, dilation=1, ceil_mode=False)\n",
       "  (fc1): Linear(in_features=25088, out_features=4096, bias=True)\n",
       "  (fc2): Linear(in_features=4096, out_features=2048, bias=True)\n",
       ")"
      ]
     },
     "execution_count": 3,
     "metadata": {},
     "output_type": "execute_result"
    }
   ],
   "source": [
    "class CNN(nn.Module):\n",
    "    def __init__(self):\n",
    "        super(CNN, self).__init__()\n",
    "        self.conv1 = nn.Conv2d(3, 64, 3, 1, 1).to(device)\n",
    "        self.conv2 = nn.Conv2d(64, 128, 3, 1, 1).to(device)\n",
    "        self.conv3 = nn.Conv2d(128, 256, 3, 1, 1).to(device)\n",
    "        self.conv4 = nn.Conv2d(256, 512, 3, 1, 1).to(device)\n",
    "        self.conv5 = nn.Conv2d(512, 512, 3, 1, 1).to(device)\n",
    "        self.pool = nn.MaxPool2d(2, 2).to(device)\n",
    "        self.fc1 = nn.Linear(512 * 7 * 7, 4096).to(device)\n",
    "        self.fc2 = nn.Linear(4096, 2048).to(device)\n",
    "\n",
    "    def forward(self, x):\n",
    "        x = self.pool(F.relu(self.conv1(x)))\n",
    "        x = self.pool(F.relu(self.conv2(x)))\n",
    "        x = self.pool(F.relu(self.conv3(x)))\n",
    "        x = self.pool(F.relu(self.conv4(x)))\n",
    "        x = self.pool(F.relu(self.conv5(x)))\n",
    "        x = x.view(-1, 512 * 7 * 7)\n",
    "        x = F.relu(self.fc1(x))\n",
    "        x = F.relu(self.fc2(x))\n",
    "        return x\n",
    "    \n",
    "model = CNN()\n",
    "model.to(device)\n",
    "model.eval()"
   ]
  },
  {
   "cell_type": "markdown",
   "id": "b2b0c94c",
   "metadata": {
    "papermill": {
     "duration": 0.004122,
     "end_time": "2024-03-16T11:46:19.045375",
     "exception": false,
     "start_time": "2024-03-16T11:46:19.041253",
     "status": "completed"
    },
    "tags": []
   },
   "source": [
    "Now that we set our device, move on to model"
   ]
  },
  {
   "cell_type": "code",
   "execution_count": 4,
   "id": "e3eacd97",
   "metadata": {
    "execution": {
     "iopub.execute_input": "2024-03-16T11:46:19.055599Z",
     "iopub.status.busy": "2024-03-16T11:46:19.055247Z",
     "iopub.status.idle": "2024-03-16T11:46:19.061983Z",
     "shell.execute_reply": "2024-03-16T11:46:19.061138Z"
    },
    "papermill": {
     "duration": 0.014075,
     "end_time": "2024-03-16T11:46:19.063907",
     "exception": false,
     "start_time": "2024-03-16T11:46:19.049832",
     "status": "completed"
    },
    "tags": []
   },
   "outputs": [],
   "source": [
    "def get_frames(path):\n",
    "    video = cv2.VideoCapture(path)\n",
    "    if not video.isOpened():\n",
    "        raise IOError(\"Error reading video file\")\n",
    "\n",
    "    frame_count = int(video.get(cv2.CAP_PROP_FRAME_COUNT))\n",
    "\n",
    "    frames = []\n",
    "    for i in range(0, frame_count, 3):\n",
    "        video.set(1, i)\n",
    "        ret, frame = video.read()\n",
    "        if ret:\n",
    "            frame = cv2.resize(frame, (224, 224))\n",
    "            frame = frame.astype(\"float32\") / 255.0\n",
    "            frames.append(frame)\n",
    "    video.release()\n",
    "    return np.array(frames)"
   ]
  },
  {
   "cell_type": "code",
   "execution_count": 5,
   "id": "d9f99d74",
   "metadata": {
    "execution": {
     "iopub.execute_input": "2024-03-16T11:46:19.073471Z",
     "iopub.status.busy": "2024-03-16T11:46:19.073190Z",
     "iopub.status.idle": "2024-03-16T11:46:19.378172Z",
     "shell.execute_reply": "2024-03-16T11:46:19.377141Z"
    },
    "papermill": {
     "duration": 0.312457,
     "end_time": "2024-03-16T11:46:19.380642",
     "exception": false,
     "start_time": "2024-03-16T11:46:19.068185",
     "status": "completed"
    },
    "tags": []
   },
   "outputs": [],
   "source": [
    "import numpy as np\n",
    "import glob\n",
    "from random import shuffle\n",
    "import tqdm\n",
    "\n",
    "train_path = '/kaggle/input/augmenteddataset/train/*/*.mp4'\n",
    "train_paths = glob.glob(train_path)\n",
    "train_labels = [1 if i.split('/')[5] == 'anomalous' else 0 for i in train_paths]\n",
    "\n",
    "train_zip = list(zip(train_paths, train_labels))\n",
    "shuffle(train_zip)\n",
    "train_paths, train_labels = zip(*train_zip)\n",
    "\n",
    "train_labels = list(train_labels)"
   ]
  },
  {
   "cell_type": "code",
   "execution_count": 6,
   "id": "0b169b17",
   "metadata": {
    "execution": {
     "iopub.execute_input": "2024-03-16T11:46:19.390810Z",
     "iopub.status.busy": "2024-03-16T11:46:19.390486Z",
     "iopub.status.idle": "2024-03-16T11:46:19.396841Z",
     "shell.execute_reply": "2024-03-16T11:46:19.395938Z"
    },
    "papermill": {
     "duration": 0.013725,
     "end_time": "2024-03-16T11:46:19.398910",
     "exception": false,
     "start_time": "2024-03-16T11:46:19.385185",
     "status": "completed"
    },
    "tags": []
   },
   "outputs": [],
   "source": [
    "def pad(x):\n",
    "    assert len(x.shape) == 4\n",
    "    \n",
    "    max_frames = 300 // 3\n",
    "    max_height = 224\n",
    "    max_width = 224\n",
    "    max_channel = 3\n",
    "    \n",
    "    padded_x = []\n",
    "    \n",
    "    pad_widths = [(0, max_frames - x.shape[0]),\n",
    "                  (0, max_height - x.shape[1]),\n",
    "                  (0, max_width - x.shape[2]),\n",
    "                  (0, max_channel - x.shape[3])]\n",
    "    \n",
    "    padded_x = np.pad(x, pad_widths, mode='constant', constant_values=0.0)\n",
    "    \n",
    "    del pad_widths\n",
    "    \n",
    "    return padded_x\n",
    "    "
   ]
  },
  {
   "cell_type": "code",
   "execution_count": 7,
   "id": "d32cd458",
   "metadata": {
    "execution": {
     "iopub.execute_input": "2024-03-16T11:46:19.409334Z",
     "iopub.status.busy": "2024-03-16T11:46:19.408748Z",
     "iopub.status.idle": "2024-03-16T13:30:19.909340Z",
     "shell.execute_reply": "2024-03-16T13:30:19.908168Z"
    },
    "papermill": {
     "duration": 6240.51074,
     "end_time": "2024-03-16T13:30:19.914205",
     "exception": false,
     "start_time": "2024-03-16T11:46:19.403465",
     "status": "completed"
    },
    "tags": []
   },
   "outputs": [
    {
     "name": "stderr",
     "output_type": "stream",
     "text": [
      "  1%|          | 103/9150 [01:11<1:45:09,  1.43it/s]"
     ]
    },
    {
     "name": "stdout",
     "output_type": "stream",
     "text": [
      "Shape mismatch for video /kaggle/input/augmenteddataset/train/nonanomalous/Normal_Videos566_x264_089.mp4\n",
      "Found Shape: (98, 224, 224, 3)\n",
      "Fixing shape by Padding\n",
      "Fixed Shape: (100, 224, 224, 3)\n"
     ]
    },
    {
     "name": "stderr",
     "output_type": "stream",
     "text": [
      "  2%|▏         | 146/9150 [01:40<1:39:11,  1.51it/s]"
     ]
    },
    {
     "name": "stdout",
     "output_type": "stream",
     "text": [
      "Shape mismatch for video /kaggle/input/augmenteddataset/train/nonanomalous/Normal_Videos635_x264_003.mp4\n",
      "Found Shape: (84, 224, 224, 3)\n",
      "Fixing shape by Padding\n",
      "Fixed Shape: (100, 224, 224, 3)\n"
     ]
    },
    {
     "name": "stderr",
     "output_type": "stream",
     "text": [
      "  6%|▋         | 582/9150 [06:36<1:38:16,  1.45it/s]"
     ]
    },
    {
     "name": "stdout",
     "output_type": "stream",
     "text": [
      "Shape mismatch for video /kaggle/input/augmenteddataset/train/nonanomalous/Normal_Videos600_x264_003.mp4\n",
      "Found Shape: (84, 224, 224, 3)\n",
      "Fixing shape by Padding\n",
      "Fixed Shape: (100, 224, 224, 3)\n"
     ]
    },
    {
     "name": "stderr",
     "output_type": "stream",
     "text": [
      "  7%|▋         | 630/9150 [07:09<1:33:41,  1.52it/s]"
     ]
    },
    {
     "name": "stdout",
     "output_type": "stream",
     "text": [
      "Shape mismatch for video /kaggle/input/augmenteddataset/train/nonanomalous/Normal_Videos785_x264_269.mp4\n",
      "Found Shape: (96, 224, 224, 3)\n",
      "Fixing shape by Padding\n",
      "Fixed Shape: (100, 224, 224, 3)\n"
     ]
    },
    {
     "name": "stderr",
     "output_type": "stream",
     "text": [
      "  7%|▋         | 667/9150 [07:34<1:38:51,  1.43it/s]"
     ]
    },
    {
     "name": "stdout",
     "output_type": "stream",
     "text": [
      "Shape mismatch for video /kaggle/input/augmenteddataset/train/nonanomalous/Normal_Videos581_x264_008.mp4\n",
      "Found Shape: (96, 224, 224, 3)\n",
      "Fixing shape by Padding\n",
      "Fixed Shape: (100, 224, 224, 3)\n"
     ]
    },
    {
     "name": "stderr",
     "output_type": "stream",
     "text": [
      " 10%|▉         | 877/9150 [09:56<1:30:41,  1.52it/s]"
     ]
    },
    {
     "name": "stdout",
     "output_type": "stream",
     "text": [
      "Shape mismatch for video /kaggle/input/augmenteddataset/train/nonanomalous/Normal_Videos586_x264_003.mp4\n",
      "Found Shape: (84, 224, 224, 3)\n",
      "Fixing shape by Padding\n",
      "Fixed Shape: (100, 224, 224, 3)\n"
     ]
    },
    {
     "name": "stderr",
     "output_type": "stream",
     "text": [
      " 13%|█▎        | 1201/9150 [13:35<1:26:11,  1.54it/s]"
     ]
    },
    {
     "name": "stdout",
     "output_type": "stream",
     "text": [
      "Shape mismatch for video /kaggle/input/augmenteddataset/train/nonanomalous/Normal_Videos250_x264_011.mp4\n",
      "Found Shape: (98, 224, 224, 3)\n",
      "Fixing shape by Padding\n",
      "Fixed Shape: (100, 224, 224, 3)\n"
     ]
    },
    {
     "name": "stderr",
     "output_type": "stream",
     "text": [
      " 13%|█▎        | 1204/9150 [13:37<1:30:47,  1.46it/s]"
     ]
    },
    {
     "name": "stdout",
     "output_type": "stream",
     "text": [
      "Shape mismatch for video /kaggle/input/augmenteddataset/train/nonanomalous/Normal_Videos242_x264_005.mp4\n",
      "Found Shape: (97, 224, 224, 3)\n",
      "Fixing shape by Padding\n",
      "Fixed Shape: (100, 224, 224, 3)\n"
     ]
    },
    {
     "name": "stderr",
     "output_type": "stream",
     "text": [
      " 13%|█▎        | 1213/9150 [13:43<1:28:08,  1.50it/s]"
     ]
    },
    {
     "name": "stdout",
     "output_type": "stream",
     "text": [
      "Shape mismatch for video /kaggle/input/augmenteddataset/train/anomalous/865_p3_Arson031_x264_003_flipped.mp4\n",
      "Found Shape: (97, 224, 224, 3)\n",
      "Fixing shape by Padding\n",
      "Fixed Shape: (100, 224, 224, 3)\n"
     ]
    },
    {
     "name": "stderr",
     "output_type": "stream",
     "text": [
      " 15%|█▌        | 1398/9150 [15:49<1:23:17,  1.55it/s]"
     ]
    },
    {
     "name": "stdout",
     "output_type": "stream",
     "text": [
      "Shape mismatch for video /kaggle/input/augmenteddataset/train/nonanomalous/Normal_Videos653_x264_000.mp4\n",
      "Found Shape: (84, 224, 224, 3)\n",
      "Fixing shape by Padding\n",
      "Fixed Shape: (100, 224, 224, 3)\n"
     ]
    },
    {
     "name": "stderr",
     "output_type": "stream",
     "text": [
      " 16%|█▌        | 1443/9150 [16:19<1:26:30,  1.48it/s]"
     ]
    },
    {
     "name": "stdout",
     "output_type": "stream",
     "text": [
      "Shape mismatch for video /kaggle/input/augmenteddataset/train/nonanomalous/Normal_Videos191_x264_011.mp4\n",
      "Found Shape: (99, 224, 224, 3)\n",
      "Fixing shape by Padding\n",
      "Fixed Shape: (100, 224, 224, 3)\n"
     ]
    },
    {
     "name": "stderr",
     "output_type": "stream",
     "text": [
      " 16%|█▌        | 1458/9150 [16:29<1:32:09,  1.39it/s]"
     ]
    },
    {
     "name": "stdout",
     "output_type": "stream",
     "text": [
      "Shape mismatch for video /kaggle/input/augmenteddataset/train/nonanomalous/Normal_Videos_926_x264_005.mp4\n",
      "Found Shape: (99, 224, 224, 3)\n",
      "Fixing shape by Padding\n",
      "Fixed Shape: (100, 224, 224, 3)\n"
     ]
    },
    {
     "name": "stderr",
     "output_type": "stream",
     "text": [
      " 19%|█▊        | 1713/9150 [19:23<1:22:21,  1.51it/s]"
     ]
    },
    {
     "name": "stdout",
     "output_type": "stream",
     "text": [
      "Shape mismatch for video /kaggle/input/augmenteddataset/train/nonanomalous/Normal_Videos651_x264_000.mp4\n",
      "Found Shape: (84, 224, 224, 3)\n",
      "Fixing shape by Padding\n",
      "Fixed Shape: (100, 224, 224, 3)\n"
     ]
    },
    {
     "name": "stderr",
     "output_type": "stream",
     "text": [
      " 19%|█▉        | 1778/9150 [20:07<1:23:37,  1.47it/s]"
     ]
    },
    {
     "name": "stdout",
     "output_type": "stream",
     "text": [
      "Shape mismatch for video /kaggle/input/augmenteddataset/train/nonanomalous/Normal_Videos600_x264_000.mp4\n",
      "Found Shape: (84, 224, 224, 3)\n",
      "Fixing shape by Padding\n",
      "Fixed Shape: (100, 224, 224, 3)\n"
     ]
    },
    {
     "name": "stderr",
     "output_type": "stream",
     "text": [
      " 20%|██        | 1856/9150 [21:01<1:27:20,  1.39it/s]"
     ]
    },
    {
     "name": "stdout",
     "output_type": "stream",
     "text": [
      "Shape mismatch for video /kaggle/input/augmenteddataset/train/nonanomalous/Normal_Videos442_x264_005.mp4\n",
      "Found Shape: (99, 224, 224, 3)\n",
      "Fixing shape by Padding\n",
      "Fixed Shape: (100, 224, 224, 3)\n"
     ]
    },
    {
     "name": "stderr",
     "output_type": "stream",
     "text": [
      " 21%|██        | 1891/9150 [21:25<1:23:44,  1.44it/s]"
     ]
    },
    {
     "name": "stdout",
     "output_type": "stream",
     "text": [
      "Shape mismatch for video /kaggle/input/augmenteddataset/train/nonanomalous/Normal_Videos651_x264_003.mp4\n",
      "Found Shape: (84, 224, 224, 3)\n",
      "Fixing shape by Padding\n",
      "Fixed Shape: (100, 224, 224, 3)\n"
     ]
    },
    {
     "name": "stderr",
     "output_type": "stream",
     "text": [
      " 21%|██▏       | 1964/9150 [22:15<1:22:35,  1.45it/s]"
     ]
    },
    {
     "name": "stdout",
     "output_type": "stream",
     "text": [
      "Shape mismatch for video /kaggle/input/augmenteddataset/train/nonanomalous/890_p4_Arson013_x264_001.mp4\n",
      "Found Shape: (99, 224, 224, 3)\n",
      "Fixing shape by Padding\n",
      "Fixed Shape: (100, 224, 224, 3)\n"
     ]
    },
    {
     "name": "stderr",
     "output_type": "stream",
     "text": [
      " 23%|██▎       | 2095/9150 [23:46<1:18:37,  1.50it/s]"
     ]
    },
    {
     "name": "stdout",
     "output_type": "stream",
     "text": [
      "Shape mismatch for video /kaggle/input/augmenteddataset/train/nonanomalous/Normal_Videos649_x264_001.mp4\n",
      "Found Shape: (84, 224, 224, 3)\n",
      "Fixing shape by Padding\n",
      "Fixed Shape: (100, 224, 224, 3)\n"
     ]
    },
    {
     "name": "stderr",
     "output_type": "stream",
     "text": [
      " 24%|██▍       | 2236/9150 [25:22<1:18:50,  1.46it/s]"
     ]
    },
    {
     "name": "stdout",
     "output_type": "stream",
     "text": [
      "Shape mismatch for video /kaggle/input/augmenteddataset/train/nonanomalous/Normal_Videos635_x264_001.mp4\n",
      "Found Shape: (84, 224, 224, 3)\n",
      "Fixing shape by Padding\n",
      "Fixed Shape: (100, 224, 224, 3)\n"
     ]
    },
    {
     "name": "stderr",
     "output_type": "stream",
     "text": [
      " 25%|██▍       | 2257/9150 [25:36<1:18:05,  1.47it/s]"
     ]
    },
    {
     "name": "stdout",
     "output_type": "stream",
     "text": [
      "Shape mismatch for video /kaggle/input/augmenteddataset/train/nonanomalous/Normal_Videos600_x264_002.mp4\n",
      "Found Shape: (84, 224, 224, 3)\n",
      "Fixing shape by Padding\n",
      "Fixed Shape: (100, 224, 224, 3)\n"
     ]
    },
    {
     "name": "stderr",
     "output_type": "stream",
     "text": [
      " 26%|██▌       | 2358/9150 [26:43<1:15:23,  1.50it/s]"
     ]
    },
    {
     "name": "stdout",
     "output_type": "stream",
     "text": [
      "Shape mismatch for video /kaggle/input/augmenteddataset/train/anomalous/Burglary004_x264_005_flipped.mp4\n",
      "Found Shape: (96, 224, 224, 3)\n",
      "Fixing shape by Padding\n",
      "Fixed Shape: (100, 224, 224, 3)\n"
     ]
    },
    {
     "name": "stderr",
     "output_type": "stream",
     "text": [
      " 26%|██▌       | 2376/9150 [26:56<1:15:47,  1.49it/s]"
     ]
    },
    {
     "name": "stdout",
     "output_type": "stream",
     "text": [
      "Shape mismatch for video /kaggle/input/augmenteddataset/train/nonanomalous/Normal_Videos261_x264_011.mp4\n",
      "Found Shape: (98, 224, 224, 3)\n",
      "Fixing shape by Padding\n",
      "Fixed Shape: (100, 224, 224, 3)\n"
     ]
    },
    {
     "name": "stderr",
     "output_type": "stream",
     "text": [
      " 29%|██▉       | 2643/9150 [29:55<1:11:28,  1.52it/s]"
     ]
    },
    {
     "name": "stdout",
     "output_type": "stream",
     "text": [
      "Shape mismatch for video /kaggle/input/augmenteddataset/train/nonanomalous/Normal_Videos039_x264_005.mp4\n",
      "Found Shape: (98, 224, 224, 3)\n",
      "Fixing shape by Padding\n",
      "Fixed Shape: (100, 224, 224, 3)\n"
     ]
    },
    {
     "name": "stderr",
     "output_type": "stream",
     "text": [
      " 30%|██▉       | 2740/9150 [31:02<1:11:41,  1.49it/s]"
     ]
    },
    {
     "name": "stdout",
     "output_type": "stream",
     "text": [
      "Shape mismatch for video /kaggle/input/augmenteddataset/train/anomalous/553_Arson044_x264_003_flipped.mp4\n",
      "Found Shape: (99, 224, 224, 3)\n",
      "Fixing shape by Padding\n",
      "Fixed Shape: (100, 224, 224, 3)\n"
     ]
    },
    {
     "name": "stderr",
     "output_type": "stream",
     "text": [
      " 31%|███       | 2814/9150 [31:52<1:13:12,  1.44it/s]"
     ]
    },
    {
     "name": "stdout",
     "output_type": "stream",
     "text": [
      "Shape mismatch for video /kaggle/input/augmenteddataset/train/nonanomalous/Normal_Videos083_x264_001.mp4\n",
      "Found Shape: (96, 224, 224, 3)\n",
      "Fixing shape by Padding\n",
      "Fixed Shape: (100, 224, 224, 3)\n"
     ]
    },
    {
     "name": "stderr",
     "output_type": "stream",
     "text": [
      " 31%|███       | 2815/9150 [31:53<1:13:11,  1.44it/s]"
     ]
    },
    {
     "name": "stdout",
     "output_type": "stream",
     "text": [
      "Shape mismatch for video /kaggle/input/augmenteddataset/train/nonanomalous/Normal_Videos645_x264_000.mp4\n",
      "Found Shape: (84, 224, 224, 3)\n",
      "Fixing shape by Padding\n",
      "Fixed Shape: (100, 224, 224, 3)\n"
     ]
    },
    {
     "name": "stderr",
     "output_type": "stream",
     "text": [
      " 31%|███       | 2829/9150 [32:02<1:13:21,  1.44it/s]"
     ]
    },
    {
     "name": "stdout",
     "output_type": "stream",
     "text": [
      "Shape mismatch for video /kaggle/input/augmenteddataset/train/nonanomalous/Normal_Videos629_x264_014.mp4\n",
      "Found Shape: (96, 224, 224, 3)\n",
      "Fixing shape by Padding\n",
      "Fixed Shape: (100, 224, 224, 3)\n"
     ]
    },
    {
     "name": "stderr",
     "output_type": "stream",
     "text": [
      " 33%|███▎      | 3007/9150 [34:03<1:09:05,  1.48it/s]"
     ]
    },
    {
     "name": "stdout",
     "output_type": "stream",
     "text": [
      "Shape mismatch for video /kaggle/input/augmenteddataset/train/nonanomalous/Normal_Videos165_x264_000.mp4\n",
      "Found Shape: (96, 224, 224, 3)\n",
      "Fixing shape by Padding\n",
      "Fixed Shape: (100, 224, 224, 3)\n"
     ]
    },
    {
     "name": "stderr",
     "output_type": "stream",
     "text": [
      " 34%|███▍      | 3121/9150 [35:21<1:07:47,  1.48it/s]"
     ]
    },
    {
     "name": "stdout",
     "output_type": "stream",
     "text": [
      "Shape mismatch for video /kaggle/input/augmenteddataset/train/nonanomalous/Normal_Videos645_x264_002.mp4\n",
      "Found Shape: (84, 224, 224, 3)\n",
      "Fixing shape by Padding\n",
      "Fixed Shape: (100, 224, 224, 3)\n"
     ]
    },
    {
     "name": "stderr",
     "output_type": "stream",
     "text": [
      " 34%|███▍      | 3135/9150 [35:30<1:05:36,  1.53it/s]"
     ]
    },
    {
     "name": "stdout",
     "output_type": "stream",
     "text": [
      "Shape mismatch for video /kaggle/input/augmenteddataset/train/nonanomalous/Normal_Videos611_x264_003.mp4\n",
      "Found Shape: (99, 224, 224, 3)\n",
      "Fixing shape by Padding\n",
      "Fixed Shape: (100, 224, 224, 3)\n"
     ]
    },
    {
     "name": "stderr",
     "output_type": "stream",
     "text": [
      " 40%|███▉      | 3637/9150 [41:12<1:01:59,  1.48it/s]"
     ]
    },
    {
     "name": "stdout",
     "output_type": "stream",
     "text": [
      "Shape mismatch for video /kaggle/input/augmenteddataset/train/nonanomalous/Normal_Videos355_x264_002.mp4\n",
      "Found Shape: (96, 224, 224, 3)\n",
      "Fixing shape by Padding\n",
      "Fixed Shape: (100, 224, 224, 3)\n"
     ]
    },
    {
     "name": "stderr",
     "output_type": "stream",
     "text": [
      " 40%|███▉      | 3642/9150 [41:15<1:02:43,  1.46it/s]"
     ]
    },
    {
     "name": "stdout",
     "output_type": "stream",
     "text": [
      "Shape mismatch for video /kaggle/input/augmenteddataset/train/nonanomalous/Normal_Videos651_x264_001.mp4\n",
      "Found Shape: (84, 224, 224, 3)\n",
      "Fixing shape by Padding\n",
      "Fixed Shape: (100, 224, 224, 3)\n"
     ]
    },
    {
     "name": "stderr",
     "output_type": "stream",
     "text": [
      " 41%|████▏     | 3780/9150 [42:50<1:02:09,  1.44it/s]"
     ]
    },
    {
     "name": "stdout",
     "output_type": "stream",
     "text": [
      "Shape mismatch for video /kaggle/input/augmenteddataset/train/anomalous/33_Arson016_x264_005_flipped.mp4\n",
      "Found Shape: (99, 224, 224, 3)\n",
      "Fixing shape by Padding\n",
      "Fixed Shape: (100, 224, 224, 3)\n"
     ]
    },
    {
     "name": "stderr",
     "output_type": "stream",
     "text": [
      " 42%|████▏     | 3808/9150 [43:09<58:52,  1.51it/s]"
     ]
    },
    {
     "name": "stdout",
     "output_type": "stream",
     "text": [
      "Shape mismatch for video /kaggle/input/augmenteddataset/train/nonanomalous/Normal_Videos_905_x264_003.mp4\n",
      "Found Shape: (99, 224, 224, 3)\n",
      "Fixing shape by Padding\n",
      "Fixed Shape: (100, 224, 224, 3)\n"
     ]
    },
    {
     "name": "stderr",
     "output_type": "stream",
     "text": [
      " 42%|████▏     | 3882/9150 [43:59<1:01:37,  1.42it/s]"
     ]
    },
    {
     "name": "stdout",
     "output_type": "stream",
     "text": [
      "Shape mismatch for video /kaggle/input/augmenteddataset/train/nonanomalous/Normal_Videos651_x264_002.mp4\n",
      "Found Shape: (84, 224, 224, 3)\n",
      "Fixing shape by Padding\n",
      "Fixed Shape: (100, 224, 224, 3)\n"
     ]
    },
    {
     "name": "stderr",
     "output_type": "stream",
     "text": [
      " 43%|████▎     | 3962/9150 [44:53<58:16,  1.48it/s]"
     ]
    },
    {
     "name": "stdout",
     "output_type": "stream",
     "text": [
      "Shape mismatch for video /kaggle/input/augmenteddataset/train/nonanomalous/Normal_Videos586_x264_000.mp4\n",
      "Found Shape: (84, 224, 224, 3)\n",
      "Fixing shape by Padding\n",
      "Fixed Shape: (100, 224, 224, 3)\n"
     ]
    },
    {
     "name": "stderr",
     "output_type": "stream",
     "text": [
      " 46%|████▌     | 4207/9150 [47:40<56:51,  1.45it/s]"
     ]
    },
    {
     "name": "stdout",
     "output_type": "stream",
     "text": [
      "Shape mismatch for video /kaggle/input/augmenteddataset/train/anomalous/Shooting046_x264_016_flipped.mp4\n",
      "Found Shape: (96, 224, 224, 3)\n",
      "Fixing shape by Padding\n",
      "Fixed Shape: (100, 224, 224, 3)\n"
     ]
    },
    {
     "name": "stderr",
     "output_type": "stream",
     "text": [
      " 47%|████▋     | 4276/9150 [48:26<53:29,  1.52it/s]"
     ]
    },
    {
     "name": "stdout",
     "output_type": "stream",
     "text": [
      "Shape mismatch for video /kaggle/input/augmenteddataset/train/nonanomalous/Normal_Videos635_x264_000.mp4\n",
      "Found Shape: (84, 224, 224, 3)\n",
      "Fixing shape by Padding\n",
      "Fixed Shape: (100, 224, 224, 3)\n"
     ]
    },
    {
     "name": "stderr",
     "output_type": "stream",
     "text": [
      " 48%|████▊     | 4387/9150 [49:42<54:00,  1.47it/s]"
     ]
    },
    {
     "name": "stdout",
     "output_type": "stream",
     "text": [
      "Shape mismatch for video /kaggle/input/augmenteddataset/train/nonanomalous/Normal_Videos090_x264_136.mp4\n",
      "Found Shape: (97, 224, 224, 3)\n",
      "Fixing shape by Padding\n",
      "Fixed Shape: (100, 224, 224, 3)\n"
     ]
    },
    {
     "name": "stderr",
     "output_type": "stream",
     "text": [
      " 48%|████▊     | 4425/9150 [50:08<52:48,  1.49it/s]"
     ]
    },
    {
     "name": "stdout",
     "output_type": "stream",
     "text": [
      "Shape mismatch for video /kaggle/input/augmenteddataset/train/nonanomalous/Normal_Videos590_x264_029.mp4\n",
      "Found Shape: (97, 224, 224, 3)\n",
      "Fixing shape by Padding\n",
      "Fixed Shape: (100, 224, 224, 3)\n"
     ]
    },
    {
     "name": "stderr",
     "output_type": "stream",
     "text": [
      " 51%|█████     | 4658/9150 [52:46<49:19,  1.52it/s]"
     ]
    },
    {
     "name": "stdout",
     "output_type": "stream",
     "text": [
      "Shape mismatch for video /kaggle/input/augmenteddataset/train/nonanomalous/Normal_Videos140_x264_005.mp4\n",
      "Found Shape: (99, 224, 224, 3)\n",
      "Fixing shape by Padding\n",
      "Fixed Shape: (100, 224, 224, 3)\n"
     ]
    },
    {
     "name": "stderr",
     "output_type": "stream",
     "text": [
      " 51%|█████     | 4681/9150 [53:02<50:18,  1.48it/s]"
     ]
    },
    {
     "name": "stdout",
     "output_type": "stream",
     "text": [
      "Shape mismatch for video /kaggle/input/augmenteddataset/train/nonanomalous/Normal_Videos586_x264_001.mp4\n",
      "Found Shape: (84, 224, 224, 3)\n",
      "Fixing shape by Padding\n",
      "Fixed Shape: (100, 224, 224, 3)\n"
     ]
    },
    {
     "name": "stderr",
     "output_type": "stream",
     "text": [
      " 52%|█████▏    | 4770/9150 [54:02<51:20,  1.42it/s]"
     ]
    },
    {
     "name": "stdout",
     "output_type": "stream",
     "text": [
      "Shape mismatch for video /kaggle/input/augmenteddataset/train/anomalous/33_Arson016_x264_005.mp4\n",
      "Found Shape: (99, 224, 224, 3)\n",
      "Fixing shape by Padding\n",
      "Fixed Shape: (100, 224, 224, 3)\n"
     ]
    },
    {
     "name": "stderr",
     "output_type": "stream",
     "text": [
      " 53%|█████▎    | 4857/9150 [55:01<46:50,  1.53it/s]"
     ]
    },
    {
     "name": "stdout",
     "output_type": "stream",
     "text": [
      "Shape mismatch for video /kaggle/input/augmenteddataset/train/anomalous/Robbery070_x264_001_flipped.mp4\n",
      "Found Shape: (97, 224, 224, 3)\n",
      "Fixing shape by Padding\n",
      "Fixed Shape: (100, 224, 224, 3)\n"
     ]
    },
    {
     "name": "stderr",
     "output_type": "stream",
     "text": [
      " 54%|█████▎    | 4901/9150 [55:31<49:17,  1.44it/s]"
     ]
    },
    {
     "name": "stdout",
     "output_type": "stream",
     "text": [
      "Shape mismatch for video /kaggle/input/augmenteddataset/train/nonanomalous/Normal_Videos600_x264_007.mp4\n",
      "Found Shape: (84, 224, 224, 3)\n",
      "Fixing shape by Padding\n",
      "Fixed Shape: (100, 224, 224, 3)\n"
     ]
    },
    {
     "name": "stderr",
     "output_type": "stream",
     "text": [
      " 56%|█████▌    | 5121/9150 [58:03<46:47,  1.44it/s]"
     ]
    },
    {
     "name": "stdout",
     "output_type": "stream",
     "text": [
      "Shape mismatch for video /kaggle/input/augmenteddataset/train/nonanomalous/Normal_Videos742_x264_003.mp4\n",
      "Found Shape: (98, 224, 224, 3)\n",
      "Fixing shape by Padding\n",
      "Fixed Shape: (100, 224, 224, 3)\n"
     ]
    },
    {
     "name": "stderr",
     "output_type": "stream",
     "text": [
      " 57%|█████▋    | 5195/9150 [58:53<44:08,  1.49it/s]"
     ]
    },
    {
     "name": "stdout",
     "output_type": "stream",
     "text": [
      "Shape mismatch for video /kaggle/input/augmenteddataset/train/nonanomalous/Normal_Videos626_x264_029.mp4\n",
      "Found Shape: (97, 224, 224, 3)\n",
      "Fixing shape by Padding\n",
      "Fixed Shape: (100, 224, 224, 3)\n"
     ]
    },
    {
     "name": "stderr",
     "output_type": "stream",
     "text": [
      " 60%|█████▉    | 5447/9150 [1:01:46<41:29,  1.49it/s]"
     ]
    },
    {
     "name": "stdout",
     "output_type": "stream",
     "text": [
      "Shape mismatch for video /kaggle/input/augmenteddataset/train/anomalous/553_Arson044_x264_003.mp4\n",
      "Found Shape: (99, 224, 224, 3)\n",
      "Fixing shape by Padding\n",
      "Fixed Shape: (100, 224, 224, 3)\n"
     ]
    },
    {
     "name": "stderr",
     "output_type": "stream",
     "text": [
      " 60%|██████    | 5505/9150 [1:02:26<42:08,  1.44it/s]"
     ]
    },
    {
     "name": "stdout",
     "output_type": "stream",
     "text": [
      "Shape mismatch for video /kaggle/input/augmenteddataset/train/nonanomalous/Normal_Videos_908_x264_002.mp4\n",
      "Found Shape: (97, 224, 224, 3)\n",
      "Fixing shape by Padding\n",
      "Fixed Shape: (100, 224, 224, 3)\n"
     ]
    },
    {
     "name": "stderr",
     "output_type": "stream",
     "text": [
      " 61%|██████    | 5591/9150 [1:03:25<40:58,  1.45it/s]"
     ]
    },
    {
     "name": "stdout",
     "output_type": "stream",
     "text": [
      "Shape mismatch for video /kaggle/input/augmenteddataset/train/nonanomalous/Normal_Videos650_x264_001.mp4\n",
      "Found Shape: (84, 224, 224, 3)\n",
      "Fixing shape by Padding\n",
      "Fixed Shape: (100, 224, 224, 3)\n"
     ]
    },
    {
     "name": "stderr",
     "output_type": "stream",
     "text": [
      " 61%|██████    | 5596/9150 [1:03:28<39:33,  1.50it/s]"
     ]
    },
    {
     "name": "stdout",
     "output_type": "stream",
     "text": [
      "Shape mismatch for video /kaggle/input/augmenteddataset/train/anomalous/865_p3_Arson031_x264_003.mp4\n",
      "Found Shape: (97, 224, 224, 3)\n",
      "Fixing shape by Padding\n",
      "Fixed Shape: (100, 224, 224, 3)\n"
     ]
    },
    {
     "name": "stderr",
     "output_type": "stream",
     "text": [
      " 64%|██████▎   | 5821/9150 [1:06:02<38:27,  1.44it/s]"
     ]
    },
    {
     "name": "stdout",
     "output_type": "stream",
     "text": [
      "Shape mismatch for video /kaggle/input/augmenteddataset/train/nonanomalous/Normal_Videos600_x264_005.mp4\n",
      "Found Shape: (84, 224, 224, 3)\n",
      "Fixing shape by Padding\n",
      "Fixed Shape: (100, 224, 224, 3)\n"
     ]
    },
    {
     "name": "stderr",
     "output_type": "stream",
     "text": [
      " 64%|██████▎   | 5825/9150 [1:06:05<38:07,  1.45it/s]"
     ]
    },
    {
     "name": "stdout",
     "output_type": "stream",
     "text": [
      "Shape mismatch for video /kaggle/input/augmenteddataset/train/nonanomalous/Normal_Videos586_x264_004.mp4\n",
      "Found Shape: (84, 224, 224, 3)\n",
      "Fixing shape by Padding\n",
      "Fixed Shape: (100, 224, 224, 3)\n"
     ]
    },
    {
     "name": "stderr",
     "output_type": "stream",
     "text": [
      " 64%|██████▎   | 5832/9150 [1:06:09<37:21,  1.48it/s]"
     ]
    },
    {
     "name": "stdout",
     "output_type": "stream",
     "text": [
      "Shape mismatch for video /kaggle/input/augmenteddataset/train/anomalous/Assault035_x264_002.mp4\n",
      "Found Shape: (99, 224, 224, 3)\n",
      "Fixing shape by Padding\n",
      "Fixed Shape: (100, 224, 224, 3)\n"
     ]
    },
    {
     "name": "stderr",
     "output_type": "stream",
     "text": [
      " 65%|██████▌   | 5950/9150 [1:07:29<38:17,  1.39it/s]"
     ]
    },
    {
     "name": "stdout",
     "output_type": "stream",
     "text": [
      "Shape mismatch for video /kaggle/input/augmenteddataset/train/nonanomalous/Normal_Videos127_x264_005.mp4\n",
      "Found Shape: (97, 224, 224, 3)\n",
      "Fixing shape by Padding\n",
      "Fixed Shape: (100, 224, 224, 3)\n"
     ]
    },
    {
     "name": "stderr",
     "output_type": "stream",
     "text": [
      " 66%|██████▌   | 6019/9150 [1:08:17<35:11,  1.48it/s]"
     ]
    },
    {
     "name": "stdout",
     "output_type": "stream",
     "text": [
      "Shape mismatch for video /kaggle/input/augmenteddataset/train/nonanomalous/Normal_Videos650_x264_002.mp4\n",
      "Found Shape: (84, 224, 224, 3)\n",
      "Fixing shape by Padding\n",
      "Fixed Shape: (100, 224, 224, 3)\n"
     ]
    },
    {
     "name": "stderr",
     "output_type": "stream",
     "text": [
      " 67%|██████▋   | 6146/9150 [1:09:43<34:46,  1.44it/s]"
     ]
    },
    {
     "name": "stdout",
     "output_type": "stream",
     "text": [
      "Shape mismatch for video /kaggle/input/augmenteddataset/train/nonanomalous/Normal_Videos600_x264_001.mp4\n",
      "Found Shape: (84, 224, 224, 3)\n",
      "Fixing shape by Padding\n",
      "Fixed Shape: (100, 224, 224, 3)\n"
     ]
    },
    {
     "name": "stderr",
     "output_type": "stream",
     "text": [
      " 73%|███████▎  | 6654/9150 [1:15:31<27:49,  1.50it/s]"
     ]
    },
    {
     "name": "stdout",
     "output_type": "stream",
     "text": [
      "Shape mismatch for video /kaggle/input/augmenteddataset/train/nonanomalous/Normal_Videos443_x264_005.mp4\n",
      "Found Shape: (97, 224, 224, 3)\n",
      "Fixing shape by Padding\n",
      "Fixed Shape: (100, 224, 224, 3)\n"
     ]
    },
    {
     "name": "stderr",
     "output_type": "stream",
     "text": [
      " 73%|███████▎  | 6660/9150 [1:15:35<28:45,  1.44it/s]"
     ]
    },
    {
     "name": "stdout",
     "output_type": "stream",
     "text": [
      "Shape mismatch for video /kaggle/input/augmenteddataset/train/nonanomalous/Normal_Videos213_x264_005.mp4\n",
      "Found Shape: (96, 224, 224, 3)\n",
      "Fixing shape by Padding\n",
      "Fixed Shape: (100, 224, 224, 3)\n"
     ]
    },
    {
     "name": "stderr",
     "output_type": "stream",
     "text": [
      " 75%|███████▍  | 6830/9150 [1:17:33<26:16,  1.47it/s]"
     ]
    },
    {
     "name": "stdout",
     "output_type": "stream",
     "text": [
      "Shape mismatch for video /kaggle/input/augmenteddataset/train/nonanomalous/Burglary061_x264_029.mp4\n",
      "Found Shape: (97, 224, 224, 3)\n",
      "Fixing shape by Padding\n",
      "Fixed Shape: (100, 224, 224, 3)\n"
     ]
    },
    {
     "name": "stderr",
     "output_type": "stream",
     "text": [
      " 75%|███████▌  | 6865/9150 [1:17:57<25:30,  1.49it/s]"
     ]
    },
    {
     "name": "stdout",
     "output_type": "stream",
     "text": [
      "Shape mismatch for video /kaggle/input/augmenteddataset/train/anomalous/Robbery070_x264_001.mp4\n",
      "Found Shape: (97, 224, 224, 3)\n",
      "Fixing shape by Padding\n",
      "Fixed Shape: (100, 224, 224, 3)\n"
     ]
    },
    {
     "name": "stderr",
     "output_type": "stream",
     "text": [
      " 76%|███████▌  | 6966/9150 [1:19:05<24:21,  1.49it/s]"
     ]
    },
    {
     "name": "stdout",
     "output_type": "stream",
     "text": [
      "Shape mismatch for video /kaggle/input/augmenteddataset/train/nonanomalous/Normal_Videos354_x264_005.mp4\n",
      "Found Shape: (99, 224, 224, 3)\n",
      "Fixing shape by Padding\n",
      "Fixed Shape: (100, 224, 224, 3)\n"
     ]
    },
    {
     "name": "stderr",
     "output_type": "stream",
     "text": [
      " 78%|███████▊  | 7095/9150 [1:20:33<23:27,  1.46it/s]"
     ]
    },
    {
     "name": "stdout",
     "output_type": "stream",
     "text": [
      "Shape mismatch for video /kaggle/input/augmenteddataset/train/nonanomalous/Normal_Videos061_x264_058.mp4\n",
      "Found Shape: (98, 224, 224, 3)\n",
      "Fixing shape by Padding\n",
      "Fixed Shape: (100, 224, 224, 3)\n"
     ]
    },
    {
     "name": "stderr",
     "output_type": "stream",
     "text": [
      " 79%|███████▉  | 7239/9150 [1:22:10<21:51,  1.46it/s]"
     ]
    },
    {
     "name": "stdout",
     "output_type": "stream",
     "text": [
      "Shape mismatch for video /kaggle/input/augmenteddataset/train/nonanomalous/Normal_Videos948_x264_011.mp4\n",
      "Found Shape: (99, 224, 224, 3)\n",
      "Fixing shape by Padding\n",
      "Fixed Shape: (100, 224, 224, 3)\n"
     ]
    },
    {
     "name": "stderr",
     "output_type": "stream",
     "text": [
      " 79%|███████▉  | 7248/9150 [1:22:17<21:07,  1.50it/s]"
     ]
    },
    {
     "name": "stdout",
     "output_type": "stream",
     "text": [
      "Shape mismatch for video /kaggle/input/augmenteddataset/train/nonanomalous/Normal_Videos650_x264_003.mp4\n",
      "Found Shape: (84, 224, 224, 3)\n",
      "Fixing shape by Padding\n",
      "Fixed Shape: (100, 224, 224, 3)\n"
     ]
    },
    {
     "name": "stderr",
     "output_type": "stream",
     "text": [
      " 79%|███████▉  | 7272/9150 [1:22:33<21:10,  1.48it/s]"
     ]
    },
    {
     "name": "stdout",
     "output_type": "stream",
     "text": [
      "Shape mismatch for video /kaggle/input/augmenteddataset/train/nonanomalous/Normal_Videos341_x264_002.mp4\n",
      "Found Shape: (96, 224, 224, 3)\n",
      "Fixing shape by Padding\n",
      "Fixed Shape: (100, 224, 224, 3)\n"
     ]
    },
    {
     "name": "stderr",
     "output_type": "stream",
     "text": [
      " 80%|███████▉  | 7288/9150 [1:22:44<20:41,  1.50it/s]"
     ]
    },
    {
     "name": "stdout",
     "output_type": "stream",
     "text": [
      "Shape mismatch for video /kaggle/input/augmenteddataset/train/anomalous/Burglary004_x264_005.mp4\n",
      "Found Shape: (96, 224, 224, 3)\n",
      "Fixing shape by Padding\n",
      "Fixed Shape: (100, 224, 224, 3)\n"
     ]
    },
    {
     "name": "stderr",
     "output_type": "stream",
     "text": [
      " 80%|████████  | 7320/9150 [1:23:06<20:03,  1.52it/s]"
     ]
    },
    {
     "name": "stdout",
     "output_type": "stream",
     "text": [
      "Shape mismatch for video /kaggle/input/augmenteddataset/train/anomalous/Shooting046_x264_016.mp4\n",
      "Found Shape: (96, 224, 224, 3)\n",
      "Fixing shape by Padding\n",
      "Fixed Shape: (100, 224, 224, 3)\n"
     ]
    },
    {
     "name": "stderr",
     "output_type": "stream",
     "text": [
      " 81%|████████  | 7371/9150 [1:23:40<21:03,  1.41it/s]"
     ]
    },
    {
     "name": "stdout",
     "output_type": "stream",
     "text": [
      "Shape mismatch for video /kaggle/input/augmenteddataset/train/nonanomalous/Normal_Videos_783_x264_031.mp4\n",
      "Found Shape: (97, 224, 224, 3)\n",
      "Fixing shape by Padding\n",
      "Fixed Shape: (100, 224, 224, 3)\n"
     ]
    },
    {
     "name": "stderr",
     "output_type": "stream",
     "text": [
      " 81%|████████  | 7378/9150 [1:23:45<20:20,  1.45it/s]"
     ]
    },
    {
     "name": "stdout",
     "output_type": "stream",
     "text": [
      "Shape mismatch for video /kaggle/input/augmenteddataset/train/nonanomalous/Normal_Videos600_x264_004.mp4\n",
      "Found Shape: (84, 224, 224, 3)\n",
      "Fixing shape by Padding\n",
      "Fixed Shape: (100, 224, 224, 3)\n"
     ]
    },
    {
     "name": "stderr",
     "output_type": "stream",
     "text": [
      " 81%|████████▏ | 7441/9150 [1:24:28<21:04,  1.35it/s]"
     ]
    },
    {
     "name": "stdout",
     "output_type": "stream",
     "text": [
      "Shape mismatch for video /kaggle/input/augmenteddataset/train/nonanomalous/Normal_Videos368_x264_002.mp4\n",
      "Found Shape: (97, 224, 224, 3)\n",
      "Fixing shape by Padding\n",
      "Fixed Shape: (100, 224, 224, 3)\n"
     ]
    },
    {
     "name": "stderr",
     "output_type": "stream",
     "text": [
      " 82%|████████▏ | 7523/9150 [1:25:24<18:10,  1.49it/s]"
     ]
    },
    {
     "name": "stdout",
     "output_type": "stream",
     "text": [
      "Shape mismatch for video /kaggle/input/augmenteddataset/train/nonanomalous/Normal_Videos586_x264_005.mp4\n",
      "Found Shape: (84, 224, 224, 3)\n",
      "Fixing shape by Padding\n",
      "Fixed Shape: (100, 224, 224, 3)\n"
     ]
    },
    {
     "name": "stderr",
     "output_type": "stream",
     "text": [
      " 85%|████████▍ | 7738/9150 [1:27:51<16:18,  1.44it/s]"
     ]
    },
    {
     "name": "stdout",
     "output_type": "stream",
     "text": [
      "Shape mismatch for video /kaggle/input/augmenteddataset/train/nonanomalous/Normal_Videos650_x264_000.mp4\n",
      "Found Shape: (84, 224, 224, 3)\n",
      "Fixing shape by Padding\n",
      "Fixed Shape: (100, 224, 224, 3)\n"
     ]
    },
    {
     "name": "stderr",
     "output_type": "stream",
     "text": [
      " 85%|████████▍ | 7743/9150 [1:27:54<16:31,  1.42it/s]"
     ]
    },
    {
     "name": "stdout",
     "output_type": "stream",
     "text": [
      "Shape mismatch for video /kaggle/input/augmenteddataset/train/nonanomalous/Normal_Videos114_x264_005.mp4\n",
      "Found Shape: (96, 224, 224, 3)\n",
      "Fixing shape by Padding\n",
      "Fixed Shape: (100, 224, 224, 3)\n"
     ]
    },
    {
     "name": "stderr",
     "output_type": "stream",
     "text": [
      " 85%|████████▍ | 7769/9150 [1:28:12<15:24,  1.49it/s]"
     ]
    },
    {
     "name": "stdout",
     "output_type": "stream",
     "text": [
      "Shape mismatch for video /kaggle/input/augmenteddataset/train/nonanomalous/Normal_Videos657_x264_004.mp4\n",
      "Found Shape: (99, 224, 224, 3)\n",
      "Fixing shape by Padding\n",
      "Fixed Shape: (100, 224, 224, 3)\n"
     ]
    },
    {
     "name": "stderr",
     "output_type": "stream",
     "text": [
      " 85%|████████▌ | 7779/9150 [1:28:18<14:35,  1.57it/s]"
     ]
    },
    {
     "name": "stdout",
     "output_type": "stream",
     "text": [
      "Shape mismatch for video /kaggle/input/augmenteddataset/train/nonanomalous/Normal_Videos269_x264_000.mp4\n",
      "Found Shape: (99, 224, 224, 3)\n",
      "Fixing shape by Padding\n",
      "Fixed Shape: (100, 224, 224, 3)\n"
     ]
    },
    {
     "name": "stderr",
     "output_type": "stream",
     "text": [
      " 86%|████████▌ | 7854/9150 [1:29:09<14:30,  1.49it/s]"
     ]
    },
    {
     "name": "stdout",
     "output_type": "stream",
     "text": [
      "Shape mismatch for video /kaggle/input/augmenteddataset/train/anomalous/721_p2_Arson011_x264_000.mp4\n",
      "Found Shape: (99, 224, 224, 3)\n",
      "Fixing shape by Padding\n",
      "Fixed Shape: (100, 224, 224, 3)\n"
     ]
    },
    {
     "name": "stderr",
     "output_type": "stream",
     "text": [
      " 86%|████████▌ | 7856/9150 [1:29:10<14:37,  1.47it/s]"
     ]
    },
    {
     "name": "stdout",
     "output_type": "stream",
     "text": [
      "Shape mismatch for video /kaggle/input/augmenteddataset/train/anomalous/721_p2_Arson011_x264_000_flipped.mp4\n",
      "Found Shape: (99, 224, 224, 3)\n",
      "Fixing shape by Padding\n",
      "Fixed Shape: (100, 224, 224, 3)\n"
     ]
    },
    {
     "name": "stderr",
     "output_type": "stream",
     "text": [
      " 89%|████████▊ | 8109/9150 [1:32:04<11:49,  1.47it/s]"
     ]
    },
    {
     "name": "stdout",
     "output_type": "stream",
     "text": [
      "Shape mismatch for video /kaggle/input/augmenteddataset/train/anomalous/Assault035_x264_002_flipped.mp4\n",
      "Found Shape: (99, 224, 224, 3)\n",
      "Fixing shape by Padding\n",
      "Fixed Shape: (100, 224, 224, 3)\n"
     ]
    },
    {
     "name": "stderr",
     "output_type": "stream",
     "text": [
      " 89%|████████▉ | 8159/9150 [1:32:38<11:38,  1.42it/s]"
     ]
    },
    {
     "name": "stdout",
     "output_type": "stream",
     "text": [
      "Shape mismatch for video /kaggle/input/augmenteddataset/train/nonanomalous/Normal_Videos945_x264_011.mp4\n",
      "Found Shape: (97, 224, 224, 3)\n",
      "Fixing shape by Padding\n",
      "Fixed Shape: (100, 224, 224, 3)\n"
     ]
    },
    {
     "name": "stderr",
     "output_type": "stream",
     "text": [
      " 92%|█████████▏| 8380/9150 [1:35:09<08:25,  1.52it/s]"
     ]
    },
    {
     "name": "stdout",
     "output_type": "stream",
     "text": [
      "Shape mismatch for video /kaggle/input/augmenteddataset/train/nonanomalous/Normal_Videos_710_x264_005.mp4\n",
      "Found Shape: (99, 224, 224, 3)\n",
      "Fixing shape by Padding\n",
      "Fixed Shape: (100, 224, 224, 3)\n"
     ]
    },
    {
     "name": "stderr",
     "output_type": "stream",
     "text": [
      " 94%|█████████▍| 8621/9150 [1:37:55<06:04,  1.45it/s]"
     ]
    },
    {
     "name": "stdout",
     "output_type": "stream",
     "text": [
      "Shape mismatch for video /kaggle/input/augmenteddataset/train/nonanomalous/Normal_Videos635_x264_002.mp4\n",
      "Found Shape: (84, 224, 224, 3)\n",
      "Fixing shape by Padding\n",
      "Fixed Shape: (100, 224, 224, 3)\n"
     ]
    },
    {
     "name": "stderr",
     "output_type": "stream",
     "text": [
      " 96%|█████████▌| 8754/9150 [1:39:26<04:28,  1.47it/s]"
     ]
    },
    {
     "name": "stdout",
     "output_type": "stream",
     "text": [
      "Shape mismatch for video /kaggle/input/augmenteddataset/train/nonanomalous/Normal_Videos141_x264_040.mp4\n",
      "Found Shape: (98, 224, 224, 3)\n",
      "Fixing shape by Padding\n",
      "Fixed Shape: (100, 224, 224, 3)\n"
     ]
    },
    {
     "name": "stderr",
     "output_type": "stream",
     "text": [
      " 97%|█████████▋| 8886/9150 [1:40:57<02:58,  1.48it/s]"
     ]
    },
    {
     "name": "stdout",
     "output_type": "stream",
     "text": [
      "Shape mismatch for video /kaggle/input/augmenteddataset/train/nonanomalous/Normal_Videos586_x264_002.mp4\n",
      "Found Shape: (84, 224, 224, 3)\n",
      "Fixing shape by Padding\n",
      "Fixed Shape: (100, 224, 224, 3)\n"
     ]
    },
    {
     "name": "stderr",
     "output_type": "stream",
     "text": [
      " 98%|█████████▊| 8933/9150 [1:41:29<02:25,  1.50it/s]"
     ]
    },
    {
     "name": "stdout",
     "output_type": "stream",
     "text": [
      "Shape mismatch for video /kaggle/input/augmenteddataset/train/nonanomalous/Normal_Videos011_x264_002.mp4\n",
      "Found Shape: (99, 224, 224, 3)\n",
      "Fixing shape by Padding\n",
      "Fixed Shape: (100, 224, 224, 3)\n"
     ]
    },
    {
     "name": "stderr",
     "output_type": "stream",
     "text": [
      " 98%|█████████▊| 8957/9150 [1:41:46<02:14,  1.44it/s]"
     ]
    },
    {
     "name": "stdout",
     "output_type": "stream",
     "text": [
      "Shape mismatch for video /kaggle/input/augmenteddataset/train/nonanomalous/623_Abuse045_x264_016.mp4\n",
      "Found Shape: (95, 224, 224, 3)\n",
      "Fixing shape by Padding\n",
      "Fixed Shape: (100, 224, 224, 3)\n"
     ]
    },
    {
     "name": "stderr",
     "output_type": "stream",
     "text": [
      " 98%|█████████▊| 8991/9150 [1:42:09<01:48,  1.47it/s]"
     ]
    },
    {
     "name": "stdout",
     "output_type": "stream",
     "text": [
      "Shape mismatch for video /kaggle/input/augmenteddataset/train/nonanomalous/Normal_Videos600_x264_006.mp4\n",
      "Found Shape: (84, 224, 224, 3)\n",
      "Fixing shape by Padding\n",
      "Fixed Shape: (100, 224, 224, 3)\n"
     ]
    },
    {
     "name": "stderr",
     "output_type": "stream",
     "text": [
      " 99%|█████████▉| 9040/9150 [1:42:43<01:17,  1.42it/s]"
     ]
    },
    {
     "name": "stdout",
     "output_type": "stream",
     "text": [
      "Shape mismatch for video /kaggle/input/augmenteddataset/train/nonanomalous/Normal_Videos652_x264_010.mp4\n",
      "Found Shape: (98, 224, 224, 3)\n",
      "Fixing shape by Padding\n",
      "Fixed Shape: (100, 224, 224, 3)\n"
     ]
    },
    {
     "name": "stderr",
     "output_type": "stream",
     "text": [
      "100%|██████████| 9150/9150 [1:43:58<00:00,  1.47it/s]\n"
     ]
    }
   ],
   "source": [
    "from tqdm import tqdm\n",
    "\n",
    "video_embeddings = []\n",
    "video_labels = []\n",
    "\n",
    "# test_path = train_paths[:20]\n",
    "# test_label = train_labels[:20]\n",
    "\n",
    "for path, label in zip(tqdm(train_paths), train_labels):\n",
    "    try:\n",
    "        frames = get_frames(path)\n",
    "\n",
    "        # check the shape\n",
    "        if frames.shape[0] != 100 or frames.shape[1] != 224 or frames.shape[2] != 224 or frames.shape[3] !=3:\n",
    "            print(f\"Shape mismatch for video {path}\")\n",
    "            print(f\"Found Shape: {frames.shape}\")\n",
    "            print(\"Fixing shape by Padding\")\n",
    "            frames = pad(frames)\n",
    "            print(f\"Fixed Shape: {frames.shape}\")\n",
    "\n",
    "        # Reshaping the frame for CNN input\n",
    "        frames = torch.tensor(frames).permute(0, 3, 1, 2).to(device)\n",
    "\n",
    "        # Get embeddings for each frame\n",
    "        embeddings_list = []\n",
    "        for frame in frames:\n",
    "            frame = frame.unsqueeze(0)\n",
    "            frame.to(device)\n",
    "            embeddings = model(frame)\n",
    "            embeddings_list.append(embeddings.flatten().cpu().detach().numpy())\n",
    "\n",
    "        embeddings_list = np.asarray(embeddings_list)    \n",
    "        video_embeddings.append(embeddings_list)\n",
    "        video_labels.append(label)\n",
    "    except IOError as e:\n",
    "        print(f\"Skipping Video file {path} and label {label}\")\n",
    "    \n",
    "video_embeddings = np.asarray(video_embeddings)\n",
    "video_labels = np.asarray(video_labels)"
   ]
  },
  {
   "cell_type": "code",
   "execution_count": 8,
   "id": "d980fef4",
   "metadata": {
    "execution": {
     "iopub.execute_input": "2024-03-16T13:30:21.457059Z",
     "iopub.status.busy": "2024-03-16T13:30:21.456683Z",
     "iopub.status.idle": "2024-03-16T13:30:41.546338Z",
     "shell.execute_reply": "2024-03-16T13:30:41.545512Z"
    },
    "papermill": {
     "duration": 20.825641,
     "end_time": "2024-03-16T13:30:41.548730",
     "exception": false,
     "start_time": "2024-03-16T13:30:20.723089",
     "status": "completed"
    },
    "tags": []
   },
   "outputs": [],
   "source": [
    "np.save('/kaggle/working/train_embeddings.npy', video_embeddings) \n",
    "np.save('/kaggle/working/train_labels.npy', video_labels)"
   ]
  },
  {
   "cell_type": "markdown",
   "id": "0ae2020e",
   "metadata": {
    "papermill": {
     "duration": 0.749869,
     "end_time": "2024-03-16T13:30:43.049015",
     "exception": false,
     "start_time": "2024-03-16T13:30:42.299146",
     "status": "completed"
    },
    "tags": []
   },
   "source": [
    "## Checking the saved shape"
   ]
  },
  {
   "cell_type": "code",
   "execution_count": 9,
   "id": "2ff15590",
   "metadata": {
    "execution": {
     "iopub.execute_input": "2024-03-16T13:30:54.346047Z",
     "iopub.status.busy": "2024-03-16T13:30:54.345440Z",
     "iopub.status.idle": "2024-03-16T13:31:24.152280Z",
     "shell.execute_reply": "2024-03-16T13:31:24.151215Z"
    },
    "papermill": {
     "duration": 30.54,
     "end_time": "2024-03-16T13:31:24.155453",
     "exception": false,
     "start_time": "2024-03-16T13:30:53.615453",
     "status": "completed"
    },
    "tags": []
   },
   "outputs": [
    {
     "name": "stdout",
     "output_type": "stream",
     "text": [
      "(9150, 100, 2048)\n",
      "(9150,)\n"
     ]
    }
   ],
   "source": [
    "x = np.load('/kaggle/working/train_embeddings.npy')\n",
    "print(x.shape)\n",
    "y = np.load('/kaggle/working/train_labels.npy')\n",
    "print(y.shape)"
   ]
  },
  {
   "cell_type": "code",
   "execution_count": null,
   "id": "6f429c14",
   "metadata": {
    "papermill": {
     "duration": 0.795366,
     "end_time": "2024-03-16T13:31:25.684553",
     "exception": false,
     "start_time": "2024-03-16T13:31:24.889187",
     "status": "completed"
    },
    "tags": []
   },
   "outputs": [],
   "source": []
  }
 ],
 "metadata": {
  "kaggle": {
   "accelerator": "gpu",
   "dataSources": [
    {
     "datasetId": 4590726,
     "sourceId": 7832740,
     "sourceType": "datasetVersion"
    }
   ],
   "dockerImageVersionId": 30665,
   "isGpuEnabled": true,
   "isInternetEnabled": true,
   "language": "python",
   "sourceType": "notebook"
  },
  "kernelspec": {
   "display_name": "Python 3",
   "language": "python",
   "name": "python3"
  },
  "language_info": {
   "codemirror_mode": {
    "name": "ipython",
    "version": 3
   },
   "file_extension": ".py",
   "mimetype": "text/x-python",
   "name": "python",
   "nbconvert_exporter": "python",
   "pygments_lexer": "ipython3",
   "version": "3.10.13"
  },
  "papermill": {
   "default_parameters": {},
   "duration": 6317.969292,
   "end_time": "2024-03-16T13:31:29.111106",
   "environment_variables": {},
   "exception": null,
   "input_path": "__notebook__.ipynb",
   "output_path": "__notebook__.ipynb",
   "parameters": {},
   "start_time": "2024-03-16T11:46:11.141814",
   "version": "2.5.0"
  }
 },
 "nbformat": 4,
 "nbformat_minor": 5
}
