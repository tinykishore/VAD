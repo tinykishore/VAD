{
 "cells": [
  {
   "cell_type": "markdown",
   "id": "7f1da834",
   "metadata": {
    "papermill": {
     "duration": 0.006897,
     "end_time": "2024-03-19T03:24:07.666141",
     "exception": false,
     "start_time": "2024-03-19T03:24:07.659244",
     "status": "completed"
    },
    "tags": []
   },
   "source": [
    "## Train SRU model with embedding-cnn-100-v-0-2-0\n",
    "\n",
    "Hope it will work..."
   ]
  },
  {
   "cell_type": "markdown",
   "id": "1120c9ee",
   "metadata": {
    "papermill": {
     "duration": 0.006382,
     "end_time": "2024-03-19T03:24:07.678860",
     "exception": false,
     "start_time": "2024-03-19T03:24:07.672478",
     "status": "completed"
    },
    "tags": []
   },
   "source": [
    "### Installing SRU with v3.0.0"
   ]
  },
  {
   "cell_type": "code",
   "execution_count": 1,
   "id": "2a69fa61",
   "metadata": {
    "_cell_guid": "b1076dfc-b9ad-4769-8c92-a6c4dae69d19",
    "_uuid": "8f2839f25d086af736a60e9eeb907d3b93b6e0e5",
    "execution": {
     "iopub.execute_input": "2024-03-19T03:24:07.692707Z",
     "iopub.status.busy": "2024-03-19T03:24:07.692343Z",
     "iopub.status.idle": "2024-03-19T03:24:21.116934Z",
     "shell.execute_reply": "2024-03-19T03:24:21.115943Z"
    },
    "papermill": {
     "duration": 13.43411,
     "end_time": "2024-03-19T03:24:21.119188",
     "exception": false,
     "start_time": "2024-03-19T03:24:07.685078",
     "status": "completed"
    },
    "tags": []
   },
   "outputs": [
    {
     "name": "stdout",
     "output_type": "stream",
     "text": [
      "Collecting sru==3.0.0.dev6\r\n",
      "  Downloading sru-3.0.0.dev6-py3-none-any.whl.metadata (3.8 kB)\r\n",
      "Requirement already satisfied: torch>=1.5.1 in /opt/conda/lib/python3.10/site-packages (from sru==3.0.0.dev6) (2.1.2)\r\n",
      "Requirement already satisfied: ninja in /opt/conda/lib/python3.10/site-packages (from sru==3.0.0.dev6) (1.11.1.1)\r\n",
      "Requirement already satisfied: filelock in /opt/conda/lib/python3.10/site-packages (from torch>=1.5.1->sru==3.0.0.dev6) (3.13.1)\r\n",
      "Requirement already satisfied: typing-extensions in /opt/conda/lib/python3.10/site-packages (from torch>=1.5.1->sru==3.0.0.dev6) (4.9.0)\r\n",
      "Requirement already satisfied: sympy in /opt/conda/lib/python3.10/site-packages (from torch>=1.5.1->sru==3.0.0.dev6) (1.12)\r\n",
      "Requirement already satisfied: networkx in /opt/conda/lib/python3.10/site-packages (from torch>=1.5.1->sru==3.0.0.dev6) (3.2.1)\r\n",
      "Requirement already satisfied: jinja2 in /opt/conda/lib/python3.10/site-packages (from torch>=1.5.1->sru==3.0.0.dev6) (3.1.2)\r\n",
      "Requirement already satisfied: fsspec in /opt/conda/lib/python3.10/site-packages (from torch>=1.5.1->sru==3.0.0.dev6) (2024.2.0)\r\n",
      "Requirement already satisfied: MarkupSafe>=2.0 in /opt/conda/lib/python3.10/site-packages (from jinja2->torch>=1.5.1->sru==3.0.0.dev6) (2.1.3)\r\n",
      "Requirement already satisfied: mpmath>=0.19 in /opt/conda/lib/python3.10/site-packages (from sympy->torch>=1.5.1->sru==3.0.0.dev6) (1.3.0)\r\n",
      "Downloading sru-3.0.0.dev6-py3-none-any.whl (30 kB)\r\n",
      "Installing collected packages: sru\r\n",
      "Successfully installed sru-3.0.0.dev6\r\n"
     ]
    }
   ],
   "source": [
    "!pip install sru==3.0.0.dev6"
   ]
  },
  {
   "cell_type": "markdown",
   "id": "17950095",
   "metadata": {
    "papermill": {
     "duration": 0.006593,
     "end_time": "2024-03-19T03:24:21.132920",
     "exception": false,
     "start_time": "2024-03-19T03:24:21.126327",
     "status": "completed"
    },
    "tags": []
   },
   "source": [
    "### Importing Necessary Libraries"
   ]
  },
  {
   "cell_type": "code",
   "execution_count": 2,
   "id": "818e52b6",
   "metadata": {
    "execution": {
     "iopub.execute_input": "2024-03-19T03:24:21.148826Z",
     "iopub.status.busy": "2024-03-19T03:24:21.148030Z",
     "iopub.status.idle": "2024-03-19T03:25:14.616991Z",
     "shell.execute_reply": "2024-03-19T03:25:14.616069Z"
    },
    "papermill": {
     "duration": 53.485958,
     "end_time": "2024-03-19T03:25:14.625742",
     "exception": false,
     "start_time": "2024-03-19T03:24:21.139784",
     "status": "completed"
    },
    "tags": []
   },
   "outputs": [
    {
     "data": {
      "text/plain": [
       "40"
      ]
     },
     "execution_count": 2,
     "metadata": {},
     "output_type": "execute_result"
    }
   ],
   "source": [
    "import logging\n",
    "import os\n",
    "\n",
    "import numpy as np\n",
    "import torch\n",
    "from sklearn.model_selection import train_test_split\n",
    "from sru import SRU\n",
    "from torch.nn import CrossEntropyLoss\n",
    "from torch.nn import Module, Dropout, Linear\n",
    "from torch.optim import Adam\n",
    "from torch.utils.data import TensorDataset, DataLoader\n",
    "from tqdm import tqdm\n",
    "import gc\n",
    "\n",
    "gc.collect()"
   ]
  },
  {
   "cell_type": "markdown",
   "id": "b6136fc2",
   "metadata": {
    "papermill": {
     "duration": 0.006601,
     "end_time": "2024-03-19T03:25:14.639107",
     "exception": false,
     "start_time": "2024-03-19T03:25:14.632506",
     "status": "completed"
    },
    "tags": []
   },
   "source": [
    "### Set the Device to CUDA"
   ]
  },
  {
   "cell_type": "code",
   "execution_count": 3,
   "id": "57fbe04c",
   "metadata": {
    "execution": {
     "iopub.execute_input": "2024-03-19T03:25:14.654146Z",
     "iopub.status.busy": "2024-03-19T03:25:14.653718Z",
     "iopub.status.idle": "2024-03-19T03:25:14.811729Z",
     "shell.execute_reply": "2024-03-19T03:25:14.810717Z"
    },
    "papermill": {
     "duration": 0.168079,
     "end_time": "2024-03-19T03:25:14.813968",
     "exception": false,
     "start_time": "2024-03-19T03:25:14.645889",
     "status": "completed"
    },
    "tags": []
   },
   "outputs": [
    {
     "name": "stdout",
     "output_type": "stream",
     "text": [
      "Device selected: cuda\n",
      "Tue Mar 19 03:25:14 2024       \n",
      "+---------------------------------------------------------------------------------------+\n",
      "| NVIDIA-SMI 535.129.03             Driver Version: 535.129.03   CUDA Version: 12.2     |\n",
      "|-----------------------------------------+----------------------+----------------------+\n",
      "| GPU  Name                 Persistence-M | Bus-Id        Disp.A | Volatile Uncorr. ECC |\n",
      "| Fan  Temp   Perf          Pwr:Usage/Cap |         Memory-Usage | GPU-Util  Compute M. |\n",
      "|                                         |                      |               MIG M. |\n",
      "|=========================================+======================+======================|\n",
      "|   0  Tesla P100-PCIE-16GB           Off | 00000000:00:04.0 Off |                    0 |\n",
      "| N/A   38C    P0              25W / 250W |      2MiB / 16384MiB |      0%      Default |\n",
      "|                                         |                      |                  N/A |\n",
      "+-----------------------------------------+----------------------+----------------------+\n",
      "                                                                                         \n",
      "+---------------------------------------------------------------------------------------+\n",
      "| Processes:                                                                            |\n",
      "|  GPU   GI   CI        PID   Type   Process name                            GPU Memory |\n",
      "|        ID   ID                                                             Usage      |\n",
      "|=======================================================================================|\n",
      "|  No running processes found                                                           |\n",
      "+---------------------------------------------------------------------------------------+\n",
      "\n",
      "Device type: cuda\n",
      "Capability: (6, 0)\n"
     ]
    },
    {
     "data": {
      "text/plain": [
       "0"
      ]
     },
     "execution_count": 3,
     "metadata": {},
     "output_type": "execute_result"
    }
   ],
   "source": [
    "# Set the device to use (e.g., 'cpu', 'cuda', 'mps')\n",
    "device = torch.device(\"mps\" if torch.backends.mps.is_available() else\n",
    "                      (\"cuda\" if torch.cuda.is_available() else \"cpu\"))\n",
    "\n",
    "# Select Device According to Availability\n",
    "print(\"Device selected:\", device)\n",
    "\n",
    "# If the device is CUDA, print the device capability\n",
    "if device.type == \"cuda\":\n",
    "    os.system(\"nvidia-smi\")\n",
    "    print()\n",
    "    print(\"Device type:\", device.type)\n",
    "    print(\"Capability:\", torch.cuda.get_device_capability(device))\n",
    "else:\n",
    "    print(\"Device capabilities are limited on MPSs and CPUs.\")\n",
    "\n",
    "gc.collect()"
   ]
  },
  {
   "cell_type": "markdown",
   "id": "33d8602c",
   "metadata": {
    "papermill": {
     "duration": 0.007883,
     "end_time": "2024-03-19T03:25:14.829069",
     "exception": false,
     "start_time": "2024-03-19T03:25:14.821186",
     "status": "completed"
    },
    "tags": []
   },
   "source": [
    "### Read the file, Validate and View Shape"
   ]
  },
  {
   "cell_type": "code",
   "execution_count": 4,
   "id": "cb122db8",
   "metadata": {
    "execution": {
     "iopub.execute_input": "2024-03-19T03:25:14.844637Z",
     "iopub.status.busy": "2024-03-19T03:25:14.844361Z",
     "iopub.status.idle": "2024-03-19T03:26:20.384634Z",
     "shell.execute_reply": "2024-03-19T03:26:20.383707Z"
    },
    "papermill": {
     "duration": 65.558168,
     "end_time": "2024-03-19T03:26:20.394348",
     "exception": false,
     "start_time": "2024-03-19T03:25:14.836180",
     "status": "completed"
    },
    "tags": []
   },
   "outputs": [
    {
     "name": "stdout",
     "output_type": "stream",
     "text": [
      "Files Loaded Successfully\n",
      "Video Embeddings Shape: (9150, 100, 2048)\n",
      "Video Labels Shape: (9150,)\n"
     ]
    },
    {
     "data": {
      "text/plain": [
       "22"
      ]
     },
     "execution_count": 4,
     "metadata": {},
     "output_type": "execute_result"
    }
   ],
   "source": [
    "file_embeddings = np.load('/kaggle/input/train_embeddings.npy')\n",
    "file_labels = np.load('/kaggle/input/train_labels.npy')\n",
    "\n",
    "# Check if the embeddings and labels are of the same length\n",
    "if len(file_embeddings) != len(file_labels):\n",
    "    raise ValueError(\"The length of the embeddings and labels should be the same\")\n",
    "\n",
    "# check if the embedding is a 3D array\n",
    "if len(file_embeddings.shape) != 3:\n",
    "    raise ValueError(f\"The embeddings should be a 4D array [instances, windows, frames, features].\"\n",
    "                     f\" Found {len(file_embeddings.shape)}D instead.\")\n",
    "\n",
    "print(\"Files Loaded Successfully\")\n",
    "print(\"Video Embeddings Shape:\", file_embeddings.shape)\n",
    "print(\"Video Labels Shape:\", file_labels.shape)\n",
    "gc.collect()"
   ]
  },
  {
   "cell_type": "markdown",
   "id": "b5fe7500",
   "metadata": {
    "papermill": {
     "duration": 0.007065,
     "end_time": "2024-03-19T03:26:20.408621",
     "exception": false,
     "start_time": "2024-03-19T03:26:20.401556",
     "status": "completed"
    },
    "tags": []
   },
   "source": [
    "### Train Test Split, Convert to torch.tensor and View Shape"
   ]
  },
  {
   "cell_type": "code",
   "execution_count": 5,
   "id": "e0896307",
   "metadata": {
    "execution": {
     "iopub.execute_input": "2024-03-19T03:26:20.424344Z",
     "iopub.status.busy": "2024-03-19T03:26:20.424033Z",
     "iopub.status.idle": "2024-03-19T03:26:24.380421Z",
     "shell.execute_reply": "2024-03-19T03:26:24.379425Z"
    },
    "papermill": {
     "duration": 3.966804,
     "end_time": "2024-03-19T03:26:24.382639",
     "exception": false,
     "start_time": "2024-03-19T03:26:20.415835",
     "status": "completed"
    },
    "tags": []
   },
   "outputs": [
    {
     "name": "stdout",
     "output_type": "stream",
     "text": [
      "Shape of Train Embeddings: torch.Size([7320, 100, 2048])\n",
      "Shape of Train Labels: torch.Size([7320])\n",
      "Shape of Test Embeddings: torch.Size([1830, 100, 2048])\n",
      "Shape of Test Labels: torch.Size([1830])\n"
     ]
    },
    {
     "data": {
      "text/plain": [
       "0"
      ]
     },
     "execution_count": 5,
     "metadata": {},
     "output_type": "execute_result"
    }
   ],
   "source": [
    "test_size = 0.2\n",
    "\n",
    "\n",
    "# Split the data into training and testing\n",
    "x_train, x_test, y_train, y_test = train_test_split(file_embeddings,\n",
    "                                                    file_labels,\n",
    "                                                    test_size=test_size,\n",
    "                                                    random_state=42)\n",
    "\n",
    "\n",
    "# convert to tensor\n",
    "train_embeddings = torch.from_numpy(x_train).to(device)\n",
    "# train_embeddings = train_embeddings.reshape(train_embeddings.shape[0], -1)\n",
    "train_labels = torch.from_numpy(y_train).to(device)\n",
    "test_embeddings = torch.from_numpy(x_test).to(device)\n",
    "# test_embeddings = test_embeddings.reshape(test_embeddings.shape[0], -1)\n",
    "test_labels = torch.from_numpy(y_test).to(device)\n",
    "\n",
    "print('Shape of Train Embeddings:', train_embeddings.shape)\n",
    "print('Shape of Train Labels:', train_labels.shape)\n",
    "print('Shape of Test Embeddings:', test_embeddings.shape)\n",
    "print('Shape of Test Labels:', test_labels.shape)\n",
    "\n",
    "gc.collect()"
   ]
  },
  {
   "cell_type": "markdown",
   "id": "f577635c",
   "metadata": {
    "papermill": {
     "duration": 0.0076,
     "end_time": "2024-03-19T03:26:24.398146",
     "exception": false,
     "start_time": "2024-03-19T03:26:24.390546",
     "status": "completed"
    },
    "tags": []
   },
   "source": [
    "### Delete all unnecessary variables\n",
    "\n",
    "This is important because the embeddings are huge in size and the variables take around 15.1 GiB / 29 GiB. **After running the cell it will drop down to 1.2 GiB**"
   ]
  },
  {
   "cell_type": "code",
   "execution_count": 6,
   "id": "bc040b85",
   "metadata": {
    "execution": {
     "iopub.execute_input": "2024-03-19T03:26:24.414336Z",
     "iopub.status.busy": "2024-03-19T03:26:24.414021Z",
     "iopub.status.idle": "2024-03-19T03:26:24.557082Z",
     "shell.execute_reply": "2024-03-19T03:26:24.556096Z"
    },
    "papermill": {
     "duration": 0.153629,
     "end_time": "2024-03-19T03:26:24.559146",
     "exception": false,
     "start_time": "2024-03-19T03:26:24.405517",
     "status": "completed"
    },
    "tags": []
   },
   "outputs": [
    {
     "data": {
      "text/plain": [
       "0"
      ]
     },
     "execution_count": 6,
     "metadata": {},
     "output_type": "execute_result"
    }
   ],
   "source": [
    "del file_embeddings\n",
    "del file_labels\n",
    "del x_train\n",
    "del x_test\n",
    "del y_train\n",
    "del y_test\n",
    "gc.collect()"
   ]
  },
  {
   "cell_type": "markdown",
   "id": "464cb0b6",
   "metadata": {
    "papermill": {
     "duration": 0.007571,
     "end_time": "2024-03-19T03:26:24.574503",
     "exception": false,
     "start_time": "2024-03-19T03:26:24.566932",
     "status": "completed"
    },
    "tags": []
   },
   "source": [
    "### Reshaping the tensors\n",
    "\n",
    "To fit in SRU model we need to reshape the tensors. Currently, they are in 3D shape, `(videos, frames, features)`. But SRU expects the tensor in different format.\n",
    "\n",
    "SRU expects a 3D tensor shaped like `(sequence_length, batch_size, input_size)`, which for our case, `sequence_length` would be `frames`, `batch_size` would be `videos` and `input_size` would be `features`. So, we need to convert from shape `(7320, 100, 2048)` to shape `(100, 7320, 2048)`"
   ]
  },
  {
   "cell_type": "markdown",
   "id": "6fafe0f2",
   "metadata": {
    "papermill": {
     "duration": 0.007462,
     "end_time": "2024-03-19T03:26:24.589628",
     "exception": false,
     "start_time": "2024-03-19T03:26:24.582166",
     "status": "completed"
    },
    "tags": []
   },
   "source": [
    "Now we need to reshape the labels as well"
   ]
  },
  {
   "cell_type": "code",
   "execution_count": 7,
   "id": "ad6e1fe1",
   "metadata": {
    "execution": {
     "iopub.execute_input": "2024-03-19T03:26:24.606492Z",
     "iopub.status.busy": "2024-03-19T03:26:24.605912Z",
     "iopub.status.idle": "2024-03-19T03:26:24.610853Z",
     "shell.execute_reply": "2024-03-19T03:26:24.609995Z"
    },
    "papermill": {
     "duration": 0.015702,
     "end_time": "2024-03-19T03:26:24.612804",
     "exception": false,
     "start_time": "2024-03-19T03:26:24.597102",
     "status": "completed"
    },
    "tags": []
   },
   "outputs": [],
   "source": [
    "\n",
    "\n",
    "\n",
    "# batch_size = 8\n",
    "\n",
    "# # Create TensorDataset\n",
    "# train_data = TensorDataset(train_embeddings, train_labels)\n",
    "# test_data = TensorDataset(test_embeddings, test_labels)\n",
    "\n",
    "# \"\"\"\n",
    "# Each train data has (2, 100 , 2048)\n",
    "# len(train_data) -> videos -\n",
    "# train_data[i][0] -> Video embed,  Shape: (100, 2048)\n",
    "# train_data[i][1] -> Label, Shape: (1, )\n",
    "\n",
    "# train_data[i][0][0] -> First (0th) frame Features, Shape: (2048, )\n",
    "# Same goes for test data\n",
    "# \"\"\"\n",
    "\n",
    "# ###########################\n",
    "\n",
    "# train_loader = DataLoader(train_data, shuffle=True, batch_size=batch_size)\n",
    "# test_loader = DataLoader(test_data, shuffle=True, batch_size=batch_size)\n",
    "\n",
    "# \"\"\"\n",
    "# Length of loader = train data // batch size = 7320 // 8 = 915\n",
    "# Inside of each (915) element in data_loader...........\n",
    "\n",
    "# len(i) -> 2 Which means each element has 2 sub element\n",
    "# We can access i[0] and i[1].\n",
    "# len(i[0]) = 8 and len(i[0]) = 8\n",
    "\n",
    "\n",
    "# So both element has 8 elements. First one is 8 video, secons one is 8 labels corresponding to the videos.\\\n",
    "\n",
    "# For example,\n",
    "\n",
    "#             for i in train_loader:\n",
    "#             print(i[0])\n",
    "#             break\n",
    "    \n",
    "# prints: tensor([1, 0, 0, 0, 0, 1, 0, 1], device='cuda:0')\n",
    "\n",
    "# so The first element contains 8 videos. \n",
    "# \"\"\""
   ]
  },
  {
   "cell_type": "code",
   "execution_count": 8,
   "id": "58c26d6b",
   "metadata": {
    "execution": {
     "iopub.execute_input": "2024-03-19T03:26:24.629378Z",
     "iopub.status.busy": "2024-03-19T03:26:24.629098Z",
     "iopub.status.idle": "2024-03-19T03:26:24.634523Z",
     "shell.execute_reply": "2024-03-19T03:26:24.633617Z"
    },
    "papermill": {
     "duration": 0.015852,
     "end_time": "2024-03-19T03:26:24.636366",
     "exception": false,
     "start_time": "2024-03-19T03:26:24.620514",
     "status": "completed"
    },
    "tags": []
   },
   "outputs": [],
   "source": [
    "batch_size = 8\n",
    "\n",
    "# Create TensorDataset\n",
    "train_data = TensorDataset(train_embeddings, train_labels)\n",
    "test_data = TensorDataset(test_embeddings, test_labels)\n",
    "\n",
    "train_loader = DataLoader(train_data, shuffle=True, batch_size=batch_size)\n",
    "test_loader = DataLoader(test_data, shuffle=True, batch_size=batch_size)\n",
    "\n",
    "# Train loader length is = 915 which means 915 * batch size 8 = 7320 data points, which are actually videos.\n",
    "# same goes for test loader\n",
    "# our sequence length is then 204800 which is the total features"
   ]
  },
  {
   "cell_type": "code",
   "execution_count": 9,
   "id": "c948f0d9",
   "metadata": {
    "execution": {
     "iopub.execute_input": "2024-03-19T03:26:24.652705Z",
     "iopub.status.busy": "2024-03-19T03:26:24.652407Z",
     "iopub.status.idle": "2024-03-19T03:26:24.911491Z",
     "shell.execute_reply": "2024-03-19T03:26:24.910544Z"
    },
    "papermill": {
     "duration": 0.269718,
     "end_time": "2024-03-19T03:26:24.913681",
     "exception": false,
     "start_time": "2024-03-19T03:26:24.643963",
     "status": "completed"
    },
    "tags": []
   },
   "outputs": [
    {
     "data": {
      "text/plain": [
       "SRUModel(\n",
       "  (sru_layers): SRU(\n",
       "    (rnn_lst): ModuleList(\n",
       "      (0): SRUCell(2048, 1024, rescale=True,\n",
       "        transform_module=Linear(in_features=2048, out_features=4096, bias=False)\n",
       "      )\n",
       "      (1): SRUCell(1024, 1024, rescale=True,\n",
       "        transform_module=Linear(in_features=1024, out_features=3072, bias=False)\n",
       "      )\n",
       "    )\n",
       "  )\n",
       "  (dropout): Dropout(p=0.2, inplace=False)\n",
       "  (linear): Linear(in_features=1024, out_features=2, bias=True)\n",
       ")"
      ]
     },
     "execution_count": 9,
     "metadata": {},
     "output_type": "execute_result"
    }
   ],
   "source": [
    "class SRUModel(Module):\n",
    "    def __init__(self, input_size, hidden_size, **kwargs):\n",
    "        super(SRUModel, self).__init__()\n",
    "        # Main SRU layer\n",
    "        self.sru_layers = SRU(\n",
    "            input_size=input_size,\n",
    "            hidden_size=hidden_size,\n",
    "            num_layers=kwargs.get('num_layers', 2),\n",
    "            dropout=kwargs.get('dropout_prob', 0.0),\n",
    "            bidirectional=kwargs.get('bidirectional', False),\n",
    "            layer_norm=kwargs.get('layer_norm', False),\n",
    "            highway_bias=kwargs.get('highway_bias', 0.0),\n",
    "            rescale=kwargs.get('rescale', True),\n",
    "            nn_rnn_compatible_return=kwargs.get('nn_rnn_compatible_return', False),\n",
    "            proj_input_to_hidden_first=kwargs.get('proj_input_to_hidden_first', False),\n",
    "            amp_recurrence_fp16=kwargs.get('amp_recurrence_fp16', False),\n",
    "            normalize_after=kwargs.get('normalize_after', False),\n",
    "        ).to(device)\n",
    "        # Dropout layer\n",
    "        self.dropout = Dropout(kwargs.get('dropout_layer_prob', 0.2)).to(device)\n",
    "        # Linear layer (Fully connected layer)\n",
    "        self.linear = Linear(\n",
    "            in_features=hidden_size * 2 if kwargs.get('bidirectional', False) else hidden_size,\n",
    "            out_features=kwargs.get('num_classes', 2)\n",
    "        ).to(device)\n",
    "        # L2 regularization\n",
    "        self.l2_reg_lambda = kwargs.get('l2_reg_lambda', 1e-5)\n",
    "\n",
    "    def forward(self, x):\n",
    "        output_states, _ = self.sru_layers(x)\n",
    "        output = self.linear(self.dropout(output_states[-1]))\n",
    "        return output\n",
    "\n",
    "    def l2_regularization(self):\n",
    "        l2_reg = torch.tensor(0., device=device)\n",
    "        for param in self.parameters():\n",
    "            l2_reg += torch.norm(param, p=2)\n",
    "        return self.l2_reg_lambda * l2_reg\n",
    "\n",
    "\n",
    "model = SRUModel(2048, 1024)\n",
    "model = model.to(device)\n",
    "model"
   ]
  },
  {
   "cell_type": "code",
   "execution_count": 10,
   "id": "baff2448",
   "metadata": {
    "execution": {
     "iopub.execute_input": "2024-03-19T03:26:24.930740Z",
     "iopub.status.busy": "2024-03-19T03:26:24.930413Z",
     "iopub.status.idle": "2024-03-19T03:26:27.416905Z",
     "shell.execute_reply": "2024-03-19T03:26:27.415923Z"
    },
    "papermill": {
     "duration": 2.497804,
     "end_time": "2024-03-19T03:26:27.419399",
     "exception": false,
     "start_time": "2024-03-19T03:26:24.921595",
     "status": "completed"
    },
    "tags": []
   },
   "outputs": [],
   "source": [
    "# Define your loss function and optimizer\n",
    "criterion = CrossEntropyLoss()\n",
    "optimizer = Adam(model.parameters())"
   ]
  },
  {
   "cell_type": "code",
   "execution_count": 11,
   "id": "8e7de9fa",
   "metadata": {
    "execution": {
     "iopub.execute_input": "2024-03-19T03:26:27.437087Z",
     "iopub.status.busy": "2024-03-19T03:26:27.436681Z",
     "iopub.status.idle": "2024-03-19T03:44:32.455296Z",
     "shell.execute_reply": "2024-03-19T03:44:32.454450Z"
    },
    "papermill": {
     "duration": 1090.346075,
     "end_time": "2024-03-19T03:44:37.773548",
     "exception": false,
     "start_time": "2024-03-19T03:26:27.427473",
     "status": "completed"
    },
    "tags": []
   },
   "outputs": [
    {
     "name": "stderr",
     "output_type": "stream",
     "text": [
      "Epoch 1/100: 100%|██████████| 915/915 [00:11<00:00, 78.67it/s, accuracy=50.2, loss=0.682]\n"
     ]
    },
    {
     "name": "stdout",
     "output_type": "stream",
     "text": [
      "Epoch [1/100], Loss: 0.6973667308281029, Accuracy: 50.19125683060109%\n"
     ]
    },
    {
     "name": "stderr",
     "output_type": "stream",
     "text": [
      "Epoch 2/100: 100%|██████████| 915/915 [00:10<00:00, 85.07it/s, accuracy=56.2, loss=0.692]\n"
     ]
    },
    {
     "name": "stdout",
     "output_type": "stream",
     "text": [
      "Epoch [2/100], Loss: 0.6873113825347255, Accuracy: 56.17486338797814%\n"
     ]
    },
    {
     "name": "stderr",
     "output_type": "stream",
     "text": [
      "Epoch 3/100: 100%|██████████| 915/915 [00:10<00:00, 84.45it/s, accuracy=60.4, loss=0.648]\n"
     ]
    },
    {
     "name": "stdout",
     "output_type": "stream",
     "text": [
      "Epoch [3/100], Loss: 0.6653309290200635, Accuracy: 60.38251366120219%\n"
     ]
    },
    {
     "name": "stderr",
     "output_type": "stream",
     "text": [
      "Epoch 4/100: 100%|██████████| 915/915 [00:10<00:00, 83.87it/s, accuracy=62.7, loss=0.829]\n"
     ]
    },
    {
     "name": "stdout",
     "output_type": "stream",
     "text": [
      "Epoch [4/100], Loss: 0.6520922984907536, Accuracy: 62.66393442622951%\n"
     ]
    },
    {
     "name": "stderr",
     "output_type": "stream",
     "text": [
      "Epoch 5/100: 100%|██████████| 915/915 [00:10<00:00, 83.99it/s, accuracy=63.3, loss=0.664]\n"
     ]
    },
    {
     "name": "stdout",
     "output_type": "stream",
     "text": [
      "Epoch [5/100], Loss: 0.647178675763594, Accuracy: 63.333333333333336%\n"
     ]
    },
    {
     "name": "stderr",
     "output_type": "stream",
     "text": [
      "Epoch 6/100: 100%|██████████| 915/915 [00:10<00:00, 84.37it/s, accuracy=65.1, loss=0.605]\n"
     ]
    },
    {
     "name": "stdout",
     "output_type": "stream",
     "text": [
      "Epoch [6/100], Loss: 0.6327949451618508, Accuracy: 65.08196721311475%\n"
     ]
    },
    {
     "name": "stderr",
     "output_type": "stream",
     "text": [
      "Epoch 7/100: 100%|██████████| 915/915 [00:10<00:00, 84.26it/s, accuracy=66.3, loss=0.677]\n"
     ]
    },
    {
     "name": "stdout",
     "output_type": "stream",
     "text": [
      "Epoch [7/100], Loss: 0.6248115995379745, Accuracy: 66.2568306010929%\n"
     ]
    },
    {
     "name": "stderr",
     "output_type": "stream",
     "text": [
      "Epoch 8/100: 100%|██████████| 915/915 [00:10<00:00, 84.56it/s, accuracy=66.7, loss=0.984]\n"
     ]
    },
    {
     "name": "stdout",
     "output_type": "stream",
     "text": [
      "Epoch [8/100], Loss: 0.6158450045220839, Accuracy: 66.69398907103825%\n"
     ]
    },
    {
     "name": "stderr",
     "output_type": "stream",
     "text": [
      "Epoch 9/100: 100%|██████████| 915/915 [00:10<00:00, 84.80it/s, accuracy=68.4, loss=0.814]\n"
     ]
    },
    {
     "name": "stdout",
     "output_type": "stream",
     "text": [
      "Epoch [9/100], Loss: 0.5992348280272197, Accuracy: 68.42896174863388%\n"
     ]
    },
    {
     "name": "stderr",
     "output_type": "stream",
     "text": [
      "Epoch 10/100: 100%|██████████| 915/915 [00:10<00:00, 84.70it/s, accuracy=68.3, loss=0.746]\n"
     ]
    },
    {
     "name": "stdout",
     "output_type": "stream",
     "text": [
      "Epoch [10/100], Loss: 0.5979114851339268, Accuracy: 68.30601092896175%\n"
     ]
    },
    {
     "name": "stderr",
     "output_type": "stream",
     "text": [
      "Epoch 11/100: 100%|██████████| 915/915 [00:10<00:00, 84.95it/s, accuracy=69.8, loss=0.47]\n"
     ]
    },
    {
     "name": "stdout",
     "output_type": "stream",
     "text": [
      "Epoch [11/100], Loss: 0.5836762034827894, Accuracy: 69.8224043715847%\n"
     ]
    },
    {
     "name": "stderr",
     "output_type": "stream",
     "text": [
      "Epoch 12/100: 100%|██████████| 915/915 [00:10<00:00, 84.94it/s, accuracy=69.6, loss=0.593]\n"
     ]
    },
    {
     "name": "stdout",
     "output_type": "stream",
     "text": [
      "Epoch [12/100], Loss: 0.5873282543622731, Accuracy: 69.56284153005464%\n"
     ]
    },
    {
     "name": "stderr",
     "output_type": "stream",
     "text": [
      "Epoch 13/100: 100%|██████████| 915/915 [00:10<00:00, 84.69it/s, accuracy=71.3, loss=0.52]\n"
     ]
    },
    {
     "name": "stdout",
     "output_type": "stream",
     "text": [
      "Epoch [13/100], Loss: 0.5704175690809886, Accuracy: 71.2568306010929%\n"
     ]
    },
    {
     "name": "stderr",
     "output_type": "stream",
     "text": [
      "Epoch 14/100: 100%|██████████| 915/915 [00:10<00:00, 84.98it/s, accuracy=70.7, loss=0.537]\n"
     ]
    },
    {
     "name": "stdout",
     "output_type": "stream",
     "text": [
      "Epoch [14/100], Loss: 0.5712393541642226, Accuracy: 70.7103825136612%\n"
     ]
    },
    {
     "name": "stderr",
     "output_type": "stream",
     "text": [
      "Epoch 15/100: 100%|██████████| 915/915 [00:10<00:00, 84.66it/s, accuracy=72.4, loss=0.313]\n"
     ]
    },
    {
     "name": "stdout",
     "output_type": "stream",
     "text": [
      "Epoch [15/100], Loss: 0.5564212332820632, Accuracy: 72.40437158469945%\n"
     ]
    },
    {
     "name": "stderr",
     "output_type": "stream",
     "text": [
      "Epoch 16/100: 100%|██████████| 915/915 [00:10<00:00, 84.84it/s, accuracy=72.5, loss=1.19]\n"
     ]
    },
    {
     "name": "stdout",
     "output_type": "stream",
     "text": [
      "Epoch [16/100], Loss: 0.5539692759351, Accuracy: 72.5%\n"
     ]
    },
    {
     "name": "stderr",
     "output_type": "stream",
     "text": [
      "Epoch 17/100: 100%|██████████| 915/915 [00:10<00:00, 84.89it/s, accuracy=72.7, loss=0.34]\n"
     ]
    },
    {
     "name": "stdout",
     "output_type": "stream",
     "text": [
      "Epoch [17/100], Loss: 0.5545793248818872, Accuracy: 72.65027322404372%\n"
     ]
    },
    {
     "name": "stderr",
     "output_type": "stream",
     "text": [
      "Epoch 18/100: 100%|██████████| 915/915 [00:10<00:00, 85.07it/s, accuracy=72.7, loss=0.968]\n"
     ]
    },
    {
     "name": "stdout",
     "output_type": "stream",
     "text": [
      "Epoch [18/100], Loss: 0.5467113234306293, Accuracy: 72.70491803278688%\n"
     ]
    },
    {
     "name": "stderr",
     "output_type": "stream",
     "text": [
      "Epoch 19/100: 100%|██████████| 915/915 [00:10<00:00, 84.89it/s, accuracy=73.9, loss=0.967]\n"
     ]
    },
    {
     "name": "stdout",
     "output_type": "stream",
     "text": [
      "Epoch [19/100], Loss: 0.5319506858378812, Accuracy: 73.86612021857924%\n"
     ]
    },
    {
     "name": "stderr",
     "output_type": "stream",
     "text": [
      "Epoch 20/100: 100%|██████████| 915/915 [00:10<00:00, 84.98it/s, accuracy=73.5, loss=0.73]\n"
     ]
    },
    {
     "name": "stdout",
     "output_type": "stream",
     "text": [
      "Epoch [20/100], Loss: 0.54038807818147, Accuracy: 73.52459016393442%\n"
     ]
    },
    {
     "name": "stderr",
     "output_type": "stream",
     "text": [
      "Epoch 21/100: 100%|██████████| 915/915 [00:10<00:00, 85.05it/s, accuracy=74.9, loss=0.801]\n"
     ]
    },
    {
     "name": "stdout",
     "output_type": "stream",
     "text": [
      "Epoch [21/100], Loss: 0.5288067144937203, Accuracy: 74.91803278688525%\n"
     ]
    },
    {
     "name": "stderr",
     "output_type": "stream",
     "text": [
      "Epoch 22/100: 100%|██████████| 915/915 [00:10<00:00, 84.83it/s, accuracy=74.4, loss=0.376]\n"
     ]
    },
    {
     "name": "stdout",
     "output_type": "stream",
     "text": [
      "Epoch [22/100], Loss: 0.5273763951870913, Accuracy: 74.35792349726776%\n"
     ]
    },
    {
     "name": "stderr",
     "output_type": "stream",
     "text": [
      "Epoch 23/100: 100%|██████████| 915/915 [00:10<00:00, 84.84it/s, accuracy=74.5, loss=0.505]\n"
     ]
    },
    {
     "name": "stdout",
     "output_type": "stream",
     "text": [
      "Epoch [23/100], Loss: 0.5217961809999956, Accuracy: 74.4672131147541%\n"
     ]
    },
    {
     "name": "stderr",
     "output_type": "stream",
     "text": [
      "Epoch 24/100: 100%|██████████| 915/915 [00:10<00:00, 84.91it/s, accuracy=75.6, loss=0.27]\n"
     ]
    },
    {
     "name": "stdout",
     "output_type": "stream",
     "text": [
      "Epoch [24/100], Loss: 0.5149442357932283, Accuracy: 75.62841530054645%\n"
     ]
    },
    {
     "name": "stderr",
     "output_type": "stream",
     "text": [
      "Epoch 25/100: 100%|██████████| 915/915 [00:10<00:00, 84.38it/s, accuracy=74.6, loss=0.784]\n"
     ]
    },
    {
     "name": "stdout",
     "output_type": "stream",
     "text": [
      "Epoch [25/100], Loss: 0.5219814327489483, Accuracy: 74.56284153005464%\n"
     ]
    },
    {
     "name": "stderr",
     "output_type": "stream",
     "text": [
      "Epoch 26/100: 100%|██████████| 915/915 [00:10<00:00, 84.55it/s, accuracy=75.7, loss=0.463]\n"
     ]
    },
    {
     "name": "stdout",
     "output_type": "stream",
     "text": [
      "Epoch [26/100], Loss: 0.518110620959209, Accuracy: 75.69672131147541%\n"
     ]
    },
    {
     "name": "stderr",
     "output_type": "stream",
     "text": [
      "Epoch 27/100: 100%|██████████| 915/915 [00:10<00:00, 84.60it/s, accuracy=75.1, loss=0.473]\n"
     ]
    },
    {
     "name": "stdout",
     "output_type": "stream",
     "text": [
      "Epoch [27/100], Loss: 0.5113324389757354, Accuracy: 75.05464480874316%\n"
     ]
    },
    {
     "name": "stderr",
     "output_type": "stream",
     "text": [
      "Epoch 28/100: 100%|██████████| 915/915 [00:10<00:00, 84.74it/s, accuracy=75, loss=0.525]\n"
     ]
    },
    {
     "name": "stdout",
     "output_type": "stream",
     "text": [
      "Epoch [28/100], Loss: 0.5092991305504991, Accuracy: 74.98633879781421%\n"
     ]
    },
    {
     "name": "stderr",
     "output_type": "stream",
     "text": [
      "Epoch 29/100: 100%|██████████| 915/915 [00:11<00:00, 82.75it/s, accuracy=75.9, loss=0.643]\n"
     ]
    },
    {
     "name": "stdout",
     "output_type": "stream",
     "text": [
      "Epoch [29/100], Loss: 0.5077542623046969, Accuracy: 75.94262295081967%\n"
     ]
    },
    {
     "name": "stderr",
     "output_type": "stream",
     "text": [
      "Epoch 30/100: 100%|██████████| 915/915 [00:10<00:00, 83.86it/s, accuracy=76.2, loss=0.604]\n"
     ]
    },
    {
     "name": "stdout",
     "output_type": "stream",
     "text": [
      "Epoch [30/100], Loss: 0.5030607982574264, Accuracy: 76.17486338797814%\n"
     ]
    },
    {
     "name": "stderr",
     "output_type": "stream",
     "text": [
      "Epoch 31/100: 100%|██████████| 915/915 [00:10<00:00, 83.58it/s, accuracy=76.3, loss=0.668]\n"
     ]
    },
    {
     "name": "stdout",
     "output_type": "stream",
     "text": [
      "Epoch [31/100], Loss: 0.5084115808941627, Accuracy: 76.28415300546447%\n"
     ]
    },
    {
     "name": "stderr",
     "output_type": "stream",
     "text": [
      "Epoch 32/100: 100%|██████████| 915/915 [00:10<00:00, 84.17it/s, accuracy=75.7, loss=0.288]\n"
     ]
    },
    {
     "name": "stdout",
     "output_type": "stream",
     "text": [
      "Epoch [32/100], Loss: 0.5068150981772142, Accuracy: 75.65573770491804%\n"
     ]
    },
    {
     "name": "stderr",
     "output_type": "stream",
     "text": [
      "Epoch 33/100: 100%|██████████| 915/915 [00:10<00:00, 84.02it/s, accuracy=76.6, loss=0.308]\n"
     ]
    },
    {
     "name": "stdout",
     "output_type": "stream",
     "text": [
      "Epoch [33/100], Loss: 0.5006420267735674, Accuracy: 76.59836065573771%\n"
     ]
    },
    {
     "name": "stderr",
     "output_type": "stream",
     "text": [
      "Epoch 34/100: 100%|██████████| 915/915 [00:10<00:00, 84.64it/s, accuracy=76.3, loss=0.245]\n"
     ]
    },
    {
     "name": "stdout",
     "output_type": "stream",
     "text": [
      "Epoch [34/100], Loss: 0.4942605473141853, Accuracy: 76.31147540983606%\n"
     ]
    },
    {
     "name": "stderr",
     "output_type": "stream",
     "text": [
      "Epoch 35/100: 100%|██████████| 915/915 [00:10<00:00, 84.08it/s, accuracy=77.2, loss=0.406]\n"
     ]
    },
    {
     "name": "stdout",
     "output_type": "stream",
     "text": [
      "Epoch [35/100], Loss: 0.4862264617218997, Accuracy: 77.22677595628416%\n"
     ]
    },
    {
     "name": "stderr",
     "output_type": "stream",
     "text": [
      "Epoch 36/100: 100%|██████████| 915/915 [00:10<00:00, 83.78it/s, accuracy=76.6, loss=0.633]\n"
     ]
    },
    {
     "name": "stdout",
     "output_type": "stream",
     "text": [
      "Epoch [36/100], Loss: 0.49602787695784384, Accuracy: 76.59836065573771%\n"
     ]
    },
    {
     "name": "stderr",
     "output_type": "stream",
     "text": [
      "Epoch 37/100: 100%|██████████| 915/915 [00:10<00:00, 83.97it/s, accuracy=76.8, loss=0.469]\n"
     ]
    },
    {
     "name": "stdout",
     "output_type": "stream",
     "text": [
      "Epoch [37/100], Loss: 0.48920337474737013, Accuracy: 76.84426229508196%\n"
     ]
    },
    {
     "name": "stderr",
     "output_type": "stream",
     "text": [
      "Epoch 38/100: 100%|██████████| 915/915 [00:10<00:00, 84.39it/s, accuracy=77.7, loss=0.377]\n"
     ]
    },
    {
     "name": "stdout",
     "output_type": "stream",
     "text": [
      "Epoch [38/100], Loss: 0.48229021533427996, Accuracy: 77.74590163934427%\n"
     ]
    },
    {
     "name": "stderr",
     "output_type": "stream",
     "text": [
      "Epoch 39/100: 100%|██████████| 915/915 [00:10<00:00, 84.16it/s, accuracy=77.1, loss=0.375]\n"
     ]
    },
    {
     "name": "stdout",
     "output_type": "stream",
     "text": [
      "Epoch [39/100], Loss: 0.4839701481692778, Accuracy: 77.07650273224044%\n"
     ]
    },
    {
     "name": "stderr",
     "output_type": "stream",
     "text": [
      "Epoch 40/100: 100%|██████████| 915/915 [00:10<00:00, 84.80it/s, accuracy=77.1, loss=0.541]\n"
     ]
    },
    {
     "name": "stdout",
     "output_type": "stream",
     "text": [
      "Epoch [40/100], Loss: 0.4827924048965746, Accuracy: 77.06284153005464%\n"
     ]
    },
    {
     "name": "stderr",
     "output_type": "stream",
     "text": [
      "Epoch 41/100: 100%|██████████| 915/915 [00:10<00:00, 84.61it/s, accuracy=77.5, loss=0.364]\n"
     ]
    },
    {
     "name": "stdout",
     "output_type": "stream",
     "text": [
      "Epoch [41/100], Loss: 0.47803677850570836, Accuracy: 77.47267759562841%\n"
     ]
    },
    {
     "name": "stderr",
     "output_type": "stream",
     "text": [
      "Epoch 42/100: 100%|██████████| 915/915 [00:10<00:00, 84.02it/s, accuracy=78.3, loss=0.384]\n"
     ]
    },
    {
     "name": "stdout",
     "output_type": "stream",
     "text": [
      "Epoch [42/100], Loss: 0.47873703373260185, Accuracy: 78.25136612021858%\n"
     ]
    },
    {
     "name": "stderr",
     "output_type": "stream",
     "text": [
      "Epoch 43/100: 100%|██████████| 915/915 [00:10<00:00, 84.75it/s, accuracy=77, loss=0.334]\n"
     ]
    },
    {
     "name": "stdout",
     "output_type": "stream",
     "text": [
      "Epoch [43/100], Loss: 0.47620828678536287, Accuracy: 77.04918032786885%\n"
     ]
    },
    {
     "name": "stderr",
     "output_type": "stream",
     "text": [
      "Epoch 44/100: 100%|██████████| 915/915 [00:10<00:00, 84.82it/s, accuracy=78.3, loss=0.266]\n"
     ]
    },
    {
     "name": "stdout",
     "output_type": "stream",
     "text": [
      "Epoch [44/100], Loss: 0.47225963641059854, Accuracy: 78.27868852459017%\n"
     ]
    },
    {
     "name": "stderr",
     "output_type": "stream",
     "text": [
      "Epoch 45/100: 100%|██████████| 915/915 [00:10<00:00, 83.72it/s, accuracy=78.5, loss=0.203]\n"
     ]
    },
    {
     "name": "stdout",
     "output_type": "stream",
     "text": [
      "Epoch [45/100], Loss: 0.46422681474620525, Accuracy: 78.46994535519126%\n"
     ]
    },
    {
     "name": "stderr",
     "output_type": "stream",
     "text": [
      "Epoch 46/100: 100%|██████████| 915/915 [00:10<00:00, 84.73it/s, accuracy=78.6, loss=1.01]\n"
     ]
    },
    {
     "name": "stdout",
     "output_type": "stream",
     "text": [
      "Epoch [46/100], Loss: 0.464592273232064, Accuracy: 78.59289617486338%\n"
     ]
    },
    {
     "name": "stderr",
     "output_type": "stream",
     "text": [
      "Epoch 47/100: 100%|██████████| 915/915 [00:10<00:00, 84.65it/s, accuracy=78.6, loss=0.461]\n"
     ]
    },
    {
     "name": "stdout",
     "output_type": "stream",
     "text": [
      "Epoch [47/100], Loss: 0.4602829841886713, Accuracy: 78.60655737704919%\n"
     ]
    },
    {
     "name": "stderr",
     "output_type": "stream",
     "text": [
      "Epoch 48/100: 100%|██████████| 915/915 [00:10<00:00, 84.04it/s, accuracy=78.7, loss=0.681]\n"
     ]
    },
    {
     "name": "stdout",
     "output_type": "stream",
     "text": [
      "Epoch [48/100], Loss: 0.46523622886730676, Accuracy: 78.70218579234972%\n"
     ]
    },
    {
     "name": "stderr",
     "output_type": "stream",
     "text": [
      "Epoch 49/100: 100%|██████████| 915/915 [00:10<00:00, 84.75it/s, accuracy=79.2, loss=0.488]\n"
     ]
    },
    {
     "name": "stdout",
     "output_type": "stream",
     "text": [
      "Epoch [49/100], Loss: 0.4571354160421207, Accuracy: 79.18032786885246%\n"
     ]
    },
    {
     "name": "stderr",
     "output_type": "stream",
     "text": [
      "Epoch 50/100: 100%|██████████| 915/915 [00:10<00:00, 84.69it/s, accuracy=78.6, loss=0.267]\n"
     ]
    },
    {
     "name": "stdout",
     "output_type": "stream",
     "text": [
      "Epoch [50/100], Loss: 0.4640229747635745, Accuracy: 78.62021857923497%\n"
     ]
    },
    {
     "name": "stderr",
     "output_type": "stream",
     "text": [
      "Epoch 51/100: 100%|██████████| 915/915 [00:10<00:00, 84.17it/s, accuracy=78.4, loss=0.305]\n"
     ]
    },
    {
     "name": "stdout",
     "output_type": "stream",
     "text": [
      "Epoch [51/100], Loss: 0.46690504099013375, Accuracy: 78.44262295081967%\n"
     ]
    },
    {
     "name": "stderr",
     "output_type": "stream",
     "text": [
      "Epoch 52/100: 100%|██████████| 915/915 [00:10<00:00, 84.70it/s, accuracy=78.5, loss=0.409]\n"
     ]
    },
    {
     "name": "stdout",
     "output_type": "stream",
     "text": [
      "Epoch [52/100], Loss: 0.46677868995673016, Accuracy: 78.49726775956285%\n"
     ]
    },
    {
     "name": "stderr",
     "output_type": "stream",
     "text": [
      "Epoch 53/100: 100%|██████████| 915/915 [00:10<00:00, 84.40it/s, accuracy=78.6, loss=0.463]\n"
     ]
    },
    {
     "name": "stdout",
     "output_type": "stream",
     "text": [
      "Epoch [53/100], Loss: 0.4581746178409441, Accuracy: 78.5792349726776%\n"
     ]
    },
    {
     "name": "stderr",
     "output_type": "stream",
     "text": [
      "Epoch 54/100: 100%|██████████| 915/915 [00:10<00:00, 84.21it/s, accuracy=78.7, loss=0.532]\n"
     ]
    },
    {
     "name": "stdout",
     "output_type": "stream",
     "text": [
      "Epoch [54/100], Loss: 0.4537862546864103, Accuracy: 78.67486338797814%\n"
     ]
    },
    {
     "name": "stderr",
     "output_type": "stream",
     "text": [
      "Epoch 55/100: 100%|██████████| 915/915 [00:10<00:00, 84.46it/s, accuracy=79.9, loss=0.571]\n"
     ]
    },
    {
     "name": "stdout",
     "output_type": "stream",
     "text": [
      "Epoch [55/100], Loss: 0.4455377937299632, Accuracy: 79.90437158469945%\n"
     ]
    },
    {
     "name": "stderr",
     "output_type": "stream",
     "text": [
      "Epoch 56/100: 100%|██████████| 915/915 [00:10<00:00, 84.21it/s, accuracy=78.9, loss=0.267]\n"
     ]
    },
    {
     "name": "stdout",
     "output_type": "stream",
     "text": [
      "Epoch [56/100], Loss: 0.4510434096302491, Accuracy: 78.93442622950819%\n"
     ]
    },
    {
     "name": "stderr",
     "output_type": "stream",
     "text": [
      "Epoch 57/100: 100%|██████████| 915/915 [00:10<00:00, 84.43it/s, accuracy=79.5, loss=0.557]\n"
     ]
    },
    {
     "name": "stdout",
     "output_type": "stream",
     "text": [
      "Epoch [57/100], Loss: 0.4487956168018078, Accuracy: 79.52185792349727%\n"
     ]
    },
    {
     "name": "stderr",
     "output_type": "stream",
     "text": [
      "Epoch 58/100: 100%|██████████| 915/915 [00:10<00:00, 84.29it/s, accuracy=79.6, loss=0.609]\n"
     ]
    },
    {
     "name": "stdout",
     "output_type": "stream",
     "text": [
      "Epoch [58/100], Loss: 0.4487205720420092, Accuracy: 79.56284153005464%\n"
     ]
    },
    {
     "name": "stderr",
     "output_type": "stream",
     "text": [
      "Epoch 59/100: 100%|██████████| 915/915 [00:10<00:00, 84.38it/s, accuracy=79.4, loss=1.02]\n"
     ]
    },
    {
     "name": "stdout",
     "output_type": "stream",
     "text": [
      "Epoch [59/100], Loss: 0.4454191087536473, Accuracy: 79.41256830601093%\n"
     ]
    },
    {
     "name": "stderr",
     "output_type": "stream",
     "text": [
      "Epoch 60/100: 100%|██████████| 915/915 [00:10<00:00, 84.74it/s, accuracy=80.6, loss=0.366]\n"
     ]
    },
    {
     "name": "stdout",
     "output_type": "stream",
     "text": [
      "Epoch [60/100], Loss: 0.4378965404841418, Accuracy: 80.64207650273224%\n"
     ]
    },
    {
     "name": "stderr",
     "output_type": "stream",
     "text": [
      "Epoch 61/100: 100%|██████████| 915/915 [00:10<00:00, 84.15it/s, accuracy=79.6, loss=0.387]\n"
     ]
    },
    {
     "name": "stdout",
     "output_type": "stream",
     "text": [
      "Epoch [61/100], Loss: 0.4478219706789066, Accuracy: 79.6311475409836%\n"
     ]
    },
    {
     "name": "stderr",
     "output_type": "stream",
     "text": [
      "Epoch 62/100: 100%|██████████| 915/915 [00:10<00:00, 84.41it/s, accuracy=79.4, loss=0.325]\n"
     ]
    },
    {
     "name": "stdout",
     "output_type": "stream",
     "text": [
      "Epoch [62/100], Loss: 0.45141745243079023, Accuracy: 79.37158469945355%\n"
     ]
    },
    {
     "name": "stderr",
     "output_type": "stream",
     "text": [
      "Epoch 63/100: 100%|██████████| 915/915 [00:10<00:00, 84.81it/s, accuracy=80.4, loss=0.375]\n"
     ]
    },
    {
     "name": "stdout",
     "output_type": "stream",
     "text": [
      "Epoch [63/100], Loss: 0.4390504321683951, Accuracy: 80.35519125683061%\n"
     ]
    },
    {
     "name": "stderr",
     "output_type": "stream",
     "text": [
      "Epoch 64/100: 100%|██████████| 915/915 [00:10<00:00, 84.11it/s, accuracy=80.1, loss=0.561]\n"
     ]
    },
    {
     "name": "stdout",
     "output_type": "stream",
     "text": [
      "Epoch [64/100], Loss: 0.43762299639524005, Accuracy: 80.08196721311475%\n"
     ]
    },
    {
     "name": "stderr",
     "output_type": "stream",
     "text": [
      "Epoch 65/100: 100%|██████████| 915/915 [00:10<00:00, 84.22it/s, accuracy=80.2, loss=0.606]\n"
     ]
    },
    {
     "name": "stdout",
     "output_type": "stream",
     "text": [
      "Epoch [65/100], Loss: 0.43750993104987457, Accuracy: 80.19125683060109%\n"
     ]
    },
    {
     "name": "stderr",
     "output_type": "stream",
     "text": [
      "Epoch 66/100: 100%|██████████| 915/915 [00:10<00:00, 84.83it/s, accuracy=80.4, loss=0.254]\n"
     ]
    },
    {
     "name": "stdout",
     "output_type": "stream",
     "text": [
      "Epoch [66/100], Loss: 0.43504323261113115, Accuracy: 80.42349726775956%\n"
     ]
    },
    {
     "name": "stderr",
     "output_type": "stream",
     "text": [
      "Epoch 67/100: 100%|██████████| 915/915 [00:10<00:00, 84.08it/s, accuracy=80, loss=0.163]\n"
     ]
    },
    {
     "name": "stdout",
     "output_type": "stream",
     "text": [
      "Epoch [67/100], Loss: 0.4389981320076953, Accuracy: 80.04098360655738%\n"
     ]
    },
    {
     "name": "stderr",
     "output_type": "stream",
     "text": [
      "Epoch 68/100: 100%|██████████| 915/915 [00:10<00:00, 83.84it/s, accuracy=79.6, loss=0.622]\n"
     ]
    },
    {
     "name": "stdout",
     "output_type": "stream",
     "text": [
      "Epoch [68/100], Loss: 0.43400129626194633, Accuracy: 79.60382513661202%\n"
     ]
    },
    {
     "name": "stderr",
     "output_type": "stream",
     "text": [
      "Epoch 69/100: 100%|██████████| 915/915 [00:10<00:00, 84.56it/s, accuracy=80.8, loss=0.507]\n"
     ]
    },
    {
     "name": "stdout",
     "output_type": "stream",
     "text": [
      "Epoch [69/100], Loss: 0.43045635777907293, Accuracy: 80.77868852459017%\n"
     ]
    },
    {
     "name": "stderr",
     "output_type": "stream",
     "text": [
      "Epoch 70/100: 100%|██████████| 915/915 [00:10<00:00, 84.58it/s, accuracy=80.8, loss=0.145]\n"
     ]
    },
    {
     "name": "stdout",
     "output_type": "stream",
     "text": [
      "Epoch [70/100], Loss: 0.4263790261712882, Accuracy: 80.77868852459017%\n"
     ]
    },
    {
     "name": "stderr",
     "output_type": "stream",
     "text": [
      "Epoch 71/100: 100%|██████████| 915/915 [00:10<00:00, 83.65it/s, accuracy=80.7, loss=0.513]\n"
     ]
    },
    {
     "name": "stdout",
     "output_type": "stream",
     "text": [
      "Epoch [71/100], Loss: 0.42663454791235794, Accuracy: 80.65573770491804%\n"
     ]
    },
    {
     "name": "stderr",
     "output_type": "stream",
     "text": [
      "Epoch 72/100: 100%|██████████| 915/915 [00:10<00:00, 84.74it/s, accuracy=80.1, loss=0.696]\n"
     ]
    },
    {
     "name": "stdout",
     "output_type": "stream",
     "text": [
      "Epoch [72/100], Loss: 0.4340171805048575, Accuracy: 80.08196721311475%\n"
     ]
    },
    {
     "name": "stderr",
     "output_type": "stream",
     "text": [
      "Epoch 73/100: 100%|██████████| 915/915 [00:10<00:00, 84.58it/s, accuracy=80.3, loss=0.249]\n"
     ]
    },
    {
     "name": "stdout",
     "output_type": "stream",
     "text": [
      "Epoch [73/100], Loss: 0.4276750689647237, Accuracy: 80.25956284153006%\n"
     ]
    },
    {
     "name": "stderr",
     "output_type": "stream",
     "text": [
      "Epoch 74/100: 100%|██████████| 915/915 [00:10<00:00, 83.48it/s, accuracy=80.8, loss=0.615]\n"
     ]
    },
    {
     "name": "stdout",
     "output_type": "stream",
     "text": [
      "Epoch [74/100], Loss: 0.4291733055329714, Accuracy: 80.75136612021858%\n"
     ]
    },
    {
     "name": "stderr",
     "output_type": "stream",
     "text": [
      "Epoch 75/100: 100%|██████████| 915/915 [00:10<00:00, 84.63it/s, accuracy=81.1, loss=0.701]\n"
     ]
    },
    {
     "name": "stdout",
     "output_type": "stream",
     "text": [
      "Epoch [75/100], Loss: 0.42424473932694867, Accuracy: 81.06557377049181%\n"
     ]
    },
    {
     "name": "stderr",
     "output_type": "stream",
     "text": [
      "Epoch 76/100: 100%|██████████| 915/915 [00:10<00:00, 84.40it/s, accuracy=81.4, loss=0.596]\n"
     ]
    },
    {
     "name": "stdout",
     "output_type": "stream",
     "text": [
      "Epoch [76/100], Loss: 0.41514613444769316, Accuracy: 81.4207650273224%\n"
     ]
    },
    {
     "name": "stderr",
     "output_type": "stream",
     "text": [
      "Epoch 77/100: 100%|██████████| 915/915 [00:10<00:00, 83.86it/s, accuracy=81.4, loss=0.124]\n"
     ]
    },
    {
     "name": "stdout",
     "output_type": "stream",
     "text": [
      "Epoch [77/100], Loss: 0.41072878653153044, Accuracy: 81.4207650273224%\n"
     ]
    },
    {
     "name": "stderr",
     "output_type": "stream",
     "text": [
      "Epoch 78/100: 100%|██████████| 915/915 [00:10<00:00, 84.14it/s, accuracy=81.6, loss=0.507]\n"
     ]
    },
    {
     "name": "stdout",
     "output_type": "stream",
     "text": [
      "Epoch [78/100], Loss: 0.40525059101930083, Accuracy: 81.55737704918033%\n"
     ]
    },
    {
     "name": "stderr",
     "output_type": "stream",
     "text": [
      "Epoch 79/100: 100%|██████████| 915/915 [00:10<00:00, 84.30it/s, accuracy=81.2, loss=0.324]\n"
     ]
    },
    {
     "name": "stdout",
     "output_type": "stream",
     "text": [
      "Epoch [79/100], Loss: 0.4140040039934747, Accuracy: 81.20218579234972%\n"
     ]
    },
    {
     "name": "stderr",
     "output_type": "stream",
     "text": [
      "Epoch 80/100: 100%|██████████| 915/915 [00:10<00:00, 84.56it/s, accuracy=81.8, loss=0.436]\n"
     ]
    },
    {
     "name": "stdout",
     "output_type": "stream",
     "text": [
      "Epoch [80/100], Loss: 0.41379837940950864, Accuracy: 81.7896174863388%\n"
     ]
    },
    {
     "name": "stderr",
     "output_type": "stream",
     "text": [
      "Epoch 81/100: 100%|██████████| 915/915 [00:10<00:00, 83.96it/s, accuracy=81.7, loss=0.44]\n"
     ]
    },
    {
     "name": "stdout",
     "output_type": "stream",
     "text": [
      "Epoch [81/100], Loss: 0.40722505365157385, Accuracy: 81.72131147540983%\n"
     ]
    },
    {
     "name": "stderr",
     "output_type": "stream",
     "text": [
      "Epoch 82/100: 100%|██████████| 915/915 [00:10<00:00, 84.38it/s, accuracy=82.3, loss=0.0592]\n"
     ]
    },
    {
     "name": "stdout",
     "output_type": "stream",
     "text": [
      "Epoch [82/100], Loss: 0.39889986453974835, Accuracy: 82.3360655737705%\n"
     ]
    },
    {
     "name": "stderr",
     "output_type": "stream",
     "text": [
      "Epoch 83/100: 100%|██████████| 915/915 [00:10<00:00, 84.72it/s, accuracy=81.9, loss=0.226]\n"
     ]
    },
    {
     "name": "stdout",
     "output_type": "stream",
     "text": [
      "Epoch [83/100], Loss: 0.4070969202316524, Accuracy: 81.88524590163935%\n"
     ]
    },
    {
     "name": "stderr",
     "output_type": "stream",
     "text": [
      "Epoch 84/100: 100%|██████████| 915/915 [00:10<00:00, 84.32it/s, accuracy=81.5, loss=0.506]\n"
     ]
    },
    {
     "name": "stdout",
     "output_type": "stream",
     "text": [
      "Epoch [84/100], Loss: 0.40040498259451873, Accuracy: 81.54371584699453%\n"
     ]
    },
    {
     "name": "stderr",
     "output_type": "stream",
     "text": [
      "Epoch 85/100: 100%|██████████| 915/915 [00:10<00:00, 83.97it/s, accuracy=82, loss=0.217]\n"
     ]
    },
    {
     "name": "stdout",
     "output_type": "stream",
     "text": [
      "Epoch [85/100], Loss: 0.4027002852064013, Accuracy: 81.9535519125683%\n"
     ]
    },
    {
     "name": "stderr",
     "output_type": "stream",
     "text": [
      "Epoch 86/100: 100%|██████████| 915/915 [00:10<00:00, 84.79it/s, accuracy=82.4, loss=0.219]\n"
     ]
    },
    {
     "name": "stdout",
     "output_type": "stream",
     "text": [
      "Epoch [86/100], Loss: 0.39919272588331844, Accuracy: 82.36338797814207%\n"
     ]
    },
    {
     "name": "stderr",
     "output_type": "stream",
     "text": [
      "Epoch 87/100: 100%|██████████| 915/915 [00:10<00:00, 84.52it/s, accuracy=81.7, loss=0.766]\n"
     ]
    },
    {
     "name": "stdout",
     "output_type": "stream",
     "text": [
      "Epoch [87/100], Loss: 0.40953276018545925, Accuracy: 81.72131147540983%\n"
     ]
    },
    {
     "name": "stderr",
     "output_type": "stream",
     "text": [
      "Epoch 88/100: 100%|██████████| 915/915 [00:10<00:00, 83.86it/s, accuracy=82.8, loss=0.189]\n"
     ]
    },
    {
     "name": "stdout",
     "output_type": "stream",
     "text": [
      "Epoch [88/100], Loss: 0.3949945620541038, Accuracy: 82.75956284153006%\n"
     ]
    },
    {
     "name": "stderr",
     "output_type": "stream",
     "text": [
      "Epoch 89/100: 100%|██████████| 915/915 [00:10<00:00, 84.63it/s, accuracy=83.1, loss=0.302]\n"
     ]
    },
    {
     "name": "stdout",
     "output_type": "stream",
     "text": [
      "Epoch [89/100], Loss: 0.3890283373617084, Accuracy: 83.12841530054645%\n"
     ]
    },
    {
     "name": "stderr",
     "output_type": "stream",
     "text": [
      "Epoch 90/100: 100%|██████████| 915/915 [00:10<00:00, 84.58it/s, accuracy=83, loss=0.159]\n"
     ]
    },
    {
     "name": "stdout",
     "output_type": "stream",
     "text": [
      "Epoch [90/100], Loss: 0.3888771245347672, Accuracy: 83.0464480874317%\n"
     ]
    },
    {
     "name": "stderr",
     "output_type": "stream",
     "text": [
      "Epoch 91/100: 100%|██████████| 915/915 [00:10<00:00, 84.23it/s, accuracy=82.7, loss=0.234]\n"
     ]
    },
    {
     "name": "stdout",
     "output_type": "stream",
     "text": [
      "Epoch [91/100], Loss: 0.3875348691406146, Accuracy: 82.74590163934427%\n"
     ]
    },
    {
     "name": "stderr",
     "output_type": "stream",
     "text": [
      "Epoch 92/100: 100%|██████████| 915/915 [00:10<00:00, 84.53it/s, accuracy=83, loss=0.198]\n"
     ]
    },
    {
     "name": "stdout",
     "output_type": "stream",
     "text": [
      "Epoch [92/100], Loss: 0.3843175361268833, Accuracy: 83.0327868852459%\n"
     ]
    },
    {
     "name": "stderr",
     "output_type": "stream",
     "text": [
      "Epoch 93/100: 100%|██████████| 915/915 [00:10<00:00, 84.78it/s, accuracy=82.6, loss=0.317]\n"
     ]
    },
    {
     "name": "stdout",
     "output_type": "stream",
     "text": [
      "Epoch [93/100], Loss: 0.3883993994139257, Accuracy: 82.55464480874316%\n"
     ]
    },
    {
     "name": "stderr",
     "output_type": "stream",
     "text": [
      "Epoch 94/100: 100%|██████████| 915/915 [00:10<00:00, 84.03it/s, accuracy=83, loss=0.306]\n"
     ]
    },
    {
     "name": "stdout",
     "output_type": "stream",
     "text": [
      "Epoch [94/100], Loss: 0.38571766277398567, Accuracy: 82.95081967213115%\n"
     ]
    },
    {
     "name": "stderr",
     "output_type": "stream",
     "text": [
      "Epoch 95/100: 100%|██████████| 915/915 [00:10<00:00, 84.24it/s, accuracy=82.8, loss=0.443]\n"
     ]
    },
    {
     "name": "stdout",
     "output_type": "stream",
     "text": [
      "Epoch [95/100], Loss: 0.3887694222231706, Accuracy: 82.78688524590164%\n"
     ]
    },
    {
     "name": "stderr",
     "output_type": "stream",
     "text": [
      "Epoch 96/100: 100%|██████████| 915/915 [00:10<00:00, 84.57it/s, accuracy=83.8, loss=0.449]\n"
     ]
    },
    {
     "name": "stdout",
     "output_type": "stream",
     "text": [
      "Epoch [96/100], Loss: 0.3768039636843191, Accuracy: 83.79781420765028%\n"
     ]
    },
    {
     "name": "stderr",
     "output_type": "stream",
     "text": [
      "Epoch 97/100: 100%|██████████| 915/915 [00:10<00:00, 84.40it/s, accuracy=82.4, loss=0.0925]\n"
     ]
    },
    {
     "name": "stdout",
     "output_type": "stream",
     "text": [
      "Epoch [97/100], Loss: 0.39162114933947395, Accuracy: 82.41803278688525%\n"
     ]
    },
    {
     "name": "stderr",
     "output_type": "stream",
     "text": [
      "Epoch 98/100: 100%|██████████| 915/915 [00:10<00:00, 84.57it/s, accuracy=82.4, loss=0.882]\n"
     ]
    },
    {
     "name": "stdout",
     "output_type": "stream",
     "text": [
      "Epoch [98/100], Loss: 0.395987030875976, Accuracy: 82.44535519125684%\n"
     ]
    },
    {
     "name": "stderr",
     "output_type": "stream",
     "text": [
      "Epoch 99/100: 100%|██████████| 915/915 [00:10<00:00, 84.70it/s, accuracy=83.7, loss=0.363]\n"
     ]
    },
    {
     "name": "stdout",
     "output_type": "stream",
     "text": [
      "Epoch [99/100], Loss: 0.37894679317708874, Accuracy: 83.67486338797814%\n"
     ]
    },
    {
     "name": "stderr",
     "output_type": "stream",
     "text": [
      "Epoch 100/100: 100%|██████████| 915/915 [00:10<00:00, 84.21it/s, accuracy=83.7, loss=0.0968]\n"
     ]
    },
    {
     "name": "stdout",
     "output_type": "stream",
     "text": [
      "Epoch [100/100], Loss: 0.37216134314002886, Accuracy: 83.66120218579235%\n",
      "Average Train Accuracy of the model on the train videos: 77.00646162932208%\n"
     ]
    }
   ],
   "source": [
    "epochs = 100\n",
    "\n",
    "total_correct_all_epochs = 0\n",
    "total_samples_all_epochs = 0\n",
    "\n",
    "# Setup logging\n",
    "logging.basicConfig(filename='training.log', level=logging.INFO)\n",
    "\n",
    "for epoch in range(epochs):\n",
    "    total_correct = 0\n",
    "    total_samples = 0\n",
    "    total_loss = 0.0\n",
    "\n",
    "    # Create tqdm progress bar for training loader\n",
    "    progress_bar = tqdm(enumerate(train_loader), desc=f\"Epoch {epoch + 1}/{epochs}\", total=len(train_loader))\n",
    "\n",
    "    for i, (videos, labels) in progress_bar:\n",
    "        videos = videos.permute(1, 0, 2)\n",
    "        # Forward pass\n",
    "        outputs = model(videos)\n",
    "        labels = labels.long()  # Convert labels to Long type\n",
    "        loss = criterion(outputs, labels) + model.l2_regularization()  # calculates loss\n",
    "        total_loss += loss.item()\n",
    "        # Backward and optimize\n",
    "        optimizer.zero_grad()\n",
    "        loss.backward()\n",
    "        optimizer.step()\n",
    "        # Calculate accuracy per batch\n",
    "        _, predicted = torch.max(outputs.data, 1)\n",
    "        total_samples += labels.size(0)\n",
    "        total_correct += (predicted == labels).sum().item()\n",
    "        batch_accuracy = 100 * total_correct / total_samples\n",
    "\n",
    "        # Update progress bar\n",
    "        progress_bar.set_postfix(loss=loss.item(), accuracy=batch_accuracy)\n",
    "        \n",
    "        # Update overall accuracy counters\n",
    "        total_correct_all_epochs += total_correct\n",
    "        total_samples_all_epochs += total_samples\n",
    "\n",
    "    # Log epoch statistics\n",
    "    epoch_loss = total_loss / len(train_loader)\n",
    "    epoch_accuracy = 100 * total_correct / total_samples\n",
    "    logging.info(f'Epoch [{epoch + 1}/{epochs}], Loss: {epoch_loss}, Accuracy: {epoch_accuracy}%')\n",
    "\n",
    "    print(f'Epoch [{epoch + 1}/{epochs}], Loss: {epoch_loss}, Accuracy: {epoch_accuracy}%')\n",
    "\n",
    "# Close logging\n",
    "logging.shutdown()\n",
    "\n",
    "overall_accuracy = 100 * total_correct_all_epochs / total_samples_all_epochs\n",
    "print(f'Average Train Accuracy of the model on the train videos: {overall_accuracy}%')"
   ]
  },
  {
   "cell_type": "code",
   "execution_count": 12,
   "id": "256c6a7b",
   "metadata": {
    "execution": {
     "iopub.execute_input": "2024-03-19T03:44:54.478306Z",
     "iopub.status.busy": "2024-03-19T03:44:54.477319Z",
     "iopub.status.idle": "2024-03-19T03:44:55.265104Z",
     "shell.execute_reply": "2024-03-19T03:44:55.264076Z"
    },
    "papermill": {
     "duration": 9.02865,
     "end_time": "2024-03-19T03:44:55.267312",
     "exception": false,
     "start_time": "2024-03-19T03:44:46.238662",
     "status": "completed"
    },
    "tags": []
   },
   "outputs": [
    {
     "name": "stdout",
     "output_type": "stream",
     "text": [
      "Test Accuracy of the model on the test videos: 84.53551912568307%\n"
     ]
    }
   ],
   "source": [
    "model.eval()\n",
    "\n",
    "with torch.no_grad():\n",
    "    correct = 0\n",
    "    total = 0\n",
    "    for videos, labels in test_loader:\n",
    "        videos = videos.permute(1, 0, 2)\n",
    "        outputs = model(videos)\n",
    "        _, predicted = torch.max(outputs.data, 1)\n",
    "        total += labels.size(0)\n",
    "        correct += (predicted == labels).sum().item()\n",
    "        #print test accuracy per test\n",
    "\n",
    "    print(f'Test Accuracy of the model on the test videos: {100 * correct / total}%')"
   ]
  },
  {
   "cell_type": "code",
   "execution_count": 13,
   "id": "44ad28a9",
   "metadata": {
    "execution": {
     "iopub.execute_input": "2024-03-19T03:45:12.050580Z",
     "iopub.status.busy": "2024-03-19T03:45:12.049912Z",
     "iopub.status.idle": "2024-03-19T03:45:13.960005Z",
     "shell.execute_reply": "2024-03-19T03:45:13.959040Z"
    },
    "papermill": {
     "duration": 10.243383,
     "end_time": "2024-03-19T03:45:13.962154",
     "exception": false,
     "start_time": "2024-03-19T03:45:03.718771",
     "status": "completed"
    },
    "tags": []
   },
   "outputs": [
    {
     "name": "stdout",
     "output_type": "stream",
     "text": [
      "Confusion Matrix:\n",
      "[[817  98]\n",
      " [185 730]]\n"
     ]
    },
    {
     "data": {
      "image/png": "[encoded data removed]",
      "text/plain": [
       "<Figure size 800x600 with 2 Axes>"
      ]
     },
     "metadata": {},
     "output_type": "display_data"
    }
   ],
   "source": [
    "from sklearn.metrics import confusion_matrix\n",
    "import numpy as np\n",
    "\n",
    "# Set model to evaluation mode\n",
    "model.eval()\n",
    "\n",
    "# Initialize variables for predictions and ground truth labels\n",
    "all_predictions = []\n",
    "all_labels = []\n",
    "\n",
    "# Iterate through the test dataset\n",
    "for videos, labels in test_loader:\n",
    "#     videos = videos.unsqueeze(0)\n",
    "    videos = videos.permute(1, 0, 2)\n",
    "    # Forward pass\n",
    "    outputs = model(videos)\n",
    "    # Predictions\n",
    "    _, predicted = torch.max(outputs.data, 1)\n",
    "    # Append predictions and labels to the lists\n",
    "    all_predictions.extend(predicted.tolist())\n",
    "    all_labels.extend(labels.tolist())\n",
    "\n",
    "# Convert predictions and labels lists to numpy arrays\n",
    "all_predictions = np.array(all_predictions)\n",
    "all_labels = np.array(all_labels)\n",
    "\n",
    "# Generate confusion matrix\n",
    "conf_matrix = confusion_matrix(all_labels, all_predictions)\n",
    "\n",
    "print(\"Confusion Matrix:\")\n",
    "print(conf_matrix)\n",
    "\n",
    "import matplotlib.pyplot as plt\n",
    "import seaborn as sns\n",
    "\n",
    "# Plot confusion matrix\n",
    "plt.figure(figsize=(8, 6))\n",
    "sns.heatmap(conf_matrix, annot=True, fmt=\"d\", cmap=\"Blues\")\n",
    "plt.title(\"Confusion Matrix\")\n",
    "plt.xlabel(\"Predicted\")\n",
    "plt.ylabel(\"True\")\n",
    "plt.show()"
   ]
  },
  {
   "cell_type": "code",
   "execution_count": 14,
   "id": "d3bba911",
   "metadata": {
    "execution": {
     "iopub.execute_input": "2024-03-19T03:45:30.747026Z",
     "iopub.status.busy": "2024-03-19T03:45:30.746165Z",
     "iopub.status.idle": "2024-03-19T03:45:32.051242Z",
     "shell.execute_reply": "2024-03-19T03:45:32.050275Z"
    },
    "papermill": {
     "duration": 9.665891,
     "end_time": "2024-03-19T03:45:32.053194",
     "exception": false,
     "start_time": "2024-03-19T03:45:22.387303",
     "status": "completed"
    },
    "tags": []
   },
   "outputs": [
    {
     "data": {
      "image/png": "[encoded data removed]",
      "text/plain": [
       "<Figure size 640x480 with 1 Axes>"
      ]
     },
     "metadata": {},
     "output_type": "display_data"
    },
    {
     "data": {
      "image/png": "[encoded data removed]",
      "text/plain": [
       "<Figure size 640x480 with 1 Axes>"
      ]
     },
     "metadata": {},
     "output_type": "display_data"
    }
   ],
   "source": [
    "from sklearn.metrics import roc_curve, auc, precision_recall_curve, average_precision_score\n",
    "import matplotlib.pyplot as plt\n",
    "\n",
    "# Set model to evaluation mode\n",
    "model.eval()\n",
    "\n",
    "# Initialize variables for predictions and ground truth labels\n",
    "all_probs = []\n",
    "all_labels = []\n",
    "\n",
    "# Iterate through the test dataset\n",
    "for videos, labels in test_loader:\n",
    "#     videos = videos.unsqueeze(0)\n",
    "    videos = videos.permute(1, 0, 2)\n",
    "    # Forward pass\n",
    "    outputs = model(videos)\n",
    "    # Get probabilities\n",
    "    probs = torch.softmax(outputs, dim=1)[:, 1].detach().cpu().numpy()\n",
    "    # Append probabilities and labels to the lists\n",
    "    all_probs.extend(probs.tolist())\n",
    "    all_labels.extend(labels.tolist())\n",
    "\n",
    "# Convert probabilities and labels lists to numpy arrays\n",
    "all_probs = np.array(all_probs)\n",
    "all_labels = np.array(all_labels)\n",
    "\n",
    "# AUC ROC Curve\n",
    "fpr, tpr, _ = roc_curve(all_labels, all_probs)\n",
    "roc_auc = auc(fpr, tpr)\n",
    "\n",
    "plt.figure()\n",
    "plt.plot(fpr, tpr, color='darkorange', lw=2, label='ROC curve (area = %0.2f)' % roc_auc)\n",
    "plt.plot([0, 1], [0, 1], color='navy', lw=2, linestyle='--')\n",
    "plt.xlim([0.0, 1.0])\n",
    "plt.ylim([0.0, 1.05])\n",
    "plt.xlabel('False Positive Rate')\n",
    "plt.ylabel('True Positive Rate')\n",
    "plt.title('Receiver Operating Characteristic (ROC) Curve')\n",
    "plt.legend(loc=\"lower right\")\n",
    "plt.show()\n",
    "\n",
    "# Precision-Recall Curve\n",
    "precision, recall, _ = precision_recall_curve(all_labels, all_probs)\n",
    "average_precision = average_precision_score(all_labels, all_probs)\n",
    "\n",
    "plt.figure()\n",
    "plt.step(recall, precision, color='b', alpha=0.2, where='post')\n",
    "plt.fill_between(recall, precision, step='post', alpha=0.2, color='b')\n",
    "plt.xlabel('Recall')\n",
    "plt.ylabel('Precision')\n",
    "plt.ylim([0.0, 1.05])\n",
    "plt.xlim([0.0, 1.0])\n",
    "plt.title('Precision-Recall Curve (AP={0:0.2f})'.format(average_precision))\n",
    "plt.show()"
   ]
  },
  {
   "cell_type": "code",
   "execution_count": null,
   "id": "934b4736",
   "metadata": {
    "papermill": {
     "duration": 8.392382,
     "end_time": "2024-03-19T03:45:48.923257",
     "exception": false,
     "start_time": "2024-03-19T03:45:40.530875",
     "status": "completed"
    },
    "tags": []
   },
   "outputs": [],
   "source": []
  }
 ],
 "metadata": {
  "kaggle": {
   "accelerator": "gpu",
   "dataSources": [
    {
     "datasetId": 4611142,
     "sourceId": 7860701,
     "sourceType": "datasetVersion"
    }
   ],
   "dockerImageVersionId": 30665,
   "isGpuEnabled": true,
   "isInternetEnabled": true,
   "language": "python",
   "sourceType": "notebook"
  },
  "kernelspec": {
   "display_name": "Python 3",
   "language": "python",
   "name": "python3"
  },
  "language_info": {
   "codemirror_mode": {
    "name": "ipython",
    "version": 3
   },
   "file_extension": ".py",
   "mimetype": "text/x-python",
   "name": "python",
   "nbconvert_exporter": "python",
   "pygments_lexer": "ipython3",
   "version": "3.10.13"
  },
  "papermill": {
   "default_parameters": {},
   "duration": 1314.824162,
   "end_time": "2024-03-19T03:45:59.725090",
   "environment_variables": {},
   "exception": null,
   "input_path": "__notebook__.ipynb",
   "output_path": "__notebook__.ipynb",
   "parameters": {},
   "start_time": "2024-03-19T03:24:04.900928",
   "version": "2.5.0"
  }
 },
 "nbformat": 4,
 "nbformat_minor": 5
}
