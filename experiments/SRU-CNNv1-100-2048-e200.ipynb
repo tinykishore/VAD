{
 "cells": [
  {
   "cell_type": "markdown",
   "id": "ca3bb5ed",
   "metadata": {
    "papermill": {
     "duration": 0.006861,
     "end_time": "2024-03-19T03:47:52.937507",
     "exception": false,
     "start_time": "2024-03-19T03:47:52.930646",
     "status": "completed"
    },
    "tags": []
   },
   "source": [
    "## Train SRU model with embedding-cnn-100-v-0-2-0\n",
    "\n",
    "Hope it will work..."
   ]
  },
  {
   "cell_type": "markdown",
   "id": "0f0fac60",
   "metadata": {
    "papermill": {
     "duration": 0.006129,
     "end_time": "2024-03-19T03:47:52.950188",
     "exception": false,
     "start_time": "2024-03-19T03:47:52.944059",
     "status": "completed"
    },
    "tags": []
   },
   "source": [
    "### Installing SRU with v3.0.0"
   ]
  },
  {
   "cell_type": "code",
   "execution_count": 1,
   "id": "fb8efd02",
   "metadata": {
    "_cell_guid": "b1076dfc-b9ad-4769-8c92-a6c4dae69d19",
    "_uuid": "8f2839f25d086af736a60e9eeb907d3b93b6e0e5",
    "execution": {
     "iopub.execute_input": "2024-03-19T03:47:52.964243Z",
     "iopub.status.busy": "2024-03-19T03:47:52.963939Z",
     "iopub.status.idle": "2024-03-19T03:48:06.423334Z",
     "shell.execute_reply": "2024-03-19T03:48:06.422416Z"
    },
    "papermill": {
     "duration": 13.469139,
     "end_time": "2024-03-19T03:48:06.425780",
     "exception": false,
     "start_time": "2024-03-19T03:47:52.956641",
     "status": "completed"
    },
    "tags": []
   },
   "outputs": [
    {
     "name": "stdout",
     "output_type": "stream",
     "text": [
      "Collecting sru==3.0.0.dev6\r\n",
      "  Downloading sru-3.0.0.dev6-py3-none-any.whl.metadata (3.8 kB)\r\n",
      "Requirement already satisfied: torch>=1.5.1 in /opt/conda/lib/python3.10/site-packages (from sru==3.0.0.dev6) (2.1.2)\r\n",
      "Requirement already satisfied: ninja in /opt/conda/lib/python3.10/site-packages (from sru==3.0.0.dev6) (1.11.1.1)\r\n",
      "Requirement already satisfied: filelock in /opt/conda/lib/python3.10/site-packages (from torch>=1.5.1->sru==3.0.0.dev6) (3.13.1)\r\n",
      "Requirement already satisfied: typing-extensions in /opt/conda/lib/python3.10/site-packages (from torch>=1.5.1->sru==3.0.0.dev6) (4.9.0)\r\n",
      "Requirement already satisfied: sympy in /opt/conda/lib/python3.10/site-packages (from torch>=1.5.1->sru==3.0.0.dev6) (1.12)\r\n",
      "Requirement already satisfied: networkx in /opt/conda/lib/python3.10/site-packages (from torch>=1.5.1->sru==3.0.0.dev6) (3.2.1)\r\n",
      "Requirement already satisfied: jinja2 in /opt/conda/lib/python3.10/site-packages (from torch>=1.5.1->sru==3.0.0.dev6) (3.1.2)\r\n",
      "Requirement already satisfied: fsspec in /opt/conda/lib/python3.10/site-packages (from torch>=1.5.1->sru==3.0.0.dev6) (2024.2.0)\r\n",
      "Requirement already satisfied: MarkupSafe>=2.0 in /opt/conda/lib/python3.10/site-packages (from jinja2->torch>=1.5.1->sru==3.0.0.dev6) (2.1.3)\r\n",
      "Requirement already satisfied: mpmath>=0.19 in /opt/conda/lib/python3.10/site-packages (from sympy->torch>=1.5.1->sru==3.0.0.dev6) (1.3.0)\r\n",
      "Downloading sru-3.0.0.dev6-py3-none-any.whl (30 kB)\r\n",
      "Installing collected packages: sru\r\n",
      "Successfully installed sru-3.0.0.dev6\r\n"
     ]
    }
   ],
   "source": [
    "!pip install sru==3.0.0.dev6"
   ]
  },
  {
   "cell_type": "markdown",
   "id": "47ba652c",
   "metadata": {
    "papermill": {
     "duration": 0.006846,
     "end_time": "2024-03-19T03:48:06.439871",
     "exception": false,
     "start_time": "2024-03-19T03:48:06.433025",
     "status": "completed"
    },
    "tags": []
   },
   "source": [
    "### Importing Necessary Libraries"
   ]
  },
  {
   "cell_type": "code",
   "execution_count": 2,
   "id": "77829ada",
   "metadata": {
    "execution": {
     "iopub.execute_input": "2024-03-19T03:48:06.455459Z",
     "iopub.status.busy": "2024-03-19T03:48:06.454699Z",
     "iopub.status.idle": "2024-03-19T03:48:58.995283Z",
     "shell.execute_reply": "2024-03-19T03:48:58.994189Z"
    },
    "papermill": {
     "duration": 52.557978,
     "end_time": "2024-03-19T03:48:59.004799",
     "exception": false,
     "start_time": "2024-03-19T03:48:06.446821",
     "status": "completed"
    },
    "tags": []
   },
   "outputs": [
    {
     "data": {
      "text/plain": [
       "40"
      ]
     },
     "execution_count": 2,
     "metadata": {},
     "output_type": "execute_result"
    }
   ],
   "source": [
    "import logging\n",
    "import os\n",
    "\n",
    "import numpy as np\n",
    "import torch\n",
    "from sklearn.model_selection import train_test_split\n",
    "from sru import SRU\n",
    "from torch.nn import CrossEntropyLoss\n",
    "from torch.nn import Module, Dropout, Linear\n",
    "from torch.optim import Adam\n",
    "from torch.utils.data import TensorDataset, DataLoader\n",
    "from tqdm import tqdm\n",
    "import gc\n",
    "\n",
    "gc.collect()"
   ]
  },
  {
   "cell_type": "markdown",
   "id": "4e13dc5f",
   "metadata": {
    "papermill": {
     "duration": 0.007504,
     "end_time": "2024-03-19T03:48:59.020111",
     "exception": false,
     "start_time": "2024-03-19T03:48:59.012607",
     "status": "completed"
    },
    "tags": []
   },
   "source": [
    "### Set the Device to CUDA"
   ]
  },
  {
   "cell_type": "code",
   "execution_count": 3,
   "id": "fb38fa23",
   "metadata": {
    "execution": {
     "iopub.execute_input": "2024-03-19T03:48:59.037115Z",
     "iopub.status.busy": "2024-03-19T03:48:59.036664Z",
     "iopub.status.idle": "2024-03-19T03:48:59.194129Z",
     "shell.execute_reply": "2024-03-19T03:48:59.193170Z"
    },
    "papermill": {
     "duration": 0.168166,
     "end_time": "2024-03-19T03:48:59.196245",
     "exception": false,
     "start_time": "2024-03-19T03:48:59.028079",
     "status": "completed"
    },
    "tags": []
   },
   "outputs": [
    {
     "name": "stdout",
     "output_type": "stream",
     "text": [
      "Device selected: cuda\n",
      "Tue Mar 19 03:48:59 2024       \n",
      "+---------------------------------------------------------------------------------------+\n",
      "| NVIDIA-SMI 535.129.03             Driver Version: 535.129.03   CUDA Version: 12.2     |\n",
      "|-----------------------------------------+----------------------+----------------------+\n",
      "| GPU  Name                 Persistence-M | Bus-Id        Disp.A | Volatile Uncorr. ECC |\n",
      "| Fan  Temp   Perf          Pwr:Usage/Cap |         Memory-Usage | GPU-Util  Compute M. |\n",
      "|                                         |                      |               MIG M. |\n",
      "|=========================================+======================+======================|\n",
      "|   0  Tesla P100-PCIE-16GB           Off | 00000000:00:04.0 Off |                    0 |\n",
      "| N/A   35C    P0              26W / 250W |      2MiB / 16384MiB |      0%      Default |\n",
      "|                                         |                      |                  N/A |\n",
      "+-----------------------------------------+----------------------+----------------------+\n",
      "                                                                                         \n",
      "+---------------------------------------------------------------------------------------+\n",
      "| Processes:                                                                            |\n",
      "|  GPU   GI   CI        PID   Type   Process name                            GPU Memory |\n",
      "|        ID   ID                                                             Usage      |\n",
      "|=======================================================================================|\n",
      "|  No running processes found                                                           |\n",
      "+---------------------------------------------------------------------------------------+\n",
      "\n",
      "Device type: cuda\n",
      "Capability: (6, 0)\n"
     ]
    },
    {
     "data": {
      "text/plain": [
       "0"
      ]
     },
     "execution_count": 3,
     "metadata": {},
     "output_type": "execute_result"
    }
   ],
   "source": [
    "# Set the device to use (e.g., 'cpu', 'cuda', 'mps')\n",
    "device = torch.device(\"mps\" if torch.backends.mps.is_available() else\n",
    "                      (\"cuda\" if torch.cuda.is_available() else \"cpu\"))\n",
    "\n",
    "# Select Device According to Availability\n",
    "print(\"Device selected:\", device)\n",
    "\n",
    "# If the device is CUDA, print the device capability\n",
    "if device.type == \"cuda\":\n",
    "    os.system(\"nvidia-smi\")\n",
    "    print()\n",
    "    print(\"Device type:\", device.type)\n",
    "    print(\"Capability:\", torch.cuda.get_device_capability(device))\n",
    "else:\n",
    "    print(\"Device capabilities are limited on MPSs and CPUs.\")\n",
    "\n",
    "gc.collect()"
   ]
  },
  {
   "cell_type": "markdown",
   "id": "b54fc265",
   "metadata": {
    "papermill": {
     "duration": 0.008679,
     "end_time": "2024-03-19T03:48:59.212872",
     "exception": false,
     "start_time": "2024-03-19T03:48:59.204193",
     "status": "completed"
    },
    "tags": []
   },
   "source": [
    "### Read the file, Validate and View Shape"
   ]
  },
  {
   "cell_type": "code",
   "execution_count": 4,
   "id": "2b076133",
   "metadata": {
    "execution": {
     "iopub.execute_input": "2024-03-19T03:48:59.230402Z",
     "iopub.status.busy": "2024-03-19T03:48:59.230083Z",
     "iopub.status.idle": "2024-03-19T03:50:05.061059Z",
     "shell.execute_reply": "2024-03-19T03:50:05.060118Z"
    },
    "papermill": {
     "duration": 65.849518,
     "end_time": "2024-03-19T03:50:05.070357",
     "exception": false,
     "start_time": "2024-03-19T03:48:59.220839",
     "status": "completed"
    },
    "tags": []
   },
   "outputs": [
    {
     "name": "stdout",
     "output_type": "stream",
     "text": [
      "Files Loaded Successfully\n",
      "Video Embeddings Shape: (9150, 100, 2048)\n",
      "Video Labels Shape: (9150,)\n"
     ]
    },
    {
     "data": {
      "text/plain": [
       "22"
      ]
     },
     "execution_count": 4,
     "metadata": {},
     "output_type": "execute_result"
    }
   ],
   "source": [
    "file_embeddings = np.load('/kaggle/input/train_embeddings.npy')\n",
    "file_labels = np.load('/kaggle/input/train_labels.npy')\n",
    "\n",
    "# Check if the embeddings and labels are of the same length\n",
    "if len(file_embeddings) != len(file_labels):\n",
    "    raise ValueError(\"The length of the embeddings and labels should be the same\")\n",
    "\n",
    "# check if the embedding is a 3D array\n",
    "if len(file_embeddings.shape) != 3:\n",
    "    raise ValueError(f\"The embeddings should be a 4D array [instances, windows, frames, features].\"\n",
    "                     f\" Found {len(file_embeddings.shape)}D instead.\")\n",
    "\n",
    "print(\"Files Loaded Successfully\")\n",
    "print(\"Video Embeddings Shape:\", file_embeddings.shape)\n",
    "print(\"Video Labels Shape:\", file_labels.shape)\n",
    "gc.collect()"
   ]
  },
  {
   "cell_type": "markdown",
   "id": "761077d5",
   "metadata": {
    "papermill": {
     "duration": 0.007176,
     "end_time": "2024-03-19T03:50:05.084780",
     "exception": false,
     "start_time": "2024-03-19T03:50:05.077604",
     "status": "completed"
    },
    "tags": []
   },
   "source": [
    "### Train Test Split, Convert to torch.tensor and View Shape"
   ]
  },
  {
   "cell_type": "code",
   "execution_count": 5,
   "id": "d249b487",
   "metadata": {
    "execution": {
     "iopub.execute_input": "2024-03-19T03:50:05.100360Z",
     "iopub.status.busy": "2024-03-19T03:50:05.100071Z",
     "iopub.status.idle": "2024-03-19T03:50:09.029442Z",
     "shell.execute_reply": "2024-03-19T03:50:09.028468Z"
    },
    "papermill": {
     "duration": 3.939865,
     "end_time": "2024-03-19T03:50:09.031793",
     "exception": false,
     "start_time": "2024-03-19T03:50:05.091928",
     "status": "completed"
    },
    "tags": []
   },
   "outputs": [
    {
     "name": "stdout",
     "output_type": "stream",
     "text": [
      "Shape of Train Embeddings: torch.Size([7320, 100, 2048])\n",
      "Shape of Train Labels: torch.Size([7320])\n",
      "Shape of Test Embeddings: torch.Size([1830, 100, 2048])\n",
      "Shape of Test Labels: torch.Size([1830])\n"
     ]
    },
    {
     "data": {
      "text/plain": [
       "0"
      ]
     },
     "execution_count": 5,
     "metadata": {},
     "output_type": "execute_result"
    }
   ],
   "source": [
    "test_size = 0.2\n",
    "\n",
    "\n",
    "# Split the data into training and testing\n",
    "x_train, x_test, y_train, y_test = train_test_split(file_embeddings,\n",
    "                                                    file_labels,\n",
    "                                                    test_size=test_size,\n",
    "                                                    random_state=42)\n",
    "\n",
    "\n",
    "# convert to tensor\n",
    "train_embeddings = torch.from_numpy(x_train).to(device)\n",
    "# train_embeddings = train_embeddings.reshape(train_embeddings.shape[0], -1)\n",
    "train_labels = torch.from_numpy(y_train).to(device)\n",
    "test_embeddings = torch.from_numpy(x_test).to(device)\n",
    "# test_embeddings = test_embeddings.reshape(test_embeddings.shape[0], -1)\n",
    "test_labels = torch.from_numpy(y_test).to(device)\n",
    "\n",
    "print('Shape of Train Embeddings:', train_embeddings.shape)\n",
    "print('Shape of Train Labels:', train_labels.shape)\n",
    "print('Shape of Test Embeddings:', test_embeddings.shape)\n",
    "print('Shape of Test Labels:', test_labels.shape)\n",
    "\n",
    "gc.collect()"
   ]
  },
  {
   "cell_type": "markdown",
   "id": "9b5fdd72",
   "metadata": {
    "papermill": {
     "duration": 0.007339,
     "end_time": "2024-03-19T03:50:09.046744",
     "exception": false,
     "start_time": "2024-03-19T03:50:09.039405",
     "status": "completed"
    },
    "tags": []
   },
   "source": [
    "### Delete all unnecessary variables\n",
    "\n",
    "This is important because the embeddings are huge in size and the variables take around 15.1 GiB / 29 GiB. **After running the cell it will drop down to 1.2 GiB**"
   ]
  },
  {
   "cell_type": "code",
   "execution_count": 6,
   "id": "6b9adfb7",
   "metadata": {
    "execution": {
     "iopub.execute_input": "2024-03-19T03:50:09.062512Z",
     "iopub.status.busy": "2024-03-19T03:50:09.062245Z",
     "iopub.status.idle": "2024-03-19T03:50:09.196240Z",
     "shell.execute_reply": "2024-03-19T03:50:09.195310Z"
    },
    "papermill": {
     "duration": 0.144162,
     "end_time": "2024-03-19T03:50:09.198197",
     "exception": false,
     "start_time": "2024-03-19T03:50:09.054035",
     "status": "completed"
    },
    "tags": []
   },
   "outputs": [
    {
     "data": {
      "text/plain": [
       "0"
      ]
     },
     "execution_count": 6,
     "metadata": {},
     "output_type": "execute_result"
    }
   ],
   "source": [
    "del file_embeddings\n",
    "del file_labels\n",
    "del x_train\n",
    "del x_test\n",
    "del y_train\n",
    "del y_test\n",
    "gc.collect()"
   ]
  },
  {
   "cell_type": "markdown",
   "id": "7be92a39",
   "metadata": {
    "papermill": {
     "duration": 0.007446,
     "end_time": "2024-03-19T03:50:09.213671",
     "exception": false,
     "start_time": "2024-03-19T03:50:09.206225",
     "status": "completed"
    },
    "tags": []
   },
   "source": [
    "### Reshaping the tensors\n",
    "\n",
    "To fit in SRU model we need to reshape the tensors. Currently, they are in 3D shape, `(videos, frames, features)`. But SRU expects the tensor in different format.\n",
    "\n",
    "SRU expects a 3D tensor shaped like `(sequence_length, batch_size, input_size)`, which for our case, `sequence_length` would be `frames`, `batch_size` would be `videos` and `input_size` would be `features`. So, we need to convert from shape `(7320, 100, 2048)` to shape `(100, 7320, 2048)`"
   ]
  },
  {
   "cell_type": "markdown",
   "id": "32bc1be1",
   "metadata": {
    "papermill": {
     "duration": 0.007589,
     "end_time": "2024-03-19T03:50:09.228818",
     "exception": false,
     "start_time": "2024-03-19T03:50:09.221229",
     "status": "completed"
    },
    "tags": []
   },
   "source": [
    "Now we need to reshape the labels as well"
   ]
  },
  {
   "cell_type": "code",
   "execution_count": 7,
   "id": "31f7a5f5",
   "metadata": {
    "execution": {
     "iopub.execute_input": "2024-03-19T03:50:09.247260Z",
     "iopub.status.busy": "2024-03-19T03:50:09.246454Z",
     "iopub.status.idle": "2024-03-19T03:50:09.252057Z",
     "shell.execute_reply": "2024-03-19T03:50:09.251191Z"
    },
    "papermill": {
     "duration": 0.017208,
     "end_time": "2024-03-19T03:50:09.254023",
     "exception": false,
     "start_time": "2024-03-19T03:50:09.236815",
     "status": "completed"
    },
    "tags": []
   },
   "outputs": [],
   "source": [
    "\n",
    "\n",
    "\n",
    "# batch_size = 8\n",
    "\n",
    "# # Create TensorDataset\n",
    "# train_data = TensorDataset(train_embeddings, train_labels)\n",
    "# test_data = TensorDataset(test_embeddings, test_labels)\n",
    "\n",
    "# \"\"\"\n",
    "# Each train data has (2, 100 , 2048)\n",
    "# len(train_data) -> videos -\n",
    "# train_data[i][0] -> Video embed,  Shape: (100, 2048)\n",
    "# train_data[i][1] -> Label, Shape: (1, )\n",
    "\n",
    "# train_data[i][0][0] -> First (0th) frame Features, Shape: (2048, )\n",
    "# Same goes for test data\n",
    "# \"\"\"\n",
    "\n",
    "# ###########################\n",
    "\n",
    "# train_loader = DataLoader(train_data, shuffle=True, batch_size=batch_size)\n",
    "# test_loader = DataLoader(test_data, shuffle=True, batch_size=batch_size)\n",
    "\n",
    "# \"\"\"\n",
    "# Length of loader = train data // batch size = 7320 // 8 = 915\n",
    "# Inside of each (915) element in data_loader...........\n",
    "\n",
    "# len(i) -> 2 Which means each element has 2 sub element\n",
    "# We can access i[0] and i[1].\n",
    "# len(i[0]) = 8 and len(i[0]) = 8\n",
    "\n",
    "\n",
    "# So both element has 8 elements. First one is 8 video, secons one is 8 labels corresponding to the videos.\\\n",
    "\n",
    "# For example,\n",
    "\n",
    "#             for i in train_loader:\n",
    "#             print(i[0])\n",
    "#             break\n",
    "    \n",
    "# prints: tensor([1, 0, 0, 0, 0, 1, 0, 1], device='cuda:0')\n",
    "\n",
    "# so The first element contains 8 videos. \n",
    "# \"\"\""
   ]
  },
  {
   "cell_type": "code",
   "execution_count": 8,
   "id": "2c0d8452",
   "metadata": {
    "execution": {
     "iopub.execute_input": "2024-03-19T03:50:09.271446Z",
     "iopub.status.busy": "2024-03-19T03:50:09.270793Z",
     "iopub.status.idle": "2024-03-19T03:50:09.276203Z",
     "shell.execute_reply": "2024-03-19T03:50:09.275358Z"
    },
    "papermill": {
     "duration": 0.015899,
     "end_time": "2024-03-19T03:50:09.278156",
     "exception": false,
     "start_time": "2024-03-19T03:50:09.262257",
     "status": "completed"
    },
    "tags": []
   },
   "outputs": [],
   "source": [
    "batch_size = 8\n",
    "\n",
    "# Create TensorDataset\n",
    "train_data = TensorDataset(train_embeddings, train_labels)\n",
    "test_data = TensorDataset(test_embeddings, test_labels)\n",
    "\n",
    "train_loader = DataLoader(train_data, shuffle=True, batch_size=batch_size)\n",
    "test_loader = DataLoader(test_data, shuffle=True, batch_size=batch_size)\n",
    "\n",
    "# Train loader length is = 915 which means 915 * batch size 8 = 7320 data points, which are actually videos.\n",
    "# same goes for test loader\n",
    "# our sequence length is then 204800 which is the total features"
   ]
  },
  {
   "cell_type": "code",
   "execution_count": 9,
   "id": "a7ed7de1",
   "metadata": {
    "execution": {
     "iopub.execute_input": "2024-03-19T03:50:09.295242Z",
     "iopub.status.busy": "2024-03-19T03:50:09.294944Z",
     "iopub.status.idle": "2024-03-19T03:50:09.580606Z",
     "shell.execute_reply": "2024-03-19T03:50:09.579571Z"
    },
    "papermill": {
     "duration": 0.297077,
     "end_time": "2024-03-19T03:50:09.582750",
     "exception": false,
     "start_time": "2024-03-19T03:50:09.285673",
     "status": "completed"
    },
    "tags": []
   },
   "outputs": [
    {
     "data": {
      "text/plain": [
       "SRUModel(\n",
       "  (sru_layers): SRU(\n",
       "    (rnn_lst): ModuleList(\n",
       "      (0): SRUCell(2048, 1024, rescale=True,\n",
       "        transform_module=Linear(in_features=2048, out_features=4096, bias=False)\n",
       "      )\n",
       "      (1): SRUCell(1024, 1024, rescale=True,\n",
       "        transform_module=Linear(in_features=1024, out_features=3072, bias=False)\n",
       "      )\n",
       "    )\n",
       "  )\n",
       "  (dropout): Dropout(p=0.2, inplace=False)\n",
       "  (linear): Linear(in_features=1024, out_features=2, bias=True)\n",
       ")"
      ]
     },
     "execution_count": 9,
     "metadata": {},
     "output_type": "execute_result"
    }
   ],
   "source": [
    "class SRUModel(Module):\n",
    "    def __init__(self, input_size, hidden_size, **kwargs):\n",
    "        super(SRUModel, self).__init__()\n",
    "        # Main SRU layer\n",
    "        self.sru_layers = SRU(\n",
    "            input_size=input_size,\n",
    "            hidden_size=hidden_size,\n",
    "            num_layers=kwargs.get('num_layers', 2),\n",
    "            dropout=kwargs.get('dropout_prob', 0.0),\n",
    "            bidirectional=kwargs.get('bidirectional', False),\n",
    "            layer_norm=kwargs.get('layer_norm', False),\n",
    "            highway_bias=kwargs.get('highway_bias', 0.0),\n",
    "            rescale=kwargs.get('rescale', True),\n",
    "            nn_rnn_compatible_return=kwargs.get('nn_rnn_compatible_return', False),\n",
    "            proj_input_to_hidden_first=kwargs.get('proj_input_to_hidden_first', False),\n",
    "            amp_recurrence_fp16=kwargs.get('amp_recurrence_fp16', False),\n",
    "            normalize_after=kwargs.get('normalize_after', False),\n",
    "        ).to(device)\n",
    "        # Dropout layer\n",
    "        self.dropout = Dropout(kwargs.get('dropout_layer_prob', 0.2)).to(device)\n",
    "        # Linear layer (Fully connected layer)\n",
    "        self.linear = Linear(\n",
    "            in_features=hidden_size * 2 if kwargs.get('bidirectional', False) else hidden_size,\n",
    "            out_features=kwargs.get('num_classes', 2)\n",
    "        ).to(device)\n",
    "        # L2 regularization\n",
    "        self.l2_reg_lambda = kwargs.get('l2_reg_lambda', 1e-5)\n",
    "\n",
    "    def forward(self, x):\n",
    "        output_states, _ = self.sru_layers(x)\n",
    "        output = self.linear(self.dropout(output_states[-1]))\n",
    "        return output\n",
    "\n",
    "    def l2_regularization(self):\n",
    "        l2_reg = torch.tensor(0., device=device)\n",
    "        for param in self.parameters():\n",
    "            l2_reg += torch.norm(param, p=2)\n",
    "        return self.l2_reg_lambda * l2_reg\n",
    "\n",
    "\n",
    "model = SRUModel(2048, 1024)\n",
    "model = model.to(device)\n",
    "model"
   ]
  },
  {
   "cell_type": "code",
   "execution_count": 10,
   "id": "3410279f",
   "metadata": {
    "execution": {
     "iopub.execute_input": "2024-03-19T03:50:09.600742Z",
     "iopub.status.busy": "2024-03-19T03:50:09.600450Z",
     "iopub.status.idle": "2024-03-19T03:50:12.099771Z",
     "shell.execute_reply": "2024-03-19T03:50:12.098976Z"
    },
    "papermill": {
     "duration": 2.510874,
     "end_time": "2024-03-19T03:50:12.102155",
     "exception": false,
     "start_time": "2024-03-19T03:50:09.591281",
     "status": "completed"
    },
    "tags": []
   },
   "outputs": [],
   "source": [
    "# Define your loss function and optimizer\n",
    "criterion = CrossEntropyLoss()\n",
    "optimizer = Adam(model.parameters())"
   ]
  },
  {
   "cell_type": "code",
   "execution_count": 11,
   "id": "60c4ce35",
   "metadata": {
    "execution": {
     "iopub.execute_input": "2024-03-19T03:50:12.119454Z",
     "iopub.status.busy": "2024-03-19T03:50:12.119070Z",
     "iopub.status.idle": "2024-03-19T04:26:20.440350Z",
     "shell.execute_reply": "2024-03-19T04:26:20.439471Z"
    },
    "papermill": {
     "duration": 2183.504362,
     "end_time": "2024-03-19T04:26:35.614515",
     "exception": false,
     "start_time": "2024-03-19T03:50:12.110153",
     "status": "completed"
    },
    "tags": []
   },
   "outputs": [
    {
     "name": "stderr",
     "output_type": "stream",
     "text": [
      "Epoch 1/200: 100%|██████████| 915/915 [00:11<00:00, 79.02it/s, accuracy=51.7, loss=0.627]\n"
     ]
    },
    {
     "name": "stdout",
     "output_type": "stream",
     "text": [
      "Epoch [1/200], Loss: 0.6966300487518311, Accuracy: 51.73497267759563%\n"
     ]
    },
    {
     "name": "stderr",
     "output_type": "stream",
     "text": [
      "Epoch 2/200: 100%|██████████| 915/915 [00:10<00:00, 85.84it/s, accuracy=54.2, loss=0.699]\n"
     ]
    },
    {
     "name": "stdout",
     "output_type": "stream",
     "text": [
      "Epoch [2/200], Loss: 0.6908467735423416, Accuracy: 54.23497267759563%\n"
     ]
    },
    {
     "name": "stderr",
     "output_type": "stream",
     "text": [
      "Epoch 3/200: 100%|██████████| 915/915 [00:10<00:00, 84.88it/s, accuracy=59.1, loss=0.686]\n"
     ]
    },
    {
     "name": "stdout",
     "output_type": "stream",
     "text": [
      "Epoch [3/200], Loss: 0.6697770494255212, Accuracy: 59.13934426229508%\n"
     ]
    },
    {
     "name": "stderr",
     "output_type": "stream",
     "text": [
      "Epoch 4/200: 100%|██████████| 915/915 [00:10<00:00, 84.79it/s, accuracy=61.4, loss=0.589]\n"
     ]
    },
    {
     "name": "stdout",
     "output_type": "stream",
     "text": [
      "Epoch [4/200], Loss: 0.6601032899377125, Accuracy: 61.37978142076503%\n"
     ]
    },
    {
     "name": "stderr",
     "output_type": "stream",
     "text": [
      "Epoch 5/200: 100%|██████████| 915/915 [00:10<00:00, 84.43it/s, accuracy=63.8, loss=0.584]\n"
     ]
    },
    {
     "name": "stdout",
     "output_type": "stream",
     "text": [
      "Epoch [5/200], Loss: 0.6441891670878468, Accuracy: 63.797814207650276%\n"
     ]
    },
    {
     "name": "stderr",
     "output_type": "stream",
     "text": [
      "Epoch 6/200: 100%|██████████| 915/915 [00:10<00:00, 84.44it/s, accuracy=65.3, loss=0.524]\n"
     ]
    },
    {
     "name": "stdout",
     "output_type": "stream",
     "text": [
      "Epoch [6/200], Loss: 0.6361604451481762, Accuracy: 65.31420765027322%\n"
     ]
    },
    {
     "name": "stderr",
     "output_type": "stream",
     "text": [
      "Epoch 7/200: 100%|██████████| 915/915 [00:10<00:00, 84.40it/s, accuracy=66.1, loss=0.581]\n"
     ]
    },
    {
     "name": "stdout",
     "output_type": "stream",
     "text": [
      "Epoch [7/200], Loss: 0.6253779742561403, Accuracy: 66.13387978142076%\n"
     ]
    },
    {
     "name": "stderr",
     "output_type": "stream",
     "text": [
      "Epoch 8/200: 100%|██████████| 915/915 [00:10<00:00, 85.09it/s, accuracy=67.3, loss=0.357]\n"
     ]
    },
    {
     "name": "stdout",
     "output_type": "stream",
     "text": [
      "Epoch [8/200], Loss: 0.6105377453761023, Accuracy: 67.26775956284153%\n"
     ]
    },
    {
     "name": "stderr",
     "output_type": "stream",
     "text": [
      "Epoch 9/200: 100%|██████████| 915/915 [00:10<00:00, 84.95it/s, accuracy=68.3, loss=0.345]\n"
     ]
    },
    {
     "name": "stdout",
     "output_type": "stream",
     "text": [
      "Epoch [9/200], Loss: 0.6007626056019726, Accuracy: 68.27868852459017%\n"
     ]
    },
    {
     "name": "stderr",
     "output_type": "stream",
     "text": [
      "Epoch 10/200: 100%|██████████| 915/915 [00:10<00:00, 84.83it/s, accuracy=67.8, loss=0.841]\n"
     ]
    },
    {
     "name": "stdout",
     "output_type": "stream",
     "text": [
      "Epoch [10/200], Loss: 0.6000369128470864, Accuracy: 67.78688524590164%\n"
     ]
    },
    {
     "name": "stderr",
     "output_type": "stream",
     "text": [
      "Epoch 11/200: 100%|██████████| 915/915 [00:10<00:00, 85.22it/s, accuracy=68.8, loss=0.588]\n"
     ]
    },
    {
     "name": "stdout",
     "output_type": "stream",
     "text": [
      "Epoch [11/200], Loss: 0.591489248051018, Accuracy: 68.79781420765028%\n"
     ]
    },
    {
     "name": "stderr",
     "output_type": "stream",
     "text": [
      "Epoch 12/200: 100%|██████████| 915/915 [00:10<00:00, 85.09it/s, accuracy=70.7, loss=0.66]\n"
     ]
    },
    {
     "name": "stdout",
     "output_type": "stream",
     "text": [
      "Epoch [12/200], Loss: 0.5799839519249286, Accuracy: 70.69672131147541%\n"
     ]
    },
    {
     "name": "stderr",
     "output_type": "stream",
     "text": [
      "Epoch 13/200: 100%|██████████| 915/915 [00:10<00:00, 84.88it/s, accuracy=71.3, loss=0.591]\n"
     ]
    },
    {
     "name": "stdout",
     "output_type": "stream",
     "text": [
      "Epoch [13/200], Loss: 0.5710867776082513, Accuracy: 71.27049180327869%\n"
     ]
    },
    {
     "name": "stderr",
     "output_type": "stream",
     "text": [
      "Epoch 14/200: 100%|██████████| 915/915 [00:10<00:00, 85.21it/s, accuracy=71.2, loss=0.428]\n"
     ]
    },
    {
     "name": "stdout",
     "output_type": "stream",
     "text": [
      "Epoch [14/200], Loss: 0.5623512905314972, Accuracy: 71.16120218579235%\n"
     ]
    },
    {
     "name": "stderr",
     "output_type": "stream",
     "text": [
      "Epoch 15/200: 100%|██████████| 915/915 [00:10<00:00, 84.80it/s, accuracy=72.3, loss=0.608]\n"
     ]
    },
    {
     "name": "stdout",
     "output_type": "stream",
     "text": [
      "Epoch [15/200], Loss: 0.5566354450306605, Accuracy: 72.25409836065573%\n"
     ]
    },
    {
     "name": "stderr",
     "output_type": "stream",
     "text": [
      "Epoch 16/200: 100%|██████████| 915/915 [00:10<00:00, 84.85it/s, accuracy=71.4, loss=0.53]\n"
     ]
    },
    {
     "name": "stdout",
     "output_type": "stream",
     "text": [
      "Epoch [16/200], Loss: 0.5584621058461444, Accuracy: 71.43442622950819%\n"
     ]
    },
    {
     "name": "stderr",
     "output_type": "stream",
     "text": [
      "Epoch 17/200: 100%|██████████| 915/915 [00:10<00:00, 85.05it/s, accuracy=72.3, loss=0.413]\n"
     ]
    },
    {
     "name": "stdout",
     "output_type": "stream",
     "text": [
      "Epoch [17/200], Loss: 0.5487573873475601, Accuracy: 72.30874316939891%\n"
     ]
    },
    {
     "name": "stderr",
     "output_type": "stream",
     "text": [
      "Epoch 18/200: 100%|██████████| 915/915 [00:10<00:00, 84.47it/s, accuracy=73.1, loss=0.764]\n"
     ]
    },
    {
     "name": "stdout",
     "output_type": "stream",
     "text": [
      "Epoch [18/200], Loss: 0.5482924736262671, Accuracy: 73.12841530054645%\n"
     ]
    },
    {
     "name": "stderr",
     "output_type": "stream",
     "text": [
      "Epoch 19/200: 100%|██████████| 915/915 [00:10<00:00, 85.13it/s, accuracy=74, loss=0.632]\n"
     ]
    },
    {
     "name": "stdout",
     "output_type": "stream",
     "text": [
      "Epoch [19/200], Loss: 0.5348891925290634, Accuracy: 73.96174863387978%\n"
     ]
    },
    {
     "name": "stderr",
     "output_type": "stream",
     "text": [
      "Epoch 20/200: 100%|██████████| 915/915 [00:10<00:00, 84.77it/s, accuracy=74.5, loss=0.683]\n"
     ]
    },
    {
     "name": "stdout",
     "output_type": "stream",
     "text": [
      "Epoch [20/200], Loss: 0.5327195894034182, Accuracy: 74.50819672131148%\n"
     ]
    },
    {
     "name": "stderr",
     "output_type": "stream",
     "text": [
      "Epoch 21/200: 100%|██████████| 915/915 [00:10<00:00, 84.47it/s, accuracy=74.2, loss=0.476]\n"
     ]
    },
    {
     "name": "stdout",
     "output_type": "stream",
     "text": [
      "Epoch [21/200], Loss: 0.5337645975292706, Accuracy: 74.16666666666667%\n"
     ]
    },
    {
     "name": "stderr",
     "output_type": "stream",
     "text": [
      "Epoch 22/200: 100%|██████████| 915/915 [00:10<00:00, 84.99it/s, accuracy=73.9, loss=0.762]\n"
     ]
    },
    {
     "name": "stdout",
     "output_type": "stream",
     "text": [
      "Epoch [22/200], Loss: 0.5294832832663438, Accuracy: 73.9207650273224%\n"
     ]
    },
    {
     "name": "stderr",
     "output_type": "stream",
     "text": [
      "Epoch 23/200: 100%|██████████| 915/915 [00:10<00:00, 84.75it/s, accuracy=75.4, loss=0.664]\n"
     ]
    },
    {
     "name": "stdout",
     "output_type": "stream",
     "text": [
      "Epoch [23/200], Loss: 0.5172877316917878, Accuracy: 75.35519125683061%\n"
     ]
    },
    {
     "name": "stderr",
     "output_type": "stream",
     "text": [
      "Epoch 24/200: 100%|██████████| 915/915 [00:10<00:00, 84.58it/s, accuracy=75.2, loss=0.361]\n"
     ]
    },
    {
     "name": "stdout",
     "output_type": "stream",
     "text": [
      "Epoch [24/200], Loss: 0.513808432099272, Accuracy: 75.15027322404372%\n"
     ]
    },
    {
     "name": "stderr",
     "output_type": "stream",
     "text": [
      "Epoch 25/200: 100%|██████████| 915/915 [00:10<00:00, 84.90it/s, accuracy=74.8, loss=0.714]\n"
     ]
    },
    {
     "name": "stdout",
     "output_type": "stream",
     "text": [
      "Epoch [25/200], Loss: 0.5226424276665912, Accuracy: 74.8224043715847%\n"
     ]
    },
    {
     "name": "stderr",
     "output_type": "stream",
     "text": [
      "Epoch 26/200: 100%|██████████| 915/915 [00:10<00:00, 84.84it/s, accuracy=75.6, loss=0.452]\n"
     ]
    },
    {
     "name": "stdout",
     "output_type": "stream",
     "text": [
      "Epoch [26/200], Loss: 0.5084472025189894, Accuracy: 75.56010928961749%\n"
     ]
    },
    {
     "name": "stderr",
     "output_type": "stream",
     "text": [
      "Epoch 27/200: 100%|██████████| 915/915 [00:10<00:00, 84.51it/s, accuracy=75.2, loss=0.447]\n"
     ]
    },
    {
     "name": "stdout",
     "output_type": "stream",
     "text": [
      "Epoch [27/200], Loss: 0.5151663974660342, Accuracy: 75.1775956284153%\n"
     ]
    },
    {
     "name": "stderr",
     "output_type": "stream",
     "text": [
      "Epoch 28/200: 100%|██████████| 915/915 [00:10<00:00, 84.87it/s, accuracy=75.7, loss=0.701]\n"
     ]
    },
    {
     "name": "stdout",
     "output_type": "stream",
     "text": [
      "Epoch [28/200], Loss: 0.5102348926777397, Accuracy: 75.72404371584699%\n"
     ]
    },
    {
     "name": "stderr",
     "output_type": "stream",
     "text": [
      "Epoch 29/200: 100%|██████████| 915/915 [00:10<00:00, 84.73it/s, accuracy=75, loss=0.375]\n"
     ]
    },
    {
     "name": "stdout",
     "output_type": "stream",
     "text": [
      "Epoch [29/200], Loss: 0.514347474122308, Accuracy: 74.98633879781421%\n"
     ]
    },
    {
     "name": "stderr",
     "output_type": "stream",
     "text": [
      "Epoch 30/200: 100%|██████████| 915/915 [00:10<00:00, 84.12it/s, accuracy=75.7, loss=0.654]\n"
     ]
    },
    {
     "name": "stdout",
     "output_type": "stream",
     "text": [
      "Epoch [30/200], Loss: 0.5086390186040128, Accuracy: 75.73770491803279%\n"
     ]
    },
    {
     "name": "stderr",
     "output_type": "stream",
     "text": [
      "Epoch 31/200: 100%|██████████| 915/915 [00:10<00:00, 84.71it/s, accuracy=76, loss=0.622]\n"
     ]
    },
    {
     "name": "stdout",
     "output_type": "stream",
     "text": [
      "Epoch [31/200], Loss: 0.5083480357716643, Accuracy: 76.01092896174863%\n"
     ]
    },
    {
     "name": "stderr",
     "output_type": "stream",
     "text": [
      "Epoch 32/200: 100%|██████████| 915/915 [00:10<00:00, 84.38it/s, accuracy=76.2, loss=0.291]\n"
     ]
    },
    {
     "name": "stdout",
     "output_type": "stream",
     "text": [
      "Epoch [32/200], Loss: 0.4996231450734894, Accuracy: 76.20218579234972%\n"
     ]
    },
    {
     "name": "stderr",
     "output_type": "stream",
     "text": [
      "Epoch 33/200: 100%|██████████| 915/915 [00:10<00:00, 84.07it/s, accuracy=76.7, loss=0.681]\n"
     ]
    },
    {
     "name": "stdout",
     "output_type": "stream",
     "text": [
      "Epoch [33/200], Loss: 0.49430106437759974, Accuracy: 76.72131147540983%\n"
     ]
    },
    {
     "name": "stderr",
     "output_type": "stream",
     "text": [
      "Epoch 34/200: 100%|██████████| 915/915 [00:10<00:00, 84.96it/s, accuracy=76.1, loss=0.386]\n"
     ]
    },
    {
     "name": "stdout",
     "output_type": "stream",
     "text": [
      "Epoch [34/200], Loss: 0.5009689105827301, Accuracy: 76.12021857923497%\n"
     ]
    },
    {
     "name": "stderr",
     "output_type": "stream",
     "text": [
      "Epoch 35/200: 100%|██████████| 915/915 [00:10<00:00, 84.60it/s, accuracy=77.4, loss=0.434]\n"
     ]
    },
    {
     "name": "stdout",
     "output_type": "stream",
     "text": [
      "Epoch [35/200], Loss: 0.48817406395256846, Accuracy: 77.40437158469945%\n"
     ]
    },
    {
     "name": "stderr",
     "output_type": "stream",
     "text": [
      "Epoch 36/200: 100%|██████████| 915/915 [00:10<00:00, 83.90it/s, accuracy=77.2, loss=0.289]\n"
     ]
    },
    {
     "name": "stdout",
     "output_type": "stream",
     "text": [
      "Epoch [36/200], Loss: 0.4868790824393757, Accuracy: 77.17213114754098%\n"
     ]
    },
    {
     "name": "stderr",
     "output_type": "stream",
     "text": [
      "Epoch 37/200: 100%|██████████| 915/915 [00:10<00:00, 84.70it/s, accuracy=76.9, loss=0.36]\n"
     ]
    },
    {
     "name": "stdout",
     "output_type": "stream",
     "text": [
      "Epoch [37/200], Loss: 0.48770614251738686, Accuracy: 76.87158469945355%\n"
     ]
    },
    {
     "name": "stderr",
     "output_type": "stream",
     "text": [
      "Epoch 38/200: 100%|██████████| 915/915 [00:10<00:00, 84.76it/s, accuracy=76.8, loss=0.45]\n"
     ]
    },
    {
     "name": "stdout",
     "output_type": "stream",
     "text": [
      "Epoch [38/200], Loss: 0.4850699164909743, Accuracy: 76.81693989071039%\n"
     ]
    },
    {
     "name": "stderr",
     "output_type": "stream",
     "text": [
      "Epoch 39/200: 100%|██████████| 915/915 [00:10<00:00, 83.71it/s, accuracy=77, loss=0.69]\n"
     ]
    },
    {
     "name": "stdout",
     "output_type": "stream",
     "text": [
      "Epoch [39/200], Loss: 0.489875921085884, Accuracy: 77.03551912568307%\n"
     ]
    },
    {
     "name": "stderr",
     "output_type": "stream",
     "text": [
      "Epoch 40/200: 100%|██████████| 915/915 [00:10<00:00, 84.79it/s, accuracy=77.6, loss=0.416]\n"
     ]
    },
    {
     "name": "stdout",
     "output_type": "stream",
     "text": [
      "Epoch [40/200], Loss: 0.47883360607376513, Accuracy: 77.62295081967213%\n"
     ]
    },
    {
     "name": "stderr",
     "output_type": "stream",
     "text": [
      "Epoch 41/200: 100%|██████████| 915/915 [00:10<00:00, 84.91it/s, accuracy=77.5, loss=0.624]\n"
     ]
    },
    {
     "name": "stdout",
     "output_type": "stream",
     "text": [
      "Epoch [41/200], Loss: 0.48091146673172547, Accuracy: 77.5%\n"
     ]
    },
    {
     "name": "stderr",
     "output_type": "stream",
     "text": [
      "Epoch 42/200: 100%|██████████| 915/915 [00:10<00:00, 83.98it/s, accuracy=77.5, loss=0.319]\n"
     ]
    },
    {
     "name": "stdout",
     "output_type": "stream",
     "text": [
      "Epoch [42/200], Loss: 0.4769607042598594, Accuracy: 77.47267759562841%\n"
     ]
    },
    {
     "name": "stderr",
     "output_type": "stream",
     "text": [
      "Epoch 43/200: 100%|██████████| 915/915 [00:10<00:00, 84.68it/s, accuracy=78.2, loss=0.748]\n"
     ]
    },
    {
     "name": "stdout",
     "output_type": "stream",
     "text": [
      "Epoch [43/200], Loss: 0.4727955948133938, Accuracy: 78.16939890710383%\n"
     ]
    },
    {
     "name": "stderr",
     "output_type": "stream",
     "text": [
      "Epoch 44/200: 100%|██████████| 915/915 [00:10<00:00, 84.32it/s, accuracy=78, loss=0.584]\n"
     ]
    },
    {
     "name": "stdout",
     "output_type": "stream",
     "text": [
      "Epoch [44/200], Loss: 0.477758336002058, Accuracy: 78.00546448087432%\n"
     ]
    },
    {
     "name": "stderr",
     "output_type": "stream",
     "text": [
      "Epoch 45/200: 100%|██████████| 915/915 [00:10<00:00, 84.37it/s, accuracy=77.9, loss=0.259]\n"
     ]
    },
    {
     "name": "stdout",
     "output_type": "stream",
     "text": [
      "Epoch [45/200], Loss: 0.4742482972926781, Accuracy: 77.88251366120218%\n"
     ]
    },
    {
     "name": "stderr",
     "output_type": "stream",
     "text": [
      "Epoch 46/200: 100%|██████████| 915/915 [00:10<00:00, 84.83it/s, accuracy=78.3, loss=0.719]\n"
     ]
    },
    {
     "name": "stdout",
     "output_type": "stream",
     "text": [
      "Epoch [46/200], Loss: 0.47780113463681906, Accuracy: 78.27868852459017%\n"
     ]
    },
    {
     "name": "stderr",
     "output_type": "stream",
     "text": [
      "Epoch 47/200: 100%|██████████| 915/915 [00:10<00:00, 84.40it/s, accuracy=78, loss=0.306]\n"
     ]
    },
    {
     "name": "stdout",
     "output_type": "stream",
     "text": [
      "Epoch [47/200], Loss: 0.4700527939151545, Accuracy: 77.96448087431693%\n"
     ]
    },
    {
     "name": "stderr",
     "output_type": "stream",
     "text": [
      "Epoch 48/200: 100%|██████████| 915/915 [00:10<00:00, 84.24it/s, accuracy=78.7, loss=0.419]\n"
     ]
    },
    {
     "name": "stdout",
     "output_type": "stream",
     "text": [
      "Epoch [48/200], Loss: 0.4630481882743497, Accuracy: 78.70218579234972%\n"
     ]
    },
    {
     "name": "stderr",
     "output_type": "stream",
     "text": [
      "Epoch 49/200: 100%|██████████| 915/915 [00:10<00:00, 85.06it/s, accuracy=77.7, loss=0.516]\n"
     ]
    },
    {
     "name": "stdout",
     "output_type": "stream",
     "text": [
      "Epoch [49/200], Loss: 0.47409606823504297, Accuracy: 77.73224043715847%\n"
     ]
    },
    {
     "name": "stderr",
     "output_type": "stream",
     "text": [
      "Epoch 50/200: 100%|██████████| 915/915 [00:10<00:00, 84.36it/s, accuracy=78.4, loss=0.428]\n"
     ]
    },
    {
     "name": "stdout",
     "output_type": "stream",
     "text": [
      "Epoch [50/200], Loss: 0.466365160048008, Accuracy: 78.44262295081967%\n"
     ]
    },
    {
     "name": "stderr",
     "output_type": "stream",
     "text": [
      "Epoch 51/200: 100%|██████████| 915/915 [00:10<00:00, 84.07it/s, accuracy=79.4, loss=0.799]\n"
     ]
    },
    {
     "name": "stdout",
     "output_type": "stream",
     "text": [
      "Epoch [51/200], Loss: 0.4478892600072212, Accuracy: 79.39890710382514%\n"
     ]
    },
    {
     "name": "stderr",
     "output_type": "stream",
     "text": [
      "Epoch 52/200: 100%|██████████| 915/915 [00:10<00:00, 84.45it/s, accuracy=78, loss=0.296]\n"
     ]
    },
    {
     "name": "stdout",
     "output_type": "stream",
     "text": [
      "Epoch [52/200], Loss: 0.46746313635443076, Accuracy: 78.00546448087432%\n"
     ]
    },
    {
     "name": "stderr",
     "output_type": "stream",
     "text": [
      "Epoch 53/200: 100%|██████████| 915/915 [00:10<00:00, 84.35it/s, accuracy=79, loss=0.423]\n"
     ]
    },
    {
     "name": "stdout",
     "output_type": "stream",
     "text": [
      "Epoch [53/200], Loss: 0.45284068248962445, Accuracy: 79.04371584699453%\n"
     ]
    },
    {
     "name": "stderr",
     "output_type": "stream",
     "text": [
      "Epoch 54/200: 100%|██████████| 915/915 [00:10<00:00, 84.61it/s, accuracy=79.3, loss=0.217]\n"
     ]
    },
    {
     "name": "stdout",
     "output_type": "stream",
     "text": [
      "Epoch [54/200], Loss: 0.45486513966582515, Accuracy: 79.33060109289617%\n"
     ]
    },
    {
     "name": "stderr",
     "output_type": "stream",
     "text": [
      "Epoch 55/200: 100%|██████████| 915/915 [00:10<00:00, 84.39it/s, accuracy=79, loss=0.702]\n"
     ]
    },
    {
     "name": "stdout",
     "output_type": "stream",
     "text": [
      "Epoch [55/200], Loss: 0.45662991181015966, Accuracy: 79.03005464480874%\n"
     ]
    },
    {
     "name": "stderr",
     "output_type": "stream",
     "text": [
      "Epoch 56/200: 100%|██████████| 915/915 [00:10<00:00, 84.37it/s, accuracy=79.3, loss=0.163]\n"
     ]
    },
    {
     "name": "stdout",
     "output_type": "stream",
     "text": [
      "Epoch [56/200], Loss: 0.45311381728922734, Accuracy: 79.33060109289617%\n"
     ]
    },
    {
     "name": "stderr",
     "output_type": "stream",
     "text": [
      "Epoch 57/200: 100%|██████████| 915/915 [00:10<00:00, 84.70it/s, accuracy=79.5, loss=0.312]\n"
     ]
    },
    {
     "name": "stdout",
     "output_type": "stream",
     "text": [
      "Epoch [57/200], Loss: 0.44772132140039744, Accuracy: 79.52185792349727%\n"
     ]
    },
    {
     "name": "stderr",
     "output_type": "stream",
     "text": [
      "Epoch 58/200: 100%|██████████| 915/915 [00:10<00:00, 84.26it/s, accuracy=79.7, loss=0.6]\n"
     ]
    },
    {
     "name": "stdout",
     "output_type": "stream",
     "text": [
      "Epoch [58/200], Loss: 0.44666781256921956, Accuracy: 79.71311475409836%\n"
     ]
    },
    {
     "name": "stderr",
     "output_type": "stream",
     "text": [
      "Epoch 59/200: 100%|██████████| 915/915 [00:10<00:00, 84.38it/s, accuracy=79.7, loss=0.577]\n"
     ]
    },
    {
     "name": "stdout",
     "output_type": "stream",
     "text": [
      "Epoch [59/200], Loss: 0.4449951471445339, Accuracy: 79.6584699453552%\n"
     ]
    },
    {
     "name": "stderr",
     "output_type": "stream",
     "text": [
      "Epoch 60/200: 100%|██████████| 915/915 [00:10<00:00, 84.76it/s, accuracy=79, loss=0.547]\n"
     ]
    },
    {
     "name": "stdout",
     "output_type": "stream",
     "text": [
      "Epoch [60/200], Loss: 0.45036774794749224, Accuracy: 79.01639344262296%\n"
     ]
    },
    {
     "name": "stderr",
     "output_type": "stream",
     "text": [
      "Epoch 61/200: 100%|██████████| 915/915 [00:10<00:00, 84.24it/s, accuracy=79.2, loss=0.313]\n"
     ]
    },
    {
     "name": "stdout",
     "output_type": "stream",
     "text": [
      "Epoch [61/200], Loss: 0.4560606879818309, Accuracy: 79.19398907103825%\n"
     ]
    },
    {
     "name": "stderr",
     "output_type": "stream",
     "text": [
      "Epoch 62/200: 100%|██████████| 915/915 [00:10<00:00, 84.46it/s, accuracy=80.1, loss=0.231]\n"
     ]
    },
    {
     "name": "stdout",
     "output_type": "stream",
     "text": [
      "Epoch [62/200], Loss: 0.4406061307002938, Accuracy: 80.09562841530055%\n"
     ]
    },
    {
     "name": "stderr",
     "output_type": "stream",
     "text": [
      "Epoch 63/200: 100%|██████████| 915/915 [00:10<00:00, 84.68it/s, accuracy=80.9, loss=0.33]\n"
     ]
    },
    {
     "name": "stdout",
     "output_type": "stream",
     "text": [
      "Epoch [63/200], Loss: 0.43053301744610883, Accuracy: 80.94262295081967%\n"
     ]
    },
    {
     "name": "stderr",
     "output_type": "stream",
     "text": [
      "Epoch 64/200: 100%|██████████| 915/915 [00:10<00:00, 84.25it/s, accuracy=78.2, loss=0.352]\n"
     ]
    },
    {
     "name": "stdout",
     "output_type": "stream",
     "text": [
      "Epoch [64/200], Loss: 0.459522289192416, Accuracy: 78.22404371584699%\n"
     ]
    },
    {
     "name": "stderr",
     "output_type": "stream",
     "text": [
      "Epoch 65/200: 100%|██████████| 915/915 [00:10<00:00, 84.12it/s, accuracy=80.9, loss=0.125]\n"
     ]
    },
    {
     "name": "stdout",
     "output_type": "stream",
     "text": [
      "Epoch [65/200], Loss: 0.42893847140376684, Accuracy: 80.8743169398907%\n"
     ]
    },
    {
     "name": "stderr",
     "output_type": "stream",
     "text": [
      "Epoch 66/200: 100%|██████████| 915/915 [00:10<00:00, 84.65it/s, accuracy=79.4, loss=0.268]\n"
     ]
    },
    {
     "name": "stdout",
     "output_type": "stream",
     "text": [
      "Epoch [66/200], Loss: 0.4412973956495035, Accuracy: 79.35792349726776%\n"
     ]
    },
    {
     "name": "stderr",
     "output_type": "stream",
     "text": [
      "Epoch 67/200: 100%|██████████| 915/915 [00:10<00:00, 84.13it/s, accuracy=80.1, loss=0.432]\n"
     ]
    },
    {
     "name": "stdout",
     "output_type": "stream",
     "text": [
      "Epoch [67/200], Loss: 0.43484441657535366, Accuracy: 80.05464480874316%\n"
     ]
    },
    {
     "name": "stderr",
     "output_type": "stream",
     "text": [
      "Epoch 68/200: 100%|██████████| 915/915 [00:10<00:00, 84.06it/s, accuracy=80, loss=0.173]\n"
     ]
    },
    {
     "name": "stdout",
     "output_type": "stream",
     "text": [
      "Epoch [68/200], Loss: 0.44201404287434015, Accuracy: 79.98633879781421%\n"
     ]
    },
    {
     "name": "stderr",
     "output_type": "stream",
     "text": [
      "Epoch 69/200: 100%|██████████| 915/915 [00:10<00:00, 84.73it/s, accuracy=80.6, loss=0.363]\n"
     ]
    },
    {
     "name": "stdout",
     "output_type": "stream",
     "text": [
      "Epoch [69/200], Loss: 0.42923219631441306, Accuracy: 80.60109289617486%\n"
     ]
    },
    {
     "name": "stderr",
     "output_type": "stream",
     "text": [
      "Epoch 70/200: 100%|██████████| 915/915 [00:10<00:00, 84.25it/s, accuracy=81.2, loss=0.132]\n"
     ]
    },
    {
     "name": "stdout",
     "output_type": "stream",
     "text": [
      "Epoch [70/200], Loss: 0.42115957677527205, Accuracy: 81.20218579234972%\n"
     ]
    },
    {
     "name": "stderr",
     "output_type": "stream",
     "text": [
      "Epoch 71/200: 100%|██████████| 915/915 [00:10<00:00, 84.32it/s, accuracy=80.7, loss=0.23]\n"
     ]
    },
    {
     "name": "stdout",
     "output_type": "stream",
     "text": [
      "Epoch [71/200], Loss: 0.4260375730652627, Accuracy: 80.7103825136612%\n"
     ]
    },
    {
     "name": "stderr",
     "output_type": "stream",
     "text": [
      "Epoch 72/200: 100%|██████████| 915/915 [00:10<00:00, 84.78it/s, accuracy=81, loss=0.421]\n"
     ]
    },
    {
     "name": "stdout",
     "output_type": "stream",
     "text": [
      "Epoch [72/200], Loss: 0.42942579441953227, Accuracy: 80.96994535519126%\n"
     ]
    },
    {
     "name": "stderr",
     "output_type": "stream",
     "text": [
      "Epoch 73/200: 100%|██████████| 915/915 [00:10<00:00, 84.31it/s, accuracy=81.5, loss=0.656]\n"
     ]
    },
    {
     "name": "stdout",
     "output_type": "stream",
     "text": [
      "Epoch [73/200], Loss: 0.41796162248553476, Accuracy: 81.50273224043715%\n"
     ]
    },
    {
     "name": "stderr",
     "output_type": "stream",
     "text": [
      "Epoch 74/200: 100%|██████████| 915/915 [00:10<00:00, 84.11it/s, accuracy=81.1, loss=0.511]\n"
     ]
    },
    {
     "name": "stdout",
     "output_type": "stream",
     "text": [
      "Epoch [74/200], Loss: 0.41262567466318284, Accuracy: 81.05191256830601%\n"
     ]
    },
    {
     "name": "stderr",
     "output_type": "stream",
     "text": [
      "Epoch 75/200: 100%|██████████| 915/915 [00:10<00:00, 84.20it/s, accuracy=80.6, loss=0.196]\n"
     ]
    },
    {
     "name": "stdout",
     "output_type": "stream",
     "text": [
      "Epoch [75/200], Loss: 0.4287088312798999, Accuracy: 80.56010928961749%\n"
     ]
    },
    {
     "name": "stderr",
     "output_type": "stream",
     "text": [
      "Epoch 76/200: 100%|██████████| 915/915 [00:10<00:00, 84.24it/s, accuracy=81.4, loss=0.311]\n"
     ]
    },
    {
     "name": "stdout",
     "output_type": "stream",
     "text": [
      "Epoch [76/200], Loss: 0.41342342175502594, Accuracy: 81.36612021857924%\n"
     ]
    },
    {
     "name": "stderr",
     "output_type": "stream",
     "text": [
      "Epoch 77/200: 100%|██████████| 915/915 [00:10<00:00, 84.53it/s, accuracy=81.2, loss=0.474]\n"
     ]
    },
    {
     "name": "stdout",
     "output_type": "stream",
     "text": [
      "Epoch [77/200], Loss: 0.41911698993030794, Accuracy: 81.17486338797814%\n"
     ]
    },
    {
     "name": "stderr",
     "output_type": "stream",
     "text": [
      "Epoch 78/200: 100%|██████████| 915/915 [00:10<00:00, 83.63it/s, accuracy=80.6, loss=0.153]\n"
     ]
    },
    {
     "name": "stdout",
     "output_type": "stream",
     "text": [
      "Epoch [78/200], Loss: 0.4308138608932495, Accuracy: 80.56010928961749%\n"
     ]
    },
    {
     "name": "stderr",
     "output_type": "stream",
     "text": [
      "Epoch 79/200: 100%|██████████| 915/915 [00:10<00:00, 84.39it/s, accuracy=81.7, loss=0.369]\n"
     ]
    },
    {
     "name": "stdout",
     "output_type": "stream",
     "text": [
      "Epoch [79/200], Loss: 0.41615537473005676, Accuracy: 81.74863387978142%\n"
     ]
    },
    {
     "name": "stderr",
     "output_type": "stream",
     "text": [
      "Epoch 80/200: 100%|██████████| 915/915 [00:10<00:00, 84.52it/s, accuracy=81, loss=0.59]\n"
     ]
    },
    {
     "name": "stdout",
     "output_type": "stream",
     "text": [
      "Epoch [80/200], Loss: 0.4158669027800117, Accuracy: 80.96994535519126%\n"
     ]
    },
    {
     "name": "stderr",
     "output_type": "stream",
     "text": [
      "Epoch 81/200: 100%|██████████| 915/915 [00:10<00:00, 84.28it/s, accuracy=81.2, loss=0.619]\n"
     ]
    },
    {
     "name": "stdout",
     "output_type": "stream",
     "text": [
      "Epoch [81/200], Loss: 0.4188201931412103, Accuracy: 81.21584699453553%\n"
     ]
    },
    {
     "name": "stderr",
     "output_type": "stream",
     "text": [
      "Epoch 82/200: 100%|██████████| 915/915 [00:10<00:00, 84.13it/s, accuracy=81.7, loss=0.395]\n"
     ]
    },
    {
     "name": "stdout",
     "output_type": "stream",
     "text": [
      "Epoch [82/200], Loss: 0.4139288954518206, Accuracy: 81.69398907103825%\n"
     ]
    },
    {
     "name": "stderr",
     "output_type": "stream",
     "text": [
      "Epoch 83/200: 100%|██████████| 915/915 [00:10<00:00, 84.72it/s, accuracy=81.8, loss=0.32]\n"
     ]
    },
    {
     "name": "stdout",
     "output_type": "stream",
     "text": [
      "Epoch [83/200], Loss: 0.4036838644189261, Accuracy: 81.76229508196721%\n"
     ]
    },
    {
     "name": "stderr",
     "output_type": "stream",
     "text": [
      "Epoch 84/200: 100%|██████████| 915/915 [00:10<00:00, 84.44it/s, accuracy=81.7, loss=0.296]\n"
     ]
    },
    {
     "name": "stdout",
     "output_type": "stream",
     "text": [
      "Epoch [84/200], Loss: 0.41160747814373894, Accuracy: 81.73497267759562%\n"
     ]
    },
    {
     "name": "stderr",
     "output_type": "stream",
     "text": [
      "Epoch 85/200: 100%|██████████| 915/915 [00:10<00:00, 83.58it/s, accuracy=82.1, loss=0.335]\n"
     ]
    },
    {
     "name": "stdout",
     "output_type": "stream",
     "text": [
      "Epoch [85/200], Loss: 0.4034491439416109, Accuracy: 82.07650273224044%\n"
     ]
    },
    {
     "name": "stderr",
     "output_type": "stream",
     "text": [
      "Epoch 86/200: 100%|██████████| 915/915 [00:10<00:00, 84.76it/s, accuracy=82.1, loss=0.867]\n"
     ]
    },
    {
     "name": "stdout",
     "output_type": "stream",
     "text": [
      "Epoch [86/200], Loss: 0.4004715497702197, Accuracy: 82.1311475409836%\n"
     ]
    },
    {
     "name": "stderr",
     "output_type": "stream",
     "text": [
      "Epoch 87/200: 100%|██████████| 915/915 [00:10<00:00, 84.75it/s, accuracy=81.8, loss=0.186]\n"
     ]
    },
    {
     "name": "stdout",
     "output_type": "stream",
     "text": [
      "Epoch [87/200], Loss: 0.4083803950722426, Accuracy: 81.80327868852459%\n"
     ]
    },
    {
     "name": "stderr",
     "output_type": "stream",
     "text": [
      "Epoch 88/200: 100%|██████████| 915/915 [00:10<00:00, 84.30it/s, accuracy=82.4, loss=0.427]\n"
     ]
    },
    {
     "name": "stdout",
     "output_type": "stream",
     "text": [
      "Epoch [88/200], Loss: 0.3998077303700434, Accuracy: 82.43169398907104%\n"
     ]
    },
    {
     "name": "stderr",
     "output_type": "stream",
     "text": [
      "Epoch 89/200: 100%|██████████| 915/915 [00:10<00:00, 84.73it/s, accuracy=82.6, loss=1.2]\n"
     ]
    },
    {
     "name": "stdout",
     "output_type": "stream",
     "text": [
      "Epoch [89/200], Loss: 0.39748234054877785, Accuracy: 82.60928961748634%\n"
     ]
    },
    {
     "name": "stderr",
     "output_type": "stream",
     "text": [
      "Epoch 90/200: 100%|██████████| 915/915 [00:10<00:00, 84.48it/s, accuracy=82.5, loss=0.187]\n"
     ]
    },
    {
     "name": "stdout",
     "output_type": "stream",
     "text": [
      "Epoch [90/200], Loss: 0.3952957561840125, Accuracy: 82.51366120218579%\n"
     ]
    },
    {
     "name": "stderr",
     "output_type": "stream",
     "text": [
      "Epoch 91/200: 100%|██████████| 915/915 [00:10<00:00, 83.31it/s, accuracy=82.3, loss=0.491]\n"
     ]
    },
    {
     "name": "stdout",
     "output_type": "stream",
     "text": [
      "Epoch [91/200], Loss: 0.3990593507600938, Accuracy: 82.30874316939891%\n"
     ]
    },
    {
     "name": "stderr",
     "output_type": "stream",
     "text": [
      "Epoch 92/200: 100%|██████████| 915/915 [00:10<00:00, 84.57it/s, accuracy=82.1, loss=0.435]\n"
     ]
    },
    {
     "name": "stdout",
     "output_type": "stream",
     "text": [
      "Epoch [92/200], Loss: 0.40585965745436037, Accuracy: 82.11748633879782%\n"
     ]
    },
    {
     "name": "stderr",
     "output_type": "stream",
     "text": [
      "Epoch 93/200: 100%|██████████| 915/915 [00:10<00:00, 84.49it/s, accuracy=82.3, loss=0.769]\n"
     ]
    },
    {
     "name": "stdout",
     "output_type": "stream",
     "text": [
      "Epoch [93/200], Loss: 0.39685222960072136, Accuracy: 82.3224043715847%\n"
     ]
    },
    {
     "name": "stderr",
     "output_type": "stream",
     "text": [
      "Epoch 94/200: 100%|██████████| 915/915 [00:10<00:00, 84.60it/s, accuracy=82.5, loss=0.105]\n"
     ]
    },
    {
     "name": "stdout",
     "output_type": "stream",
     "text": [
      "Epoch [94/200], Loss: 0.39518953389157363, Accuracy: 82.48633879781421%\n"
     ]
    },
    {
     "name": "stderr",
     "output_type": "stream",
     "text": [
      "Epoch 95/200: 100%|██████████| 915/915 [00:10<00:00, 84.64it/s, accuracy=82.5, loss=0.159]\n"
     ]
    },
    {
     "name": "stdout",
     "output_type": "stream",
     "text": [
      "Epoch [95/200], Loss: 0.39245201376536504, Accuracy: 82.45901639344262%\n"
     ]
    },
    {
     "name": "stderr",
     "output_type": "stream",
     "text": [
      "Epoch 96/200: 100%|██████████| 915/915 [00:10<00:00, 84.35it/s, accuracy=82.7, loss=0.216]\n"
     ]
    },
    {
     "name": "stdout",
     "output_type": "stream",
     "text": [
      "Epoch [96/200], Loss: 0.38718479254125243, Accuracy: 82.73224043715847%\n"
     ]
    },
    {
     "name": "stderr",
     "output_type": "stream",
     "text": [
      "Epoch 97/200: 100%|██████████| 915/915 [00:10<00:00, 84.27it/s, accuracy=84.1, loss=0.373]\n"
     ]
    },
    {
     "name": "stdout",
     "output_type": "stream",
     "text": [
      "Epoch [97/200], Loss: 0.37807460163256834, Accuracy: 84.1256830601093%\n"
     ]
    },
    {
     "name": "stderr",
     "output_type": "stream",
     "text": [
      "Epoch 98/200: 100%|██████████| 915/915 [00:10<00:00, 84.39it/s, accuracy=82.9, loss=0.412]\n"
     ]
    },
    {
     "name": "stdout",
     "output_type": "stream",
     "text": [
      "Epoch [98/200], Loss: 0.3926834734655469, Accuracy: 82.89617486338798%\n"
     ]
    },
    {
     "name": "stderr",
     "output_type": "stream",
     "text": [
      "Epoch 99/200: 100%|██████████| 915/915 [00:10<00:00, 84.00it/s, accuracy=83.9, loss=0.078]\n"
     ]
    },
    {
     "name": "stdout",
     "output_type": "stream",
     "text": [
      "Epoch [99/200], Loss: 0.3818622880620383, Accuracy: 83.94808743169399%\n"
     ]
    },
    {
     "name": "stderr",
     "output_type": "stream",
     "text": [
      "Epoch 100/200: 100%|██████████| 915/915 [00:10<00:00, 84.58it/s, accuracy=83.6, loss=0.289]\n"
     ]
    },
    {
     "name": "stdout",
     "output_type": "stream",
     "text": [
      "Epoch [100/200], Loss: 0.3818131639494922, Accuracy: 83.5792349726776%\n"
     ]
    },
    {
     "name": "stderr",
     "output_type": "stream",
     "text": [
      "Epoch 101/200: 100%|██████████| 915/915 [00:10<00:00, 84.76it/s, accuracy=82.9, loss=0.219]\n"
     ]
    },
    {
     "name": "stdout",
     "output_type": "stream",
     "text": [
      "Epoch [101/200], Loss: 0.3861851910994353, Accuracy: 82.85519125683061%\n"
     ]
    },
    {
     "name": "stderr",
     "output_type": "stream",
     "text": [
      "Epoch 102/200: 100%|██████████| 915/915 [00:10<00:00, 84.28it/s, accuracy=83.6, loss=0.575]\n"
     ]
    },
    {
     "name": "stdout",
     "output_type": "stream",
     "text": [
      "Epoch [102/200], Loss: 0.38165559828525686, Accuracy: 83.59289617486338%\n"
     ]
    },
    {
     "name": "stderr",
     "output_type": "stream",
     "text": [
      "Epoch 103/200: 100%|██████████| 915/915 [00:10<00:00, 84.29it/s, accuracy=83.2, loss=0.45]\n"
     ]
    },
    {
     "name": "stdout",
     "output_type": "stream",
     "text": [
      "Epoch [103/200], Loss: 0.3770433568522904, Accuracy: 83.18306010928961%\n"
     ]
    },
    {
     "name": "stderr",
     "output_type": "stream",
     "text": [
      "Epoch 104/200: 100%|██████████| 915/915 [00:10<00:00, 83.97it/s, accuracy=83.6, loss=0.327]\n"
     ]
    },
    {
     "name": "stdout",
     "output_type": "stream",
     "text": [
      "Epoch [104/200], Loss: 0.37432088632686217, Accuracy: 83.55191256830601%\n"
     ]
    },
    {
     "name": "stderr",
     "output_type": "stream",
     "text": [
      "Epoch 105/200: 100%|██████████| 915/915 [00:10<00:00, 84.52it/s, accuracy=83.7, loss=0.292]\n"
     ]
    },
    {
     "name": "stdout",
     "output_type": "stream",
     "text": [
      "Epoch [105/200], Loss: 0.37910729976462537, Accuracy: 83.71584699453553%\n"
     ]
    },
    {
     "name": "stderr",
     "output_type": "stream",
     "text": [
      "Epoch 106/200: 100%|██████████| 915/915 [00:10<00:00, 84.72it/s, accuracy=84.1, loss=0.32]\n"
     ]
    },
    {
     "name": "stdout",
     "output_type": "stream",
     "text": [
      "Epoch [106/200], Loss: 0.371693442440261, Accuracy: 84.13934426229508%\n"
     ]
    },
    {
     "name": "stderr",
     "output_type": "stream",
     "text": [
      "Epoch 107/200: 100%|██████████| 915/915 [00:10<00:00, 84.66it/s, accuracy=83.5, loss=0.245]\n"
     ]
    },
    {
     "name": "stdout",
     "output_type": "stream",
     "text": [
      "Epoch [107/200], Loss: 0.37555781970095764, Accuracy: 83.52459016393442%\n"
     ]
    },
    {
     "name": "stderr",
     "output_type": "stream",
     "text": [
      "Epoch 108/200: 100%|██████████| 915/915 [00:10<00:00, 84.24it/s, accuracy=83.9, loss=0.315]\n"
     ]
    },
    {
     "name": "stdout",
     "output_type": "stream",
     "text": [
      "Epoch [108/200], Loss: 0.37110929724052955, Accuracy: 83.86612021857924%\n"
     ]
    },
    {
     "name": "stderr",
     "output_type": "stream",
     "text": [
      "Epoch 109/200: 100%|██████████| 915/915 [00:10<00:00, 84.36it/s, accuracy=83.8, loss=0.227]\n"
     ]
    },
    {
     "name": "stdout",
     "output_type": "stream",
     "text": [
      "Epoch [109/200], Loss: 0.3772054548777355, Accuracy: 83.79781420765028%\n"
     ]
    },
    {
     "name": "stderr",
     "output_type": "stream",
     "text": [
      "Epoch 110/200: 100%|██████████| 915/915 [00:10<00:00, 84.09it/s, accuracy=83.9, loss=0.09]\n"
     ]
    },
    {
     "name": "stdout",
     "output_type": "stream",
     "text": [
      "Epoch [110/200], Loss: 0.369143268079217, Accuracy: 83.94808743169399%\n"
     ]
    },
    {
     "name": "stderr",
     "output_type": "stream",
     "text": [
      "Epoch 111/200: 100%|██████████| 915/915 [00:10<00:00, 84.22it/s, accuracy=83.8, loss=0.659]\n"
     ]
    },
    {
     "name": "stdout",
     "output_type": "stream",
     "text": [
      "Epoch [111/200], Loss: 0.37283055320219266, Accuracy: 83.79781420765028%\n"
     ]
    },
    {
     "name": "stderr",
     "output_type": "stream",
     "text": [
      "Epoch 112/200: 100%|██████████| 915/915 [00:10<00:00, 84.76it/s, accuracy=83.6, loss=0.19]\n"
     ]
    },
    {
     "name": "stdout",
     "output_type": "stream",
     "text": [
      "Epoch [112/200], Loss: 0.3643257209247416, Accuracy: 83.63387978142076%\n"
     ]
    },
    {
     "name": "stderr",
     "output_type": "stream",
     "text": [
      "Epoch 113/200: 100%|██████████| 915/915 [00:10<00:00, 84.70it/s, accuracy=84.3, loss=0.697]\n"
     ]
    },
    {
     "name": "stdout",
     "output_type": "stream",
     "text": [
      "Epoch [113/200], Loss: 0.3645871730327932, Accuracy: 84.30327868852459%\n"
     ]
    },
    {
     "name": "stderr",
     "output_type": "stream",
     "text": [
      "Epoch 114/200: 100%|██████████| 915/915 [00:10<00:00, 84.23it/s, accuracy=83.9, loss=0.192]\n"
     ]
    },
    {
     "name": "stdout",
     "output_type": "stream",
     "text": [
      "Epoch [114/200], Loss: 0.3707227805374913, Accuracy: 83.87978142076503%\n"
     ]
    },
    {
     "name": "stderr",
     "output_type": "stream",
     "text": [
      "Epoch 115/200: 100%|██████████| 915/915 [00:10<00:00, 84.73it/s, accuracy=84.8, loss=0.637]\n"
     ]
    },
    {
     "name": "stdout",
     "output_type": "stream",
     "text": [
      "Epoch [115/200], Loss: 0.3576956395222678, Accuracy: 84.84972677595628%\n"
     ]
    },
    {
     "name": "stderr",
     "output_type": "stream",
     "text": [
      "Epoch 116/200: 100%|██████████| 915/915 [00:10<00:00, 84.11it/s, accuracy=84.7, loss=0.0584]\n"
     ]
    },
    {
     "name": "stdout",
     "output_type": "stream",
     "text": [
      "Epoch [116/200], Loss: 0.35591967878608755, Accuracy: 84.72677595628416%\n"
     ]
    },
    {
     "name": "stderr",
     "output_type": "stream",
     "text": [
      "Epoch 117/200: 100%|██████████| 915/915 [00:10<00:00, 84.22it/s, accuracy=84.9, loss=1.02]\n"
     ]
    },
    {
     "name": "stdout",
     "output_type": "stream",
     "text": [
      "Epoch [117/200], Loss: 0.3541878345091649, Accuracy: 84.90437158469945%\n"
     ]
    },
    {
     "name": "stderr",
     "output_type": "stream",
     "text": [
      "Epoch 118/200: 100%|██████████| 915/915 [00:10<00:00, 84.68it/s, accuracy=84.8, loss=0.606]\n"
     ]
    },
    {
     "name": "stdout",
     "output_type": "stream",
     "text": [
      "Epoch [118/200], Loss: 0.3532606362645092, Accuracy: 84.75409836065573%\n"
     ]
    },
    {
     "name": "stderr",
     "output_type": "stream",
     "text": [
      "Epoch 119/200: 100%|██████████| 915/915 [00:10<00:00, 84.40it/s, accuracy=85.8, loss=0.36]\n"
     ]
    },
    {
     "name": "stdout",
     "output_type": "stream",
     "text": [
      "Epoch [119/200], Loss: 0.3416359769801299, Accuracy: 85.83333333333333%\n"
     ]
    },
    {
     "name": "stderr",
     "output_type": "stream",
     "text": [
      "Epoch 120/200: 100%|██████████| 915/915 [00:10<00:00, 84.42it/s, accuracy=84.7, loss=0.318]\n"
     ]
    },
    {
     "name": "stdout",
     "output_type": "stream",
     "text": [
      "Epoch [120/200], Loss: 0.35842916202919733, Accuracy: 84.69945355191257%\n"
     ]
    },
    {
     "name": "stderr",
     "output_type": "stream",
     "text": [
      "Epoch 121/200: 100%|██████████| 915/915 [00:10<00:00, 84.67it/s, accuracy=85.2, loss=0.523]\n"
     ]
    },
    {
     "name": "stdout",
     "output_type": "stream",
     "text": [
      "Epoch [121/200], Loss: 0.3454123008650183, Accuracy: 85.21857923497268%\n"
     ]
    },
    {
     "name": "stderr",
     "output_type": "stream",
     "text": [
      "Epoch 122/200: 100%|██████████| 915/915 [00:10<00:00, 84.41it/s, accuracy=85.5, loss=0.301]\n"
     ]
    },
    {
     "name": "stdout",
     "output_type": "stream",
     "text": [
      "Epoch [122/200], Loss: 0.34661637927746514, Accuracy: 85.46448087431693%\n"
     ]
    },
    {
     "name": "stderr",
     "output_type": "stream",
     "text": [
      "Epoch 123/200: 100%|██████████| 915/915 [00:10<00:00, 83.86it/s, accuracy=84.8, loss=0.288]\n"
     ]
    },
    {
     "name": "stdout",
     "output_type": "stream",
     "text": [
      "Epoch [123/200], Loss: 0.35596508242882013, Accuracy: 84.78142076502732%\n"
     ]
    },
    {
     "name": "stderr",
     "output_type": "stream",
     "text": [
      "Epoch 124/200: 100%|██████████| 915/915 [00:10<00:00, 84.63it/s, accuracy=84.4, loss=0.404]\n"
     ]
    },
    {
     "name": "stdout",
     "output_type": "stream",
     "text": [
      "Epoch [124/200], Loss: 0.36438021479490024, Accuracy: 84.42622950819673%\n"
     ]
    },
    {
     "name": "stderr",
     "output_type": "stream",
     "text": [
      "Epoch 125/200: 100%|██████████| 915/915 [00:10<00:00, 84.27it/s, accuracy=85.6, loss=0.646]\n"
     ]
    },
    {
     "name": "stdout",
     "output_type": "stream",
     "text": [
      "Epoch [125/200], Loss: 0.3465004226060513, Accuracy: 85.61475409836065%\n"
     ]
    },
    {
     "name": "stderr",
     "output_type": "stream",
     "text": [
      "Epoch 126/200: 100%|██████████| 915/915 [00:10<00:00, 84.49it/s, accuracy=85.1, loss=0.46]\n"
     ]
    },
    {
     "name": "stdout",
     "output_type": "stream",
     "text": [
      "Epoch [126/200], Loss: 0.3506337947308854, Accuracy: 85.10928961748634%\n"
     ]
    },
    {
     "name": "stderr",
     "output_type": "stream",
     "text": [
      "Epoch 127/200: 100%|██████████| 915/915 [00:10<00:00, 84.55it/s, accuracy=85.2, loss=0.201]\n"
     ]
    },
    {
     "name": "stdout",
     "output_type": "stream",
     "text": [
      "Epoch [127/200], Loss: 0.3409980151008387, Accuracy: 85.19125683060109%\n"
     ]
    },
    {
     "name": "stderr",
     "output_type": "stream",
     "text": [
      "Epoch 128/200: 100%|██████████| 915/915 [00:10<00:00, 84.43it/s, accuracy=85.7, loss=0.22]\n"
     ]
    },
    {
     "name": "stdout",
     "output_type": "stream",
     "text": [
      "Epoch [128/200], Loss: 0.33809610938480317, Accuracy: 85.68306010928961%\n"
     ]
    },
    {
     "name": "stderr",
     "output_type": "stream",
     "text": [
      "Epoch 129/200: 100%|██████████| 915/915 [00:10<00:00, 84.36it/s, accuracy=86, loss=0.344]\n"
     ]
    },
    {
     "name": "stdout",
     "output_type": "stream",
     "text": [
      "Epoch [129/200], Loss: 0.34218304605106187, Accuracy: 85.98360655737704%\n"
     ]
    },
    {
     "name": "stderr",
     "output_type": "stream",
     "text": [
      "Epoch 130/200: 100%|██████████| 915/915 [00:10<00:00, 83.59it/s, accuracy=85.1, loss=0.156]\n"
     ]
    },
    {
     "name": "stdout",
     "output_type": "stream",
     "text": [
      "Epoch [130/200], Loss: 0.34671255913588517, Accuracy: 85.12295081967213%\n"
     ]
    },
    {
     "name": "stderr",
     "output_type": "stream",
     "text": [
      "Epoch 131/200: 100%|██████████| 915/915 [00:10<00:00, 84.56it/s, accuracy=85.3, loss=0.385]\n"
     ]
    },
    {
     "name": "stdout",
     "output_type": "stream",
     "text": [
      "Epoch [131/200], Loss: 0.3460154727223467, Accuracy: 85.3415300546448%\n"
     ]
    },
    {
     "name": "stderr",
     "output_type": "stream",
     "text": [
      "Epoch 132/200: 100%|██████████| 915/915 [00:10<00:00, 84.56it/s, accuracy=85.7, loss=0.258]\n"
     ]
    },
    {
     "name": "stdout",
     "output_type": "stream",
     "text": [
      "Epoch [132/200], Loss: 0.34143832688693143, Accuracy: 85.68306010928961%\n"
     ]
    },
    {
     "name": "stderr",
     "output_type": "stream",
     "text": [
      "Epoch 133/200: 100%|██████████| 915/915 [00:10<00:00, 84.73it/s, accuracy=86.4, loss=0.333]\n"
     ]
    },
    {
     "name": "stdout",
     "output_type": "stream",
     "text": [
      "Epoch [133/200], Loss: 0.3216951340009443, Accuracy: 86.36612021857924%\n"
     ]
    },
    {
     "name": "stderr",
     "output_type": "stream",
     "text": [
      "Epoch 134/200: 100%|██████████| 915/915 [00:10<00:00, 84.38it/s, accuracy=85.9, loss=0.232]\n"
     ]
    },
    {
     "name": "stdout",
     "output_type": "stream",
     "text": [
      "Epoch [134/200], Loss: 0.33599340494701774, Accuracy: 85.92896174863388%\n"
     ]
    },
    {
     "name": "stderr",
     "output_type": "stream",
     "text": [
      "Epoch 135/200: 100%|██████████| 915/915 [00:10<00:00, 84.54it/s, accuracy=86.2, loss=0.554]\n"
     ]
    },
    {
     "name": "stdout",
     "output_type": "stream",
     "text": [
      "Epoch [135/200], Loss: 0.33552589699666685, Accuracy: 86.16120218579235%\n"
     ]
    },
    {
     "name": "stderr",
     "output_type": "stream",
     "text": [
      "Epoch 136/200: 100%|██████████| 915/915 [00:10<00:00, 83.87it/s, accuracy=85.9, loss=0.172]\n"
     ]
    },
    {
     "name": "stdout",
     "output_type": "stream",
     "text": [
      "Epoch [136/200], Loss: 0.3291973051396224, Accuracy: 85.94262295081967%\n"
     ]
    },
    {
     "name": "stderr",
     "output_type": "stream",
     "text": [
      "Epoch 137/200: 100%|██████████| 915/915 [00:10<00:00, 83.76it/s, accuracy=85.5, loss=0.0596]\n"
     ]
    },
    {
     "name": "stdout",
     "output_type": "stream",
     "text": [
      "Epoch [137/200], Loss: 0.34385278747096415, Accuracy: 85.5327868852459%\n"
     ]
    },
    {
     "name": "stderr",
     "output_type": "stream",
     "text": [
      "Epoch 138/200: 100%|██████████| 915/915 [00:10<00:00, 84.50it/s, accuracy=86.5, loss=0.4]\n"
     ]
    },
    {
     "name": "stdout",
     "output_type": "stream",
     "text": [
      "Epoch [138/200], Loss: 0.323477481395169, Accuracy: 86.47540983606558%\n"
     ]
    },
    {
     "name": "stderr",
     "output_type": "stream",
     "text": [
      "Epoch 139/200: 100%|██████████| 915/915 [00:10<00:00, 84.31it/s, accuracy=86.2, loss=0.094]\n"
     ]
    },
    {
     "name": "stdout",
     "output_type": "stream",
     "text": [
      "Epoch [139/200], Loss: 0.3319617028872335, Accuracy: 86.16120218579235%\n"
     ]
    },
    {
     "name": "stderr",
     "output_type": "stream",
     "text": [
      "Epoch 140/200: 100%|██████████| 915/915 [00:10<00:00, 84.68it/s, accuracy=86.4, loss=0.485]\n"
     ]
    },
    {
     "name": "stdout",
     "output_type": "stream",
     "text": [
      "Epoch [140/200], Loss: 0.32515320980239437, Accuracy: 86.36612021857924%\n"
     ]
    },
    {
     "name": "stderr",
     "output_type": "stream",
     "text": [
      "Epoch 141/200: 100%|██████████| 915/915 [00:10<00:00, 84.63it/s, accuracy=85.2, loss=0.0893]\n"
     ]
    },
    {
     "name": "stdout",
     "output_type": "stream",
     "text": [
      "Epoch [141/200], Loss: 0.34578957188813414, Accuracy: 85.1639344262295%\n"
     ]
    },
    {
     "name": "stderr",
     "output_type": "stream",
     "text": [
      "Epoch 142/200: 100%|██████████| 915/915 [00:10<00:00, 84.21it/s, accuracy=86, loss=0.302]\n"
     ]
    },
    {
     "name": "stdout",
     "output_type": "stream",
     "text": [
      "Epoch [142/200], Loss: 0.322458067277823, Accuracy: 86.01092896174863%\n"
     ]
    },
    {
     "name": "stderr",
     "output_type": "stream",
     "text": [
      "Epoch 143/200: 100%|██████████| 915/915 [00:10<00:00, 83.59it/s, accuracy=85.8, loss=0.253]\n"
     ]
    },
    {
     "name": "stdout",
     "output_type": "stream",
     "text": [
      "Epoch [143/200], Loss: 0.33214979202084527, Accuracy: 85.76502732240438%\n"
     ]
    },
    {
     "name": "stderr",
     "output_type": "stream",
     "text": [
      "Epoch 144/200: 100%|██████████| 915/915 [00:10<00:00, 84.15it/s, accuracy=86.7, loss=0.156]\n"
     ]
    },
    {
     "name": "stdout",
     "output_type": "stream",
     "text": [
      "Epoch [144/200], Loss: 0.3228244523736623, Accuracy: 86.73497267759562%\n"
     ]
    },
    {
     "name": "stderr",
     "output_type": "stream",
     "text": [
      "Epoch 145/200: 100%|██████████| 915/915 [00:10<00:00, 84.44it/s, accuracy=86.7, loss=0.711]\n"
     ]
    },
    {
     "name": "stdout",
     "output_type": "stream",
     "text": [
      "Epoch [145/200], Loss: 0.32332871484626186, Accuracy: 86.68032786885246%\n"
     ]
    },
    {
     "name": "stderr",
     "output_type": "stream",
     "text": [
      "Epoch 146/200: 100%|██████████| 915/915 [00:10<00:00, 84.68it/s, accuracy=86.7, loss=0.131]\n"
     ]
    },
    {
     "name": "stdout",
     "output_type": "stream",
     "text": [
      "Epoch [146/200], Loss: 0.3190110662575465, Accuracy: 86.74863387978142%\n"
     ]
    },
    {
     "name": "stderr",
     "output_type": "stream",
     "text": [
      "Epoch 147/200: 100%|██████████| 915/915 [00:10<00:00, 84.56it/s, accuracy=86.2, loss=0.421]\n"
     ]
    },
    {
     "name": "stdout",
     "output_type": "stream",
     "text": [
      "Epoch [147/200], Loss: 0.32496982733286467, Accuracy: 86.20218579234972%\n"
     ]
    },
    {
     "name": "stderr",
     "output_type": "stream",
     "text": [
      "Epoch 148/200: 100%|██████████| 915/915 [00:10<00:00, 84.31it/s, accuracy=86.6, loss=0.335]\n"
     ]
    },
    {
     "name": "stdout",
     "output_type": "stream",
     "text": [
      "Epoch [148/200], Loss: 0.3172646541229851, Accuracy: 86.55737704918033%\n"
     ]
    },
    {
     "name": "stderr",
     "output_type": "stream",
     "text": [
      "Epoch 149/200: 100%|██████████| 915/915 [00:10<00:00, 84.09it/s, accuracy=87.6, loss=0.33]\n"
     ]
    },
    {
     "name": "stdout",
     "output_type": "stream",
     "text": [
      "Epoch [149/200], Loss: 0.3022036880091891, Accuracy: 87.63661202185793%\n"
     ]
    },
    {
     "name": "stderr",
     "output_type": "stream",
     "text": [
      "Epoch 150/200: 100%|██████████| 915/915 [00:10<00:00, 84.16it/s, accuracy=86.7, loss=0.733]\n"
     ]
    },
    {
     "name": "stdout",
     "output_type": "stream",
     "text": [
      "Epoch [150/200], Loss: 0.32227886438451175, Accuracy: 86.73497267759562%\n"
     ]
    },
    {
     "name": "stderr",
     "output_type": "stream",
     "text": [
      "Epoch 151/200: 100%|██████████| 915/915 [00:10<00:00, 83.95it/s, accuracy=86.5, loss=0.202]\n"
     ]
    },
    {
     "name": "stdout",
     "output_type": "stream",
     "text": [
      "Epoch [151/200], Loss: 0.3244491786416111, Accuracy: 86.51639344262296%\n"
     ]
    },
    {
     "name": "stderr",
     "output_type": "stream",
     "text": [
      "Epoch 152/200: 100%|██████████| 915/915 [00:10<00:00, 84.60it/s, accuracy=87, loss=0.507]\n"
     ]
    },
    {
     "name": "stdout",
     "output_type": "stream",
     "text": [
      "Epoch [152/200], Loss: 0.3118079112812144, Accuracy: 87.04918032786885%\n"
     ]
    },
    {
     "name": "stderr",
     "output_type": "stream",
     "text": [
      "Epoch 153/200: 100%|██████████| 915/915 [00:10<00:00, 84.61it/s, accuracy=87.1, loss=0.367]\n"
     ]
    },
    {
     "name": "stdout",
     "output_type": "stream",
     "text": [
      "Epoch [153/200], Loss: 0.3102024985446793, Accuracy: 87.10382513661202%\n"
     ]
    },
    {
     "name": "stderr",
     "output_type": "stream",
     "text": [
      "Epoch 154/200: 100%|██████████| 915/915 [00:10<00:00, 84.04it/s, accuracy=86.9, loss=0.907]\n"
     ]
    },
    {
     "name": "stdout",
     "output_type": "stream",
     "text": [
      "Epoch [154/200], Loss: 0.3177621768125908, Accuracy: 86.88524590163935%\n"
     ]
    },
    {
     "name": "stderr",
     "output_type": "stream",
     "text": [
      "Epoch 155/200: 100%|██████████| 915/915 [00:10<00:00, 84.55it/s, accuracy=87.3, loss=0.124]\n"
     ]
    },
    {
     "name": "stdout",
     "output_type": "stream",
     "text": [
      "Epoch [155/200], Loss: 0.30637626371300614, Accuracy: 87.3360655737705%\n"
     ]
    },
    {
     "name": "stderr",
     "output_type": "stream",
     "text": [
      "Epoch 156/200: 100%|██████████| 915/915 [00:10<00:00, 84.23it/s, accuracy=87.3, loss=0.288]\n"
     ]
    },
    {
     "name": "stdout",
     "output_type": "stream",
     "text": [
      "Epoch [156/200], Loss: 0.30552508236606263, Accuracy: 87.34972677595628%\n"
     ]
    },
    {
     "name": "stderr",
     "output_type": "stream",
     "text": [
      "Epoch 157/200: 100%|██████████| 915/915 [00:10<00:00, 83.32it/s, accuracy=87.4, loss=0.272]\n"
     ]
    },
    {
     "name": "stdout",
     "output_type": "stream",
     "text": [
      "Epoch [157/200], Loss: 0.3040993251944663, Accuracy: 87.39071038251366%\n"
     ]
    },
    {
     "name": "stderr",
     "output_type": "stream",
     "text": [
      "Epoch 158/200: 100%|██████████| 915/915 [00:10<00:00, 84.55it/s, accuracy=87.4, loss=0.305]\n"
     ]
    },
    {
     "name": "stdout",
     "output_type": "stream",
     "text": [
      "Epoch [158/200], Loss: 0.31636472179712166, Accuracy: 87.36338797814207%\n"
     ]
    },
    {
     "name": "stderr",
     "output_type": "stream",
     "text": [
      "Epoch 159/200: 100%|██████████| 915/915 [00:10<00:00, 84.66it/s, accuracy=87.9, loss=0.439]\n"
     ]
    },
    {
     "name": "stdout",
     "output_type": "stream",
     "text": [
      "Epoch [159/200], Loss: 0.29653171153097857, Accuracy: 87.88251366120218%\n"
     ]
    },
    {
     "name": "stderr",
     "output_type": "stream",
     "text": [
      "Epoch 160/200: 100%|██████████| 915/915 [00:10<00:00, 84.30it/s, accuracy=88, loss=0.157]\n"
     ]
    },
    {
     "name": "stdout",
     "output_type": "stream",
     "text": [
      "Epoch [160/200], Loss: 0.2926939705335866, Accuracy: 88.00546448087432%\n"
     ]
    },
    {
     "name": "stderr",
     "output_type": "stream",
     "text": [
      "Epoch 161/200: 100%|██████████| 915/915 [00:10<00:00, 84.60it/s, accuracy=88.6, loss=0.0975]\n"
     ]
    },
    {
     "name": "stdout",
     "output_type": "stream",
     "text": [
      "Epoch [161/200], Loss: 0.2857900124633573, Accuracy: 88.5792349726776%\n"
     ]
    },
    {
     "name": "stderr",
     "output_type": "stream",
     "text": [
      "Epoch 162/200: 100%|██████████| 915/915 [00:10<00:00, 84.36it/s, accuracy=88.2, loss=0.0978]\n"
     ]
    },
    {
     "name": "stdout",
     "output_type": "stream",
     "text": [
      "Epoch [162/200], Loss: 0.29558175865336844, Accuracy: 88.2103825136612%\n"
     ]
    },
    {
     "name": "stderr",
     "output_type": "stream",
     "text": [
      "Epoch 163/200: 100%|██████████| 915/915 [00:10<00:00, 83.56it/s, accuracy=88.3, loss=0.249]\n"
     ]
    },
    {
     "name": "stdout",
     "output_type": "stream",
     "text": [
      "Epoch [163/200], Loss: 0.29002488757906064, Accuracy: 88.27868852459017%\n"
     ]
    },
    {
     "name": "stderr",
     "output_type": "stream",
     "text": [
      "Epoch 164/200: 100%|██████████| 915/915 [00:10<00:00, 83.28it/s, accuracy=83, loss=0.412]\n"
     ]
    },
    {
     "name": "stdout",
     "output_type": "stream",
     "text": [
      "Epoch [164/200], Loss: 0.41896194596596753, Accuracy: 82.96448087431693%\n"
     ]
    },
    {
     "name": "stderr",
     "output_type": "stream",
     "text": [
      "Epoch 165/200: 100%|██████████| 915/915 [00:10<00:00, 84.26it/s, accuracy=84.6, loss=0.301]\n"
     ]
    },
    {
     "name": "stdout",
     "output_type": "stream",
     "text": [
      "Epoch [165/200], Loss: 0.36499563520723355, Accuracy: 84.57650273224044%\n"
     ]
    },
    {
     "name": "stderr",
     "output_type": "stream",
     "text": [
      "Epoch 166/200: 100%|██████████| 915/915 [00:10<00:00, 84.32it/s, accuracy=85, loss=0.233]\n"
     ]
    },
    {
     "name": "stdout",
     "output_type": "stream",
     "text": [
      "Epoch [166/200], Loss: 0.35984000275980255, Accuracy: 85.02732240437159%\n"
     ]
    },
    {
     "name": "stderr",
     "output_type": "stream",
     "text": [
      "Epoch 167/200: 100%|██████████| 915/915 [00:10<00:00, 84.71it/s, accuracy=85, loss=0.345]\n"
     ]
    },
    {
     "name": "stdout",
     "output_type": "stream",
     "text": [
      "Epoch [167/200], Loss: 0.34941580654045595, Accuracy: 85.02732240437159%\n"
     ]
    },
    {
     "name": "stderr",
     "output_type": "stream",
     "text": [
      "Epoch 168/200: 100%|██████████| 915/915 [00:10<00:00, 84.54it/s, accuracy=86.9, loss=0.576]\n"
     ]
    },
    {
     "name": "stdout",
     "output_type": "stream",
     "text": [
      "Epoch [168/200], Loss: 0.31838742818255894, Accuracy: 86.87158469945355%\n"
     ]
    },
    {
     "name": "stderr",
     "output_type": "stream",
     "text": [
      "Epoch 169/200: 100%|██████████| 915/915 [00:10<00:00, 84.74it/s, accuracy=87, loss=0.0577]\n"
     ]
    },
    {
     "name": "stdout",
     "output_type": "stream",
     "text": [
      "Epoch [169/200], Loss: 0.3202064845507425, Accuracy: 87.02185792349727%\n"
     ]
    },
    {
     "name": "stderr",
     "output_type": "stream",
     "text": [
      "Epoch 170/200: 100%|██████████| 915/915 [00:10<00:00, 84.62it/s, accuracy=87.4, loss=0.196]\n"
     ]
    },
    {
     "name": "stdout",
     "output_type": "stream",
     "text": [
      "Epoch [170/200], Loss: 0.30625273298085387, Accuracy: 87.44535519125684%\n"
     ]
    },
    {
     "name": "stderr",
     "output_type": "stream",
     "text": [
      "Epoch 171/200: 100%|██████████| 915/915 [00:10<00:00, 84.26it/s, accuracy=87, loss=0.144]\n"
     ]
    },
    {
     "name": "stdout",
     "output_type": "stream",
     "text": [
      "Epoch [171/200], Loss: 0.30924719045233856, Accuracy: 87.04918032786885%\n"
     ]
    },
    {
     "name": "stderr",
     "output_type": "stream",
     "text": [
      "Epoch 172/200: 100%|██████████| 915/915 [00:10<00:00, 84.66it/s, accuracy=87.1, loss=0.276]\n"
     ]
    },
    {
     "name": "stdout",
     "output_type": "stream",
     "text": [
      "Epoch [172/200], Loss: 0.3094032397605682, Accuracy: 87.06284153005464%\n"
     ]
    },
    {
     "name": "stderr",
     "output_type": "stream",
     "text": [
      "Epoch 173/200: 100%|██████████| 915/915 [00:10<00:00, 84.62it/s, accuracy=88.4, loss=0.202]\n"
     ]
    },
    {
     "name": "stdout",
     "output_type": "stream",
     "text": [
      "Epoch [173/200], Loss: 0.2858775541145619, Accuracy: 88.4153005464481%\n"
     ]
    },
    {
     "name": "stderr",
     "output_type": "stream",
     "text": [
      "Epoch 174/200: 100%|██████████| 915/915 [00:10<00:00, 84.33it/s, accuracy=88.2, loss=1.08]\n"
     ]
    },
    {
     "name": "stdout",
     "output_type": "stream",
     "text": [
      "Epoch [174/200], Loss: 0.28908960244165416, Accuracy: 88.16939890710383%\n"
     ]
    },
    {
     "name": "stderr",
     "output_type": "stream",
     "text": [
      "Epoch 175/200: 100%|██████████| 915/915 [00:10<00:00, 84.41it/s, accuracy=88.1, loss=0.18]\n"
     ]
    },
    {
     "name": "stdout",
     "output_type": "stream",
     "text": [
      "Epoch [175/200], Loss: 0.294070207828381, Accuracy: 88.11475409836065%\n"
     ]
    },
    {
     "name": "stderr",
     "output_type": "stream",
     "text": [
      "Epoch 176/200: 100%|██████████| 915/915 [00:10<00:00, 84.53it/s, accuracy=88.3, loss=0.0748]\n"
     ]
    },
    {
     "name": "stdout",
     "output_type": "stream",
     "text": [
      "Epoch [176/200], Loss: 0.29157743299878686, Accuracy: 88.29234972677595%\n"
     ]
    },
    {
     "name": "stderr",
     "output_type": "stream",
     "text": [
      "Epoch 177/200: 100%|██████████| 915/915 [00:10<00:00, 83.80it/s, accuracy=88, loss=0.186]\n"
     ]
    },
    {
     "name": "stdout",
     "output_type": "stream",
     "text": [
      "Epoch [177/200], Loss: 0.29372582676225023, Accuracy: 87.96448087431693%\n"
     ]
    },
    {
     "name": "stderr",
     "output_type": "stream",
     "text": [
      "Epoch 178/200: 100%|██████████| 915/915 [00:10<00:00, 84.62it/s, accuracy=89, loss=0.425]\n"
     ]
    },
    {
     "name": "stdout",
     "output_type": "stream",
     "text": [
      "Epoch [178/200], Loss: 0.28445933030439857, Accuracy: 88.96174863387978%\n"
     ]
    },
    {
     "name": "stderr",
     "output_type": "stream",
     "text": [
      "Epoch 179/200: 100%|██████████| 915/915 [00:10<00:00, 84.74it/s, accuracy=88.6, loss=0.278]\n"
     ]
    },
    {
     "name": "stdout",
     "output_type": "stream",
     "text": [
      "Epoch [179/200], Loss: 0.28628093227540535, Accuracy: 88.63387978142076%\n"
     ]
    },
    {
     "name": "stderr",
     "output_type": "stream",
     "text": [
      "Epoch 180/200: 100%|██████████| 915/915 [00:10<00:00, 84.25it/s, accuracy=88.2, loss=0.0593]\n"
     ]
    },
    {
     "name": "stdout",
     "output_type": "stream",
     "text": [
      "Epoch [180/200], Loss: 0.28583038229637786, Accuracy: 88.18306010928961%\n"
     ]
    },
    {
     "name": "stderr",
     "output_type": "stream",
     "text": [
      "Epoch 181/200: 100%|██████████| 915/915 [00:10<00:00, 84.64it/s, accuracy=89.1, loss=0.223]\n"
     ]
    },
    {
     "name": "stdout",
     "output_type": "stream",
     "text": [
      "Epoch [181/200], Loss: 0.27514618290944504, Accuracy: 89.13934426229508%\n"
     ]
    },
    {
     "name": "stderr",
     "output_type": "stream",
     "text": [
      "Epoch 182/200: 100%|██████████| 915/915 [00:10<00:00, 84.68it/s, accuracy=88.7, loss=0.208]\n"
     ]
    },
    {
     "name": "stdout",
     "output_type": "stream",
     "text": [
      "Epoch [182/200], Loss: 0.2786045589550434, Accuracy: 88.71584699453553%\n"
     ]
    },
    {
     "name": "stderr",
     "output_type": "stream",
     "text": [
      "Epoch 183/200: 100%|██████████| 915/915 [00:10<00:00, 84.60it/s, accuracy=89.3, loss=0.268]\n"
     ]
    },
    {
     "name": "stdout",
     "output_type": "stream",
     "text": [
      "Epoch [183/200], Loss: 0.2695735544800921, Accuracy: 89.2896174863388%\n"
     ]
    },
    {
     "name": "stderr",
     "output_type": "stream",
     "text": [
      "Epoch 184/200: 100%|██████████| 915/915 [00:10<00:00, 84.60it/s, accuracy=88.7, loss=0.125]\n"
     ]
    },
    {
     "name": "stdout",
     "output_type": "stream",
     "text": [
      "Epoch [184/200], Loss: 0.27932271279720333, Accuracy: 88.67486338797814%\n"
     ]
    },
    {
     "name": "stderr",
     "output_type": "stream",
     "text": [
      "Epoch 185/200: 100%|██████████| 915/915 [00:10<00:00, 84.39it/s, accuracy=88.9, loss=0.118]\n"
     ]
    },
    {
     "name": "stdout",
     "output_type": "stream",
     "text": [
      "Epoch [185/200], Loss: 0.278100113413943, Accuracy: 88.9207650273224%\n"
     ]
    },
    {
     "name": "stderr",
     "output_type": "stream",
     "text": [
      "Epoch 186/200: 100%|██████████| 915/915 [00:10<00:00, 84.66it/s, accuracy=90.1, loss=0.183]\n"
     ]
    },
    {
     "name": "stdout",
     "output_type": "stream",
     "text": [
      "Epoch [186/200], Loss: 0.2629574251508778, Accuracy: 90.05464480874316%\n"
     ]
    },
    {
     "name": "stderr",
     "output_type": "stream",
     "text": [
      "Epoch 187/200: 100%|██████████| 915/915 [00:10<00:00, 84.52it/s, accuracy=88.9, loss=0.0595]\n"
     ]
    },
    {
     "name": "stdout",
     "output_type": "stream",
     "text": [
      "Epoch [187/200], Loss: 0.27695812446782825, Accuracy: 88.93442622950819%\n"
     ]
    },
    {
     "name": "stderr",
     "output_type": "stream",
     "text": [
      "Epoch 188/200: 100%|██████████| 915/915 [00:10<00:00, 84.13it/s, accuracy=89.1, loss=0.625]\n"
     ]
    },
    {
     "name": "stdout",
     "output_type": "stream",
     "text": [
      "Epoch [188/200], Loss: 0.2712866358723634, Accuracy: 89.07103825136612%\n"
     ]
    },
    {
     "name": "stderr",
     "output_type": "stream",
     "text": [
      "Epoch 189/200: 100%|██████████| 915/915 [00:10<00:00, 84.38it/s, accuracy=87.4, loss=0.0521]\n"
     ]
    },
    {
     "name": "stdout",
     "output_type": "stream",
     "text": [
      "Epoch [189/200], Loss: 0.31156960588172483, Accuracy: 87.43169398907104%\n"
     ]
    },
    {
     "name": "stderr",
     "output_type": "stream",
     "text": [
      "Epoch 190/200: 100%|██████████| 915/915 [00:10<00:00, 84.71it/s, accuracy=89.1, loss=0.483]\n"
     ]
    },
    {
     "name": "stdout",
     "output_type": "stream",
     "text": [
      "Epoch [190/200], Loss: 0.2722079391962762, Accuracy: 89.09836065573771%\n"
     ]
    },
    {
     "name": "stderr",
     "output_type": "stream",
     "text": [
      "Epoch 191/200: 100%|██████████| 915/915 [00:10<00:00, 84.45it/s, accuracy=89.4, loss=0.68]\n"
     ]
    },
    {
     "name": "stdout",
     "output_type": "stream",
     "text": [
      "Epoch [191/200], Loss: 0.2708495062353507, Accuracy: 89.35792349726776%\n"
     ]
    },
    {
     "name": "stderr",
     "output_type": "stream",
     "text": [
      "Epoch 192/200: 100%|██████████| 915/915 [00:10<00:00, 84.57it/s, accuracy=89, loss=0.121]\n"
     ]
    },
    {
     "name": "stdout",
     "output_type": "stream",
     "text": [
      "Epoch [192/200], Loss: 0.2782280200166129, Accuracy: 89.01639344262296%\n"
     ]
    },
    {
     "name": "stderr",
     "output_type": "stream",
     "text": [
      "Epoch 193/200: 100%|██████████| 915/915 [00:10<00:00, 84.58it/s, accuracy=89.4, loss=0.223]\n"
     ]
    },
    {
     "name": "stdout",
     "output_type": "stream",
     "text": [
      "Epoch [193/200], Loss: 0.26142576663586936, Accuracy: 89.39890710382514%\n"
     ]
    },
    {
     "name": "stderr",
     "output_type": "stream",
     "text": [
      "Epoch 194/200: 100%|██████████| 915/915 [00:10<00:00, 84.19it/s, accuracy=89.5, loss=0.33]\n"
     ]
    },
    {
     "name": "stdout",
     "output_type": "stream",
     "text": [
      "Epoch [194/200], Loss: 0.2649642183257094, Accuracy: 89.53551912568307%\n"
     ]
    },
    {
     "name": "stderr",
     "output_type": "stream",
     "text": [
      "Epoch 195/200: 100%|██████████| 915/915 [00:10<00:00, 84.45it/s, accuracy=89.5, loss=0.621]\n"
     ]
    },
    {
     "name": "stdout",
     "output_type": "stream",
     "text": [
      "Epoch [195/200], Loss: 0.272754578076588, Accuracy: 89.49453551912568%\n"
     ]
    },
    {
     "name": "stderr",
     "output_type": "stream",
     "text": [
      "Epoch 196/200: 100%|██████████| 915/915 [00:10<00:00, 84.59it/s, accuracy=90.4, loss=0.326]\n"
     ]
    },
    {
     "name": "stdout",
     "output_type": "stream",
     "text": [
      "Epoch [196/200], Loss: 0.24500253178749254, Accuracy: 90.42349726775956%\n"
     ]
    },
    {
     "name": "stderr",
     "output_type": "stream",
     "text": [
      "Epoch 197/200: 100%|██████████| 915/915 [00:10<00:00, 84.32it/s, accuracy=89.2, loss=0.74]\n"
     ]
    },
    {
     "name": "stdout",
     "output_type": "stream",
     "text": [
      "Epoch [197/200], Loss: 0.2711443409629044, Accuracy: 89.18032786885246%\n"
     ]
    },
    {
     "name": "stderr",
     "output_type": "stream",
     "text": [
      "Epoch 198/200: 100%|██████████| 915/915 [00:10<00:00, 84.86it/s, accuracy=90.1, loss=0.12]\n"
     ]
    },
    {
     "name": "stdout",
     "output_type": "stream",
     "text": [
      "Epoch [198/200], Loss: 0.2587545057361732, Accuracy: 90.09562841530055%\n"
     ]
    },
    {
     "name": "stderr",
     "output_type": "stream",
     "text": [
      "Epoch 199/200: 100%|██████████| 915/915 [00:10<00:00, 84.58it/s, accuracy=90.3, loss=0.312]\n"
     ]
    },
    {
     "name": "stdout",
     "output_type": "stream",
     "text": [
      "Epoch [199/200], Loss: 0.25165150506533884, Accuracy: 90.31420765027322%\n"
     ]
    },
    {
     "name": "stderr",
     "output_type": "stream",
     "text": [
      "Epoch 200/200: 100%|██████████| 915/915 [00:10<00:00, 84.31it/s, accuracy=89.6, loss=0.105]\n"
     ]
    },
    {
     "name": "stdout",
     "output_type": "stream",
     "text": [
      "Epoch [200/200], Loss: 0.2698015164176786, Accuracy: 89.60382513661202%\n",
      "Average Train Accuracy of the model on the train videos: 81.82441134535996%\n"
     ]
    }
   ],
   "source": [
    "epochs = 200\n",
    "\n",
    "total_correct_all_epochs = 0\n",
    "total_samples_all_epochs = 0\n",
    "\n",
    "# Setup logging\n",
    "logging.basicConfig(filename='training.log', level=logging.INFO)\n",
    "\n",
    "for epoch in range(epochs):\n",
    "    total_correct = 0\n",
    "    total_samples = 0\n",
    "    total_loss = 0.0\n",
    "\n",
    "    # Create tqdm progress bar for training loader\n",
    "    progress_bar = tqdm(enumerate(train_loader), desc=f\"Epoch {epoch + 1}/{epochs}\", total=len(train_loader))\n",
    "\n",
    "    for i, (videos, labels) in progress_bar:\n",
    "        videos = videos.permute(1, 0, 2)\n",
    "        # Forward pass\n",
    "        outputs = model(videos)\n",
    "        labels = labels.long()  # Convert labels to Long type\n",
    "        loss = criterion(outputs, labels) + model.l2_regularization()  # calculates loss\n",
    "        total_loss += loss.item()\n",
    "        # Backward and optimize\n",
    "        optimizer.zero_grad()\n",
    "        loss.backward()\n",
    "        optimizer.step()\n",
    "        # Calculate accuracy per batch\n",
    "        _, predicted = torch.max(outputs.data, 1)\n",
    "        total_samples += labels.size(0)\n",
    "        total_correct += (predicted == labels).sum().item()\n",
    "        batch_accuracy = 100 * total_correct / total_samples\n",
    "\n",
    "        # Update progress bar\n",
    "        progress_bar.set_postfix(loss=loss.item(), accuracy=batch_accuracy)\n",
    "        \n",
    "        # Update overall accuracy counters\n",
    "        total_correct_all_epochs += total_correct\n",
    "        total_samples_all_epochs += total_samples\n",
    "\n",
    "    # Log epoch statistics\n",
    "    epoch_loss = total_loss / len(train_loader)\n",
    "    epoch_accuracy = 100 * total_correct / total_samples\n",
    "    logging.info(f'Epoch [{epoch + 1}/{epochs}], Loss: {epoch_loss}, Accuracy: {epoch_accuracy}%')\n",
    "\n",
    "    print(f'Epoch [{epoch + 1}/{epochs}], Loss: {epoch_loss}, Accuracy: {epoch_accuracy}%')\n",
    "\n",
    "# Close logging\n",
    "logging.shutdown()\n",
    "\n",
    "overall_accuracy = 100 * total_correct_all_epochs / total_samples_all_epochs\n",
    "print(f'Average Train Accuracy of the model on the train videos: {overall_accuracy}%')"
   ]
  },
  {
   "cell_type": "code",
   "execution_count": 12,
   "id": "51baca7a",
   "metadata": {
    "execution": {
     "iopub.execute_input": "2024-03-19T04:27:09.194357Z",
     "iopub.status.busy": "2024-03-19T04:27:09.193478Z",
     "iopub.status.idle": "2024-03-19T04:27:09.975200Z",
     "shell.execute_reply": "2024-03-19T04:27:09.974093Z"
    },
    "papermill": {
     "duration": 17.587947,
     "end_time": "2024-03-19T04:27:09.977342",
     "exception": false,
     "start_time": "2024-03-19T04:26:52.389395",
     "status": "completed"
    },
    "tags": []
   },
   "outputs": [
    {
     "name": "stdout",
     "output_type": "stream",
     "text": [
      "Test Accuracy of the model on the test videos: 80.92896174863388%\n"
     ]
    }
   ],
   "source": [
    "model.eval()\n",
    "\n",
    "with torch.no_grad():\n",
    "    correct = 0\n",
    "    total = 0\n",
    "    for videos, labels in test_loader:\n",
    "        videos = videos.permute(1, 0, 2)\n",
    "        outputs = model(videos)\n",
    "        _, predicted = torch.max(outputs.data, 1)\n",
    "        total += labels.size(0)\n",
    "        correct += (predicted == labels).sum().item()\n",
    "        #print test accuracy per test\n",
    "\n",
    "    print(f'Test Accuracy of the model on the test videos: {100 * correct / total}%')"
   ]
  },
  {
   "cell_type": "code",
   "execution_count": 13,
   "id": "1325c886",
   "metadata": {
    "execution": {
     "iopub.execute_input": "2024-03-19T04:27:43.388845Z",
     "iopub.status.busy": "2024-03-19T04:27:43.388471Z",
     "iopub.status.idle": "2024-03-19T04:27:45.351638Z",
     "shell.execute_reply": "2024-03-19T04:27:45.350758Z"
    },
    "papermill": {
     "duration": 18.678051,
     "end_time": "2024-03-19T04:27:45.353574",
     "exception": false,
     "start_time": "2024-03-19T04:27:26.675523",
     "status": "completed"
    },
    "tags": []
   },
   "outputs": [
    {
     "name": "stdout",
     "output_type": "stream",
     "text": [
      "Confusion Matrix:\n",
      "[[881  34]\n",
      " [315 600]]\n"
     ]
    },
    {
     "data": {
      "image/png": "[encoded data removed]",
      "text/plain": [
       "<Figure size 800x600 with 2 Axes>"
      ]
     },
     "metadata": {},
     "output_type": "display_data"
    }
   ],
   "source": [
    "from sklearn.metrics import confusion_matrix\n",
    "import numpy as np\n",
    "\n",
    "# Set model to evaluation mode\n",
    "model.eval()\n",
    "\n",
    "# Initialize variables for predictions and ground truth labels\n",
    "all_predictions = []\n",
    "all_labels = []\n",
    "\n",
    "# Iterate through the test dataset\n",
    "for videos, labels in test_loader:\n",
    "#     videos = videos.unsqueeze(0)\n",
    "    videos = videos.permute(1, 0, 2)\n",
    "    # Forward pass\n",
    "    outputs = model(videos)\n",
    "    # Predictions\n",
    "    _, predicted = torch.max(outputs.data, 1)\n",
    "    # Append predictions and labels to the lists\n",
    "    all_predictions.extend(predicted.tolist())\n",
    "    all_labels.extend(labels.tolist())\n",
    "\n",
    "# Convert predictions and labels lists to numpy arrays\n",
    "all_predictions = np.array(all_predictions)\n",
    "all_labels = np.array(all_labels)\n",
    "\n",
    "# Generate confusion matrix\n",
    "conf_matrix = confusion_matrix(all_labels, all_predictions)\n",
    "\n",
    "print(\"Confusion Matrix:\")\n",
    "print(conf_matrix)\n",
    "\n",
    "import matplotlib.pyplot as plt\n",
    "import seaborn as sns\n",
    "\n",
    "# Plot confusion matrix\n",
    "plt.figure(figsize=(8, 6))\n",
    "sns.heatmap(conf_matrix, annot=True, fmt=\"d\", cmap=\"Blues\")\n",
    "plt.title(\"Confusion Matrix\")\n",
    "plt.xlabel(\"Predicted\")\n",
    "plt.ylabel(\"True\")\n",
    "plt.show()"
   ]
  },
  {
   "cell_type": "code",
   "execution_count": 14,
   "id": "b53ab5ca",
   "metadata": {
    "execution": {
     "iopub.execute_input": "2024-03-19T04:28:19.009244Z",
     "iopub.status.busy": "2024-03-19T04:28:19.008692Z",
     "iopub.status.idle": "2024-03-19T04:28:20.303370Z",
     "shell.execute_reply": "2024-03-19T04:28:20.302470Z"
    },
    "papermill": {
     "duration": 18.053208,
     "end_time": "2024-03-19T04:28:20.305330",
     "exception": false,
     "start_time": "2024-03-19T04:28:02.252122",
     "status": "completed"
    },
    "tags": []
   },
   "outputs": [
    {
     "data": {
      "image/png": "[encoded data removed]",
      "text/plain": [
       "<Figure size 640x480 with 1 Axes>"
      ]
     },
     "metadata": {},
     "output_type": "display_data"
    },
    {
     "data": {
      "image/png": "[encoded data removed]",
      "text/plain": [
       "<Figure size 640x480 with 1 Axes>"
      ]
     },
     "metadata": {},
     "output_type": "display_data"
    }
   ],
   "source": [
    "from sklearn.metrics import roc_curve, auc, precision_recall_curve, average_precision_score\n",
    "import matplotlib.pyplot as plt\n",
    "\n",
    "# Set model to evaluation mode\n",
    "model.eval()\n",
    "\n",
    "# Initialize variables for predictions and ground truth labels\n",
    "all_probs = []\n",
    "all_labels = []\n",
    "\n",
    "# Iterate through the test dataset\n",
    "for videos, labels in test_loader:\n",
    "#     videos = videos.unsqueeze(0)\n",
    "    videos = videos.permute(1, 0, 2)\n",
    "    # Forward pass\n",
    "    outputs = model(videos)\n",
    "    # Get probabilities\n",
    "    probs = torch.softmax(outputs, dim=1)[:, 1].detach().cpu().numpy()\n",
    "    # Append probabilities and labels to the lists\n",
    "    all_probs.extend(probs.tolist())\n",
    "    all_labels.extend(labels.tolist())\n",
    "\n",
    "# Convert probabilities and labels lists to numpy arrays\n",
    "all_probs = np.array(all_probs)\n",
    "all_labels = np.array(all_labels)\n",
    "\n",
    "# AUC ROC Curve\n",
    "fpr, tpr, _ = roc_curve(all_labels, all_probs)\n",
    "roc_auc = auc(fpr, tpr)\n",
    "\n",
    "plt.figure()\n",
    "plt.plot(fpr, tpr, color='darkorange', lw=2, label='ROC curve (area = %0.2f)' % roc_auc)\n",
    "plt.plot([0, 1], [0, 1], color='navy', lw=2, linestyle='--')\n",
    "plt.xlim([0.0, 1.0])\n",
    "plt.ylim([0.0, 1.05])\n",
    "plt.xlabel('False Positive Rate')\n",
    "plt.ylabel('True Positive Rate')\n",
    "plt.title('Receiver Operating Characteristic (ROC) Curve')\n",
    "plt.legend(loc=\"lower right\")\n",
    "plt.show()\n",
    "\n",
    "# Precision-Recall Curve\n",
    "precision, recall, _ = precision_recall_curve(all_labels, all_probs)\n",
    "average_precision = average_precision_score(all_labels, all_probs)\n",
    "\n",
    "plt.figure()\n",
    "plt.step(recall, precision, color='b', alpha=0.2, where='post')\n",
    "plt.fill_between(recall, precision, step='post', alpha=0.2, color='b')\n",
    "plt.xlabel('Recall')\n",
    "plt.ylabel('Precision')\n",
    "plt.ylim([0.0, 1.05])\n",
    "plt.xlim([0.0, 1.0])\n",
    "plt.title('Precision-Recall Curve (AP={0:0.2f})'.format(average_precision))\n",
    "plt.show()"
   ]
  },
  {
   "cell_type": "code",
   "execution_count": null,
   "id": "bd30e791",
   "metadata": {
    "papermill": {
     "duration": 16.706746,
     "end_time": "2024-03-19T04:28:53.677536",
     "exception": false,
     "start_time": "2024-03-19T04:28:36.970790",
     "status": "completed"
    },
    "tags": []
   },
   "outputs": [],
   "source": []
  }
 ],
 "metadata": {
  "kaggle": {
   "accelerator": "gpu",
   "dataSources": [
    {
     "datasetId": 4611142,
     "sourceId": 7860701,
     "sourceType": "datasetVersion"
    }
   ],
   "dockerImageVersionId": 30665,
   "isGpuEnabled": true,
   "isInternetEnabled": true,
   "language": "python",
   "sourceType": "notebook"
  },
  "kernelspec": {
   "display_name": "Python 3",
   "language": "python",
   "name": "python3"
  },
  "language_info": {
   "codemirror_mode": {
    "name": "ipython",
    "version": 3
   },
   "file_extension": ".py",
   "mimetype": "text/x-python",
   "name": "python",
   "nbconvert_exporter": "python",
   "pygments_lexer": "ipython3",
   "version": "3.10.13"
  },
  "papermill": {
   "default_parameters": {},
   "duration": 2482.066431,
   "end_time": "2024-03-19T04:29:12.185706",
   "environment_variables": {},
   "exception": null,
   "input_path": "__notebook__.ipynb",
   "output_path": "__notebook__.ipynb",
   "parameters": {},
   "start_time": "2024-03-19T03:47:50.119275",
   "version": "2.5.0"
  }
 },
 "nbformat": 4,
 "nbformat_minor": 5
}
