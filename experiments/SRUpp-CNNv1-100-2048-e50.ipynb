{
 "cells": [
  {
   "cell_type": "markdown",
   "id": "82b0e5dc",
   "metadata": {
    "papermill": {
     "duration": 0.0065,
     "end_time": "2024-03-18T20:08:27.918389",
     "exception": false,
     "start_time": "2024-03-18T20:08:27.911889",
     "status": "completed"
    },
    "tags": []
   },
   "source": [
    "## Train SRU model with embedding-cnn-100-v-0-2-0"
   ]
  },
  {
   "cell_type": "markdown",
   "id": "5d829128",
   "metadata": {
    "papermill": {
     "duration": 0.005653,
     "end_time": "2024-03-18T20:08:27.930115",
     "exception": false,
     "start_time": "2024-03-18T20:08:27.924462",
     "status": "completed"
    },
    "tags": []
   },
   "source": [
    "### Installing SRU with v3.0.0"
   ]
  },
  {
   "cell_type": "code",
   "execution_count": 1,
   "id": "fe40d6fa",
   "metadata": {
    "_cell_guid": "b1076dfc-b9ad-4769-8c92-a6c4dae69d19",
    "_uuid": "8f2839f25d086af736a60e9eeb907d3b93b6e0e5",
    "execution": {
     "iopub.execute_input": "2024-03-18T20:08:27.943177Z",
     "iopub.status.busy": "2024-03-18T20:08:27.942831Z",
     "iopub.status.idle": "2024-03-18T20:08:41.330003Z",
     "shell.execute_reply": "2024-03-18T20:08:41.328930Z"
    },
    "papermill": {
     "duration": 13.396339,
     "end_time": "2024-03-18T20:08:41.332326",
     "exception": false,
     "start_time": "2024-03-18T20:08:27.935987",
     "status": "completed"
    },
    "tags": []
   },
   "outputs": [
    {
     "name": "stdout",
     "output_type": "stream",
     "text": [
      "Collecting sru==3.0.0.dev6\r\n",
      "  Downloading sru-3.0.0.dev6-py3-none-any.whl.metadata (3.8 kB)\r\n",
      "Requirement already satisfied: torch>=1.5.1 in /opt/conda/lib/python3.10/site-packages (from sru==3.0.0.dev6) (2.1.2)\r\n",
      "Requirement already satisfied: ninja in /opt/conda/lib/python3.10/site-packages (from sru==3.0.0.dev6) (1.11.1.1)\r\n",
      "Requirement already satisfied: filelock in /opt/conda/lib/python3.10/site-packages (from torch>=1.5.1->sru==3.0.0.dev6) (3.13.1)\r\n",
      "Requirement already satisfied: typing-extensions in /opt/conda/lib/python3.10/site-packages (from torch>=1.5.1->sru==3.0.0.dev6) (4.9.0)\r\n",
      "Requirement already satisfied: sympy in /opt/conda/lib/python3.10/site-packages (from torch>=1.5.1->sru==3.0.0.dev6) (1.12)\r\n",
      "Requirement already satisfied: networkx in /opt/conda/lib/python3.10/site-packages (from torch>=1.5.1->sru==3.0.0.dev6) (3.2.1)\r\n",
      "Requirement already satisfied: jinja2 in /opt/conda/lib/python3.10/site-packages (from torch>=1.5.1->sru==3.0.0.dev6) (3.1.2)\r\n",
      "Requirement already satisfied: fsspec in /opt/conda/lib/python3.10/site-packages (from torch>=1.5.1->sru==3.0.0.dev6) (2024.2.0)\r\n",
      "Requirement already satisfied: MarkupSafe>=2.0 in /opt/conda/lib/python3.10/site-packages (from jinja2->torch>=1.5.1->sru==3.0.0.dev6) (2.1.3)\r\n",
      "Requirement already satisfied: mpmath>=0.19 in /opt/conda/lib/python3.10/site-packages (from sympy->torch>=1.5.1->sru==3.0.0.dev6) (1.3.0)\r\n",
      "Downloading sru-3.0.0.dev6-py3-none-any.whl (30 kB)\r\n",
      "Installing collected packages: sru\r\n",
      "Successfully installed sru-3.0.0.dev6\r\n"
     ]
    }
   ],
   "source": [
    "!pip install sru==3.0.0.dev6"
   ]
  },
  {
   "cell_type": "markdown",
   "id": "954b3949",
   "metadata": {
    "papermill": {
     "duration": 0.006617,
     "end_time": "2024-03-18T20:08:41.345826",
     "exception": false,
     "start_time": "2024-03-18T20:08:41.339209",
     "status": "completed"
    },
    "tags": []
   },
   "source": [
    "### Importing Necessary Libraries"
   ]
  },
  {
   "cell_type": "code",
   "execution_count": 2,
   "id": "330bce42",
   "metadata": {
    "execution": {
     "iopub.execute_input": "2024-03-18T20:08:41.360476Z",
     "iopub.status.busy": "2024-03-18T20:08:41.360136Z",
     "iopub.status.idle": "2024-03-18T20:09:35.229514Z",
     "shell.execute_reply": "2024-03-18T20:09:35.228602Z"
    },
    "papermill": {
     "duration": 53.886049,
     "end_time": "2024-03-18T20:09:35.238356",
     "exception": false,
     "start_time": "2024-03-18T20:08:41.352307",
     "status": "completed"
    },
    "tags": []
   },
   "outputs": [
    {
     "data": {
      "text/plain": [
       "40"
      ]
     },
     "execution_count": 2,
     "metadata": {},
     "output_type": "execute_result"
    }
   ],
   "source": [
    "import logging\n",
    "import os\n",
    "\n",
    "import numpy as np\n",
    "import torch\n",
    "from sklearn.model_selection import train_test_split\n",
    "from sru import SRUpp\n",
    "from torch.nn import CrossEntropyLoss\n",
    "from torch.nn import Module, Dropout, Linear\n",
    "from torch.optim import Adam\n",
    "from torch.utils.data import TensorDataset, DataLoader\n",
    "from tqdm import tqdm\n",
    "import gc\n",
    "\n",
    "gc.collect()"
   ]
  },
  {
   "cell_type": "markdown",
   "id": "a92c772a",
   "metadata": {
    "papermill": {
     "duration": 0.006559,
     "end_time": "2024-03-18T20:09:35.251731",
     "exception": false,
     "start_time": "2024-03-18T20:09:35.245172",
     "status": "completed"
    },
    "tags": []
   },
   "source": [
    "### Set the Device to CUDA"
   ]
  },
  {
   "cell_type": "code",
   "execution_count": 3,
   "id": "72fc0eb8",
   "metadata": {
    "execution": {
     "iopub.execute_input": "2024-03-18T20:09:35.266907Z",
     "iopub.status.busy": "2024-03-18T20:09:35.266046Z",
     "iopub.status.idle": "2024-03-18T20:09:35.431077Z",
     "shell.execute_reply": "2024-03-18T20:09:35.430015Z"
    },
    "papermill": {
     "duration": 0.174831,
     "end_time": "2024-03-18T20:09:35.433216",
     "exception": false,
     "start_time": "2024-03-18T20:09:35.258385",
     "status": "completed"
    },
    "tags": []
   },
   "outputs": [
    {
     "name": "stdout",
     "output_type": "stream",
     "text": [
      "Device selected: cuda\n",
      "Mon Mar 18 20:09:35 2024       \n",
      "+---------------------------------------------------------------------------------------+\n",
      "| NVIDIA-SMI 535.129.03             Driver Version: 535.129.03   CUDA Version: 12.2     |\n",
      "|-----------------------------------------+----------------------+----------------------+\n",
      "| GPU  Name                 Persistence-M | Bus-Id        Disp.A | Volatile Uncorr. ECC |\n",
      "| Fan  Temp   Perf          Pwr:Usage/Cap |         Memory-Usage | GPU-Util  Compute M. |\n",
      "|                                         |                      |               MIG M. |\n",
      "|=========================================+======================+======================|\n",
      "|   0  Tesla P100-PCIE-16GB           Off | 00000000:00:04.0 Off |                    0 |\n",
      "| N/A   35C    P0              27W / 250W |      2MiB / 16384MiB |      0%      Default |\n",
      "|                                         |                      |                  N/A |\n",
      "+-----------------------------------------+----------------------+----------------------+\n",
      "                                                                                         \n",
      "+---------------------------------------------------------------------------------------+\n",
      "| Processes:                                                                            |\n",
      "|  GPU   GI   CI        PID   Type   Process name                            GPU Memory |\n",
      "|        ID   ID                                                             Usage      |\n",
      "|=======================================================================================|\n",
      "|  No running processes found                                                           |\n",
      "+---------------------------------------------------------------------------------------+\n",
      "\n",
      "Device type: cuda\n",
      "Capability: (6, 0)\n"
     ]
    },
    {
     "data": {
      "text/plain": [
       "0"
      ]
     },
     "execution_count": 3,
     "metadata": {},
     "output_type": "execute_result"
    }
   ],
   "source": [
    "# Set the device to use (e.g., 'cpu', 'cuda', 'mps')\n",
    "device = torch.device(\"mps\" if torch.backends.mps.is_available() else\n",
    "                      (\"cuda\" if torch.cuda.is_available() else \"cpu\"))\n",
    "\n",
    "# Select Device According to Availability\n",
    "print(\"Device selected:\", device)\n",
    "\n",
    "# If the device is CUDA, print the device capability\n",
    "if device.type == \"cuda\":\n",
    "    os.system(\"nvidia-smi\")\n",
    "    print()\n",
    "    print(\"Device type:\", device.type)\n",
    "    print(\"Capability:\", torch.cuda.get_device_capability(device))\n",
    "else:\n",
    "    print(\"Device capabilities are limited on MPSs and CPUs.\")\n",
    "\n",
    "gc.collect()"
   ]
  },
  {
   "cell_type": "markdown",
   "id": "534504f7",
   "metadata": {
    "papermill": {
     "duration": 0.007761,
     "end_time": "2024-03-18T20:09:35.447984",
     "exception": false,
     "start_time": "2024-03-18T20:09:35.440223",
     "status": "completed"
    },
    "tags": []
   },
   "source": [
    "\n",
    "### Read the file, Validate and View Shape"
   ]
  },
  {
   "cell_type": "code",
   "execution_count": 4,
   "id": "a9df4b1a",
   "metadata": {
    "execution": {
     "iopub.execute_input": "2024-03-18T20:09:35.463274Z",
     "iopub.status.busy": "2024-03-18T20:09:35.462671Z",
     "iopub.status.idle": "2024-03-18T20:10:41.642687Z",
     "shell.execute_reply": "2024-03-18T20:10:41.641775Z"
    },
    "papermill": {
     "duration": 66.197345,
     "end_time": "2024-03-18T20:10:41.652254",
     "exception": false,
     "start_time": "2024-03-18T20:09:35.454909",
     "status": "completed"
    },
    "tags": []
   },
   "outputs": [
    {
     "name": "stdout",
     "output_type": "stream",
     "text": [
      "Files Loaded Successfully\n",
      "Video Embeddings Shape: (9150, 100, 2048)\n",
      "Video Labels Shape: (9150,)\n"
     ]
    },
    {
     "data": {
      "text/plain": [
       "22"
      ]
     },
     "execution_count": 4,
     "metadata": {},
     "output_type": "execute_result"
    }
   ],
   "source": [
    "# /kaggle/input/embedding-cnn-100-v-0-2-0/train_embeddings.npy\n",
    "\n",
    "file_embeddings = np.load('/kaggle/input/train_embeddings.npy')\n",
    "file_labels = np.load('/kaggle/input/train_labels.npy')\n",
    "\n",
    "# Check if the embeddings and labels are of the same length\n",
    "if len(file_embeddings) != len(file_labels):\n",
    "    raise ValueError(\"The length of the embeddings and labels should be the same\")\n",
    "\n",
    "# check if the embedding is a 3D array\n",
    "if len(file_embeddings.shape) != 3:\n",
    "    raise ValueError(f\"The embeddings should be a 4D array [instances, windows, frames, features].\"\n",
    "                     f\" Found {len(file_embeddings.shape)}D instead.\")\n",
    "\n",
    "print(\"Files Loaded Successfully\")\n",
    "print(\"Video Embeddings Shape:\", file_embeddings.shape)\n",
    "print(\"Video Labels Shape:\", file_labels.shape)\n",
    "gc.collect()"
   ]
  },
  {
   "cell_type": "markdown",
   "id": "a3d053a7",
   "metadata": {
    "papermill": {
     "duration": 0.007024,
     "end_time": "2024-03-18T20:10:41.666307",
     "exception": false,
     "start_time": "2024-03-18T20:10:41.659283",
     "status": "completed"
    },
    "tags": []
   },
   "source": [
    "### Train Test Split, Convert to torch.tensor and View Shape"
   ]
  },
  {
   "cell_type": "code",
   "execution_count": 5,
   "id": "6f5876e6",
   "metadata": {
    "execution": {
     "iopub.execute_input": "2024-03-18T20:10:41.681631Z",
     "iopub.status.busy": "2024-03-18T20:10:41.681338Z",
     "iopub.status.idle": "2024-03-18T20:10:45.637881Z",
     "shell.execute_reply": "2024-03-18T20:10:45.636832Z"
    },
    "papermill": {
     "duration": 3.966505,
     "end_time": "2024-03-18T20:10:45.639901",
     "exception": false,
     "start_time": "2024-03-18T20:10:41.673396",
     "status": "completed"
    },
    "tags": []
   },
   "outputs": [
    {
     "name": "stdout",
     "output_type": "stream",
     "text": [
      "Shape of Train Embeddings: torch.Size([7320, 100, 2048])\n",
      "Shape of Train Labels: torch.Size([7320])\n",
      "Shape of Test Embeddings: torch.Size([1830, 100, 2048])\n",
      "Shape of Test Labels: torch.Size([1830])\n"
     ]
    },
    {
     "data": {
      "text/plain": [
       "0"
      ]
     },
     "execution_count": 5,
     "metadata": {},
     "output_type": "execute_result"
    }
   ],
   "source": [
    "test_size = 0.2\n",
    "\n",
    "\n",
    "# Split the data into training and testing\n",
    "x_train, x_test, y_train, y_test = train_test_split(file_embeddings,\n",
    "                                                    file_labels,\n",
    "                                                    test_size=test_size,\n",
    "                                                    random_state=42)\n",
    "\n",
    "\n",
    "# convert to tensor\n",
    "train_embeddings = torch.from_numpy(x_train).to(device)\n",
    "# train_embeddings = train_embeddings.reshape(train_embeddings.shape[0], -1)\n",
    "train_labels = torch.from_numpy(y_train).to(device)\n",
    "test_embeddings = torch.from_numpy(x_test).to(device)\n",
    "# test_embeddings = test_embeddings.reshape(test_embeddings.shape[0], -1)\n",
    "test_labels = torch.from_numpy(y_test).to(device)\n",
    "\n",
    "print('Shape of Train Embeddings:', train_embeddings.shape)\n",
    "print('Shape of Train Labels:', train_labels.shape)\n",
    "print('Shape of Test Embeddings:', test_embeddings.shape)\n",
    "print('Shape of Test Labels:', test_labels.shape)\n",
    "\n",
    "gc.collect()"
   ]
  },
  {
   "cell_type": "markdown",
   "id": "d2c0ab81",
   "metadata": {
    "papermill": {
     "duration": 0.007219,
     "end_time": "2024-03-18T20:10:45.655730",
     "exception": false,
     "start_time": "2024-03-18T20:10:45.648511",
     "status": "completed"
    },
    "tags": []
   },
   "source": [
    "### Delete all unnecessary variables\n",
    "\n",
    "This is important because the embeddings are huge in size and the variables take around 15.1 GiB / 29 GiB. **After running the cell it will drop down to 1.2 GiB**"
   ]
  },
  {
   "cell_type": "code",
   "execution_count": 6,
   "id": "cdd70285",
   "metadata": {
    "execution": {
     "iopub.execute_input": "2024-03-18T20:10:45.671379Z",
     "iopub.status.busy": "2024-03-18T20:10:45.671030Z",
     "iopub.status.idle": "2024-03-18T20:10:45.806742Z",
     "shell.execute_reply": "2024-03-18T20:10:45.805849Z"
    },
    "papermill": {
     "duration": 0.145704,
     "end_time": "2024-03-18T20:10:45.808657",
     "exception": false,
     "start_time": "2024-03-18T20:10:45.662953",
     "status": "completed"
    },
    "tags": []
   },
   "outputs": [
    {
     "data": {
      "text/plain": [
       "0"
      ]
     },
     "execution_count": 6,
     "metadata": {},
     "output_type": "execute_result"
    }
   ],
   "source": [
    "del file_embeddings\n",
    "del file_labels\n",
    "del x_train\n",
    "del x_test\n",
    "del y_train\n",
    "del y_test\n",
    "gc.collect()"
   ]
  },
  {
   "cell_type": "markdown",
   "id": "f267c3b8",
   "metadata": {
    "papermill": {
     "duration": 0.007281,
     "end_time": "2024-03-18T20:10:45.823519",
     "exception": false,
     "start_time": "2024-03-18T20:10:45.816238",
     "status": "completed"
    },
    "tags": []
   },
   "source": [
    "### Reshaping the tensors\n",
    "\n",
    "To fit in SRU model we need to reshape the tensors. Currently, they are in 3D shape, `(videos, frames, features)`. But SRU expects the tensor in different format.\n",
    "\n",
    "SRU expects a 3D tensor shaped like `(sequence_length, batch_size, input_size)`, which for our case, `sequence_length` would be `frames`, `batch_size` would be `videos` and `input_size` would be `features`. So, we need to convert from shape `(7320, 100, 2048)` to shape `(100, 7320, 2048)`"
   ]
  },
  {
   "cell_type": "markdown",
   "id": "a3507f96",
   "metadata": {
    "papermill": {
     "duration": 0.007242,
     "end_time": "2024-03-18T20:10:45.838110",
     "exception": false,
     "start_time": "2024-03-18T20:10:45.830868",
     "status": "completed"
    },
    "tags": []
   },
   "source": [
    "Now we need to reshape the labels as well"
   ]
  },
  {
   "cell_type": "code",
   "execution_count": 7,
   "id": "d15277d0",
   "metadata": {
    "execution": {
     "iopub.execute_input": "2024-03-18T20:10:45.855565Z",
     "iopub.status.busy": "2024-03-18T20:10:45.855116Z",
     "iopub.status.idle": "2024-03-18T20:10:45.861463Z",
     "shell.execute_reply": "2024-03-18T20:10:45.860313Z"
    },
    "papermill": {
     "duration": 0.017469,
     "end_time": "2024-03-18T20:10:45.863447",
     "exception": false,
     "start_time": "2024-03-18T20:10:45.845978",
     "status": "completed"
    },
    "tags": []
   },
   "outputs": [],
   "source": [
    "batch_size = 8\n",
    "\n",
    "# Create TensorDataset\n",
    "train_data = TensorDataset(train_embeddings, train_labels)\n",
    "test_data = TensorDataset(test_embeddings, test_labels)\n",
    "\n",
    "train_loader = DataLoader(train_data, shuffle=True, batch_size=batch_size)\n",
    "test_loader = DataLoader(test_data, shuffle=True, batch_size=batch_size)\n",
    "\n",
    "# Train loader length is = 915 which means 915 * batch size 8 = 7320 data points, which are actually videos.\n",
    "# same goes for test loader\n",
    "# our sequence length is then 204800 which is the total features"
   ]
  },
  {
   "cell_type": "code",
   "execution_count": 8,
   "id": "7262ff9f",
   "metadata": {
    "execution": {
     "iopub.execute_input": "2024-03-18T20:10:45.881680Z",
     "iopub.status.busy": "2024-03-18T20:10:45.881346Z",
     "iopub.status.idle": "2024-03-18T20:10:46.233672Z",
     "shell.execute_reply": "2024-03-18T20:10:46.232755Z"
    },
    "papermill": {
     "duration": 0.363898,
     "end_time": "2024-03-18T20:10:46.235754",
     "exception": false,
     "start_time": "2024-03-18T20:10:45.871856",
     "status": "completed"
    },
    "tags": []
   },
   "outputs": [
    {
     "data": {
      "text/plain": [
       "SRUppModel(\n",
       "  (srupp_layers): SRUpp(\n",
       "    (rnn_lst): ModuleList(\n",
       "      (0): SRUppCell(2048, 1024, rescale=True,\n",
       "        transform_module=SRUppAttention(\n",
       "        (dropout): Dropout(p=0.0, inplace=False)\n",
       "        (linear1): Linear(in_features=2048, out_features=784, bias=False)\n",
       "        (linear2): Linear(in_features=784, out_features=1568, bias=False)\n",
       "        (linear3): Linear(in_features=784, out_features=4096, bias=False)\n",
       "        (layer_norm): LayerNorm((784,), eps=1e-05, elementwise_affine=True)\n",
       "      )\n",
       "      )\n",
       "      (1): SRUppCell(1024, 1024, rescale=True,\n",
       "        transform_module=SRUppAttention(\n",
       "        (dropout): Dropout(p=0.0, inplace=False)\n",
       "        (linear1): Linear(in_features=1024, out_features=784, bias=False)\n",
       "        (linear2): Linear(in_features=784, out_features=1568, bias=False)\n",
       "        (linear3): Linear(in_features=784, out_features=3072, bias=False)\n",
       "        (layer_norm): LayerNorm((784,), eps=1e-05, elementwise_affine=True)\n",
       "      )\n",
       "      )\n",
       "    )\n",
       "  )\n",
       "  (dropout): Dropout(p=0.2, inplace=False)\n",
       "  (linear): Linear(in_features=1024, out_features=2, bias=True)\n",
       ")"
      ]
     },
     "execution_count": 8,
     "metadata": {},
     "output_type": "execute_result"
    }
   ],
   "source": [
    "class SRUppModel(Module):\n",
    "    def __init__(self, input_size, hidden_size, **kwargs):\n",
    "        super(SRUppModel, self).__init__()\n",
    "        # Main SRUpp layer\n",
    "        self.srupp_layers = SRUpp(\n",
    "            input_size=input_size,\n",
    "            hidden_size=hidden_size,\n",
    "            num_layers=kwargs.get('num_layers', 2),\n",
    "            proj_size = 784,\n",
    "            dropout=kwargs.get('dropout_prob', 0.0),\n",
    "            bidirectional=kwargs.get('bidirectional', False),\n",
    "            layer_norm=kwargs.get('layer_norm', False),\n",
    "            highway_bias=kwargs.get('highway_bias', 0.0),\n",
    "            rescale=kwargs.get('rescale', True),\n",
    "            nn_rnn_compatible_return=kwargs.get('nn_rnn_compatible_return', False),\n",
    "            proj_input_to_hidden_first=kwargs.get('proj_input_to_hidden_first', False),\n",
    "            # amp_recurrence_fp16=kwargs.get('amp_recurrence_fp16', False),\n",
    "            normalize_after=kwargs.get('normalize_after', False),\n",
    "        ).to(device)\n",
    "        # Dropout layer\n",
    "        self.dropout = Dropout(kwargs.get('dropout_layer_prob', 0.2)).to(device)\n",
    "        # Linear layer (Fully connected layer)\n",
    "        self.linear = Linear(\n",
    "            in_features=hidden_size * 2 if kwargs.get('bidirectional', False) else hidden_size,\n",
    "            out_features=kwargs.get('num_classes', 2)\n",
    "        ).to(device)\n",
    "        # L2 regularization\n",
    "        self.l2_reg_lambda = kwargs.get('l2_reg_lambda', 1e-5)\n",
    "\n",
    "    def forward(self, x):\n",
    "        output_states, _, _ = self.srupp_layers(x)\n",
    "        output = self.linear(self.dropout(output_states[-1]))\n",
    "        return output\n",
    "\n",
    "    def l2_regularization(self):\n",
    "        l2_reg = torch.tensor(0., device=device)\n",
    "        for param in self.parameters():\n",
    "            l2_reg += torch.norm(param, p=2)\n",
    "        return self.l2_reg_lambda * l2_reg\n",
    "\n",
    "model = SRUppModel(2048, 1024)\n",
    "model = model.to(device)\n",
    "model"
   ]
  },
  {
   "cell_type": "code",
   "execution_count": 9,
   "id": "b2a1a4aa",
   "metadata": {
    "execution": {
     "iopub.execute_input": "2024-03-18T20:10:46.252480Z",
     "iopub.status.busy": "2024-03-18T20:10:46.252159Z",
     "iopub.status.idle": "2024-03-18T20:10:48.758775Z",
     "shell.execute_reply": "2024-03-18T20:10:48.757977Z"
    },
    "papermill": {
     "duration": 2.517651,
     "end_time": "2024-03-18T20:10:48.761149",
     "exception": false,
     "start_time": "2024-03-18T20:10:46.243498",
     "status": "completed"
    },
    "tags": []
   },
   "outputs": [],
   "source": [
    "# Define your loss function and optimizer\n",
    "criterion = CrossEntropyLoss()\n",
    "optimizer = Adam(model.parameters())"
   ]
  },
  {
   "cell_type": "code",
   "execution_count": 10,
   "id": "daae3849",
   "metadata": {
    "execution": {
     "iopub.execute_input": "2024-03-18T20:10:48.778475Z",
     "iopub.status.busy": "2024-03-18T20:10:48.777994Z",
     "iopub.status.idle": "2024-03-18T20:22:47.441044Z",
     "shell.execute_reply": "2024-03-18T20:22:47.440120Z"
    },
    "papermill": {
     "duration": 718.673642,
     "end_time": "2024-03-18T20:22:47.442973",
     "exception": false,
     "start_time": "2024-03-18T20:10:48.769331",
     "status": "completed"
    },
    "tags": []
   },
   "outputs": [
    {
     "name": "stderr",
     "output_type": "stream",
     "text": [
      "Epoch 1/50: 100%|██████████| 915/915 [00:15<00:00, 60.43it/s, accuracy=50.3, loss=0.697]\n"
     ]
    },
    {
     "name": "stdout",
     "output_type": "stream",
     "text": [
      "Epoch [1/50], Loss: 0.7658811087165374, Accuracy: 50.30054644808743%\n"
     ]
    },
    {
     "name": "stderr",
     "output_type": "stream",
     "text": [
      "Epoch 2/50: 100%|██████████| 915/915 [00:14<00:00, 63.77it/s, accuracy=50.4, loss=0.692]\n"
     ]
    },
    {
     "name": "stdout",
     "output_type": "stream",
     "text": [
      "Epoch [2/50], Loss: 0.704427296770075, Accuracy: 50.39617486338798%\n"
     ]
    },
    {
     "name": "stderr",
     "output_type": "stream",
     "text": [
      "Epoch 3/50: 100%|██████████| 915/915 [00:14<00:00, 64.11it/s, accuracy=51.7, loss=0.732]\n"
     ]
    },
    {
     "name": "stdout",
     "output_type": "stream",
     "text": [
      "Epoch [3/50], Loss: 0.7021542801231634, Accuracy: 51.666666666666664%\n"
     ]
    },
    {
     "name": "stderr",
     "output_type": "stream",
     "text": [
      "Epoch 4/50: 100%|██████████| 915/915 [00:14<00:00, 63.89it/s, accuracy=54.7, loss=0.797]\n"
     ]
    },
    {
     "name": "stdout",
     "output_type": "stream",
     "text": [
      "Epoch [4/50], Loss: 0.696273623040465, Accuracy: 54.72677595628415%\n"
     ]
    },
    {
     "name": "stderr",
     "output_type": "stream",
     "text": [
      "Epoch 5/50: 100%|██████████| 915/915 [00:14<00:00, 64.25it/s, accuracy=57.4, loss=0.565]\n"
     ]
    },
    {
     "name": "stdout",
     "output_type": "stream",
     "text": [
      "Epoch [5/50], Loss: 0.6875883935253477, Accuracy: 57.44535519125683%\n"
     ]
    },
    {
     "name": "stderr",
     "output_type": "stream",
     "text": [
      "Epoch 6/50: 100%|██████████| 915/915 [00:14<00:00, 64.17it/s, accuracy=62.6, loss=0.577]\n"
     ]
    },
    {
     "name": "stdout",
     "output_type": "stream",
     "text": [
      "Epoch [6/50], Loss: 0.65896603917815, Accuracy: 62.55464480874317%\n"
     ]
    },
    {
     "name": "stderr",
     "output_type": "stream",
     "text": [
      "Epoch 7/50: 100%|██████████| 915/915 [00:14<00:00, 64.39it/s, accuracy=63.1, loss=0.855]\n"
     ]
    },
    {
     "name": "stdout",
     "output_type": "stream",
     "text": [
      "Epoch [7/50], Loss: 0.6518672215808284, Accuracy: 63.08743169398907%\n"
     ]
    },
    {
     "name": "stderr",
     "output_type": "stream",
     "text": [
      "Epoch 8/50: 100%|██████████| 915/915 [00:14<00:00, 64.12it/s, accuracy=65.3, loss=0.65]\n"
     ]
    },
    {
     "name": "stdout",
     "output_type": "stream",
     "text": [
      "Epoch [8/50], Loss: 0.6357075690246019, Accuracy: 65.32786885245902%\n"
     ]
    },
    {
     "name": "stderr",
     "output_type": "stream",
     "text": [
      "Epoch 9/50: 100%|██████████| 915/915 [00:14<00:00, 64.01it/s, accuracy=66.5, loss=0.883]\n"
     ]
    },
    {
     "name": "stdout",
     "output_type": "stream",
     "text": [
      "Epoch [9/50], Loss: 0.6283364471190614, Accuracy: 66.48907103825137%\n"
     ]
    },
    {
     "name": "stderr",
     "output_type": "stream",
     "text": [
      "Epoch 10/50: 100%|██████████| 915/915 [00:14<00:00, 63.12it/s, accuracy=65.8, loss=0.479]\n"
     ]
    },
    {
     "name": "stdout",
     "output_type": "stream",
     "text": [
      "Epoch [10/50], Loss: 0.6672208729337473, Accuracy: 65.84699453551913%\n"
     ]
    },
    {
     "name": "stderr",
     "output_type": "stream",
     "text": [
      "Epoch 11/50: 100%|██████████| 915/915 [00:14<00:00, 63.72it/s, accuracy=68.3, loss=0.714]\n"
     ]
    },
    {
     "name": "stdout",
     "output_type": "stream",
     "text": [
      "Epoch [11/50], Loss: 0.6074792406923784, Accuracy: 68.26502732240438%\n"
     ]
    },
    {
     "name": "stderr",
     "output_type": "stream",
     "text": [
      "Epoch 12/50: 100%|██████████| 915/915 [00:14<00:00, 63.36it/s, accuracy=68.8, loss=0.454]\n"
     ]
    },
    {
     "name": "stdout",
     "output_type": "stream",
     "text": [
      "Epoch [12/50], Loss: 0.5983975326754356, Accuracy: 68.82513661202186%\n"
     ]
    },
    {
     "name": "stderr",
     "output_type": "stream",
     "text": [
      "Epoch 13/50: 100%|██████████| 915/915 [00:14<00:00, 63.12it/s, accuracy=69.6, loss=1.05]\n"
     ]
    },
    {
     "name": "stdout",
     "output_type": "stream",
     "text": [
      "Epoch [13/50], Loss: 0.5868056077774757, Accuracy: 69.60382513661202%\n"
     ]
    },
    {
     "name": "stderr",
     "output_type": "stream",
     "text": [
      "Epoch 14/50: 100%|██████████| 915/915 [00:14<00:00, 63.29it/s, accuracy=71.1, loss=0.453]\n"
     ]
    },
    {
     "name": "stdout",
     "output_type": "stream",
     "text": [
      "Epoch [14/50], Loss: 0.5752670415926501, Accuracy: 71.0792349726776%\n"
     ]
    },
    {
     "name": "stderr",
     "output_type": "stream",
     "text": [
      "Epoch 15/50: 100%|██████████| 915/915 [00:14<00:00, 63.50it/s, accuracy=70.3, loss=0.521]\n"
     ]
    },
    {
     "name": "stdout",
     "output_type": "stream",
     "text": [
      "Epoch [15/50], Loss: 0.5819629662186722, Accuracy: 70.28688524590164%\n"
     ]
    },
    {
     "name": "stderr",
     "output_type": "stream",
     "text": [
      "Epoch 16/50: 100%|██████████| 915/915 [00:14<00:00, 64.01it/s, accuracy=71.2, loss=0.529]\n"
     ]
    },
    {
     "name": "stdout",
     "output_type": "stream",
     "text": [
      "Epoch [16/50], Loss: 0.5673391840334147, Accuracy: 71.22950819672131%\n"
     ]
    },
    {
     "name": "stderr",
     "output_type": "stream",
     "text": [
      "Epoch 17/50: 100%|██████████| 915/915 [00:14<00:00, 63.31it/s, accuracy=72.1, loss=0.43]\n"
     ]
    },
    {
     "name": "stdout",
     "output_type": "stream",
     "text": [
      "Epoch [17/50], Loss: 0.5577432177838731, Accuracy: 72.10382513661202%\n"
     ]
    },
    {
     "name": "stderr",
     "output_type": "stream",
     "text": [
      "Epoch 18/50: 100%|██████████| 915/915 [00:14<00:00, 64.00it/s, accuracy=72.9, loss=0.514]\n"
     ]
    },
    {
     "name": "stdout",
     "output_type": "stream",
     "text": [
      "Epoch [18/50], Loss: 0.5519467242428514, Accuracy: 72.92349726775956%\n"
     ]
    },
    {
     "name": "stderr",
     "output_type": "stream",
     "text": [
      "Epoch 19/50: 100%|██████████| 915/915 [00:14<00:00, 63.71it/s, accuracy=72.9, loss=0.816]\n"
     ]
    },
    {
     "name": "stdout",
     "output_type": "stream",
     "text": [
      "Epoch [19/50], Loss: 0.5521101862192154, Accuracy: 72.88251366120218%\n"
     ]
    },
    {
     "name": "stderr",
     "output_type": "stream",
     "text": [
      "Epoch 20/50: 100%|██████████| 915/915 [00:14<00:00, 63.82it/s, accuracy=73.2, loss=0.57]\n"
     ]
    },
    {
     "name": "stdout",
     "output_type": "stream",
     "text": [
      "Epoch [20/50], Loss: 0.5492692070092008, Accuracy: 73.15573770491804%\n"
     ]
    },
    {
     "name": "stderr",
     "output_type": "stream",
     "text": [
      "Epoch 21/50: 100%|██████████| 915/915 [00:14<00:00, 63.89it/s, accuracy=73.5, loss=0.274]\n"
     ]
    },
    {
     "name": "stdout",
     "output_type": "stream",
     "text": [
      "Epoch [21/50], Loss: 0.5406653218093466, Accuracy: 73.45628415300547%\n"
     ]
    },
    {
     "name": "stderr",
     "output_type": "stream",
     "text": [
      "Epoch 22/50: 100%|██████████| 915/915 [00:14<00:00, 63.79it/s, accuracy=73.5, loss=0.665]\n"
     ]
    },
    {
     "name": "stdout",
     "output_type": "stream",
     "text": [
      "Epoch [22/50], Loss: 0.5399333938060562, Accuracy: 73.49726775956285%\n"
     ]
    },
    {
     "name": "stderr",
     "output_type": "stream",
     "text": [
      "Epoch 23/50: 100%|██████████| 915/915 [00:14<00:00, 63.67it/s, accuracy=73.9, loss=0.454]\n"
     ]
    },
    {
     "name": "stdout",
     "output_type": "stream",
     "text": [
      "Epoch [23/50], Loss: 0.5338710596164068, Accuracy: 73.9207650273224%\n"
     ]
    },
    {
     "name": "stderr",
     "output_type": "stream",
     "text": [
      "Epoch 24/50: 100%|██████████| 915/915 [00:14<00:00, 63.62it/s, accuracy=73.7, loss=0.633]\n"
     ]
    },
    {
     "name": "stdout",
     "output_type": "stream",
     "text": [
      "Epoch [24/50], Loss: 0.5364432285392219, Accuracy: 73.66120218579235%\n"
     ]
    },
    {
     "name": "stderr",
     "output_type": "stream",
     "text": [
      "Epoch 25/50: 100%|██████████| 915/915 [00:14<00:00, 64.24it/s, accuracy=75.6, loss=0.51]\n"
     ]
    },
    {
     "name": "stdout",
     "output_type": "stream",
     "text": [
      "Epoch [25/50], Loss: 0.5164508317989078, Accuracy: 75.56010928961749%\n"
     ]
    },
    {
     "name": "stderr",
     "output_type": "stream",
     "text": [
      "Epoch 26/50: 100%|██████████| 915/915 [00:14<00:00, 63.69it/s, accuracy=75, loss=0.415]\n"
     ]
    },
    {
     "name": "stdout",
     "output_type": "stream",
     "text": [
      "Epoch [26/50], Loss: 0.5250155285815072, Accuracy: 74.95901639344262%\n"
     ]
    },
    {
     "name": "stderr",
     "output_type": "stream",
     "text": [
      "Epoch 27/50: 100%|██████████| 915/915 [00:14<00:00, 63.85it/s, accuracy=74.7, loss=0.275]\n"
     ]
    },
    {
     "name": "stdout",
     "output_type": "stream",
     "text": [
      "Epoch [27/50], Loss: 0.5222556886370064, Accuracy: 74.69945355191257%\n"
     ]
    },
    {
     "name": "stderr",
     "output_type": "stream",
     "text": [
      "Epoch 28/50: 100%|██████████| 915/915 [00:14<00:00, 63.44it/s, accuracy=75.5, loss=0.795]\n"
     ]
    },
    {
     "name": "stdout",
     "output_type": "stream",
     "text": [
      "Epoch [28/50], Loss: 0.520300224268697, Accuracy: 75.51912568306011%\n"
     ]
    },
    {
     "name": "stderr",
     "output_type": "stream",
     "text": [
      "Epoch 29/50: 100%|██████████| 915/915 [00:14<00:00, 63.78it/s, accuracy=75.3, loss=0.349]\n"
     ]
    },
    {
     "name": "stdout",
     "output_type": "stream",
     "text": [
      "Epoch [29/50], Loss: 0.516412618341016, Accuracy: 75.3415300546448%\n"
     ]
    },
    {
     "name": "stderr",
     "output_type": "stream",
     "text": [
      "Epoch 30/50: 100%|██████████| 915/915 [00:14<00:00, 63.56it/s, accuracy=75.6, loss=0.662]\n"
     ]
    },
    {
     "name": "stdout",
     "output_type": "stream",
     "text": [
      "Epoch [30/50], Loss: 0.5090805245227501, Accuracy: 75.60109289617486%\n"
     ]
    },
    {
     "name": "stderr",
     "output_type": "stream",
     "text": [
      "Epoch 31/50: 100%|██████████| 915/915 [00:14<00:00, 63.68it/s, accuracy=76.3, loss=0.319]\n"
     ]
    },
    {
     "name": "stdout",
     "output_type": "stream",
     "text": [
      "Epoch [31/50], Loss: 0.5009296037704567, Accuracy: 76.28415300546447%\n"
     ]
    },
    {
     "name": "stderr",
     "output_type": "stream",
     "text": [
      "Epoch 32/50: 100%|██████████| 915/915 [00:14<00:00, 63.37it/s, accuracy=75.8, loss=0.556]\n"
     ]
    },
    {
     "name": "stdout",
     "output_type": "stream",
     "text": [
      "Epoch [32/50], Loss: 0.5162080910402894, Accuracy: 75.75136612021858%\n"
     ]
    },
    {
     "name": "stderr",
     "output_type": "stream",
     "text": [
      "Epoch 33/50: 100%|██████████| 915/915 [00:14<00:00, 63.51it/s, accuracy=77.1, loss=0.366]\n"
     ]
    },
    {
     "name": "stdout",
     "output_type": "stream",
     "text": [
      "Epoch [33/50], Loss: 0.4944508420802205, Accuracy: 77.11748633879782%\n"
     ]
    },
    {
     "name": "stderr",
     "output_type": "stream",
     "text": [
      "Epoch 34/50: 100%|██████████| 915/915 [00:14<00:00, 63.47it/s, accuracy=76.5, loss=0.482]\n"
     ]
    },
    {
     "name": "stdout",
     "output_type": "stream",
     "text": [
      "Epoch [34/50], Loss: 0.4980982560603345, Accuracy: 76.54371584699453%\n"
     ]
    },
    {
     "name": "stderr",
     "output_type": "stream",
     "text": [
      "Epoch 35/50: 100%|██████████| 915/915 [00:14<00:00, 63.78it/s, accuracy=76.9, loss=0.373]\n"
     ]
    },
    {
     "name": "stdout",
     "output_type": "stream",
     "text": [
      "Epoch [35/50], Loss: 0.4940920423410955, Accuracy: 76.87158469945355%\n"
     ]
    },
    {
     "name": "stderr",
     "output_type": "stream",
     "text": [
      "Epoch 36/50: 100%|██████████| 915/915 [00:14<00:00, 63.17it/s, accuracy=77.3, loss=0.592]\n"
     ]
    },
    {
     "name": "stdout",
     "output_type": "stream",
     "text": [
      "Epoch [36/50], Loss: 0.48907763602955096, Accuracy: 77.3360655737705%\n"
     ]
    },
    {
     "name": "stderr",
     "output_type": "stream",
     "text": [
      "Epoch 37/50: 100%|██████████| 915/915 [00:14<00:00, 63.72it/s, accuracy=77.7, loss=0.594]\n"
     ]
    },
    {
     "name": "stdout",
     "output_type": "stream",
     "text": [
      "Epoch [37/50], Loss: 0.4848260739991248, Accuracy: 77.69125683060109%\n"
     ]
    },
    {
     "name": "stderr",
     "output_type": "stream",
     "text": [
      "Epoch 38/50: 100%|██████████| 915/915 [00:14<00:00, 63.67it/s, accuracy=77.5, loss=0.832]\n"
     ]
    },
    {
     "name": "stdout",
     "output_type": "stream",
     "text": [
      "Epoch [38/50], Loss: 0.4846782253983894, Accuracy: 77.47267759562841%\n"
     ]
    },
    {
     "name": "stderr",
     "output_type": "stream",
     "text": [
      "Epoch 39/50: 100%|██████████| 915/915 [00:14<00:00, 63.71it/s, accuracy=77.8, loss=0.573]\n"
     ]
    },
    {
     "name": "stdout",
     "output_type": "stream",
     "text": [
      "Epoch [39/50], Loss: 0.4732606495338711, Accuracy: 77.78688524590164%\n"
     ]
    },
    {
     "name": "stderr",
     "output_type": "stream",
     "text": [
      "Epoch 40/50: 100%|██████████| 915/915 [00:14<00:00, 63.63it/s, accuracy=77.6, loss=0.384]\n"
     ]
    },
    {
     "name": "stdout",
     "output_type": "stream",
     "text": [
      "Epoch [40/50], Loss: 0.4777438416425648, Accuracy: 77.62295081967213%\n"
     ]
    },
    {
     "name": "stderr",
     "output_type": "stream",
     "text": [
      "Epoch 41/50: 100%|██████████| 915/915 [00:14<00:00, 63.94it/s, accuracy=77.7, loss=0.624]\n"
     ]
    },
    {
     "name": "stdout",
     "output_type": "stream",
     "text": [
      "Epoch [41/50], Loss: 0.4771851616071873, Accuracy: 77.71857923497268%\n"
     ]
    },
    {
     "name": "stderr",
     "output_type": "stream",
     "text": [
      "Epoch 42/50: 100%|██████████| 915/915 [00:14<00:00, 64.17it/s, accuracy=78.6, loss=0.287]\n"
     ]
    },
    {
     "name": "stdout",
     "output_type": "stream",
     "text": [
      "Epoch [42/50], Loss: 0.4640307905854749, Accuracy: 78.62021857923497%\n"
     ]
    },
    {
     "name": "stderr",
     "output_type": "stream",
     "text": [
      "Epoch 43/50: 100%|██████████| 915/915 [00:14<00:00, 63.62it/s, accuracy=78.7, loss=0.263]\n"
     ]
    },
    {
     "name": "stdout",
     "output_type": "stream",
     "text": [
      "Epoch [43/50], Loss: 0.46431102956253323, Accuracy: 78.71584699453553%\n"
     ]
    },
    {
     "name": "stderr",
     "output_type": "stream",
     "text": [
      "Epoch 44/50: 100%|██████████| 915/915 [00:14<00:00, 64.30it/s, accuracy=77.7, loss=0.382]\n"
     ]
    },
    {
     "name": "stdout",
     "output_type": "stream",
     "text": [
      "Epoch [44/50], Loss: 0.4759493243173172, Accuracy: 77.70491803278688%\n"
     ]
    },
    {
     "name": "stderr",
     "output_type": "stream",
     "text": [
      "Epoch 45/50: 100%|██████████| 915/915 [00:14<00:00, 63.55it/s, accuracy=78.9, loss=0.545]\n"
     ]
    },
    {
     "name": "stdout",
     "output_type": "stream",
     "text": [
      "Epoch [45/50], Loss: 0.46004862720197665, Accuracy: 78.86612021857924%\n"
     ]
    },
    {
     "name": "stderr",
     "output_type": "stream",
     "text": [
      "Epoch 46/50: 100%|██████████| 915/915 [00:14<00:00, 64.17it/s, accuracy=78.3, loss=0.472]\n"
     ]
    },
    {
     "name": "stdout",
     "output_type": "stream",
     "text": [
      "Epoch [46/50], Loss: 0.46632534175134094, Accuracy: 78.26502732240438%\n"
     ]
    },
    {
     "name": "stderr",
     "output_type": "stream",
     "text": [
      "Epoch 47/50: 100%|██████████| 915/915 [00:14<00:00, 63.73it/s, accuracy=78.3, loss=0.258]\n"
     ]
    },
    {
     "name": "stdout",
     "output_type": "stream",
     "text": [
      "Epoch [47/50], Loss: 0.46175281880168967, Accuracy: 78.31967213114754%\n"
     ]
    },
    {
     "name": "stderr",
     "output_type": "stream",
     "text": [
      "Epoch 48/50: 100%|██████████| 915/915 [00:14<00:00, 63.83it/s, accuracy=80.1, loss=0.386]\n"
     ]
    },
    {
     "name": "stdout",
     "output_type": "stream",
     "text": [
      "Epoch [48/50], Loss: 0.444126800924051, Accuracy: 80.06830601092896%\n"
     ]
    },
    {
     "name": "stderr",
     "output_type": "stream",
     "text": [
      "Epoch 49/50: 100%|██████████| 915/915 [00:14<00:00, 64.20it/s, accuracy=79.6, loss=0.893]\n"
     ]
    },
    {
     "name": "stdout",
     "output_type": "stream",
     "text": [
      "Epoch [49/50], Loss: 0.4470766586195576, Accuracy: 79.56284153005464%\n"
     ]
    },
    {
     "name": "stderr",
     "output_type": "stream",
     "text": [
      "Epoch 50/50: 100%|██████████| 915/915 [00:14<00:00, 63.23it/s, accuracy=79.9, loss=0.449]\n"
     ]
    },
    {
     "name": "stdout",
     "output_type": "stream",
     "text": [
      "Epoch [50/50], Loss: 0.44453064265146935, Accuracy: 79.93169398907104%\n",
      "Average Train Accuracy of the model on the train videos: 71.99377550289928%\n"
     ]
    }
   ],
   "source": [
    "epochs = 50\n",
    "\n",
    "total_correct_all_epochs = 0\n",
    "total_samples_all_epochs = 0\n",
    "\n",
    "# Setup logging\n",
    "logging.basicConfig(filename='training.log', level=logging.INFO)\n",
    "\n",
    "for epoch in range(epochs):\n",
    "    total_correct = 0\n",
    "    total_samples = 0\n",
    "    total_loss = 0.0\n",
    "\n",
    "    # Create tqdm progress bar for training loader\n",
    "    progress_bar = tqdm(enumerate(train_loader), desc=f\"Epoch {epoch + 1}/{epochs}\", total=len(train_loader))\n",
    "\n",
    "    for i, (videos, labels) in progress_bar:\n",
    "        videos = videos.permute(1, 0, 2)\n",
    "        # Forward pass\n",
    "        outputs = model(videos)\n",
    "        labels = labels.long()  # Convert labels to Long type\n",
    "        loss = criterion(outputs, labels) + model.l2_regularization()  # calculates loss\n",
    "        total_loss += loss.item()\n",
    "        # Backward and optimize\n",
    "        optimizer.zero_grad()\n",
    "        loss.backward()\n",
    "        optimizer.step()\n",
    "        # Calculate accuracy per batch\n",
    "        _, predicted = torch.max(outputs.data, 1)\n",
    "        total_samples += labels.size(0)\n",
    "        total_correct += (predicted == labels).sum().item()\n",
    "        batch_accuracy = 100 * total_correct / total_samples\n",
    "\n",
    "        # Update progress bar\n",
    "        progress_bar.set_postfix(loss=loss.item(), accuracy=batch_accuracy)\n",
    "        \n",
    "        # Update overall accuracy counters\n",
    "        total_correct_all_epochs += total_correct\n",
    "        total_samples_all_epochs += total_samples\n",
    "\n",
    "    # Log epoch statistics\n",
    "    epoch_loss = total_loss / len(train_loader)\n",
    "    epoch_accuracy = 100 * total_correct / total_samples\n",
    "    logging.info(f'Epoch [{epoch + 1}/{epochs}], Loss: {epoch_loss}, Accuracy: {epoch_accuracy}%')\n",
    "\n",
    "    print(f'Epoch [{epoch + 1}/{epochs}], Loss: {epoch_loss}, Accuracy: {epoch_accuracy}%')\n",
    "\n",
    "# Close logging\n",
    "logging.shutdown()\n",
    "\n",
    "overall_accuracy = 100 * total_correct_all_epochs / total_samples_all_epochs\n",
    "print(f'Average Train Accuracy of the model on the train videos: {overall_accuracy}%')\n",
    "\n"
   ]
  },
  {
   "cell_type": "code",
   "execution_count": 11,
   "id": "ad99afb5",
   "metadata": {
    "execution": {
     "iopub.execute_input": "2024-03-18T20:22:56.018316Z",
     "iopub.status.busy": "2024-03-18T20:22:56.017553Z",
     "iopub.status.idle": "2024-03-18T20:22:56.935458Z",
     "shell.execute_reply": "2024-03-18T20:22:56.934517Z"
    },
    "papermill": {
     "duration": 5.170752,
     "end_time": "2024-03-18T20:22:56.937569",
     "exception": false,
     "start_time": "2024-03-18T20:22:51.766817",
     "status": "completed"
    },
    "tags": []
   },
   "outputs": [
    {
     "name": "stdout",
     "output_type": "stream",
     "text": [
      "Test Accuracy of the model on the test videos: 81.5846994535519%\n"
     ]
    }
   ],
   "source": [
    "model.eval()\n",
    "\n",
    "with torch.no_grad():\n",
    "    correct = 0\n",
    "    total = 0\n",
    "    for videos, labels in test_loader:\n",
    "        videos = videos.permute(1, 0, 2)\n",
    "        outputs = model(videos)\n",
    "        _, predicted = torch.max(outputs.data, 1)\n",
    "        total += labels.size(0)\n",
    "        correct += (predicted == labels).sum().item()\n",
    "        #print test accuracy per test\n",
    "\n",
    "    print(f'Test Accuracy of the model on the test videos: {100 * correct / total}%')"
   ]
  },
  {
   "cell_type": "code",
   "execution_count": 12,
   "id": "a10a8caf",
   "metadata": {
    "execution": {
     "iopub.execute_input": "2024-03-18T20:23:05.609038Z",
     "iopub.status.busy": "2024-03-18T20:23:05.608670Z",
     "iopub.status.idle": "2024-03-18T20:23:07.660221Z",
     "shell.execute_reply": "2024-03-18T20:23:07.659247Z"
    },
    "papermill": {
     "duration": 6.414277,
     "end_time": "2024-03-18T20:23:07.662191",
     "exception": false,
     "start_time": "2024-03-18T20:23:01.247914",
     "status": "completed"
    },
    "tags": []
   },
   "outputs": [
    {
     "name": "stdout",
     "output_type": "stream",
     "text": [
      "Confusion Matrix:\n",
      "[[790 125]\n",
      " [212 703]]\n"
     ]
    },
    {
     "data": {
      "image/png": "[encoded data removed]",
      "text/plain": [
       "<Figure size 800x600 with 2 Axes>"
      ]
     },
     "metadata": {},
     "output_type": "display_data"
    }
   ],
   "source": [
    "from sklearn.metrics import confusion_matrix\n",
    "import numpy as np\n",
    "\n",
    "# Set model to evaluation mode\n",
    "model.eval()\n",
    "\n",
    "# Initialize variables for predictions and ground truth labels\n",
    "all_predictions = []\n",
    "all_labels = []\n",
    "\n",
    "# Iterate through the test dataset\n",
    "for videos, labels in test_loader:\n",
    "#     videos = videos.unsqueeze(0)\n",
    "    videos = videos.permute(1, 0, 2)\n",
    "    # Forward pass\n",
    "    outputs = model(videos)\n",
    "    # Predictions\n",
    "    _, predicted = torch.max(outputs.data, 1)\n",
    "    # Append predictions and labels to the lists\n",
    "    all_predictions.extend(predicted.tolist())\n",
    "    all_labels.extend(labels.tolist())\n",
    "\n",
    "# Convert predictions and labels lists to numpy arrays\n",
    "all_predictions = np.array(all_predictions)\n",
    "all_labels = np.array(all_labels)\n",
    "\n",
    "# Generate confusion matrix\n",
    "conf_matrix = confusion_matrix(all_labels, all_predictions)\n",
    "\n",
    "print(\"Confusion Matrix:\")\n",
    "print(conf_matrix)\n",
    "\n",
    "import matplotlib.pyplot as plt\n",
    "import seaborn as sns\n",
    "\n",
    "# Plot confusion matrix\n",
    "plt.figure(figsize=(8, 6))\n",
    "sns.heatmap(conf_matrix, annot=True, fmt=\"d\", cmap=\"Blues\")\n",
    "plt.title(\"Confusion Matrix\")\n",
    "plt.xlabel(\"Predicted\")\n",
    "plt.ylabel(\"True\")\n",
    "plt.show()"
   ]
  },
  {
   "cell_type": "code",
   "execution_count": 13,
   "id": "f261862d",
   "metadata": {
    "execution": {
     "iopub.execute_input": "2024-03-18T20:23:16.298448Z",
     "iopub.status.busy": "2024-03-18T20:23:16.297914Z",
     "iopub.status.idle": "2024-03-18T20:23:17.710941Z",
     "shell.execute_reply": "2024-03-18T20:23:17.709977Z"
    },
    "papermill": {
     "duration": 5.679612,
     "end_time": "2024-03-18T20:23:17.712927",
     "exception": false,
     "start_time": "2024-03-18T20:23:12.033315",
     "status": "completed"
    },
    "tags": []
   },
   "outputs": [
    {
     "data": {
      "image/png": "[encoded data removed]",
      "text/plain": [
       "<Figure size 640x480 with 1 Axes>"
      ]
     },
     "metadata": {},
     "output_type": "display_data"
    },
    {
     "data": {
      "image/png": "[encoded data removed]",
      "text/plain": [
       "<Figure size 640x480 with 1 Axes>"
      ]
     },
     "metadata": {},
     "output_type": "display_data"
    }
   ],
   "source": [
    "from sklearn.metrics import roc_curve, auc, precision_recall_curve, average_precision_score\n",
    "import matplotlib.pyplot as plt\n",
    "\n",
    "# Set model to evaluation mode\n",
    "model.eval()\n",
    "\n",
    "# Initialize variables for predictions and ground truth labels\n",
    "all_probs = []\n",
    "all_labels = []\n",
    "\n",
    "# Iterate through the test dataset\n",
    "for videos, labels in test_loader:\n",
    "#     videos = videos.unsqueeze(0)\n",
    "    videos = videos.permute(1, 0, 2)\n",
    "    # Forward pass\n",
    "    outputs = model(videos)\n",
    "    # Get probabilities\n",
    "    probs = torch.softmax(outputs, dim=1)[:, 1].detach().cpu().numpy()\n",
    "    # Append probabilities and labels to the lists\n",
    "    all_probs.extend(probs.tolist())\n",
    "    all_labels.extend(labels.tolist())\n",
    "\n",
    "# Convert probabilities and labels lists to numpy arrays\n",
    "all_probs = np.array(all_probs)\n",
    "all_labels = np.array(all_labels)\n",
    "\n",
    "# AUC ROC Curve\n",
    "fpr, tpr, _ = roc_curve(all_labels, all_probs)\n",
    "roc_auc = auc(fpr, tpr)\n",
    "\n",
    "plt.figure()\n",
    "plt.plot(fpr, tpr, color='darkorange', lw=2, label='ROC curve (area = %0.2f)' % roc_auc)\n",
    "plt.plot([0, 1], [0, 1], color='navy', lw=2, linestyle='--')\n",
    "plt.xlim([0.0, 1.0])\n",
    "plt.ylim([0.0, 1.05])\n",
    "plt.xlabel('False Positive Rate')\n",
    "plt.ylabel('True Positive Rate')\n",
    "plt.title('Receiver Operating Characteristic (ROC) Curve')\n",
    "plt.legend(loc=\"lower right\")\n",
    "plt.show()\n",
    "\n",
    "# Precision-Recall Curve\n",
    "precision, recall, _ = precision_recall_curve(all_labels, all_probs)\n",
    "average_precision = average_precision_score(all_labels, all_probs)\n",
    "\n",
    "plt.figure()\n",
    "plt.step(recall, precision, color='b', alpha=0.2, where='post')\n",
    "plt.fill_between(recall, precision, step='post', alpha=0.2, color='b')\n",
    "plt.xlabel('Recall')\n",
    "plt.ylabel('Precision')\n",
    "plt.ylim([0.0, 1.05])\n",
    "plt.xlim([0.0, 1.0])\n",
    "plt.title('Precision-Recall Curve (AP={0:0.2f})'.format(average_precision))\n",
    "plt.show()\n"
   ]
  },
  {
   "cell_type": "code",
   "execution_count": null,
   "id": "ea69d361",
   "metadata": {
    "papermill": {
     "duration": 4.368415,
     "end_time": "2024-03-18T20:23:26.321351",
     "exception": false,
     "start_time": "2024-03-18T20:23:21.952936",
     "status": "completed"
    },
    "tags": []
   },
   "outputs": [],
   "source": []
  }
 ],
 "metadata": {
  "kaggle": {
   "accelerator": "gpu",
   "dataSources": [
    {
     "datasetId": 4611142,
     "sourceId": 7860701,
     "sourceType": "datasetVersion"
    }
   ],
   "dockerImageVersionId": 30665,
   "isGpuEnabled": true,
   "isInternetEnabled": true,
   "language": "python",
   "sourceType": "notebook"
  },
  "kernelspec": {
   "display_name": "Python 3",
   "language": "python",
   "name": "python3"
  },
  "language_info": {
   "codemirror_mode": {
    "name": "ipython",
    "version": 3
   },
   "file_extension": ".py",
   "mimetype": "text/x-python",
   "name": "python",
   "nbconvert_exporter": "python",
   "pygments_lexer": "ipython3",
   "version": "3.10.13"
  },
  "papermill": {
   "default_parameters": {},
   "duration": 907.881374,
   "end_time": "2024-03-18T20:23:32.981251",
   "environment_variables": {},
   "exception": null,
   "input_path": "__notebook__.ipynb",
   "output_path": "__notebook__.ipynb",
   "parameters": {},
   "start_time": "2024-03-18T20:08:25.099877",
   "version": "2.5.0"
  }
 },
 "nbformat": 4,
 "nbformat_minor": 5
}
