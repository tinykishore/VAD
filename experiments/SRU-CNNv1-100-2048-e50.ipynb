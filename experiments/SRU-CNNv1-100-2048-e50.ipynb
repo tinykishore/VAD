{
 "cells": [
  {
   "cell_type": "markdown",
   "id": "435941e0",
   "metadata": {
    "papermill": {
     "duration": 0.006811,
     "end_time": "2024-03-19T03:23:52.094959",
     "exception": false,
     "start_time": "2024-03-19T03:23:52.088148",
     "status": "completed"
    },
    "tags": []
   },
   "source": [
    "## Train SRU model with embedding-cnn-100-v-0-2-0\n",
    "\n",
    "Hope it will work..."
   ]
  },
  {
   "cell_type": "markdown",
   "id": "b86b04af",
   "metadata": {
    "papermill": {
     "duration": 0.005905,
     "end_time": "2024-03-19T03:23:52.107234",
     "exception": false,
     "start_time": "2024-03-19T03:23:52.101329",
     "status": "completed"
    },
    "tags": []
   },
   "source": [
    "### Installing SRU with v3.0.0"
   ]
  },
  {
   "cell_type": "code",
   "execution_count": 1,
   "id": "8a56cf20",
   "metadata": {
    "_cell_guid": "b1076dfc-b9ad-4769-8c92-a6c4dae69d19",
    "_uuid": "8f2839f25d086af736a60e9eeb907d3b93b6e0e5",
    "execution": {
     "iopub.execute_input": "2024-03-19T03:23:52.121064Z",
     "iopub.status.busy": "2024-03-19T03:23:52.120501Z",
     "iopub.status.idle": "2024-03-19T03:24:05.725087Z",
     "shell.execute_reply": "2024-03-19T03:24:05.724002Z"
    },
    "papermill": {
     "duration": 13.613948,
     "end_time": "2024-03-19T03:24:05.727430",
     "exception": false,
     "start_time": "2024-03-19T03:23:52.113482",
     "status": "completed"
    },
    "tags": []
   },
   "outputs": [
    {
     "name": "stdout",
     "output_type": "stream",
     "text": [
      "Collecting sru==3.0.0.dev6\r\n",
      "  Downloading sru-3.0.0.dev6-py3-none-any.whl.metadata (3.8 kB)\r\n",
      "Requirement already satisfied: torch>=1.5.1 in /opt/conda/lib/python3.10/site-packages (from sru==3.0.0.dev6) (2.1.2)\r\n",
      "Requirement already satisfied: ninja in /opt/conda/lib/python3.10/site-packages (from sru==3.0.0.dev6) (1.11.1.1)\r\n",
      "Requirement already satisfied: filelock in /opt/conda/lib/python3.10/site-packages (from torch>=1.5.1->sru==3.0.0.dev6) (3.13.1)\r\n",
      "Requirement already satisfied: typing-extensions in /opt/conda/lib/python3.10/site-packages (from torch>=1.5.1->sru==3.0.0.dev6) (4.9.0)\r\n",
      "Requirement already satisfied: sympy in /opt/conda/lib/python3.10/site-packages (from torch>=1.5.1->sru==3.0.0.dev6) (1.12)\r\n",
      "Requirement already satisfied: networkx in /opt/conda/lib/python3.10/site-packages (from torch>=1.5.1->sru==3.0.0.dev6) (3.2.1)\r\n",
      "Requirement already satisfied: jinja2 in /opt/conda/lib/python3.10/site-packages (from torch>=1.5.1->sru==3.0.0.dev6) (3.1.2)\r\n",
      "Requirement already satisfied: fsspec in /opt/conda/lib/python3.10/site-packages (from torch>=1.5.1->sru==3.0.0.dev6) (2024.2.0)\r\n",
      "Requirement already satisfied: MarkupSafe>=2.0 in /opt/conda/lib/python3.10/site-packages (from jinja2->torch>=1.5.1->sru==3.0.0.dev6) (2.1.3)\r\n",
      "Requirement already satisfied: mpmath>=0.19 in /opt/conda/lib/python3.10/site-packages (from sympy->torch>=1.5.1->sru==3.0.0.dev6) (1.3.0)\r\n",
      "Downloading sru-3.0.0.dev6-py3-none-any.whl (30 kB)\r\n",
      "Installing collected packages: sru\r\n",
      "Successfully installed sru-3.0.0.dev6\r\n"
     ]
    }
   ],
   "source": [
    "!pip install sru==3.0.0.dev6"
   ]
  },
  {
   "cell_type": "markdown",
   "id": "ae941a75",
   "metadata": {
    "papermill": {
     "duration": 0.006561,
     "end_time": "2024-03-19T03:24:05.741366",
     "exception": false,
     "start_time": "2024-03-19T03:24:05.734805",
     "status": "completed"
    },
    "tags": []
   },
   "source": [
    "### Importing Necessary Libraries"
   ]
  },
  {
   "cell_type": "code",
   "execution_count": 2,
   "id": "45fa14c2",
   "metadata": {
    "execution": {
     "iopub.execute_input": "2024-03-19T03:24:05.757011Z",
     "iopub.status.busy": "2024-03-19T03:24:05.756347Z",
     "iopub.status.idle": "2024-03-19T03:24:58.279073Z",
     "shell.execute_reply": "2024-03-19T03:24:58.278126Z"
    },
    "papermill": {
     "duration": 52.53957,
     "end_time": "2024-03-19T03:24:58.287772",
     "exception": false,
     "start_time": "2024-03-19T03:24:05.748202",
     "status": "completed"
    },
    "tags": []
   },
   "outputs": [
    {
     "data": {
      "text/plain": [
       "40"
      ]
     },
     "execution_count": 2,
     "metadata": {},
     "output_type": "execute_result"
    }
   ],
   "source": [
    "import logging\n",
    "import os\n",
    "\n",
    "import numpy as np\n",
    "import torch\n",
    "from sklearn.model_selection import train_test_split\n",
    "from sru import SRU\n",
    "from torch.nn import CrossEntropyLoss\n",
    "from torch.nn import Module, Dropout, Linear\n",
    "from torch.optim import Adam\n",
    "from torch.utils.data import TensorDataset, DataLoader\n",
    "from tqdm import tqdm\n",
    "import gc\n",
    "\n",
    "gc.collect()"
   ]
  },
  {
   "cell_type": "markdown",
   "id": "2714e748",
   "metadata": {
    "papermill": {
     "duration": 0.006638,
     "end_time": "2024-03-19T03:24:58.301351",
     "exception": false,
     "start_time": "2024-03-19T03:24:58.294713",
     "status": "completed"
    },
    "tags": []
   },
   "source": [
    "### Set the Device to CUDA"
   ]
  },
  {
   "cell_type": "code",
   "execution_count": 3,
   "id": "67efad35",
   "metadata": {
    "execution": {
     "iopub.execute_input": "2024-03-19T03:24:58.316392Z",
     "iopub.status.busy": "2024-03-19T03:24:58.315966Z",
     "iopub.status.idle": "2024-03-19T03:24:58.465352Z",
     "shell.execute_reply": "2024-03-19T03:24:58.464204Z"
    },
    "papermill": {
     "duration": 0.159238,
     "end_time": "2024-03-19T03:24:58.467417",
     "exception": false,
     "start_time": "2024-03-19T03:24:58.308179",
     "status": "completed"
    },
    "tags": []
   },
   "outputs": [
    {
     "name": "stdout",
     "output_type": "stream",
     "text": [
      "Device selected: cuda\n",
      "Tue Mar 19 03:24:58 2024       \n",
      "+---------------------------------------------------------------------------------------+\n",
      "| NVIDIA-SMI 535.129.03             Driver Version: 535.129.03   CUDA Version: 12.2     |\n",
      "|-----------------------------------------+----------------------+----------------------+\n",
      "| GPU  Name                 Persistence-M | Bus-Id        Disp.A | Volatile Uncorr. ECC |\n",
      "| Fan  Temp   Perf          Pwr:Usage/Cap |         Memory-Usage | GPU-Util  Compute M. |\n",
      "|                                         |                      |               MIG M. |\n",
      "|=========================================+======================+======================|\n",
      "|   0  Tesla P100-PCIE-16GB           Off | 00000000:00:04.0 Off |                    0 |\n",
      "| N/A   35C    P0              25W / 250W |      2MiB / 16384MiB |      0%      Default |\n",
      "|                                         |                      |                  N/A |\n",
      "+-----------------------------------------+----------------------+----------------------+\n",
      "                                                                                         \n",
      "+---------------------------------------------------------------------------------------+\n",
      "| Processes:                                                                            |\n",
      "|  GPU   GI   CI        PID   Type   Process name                            GPU Memory |\n",
      "|        ID   ID                                                             Usage      |\n",
      "|=======================================================================================|\n",
      "|  No running processes found                                                           |\n",
      "+---------------------------------------------------------------------------------------+\n",
      "\n",
      "Device type: cuda\n",
      "Capability: (6, 0)\n"
     ]
    },
    {
     "data": {
      "text/plain": [
       "0"
      ]
     },
     "execution_count": 3,
     "metadata": {},
     "output_type": "execute_result"
    }
   ],
   "source": [
    "# Set the device to use (e.g., 'cpu', 'cuda', 'mps')\n",
    "device = torch.device(\"mps\" if torch.backends.mps.is_available() else\n",
    "                      (\"cuda\" if torch.cuda.is_available() else \"cpu\"))\n",
    "\n",
    "# Select Device According to Availability\n",
    "print(\"Device selected:\", device)\n",
    "\n",
    "# If the device is CUDA, print the device capability\n",
    "if device.type == \"cuda\":\n",
    "    os.system(\"nvidia-smi\")\n",
    "    print()\n",
    "    print(\"Device type:\", device.type)\n",
    "    print(\"Capability:\", torch.cuda.get_device_capability(device))\n",
    "else:\n",
    "    print(\"Device capabilities are limited on MPSs and CPUs.\")\n",
    "\n",
    "gc.collect()"
   ]
  },
  {
   "cell_type": "markdown",
   "id": "04f3df74",
   "metadata": {
    "papermill": {
     "duration": 0.007915,
     "end_time": "2024-03-19T03:24:58.482649",
     "exception": false,
     "start_time": "2024-03-19T03:24:58.474734",
     "status": "completed"
    },
    "tags": []
   },
   "source": [
    "### Read the file, Validate and View Shape"
   ]
  },
  {
   "cell_type": "code",
   "execution_count": 4,
   "id": "fbcffd87",
   "metadata": {
    "execution": {
     "iopub.execute_input": "2024-03-19T03:24:58.497950Z",
     "iopub.status.busy": "2024-03-19T03:24:58.497661Z",
     "iopub.status.idle": "2024-03-19T03:26:06.851603Z",
     "shell.execute_reply": "2024-03-19T03:26:06.850720Z"
    },
    "papermill": {
     "duration": 68.371597,
     "end_time": "2024-03-19T03:26:06.861330",
     "exception": false,
     "start_time": "2024-03-19T03:24:58.489733",
     "status": "completed"
    },
    "tags": []
   },
   "outputs": [
    {
     "name": "stdout",
     "output_type": "stream",
     "text": [
      "Files Loaded Successfully\n",
      "Video Embeddings Shape: (9150, 100, 2048)\n",
      "Video Labels Shape: (9150,)\n"
     ]
    },
    {
     "data": {
      "text/plain": [
       "22"
      ]
     },
     "execution_count": 4,
     "metadata": {},
     "output_type": "execute_result"
    }
   ],
   "source": [
    "file_embeddings = np.load('/kaggle/input/train_embeddings.npy')\n",
    "file_labels = np.load('/kaggle/input/train_labels.npy')\n",
    "\n",
    "# Check if the embeddings and labels are of the same length\n",
    "if len(file_embeddings) != len(file_labels):\n",
    "    raise ValueError(\"The length of the embeddings and labels should be the same\")\n",
    "\n",
    "# check if the embedding is a 3D array\n",
    "if len(file_embeddings.shape) != 3:\n",
    "    raise ValueError(f\"The embeddings should be a 4D array [instances, windows, frames, features].\"\n",
    "                     f\" Found {len(file_embeddings.shape)}D instead.\")\n",
    "\n",
    "print(\"Files Loaded Successfully\")\n",
    "print(\"Video Embeddings Shape:\", file_embeddings.shape)\n",
    "print(\"Video Labels Shape:\", file_labels.shape)\n",
    "gc.collect()"
   ]
  },
  {
   "cell_type": "markdown",
   "id": "f8385709",
   "metadata": {
    "papermill": {
     "duration": 0.007277,
     "end_time": "2024-03-19T03:26:06.875879",
     "exception": false,
     "start_time": "2024-03-19T03:26:06.868602",
     "status": "completed"
    },
    "tags": []
   },
   "source": [
    "### Train Test Split, Convert to torch.tensor and View Shape"
   ]
  },
  {
   "cell_type": "code",
   "execution_count": 5,
   "id": "1e75f2fb",
   "metadata": {
    "execution": {
     "iopub.execute_input": "2024-03-19T03:26:06.893301Z",
     "iopub.status.busy": "2024-03-19T03:26:06.892459Z",
     "iopub.status.idle": "2024-03-19T03:26:10.864331Z",
     "shell.execute_reply": "2024-03-19T03:26:10.863403Z"
    },
    "papermill": {
     "duration": 3.983125,
     "end_time": "2024-03-19T03:26:10.866344",
     "exception": false,
     "start_time": "2024-03-19T03:26:06.883219",
     "status": "completed"
    },
    "tags": []
   },
   "outputs": [
    {
     "name": "stdout",
     "output_type": "stream",
     "text": [
      "Shape of Train Embeddings: torch.Size([7320, 100, 2048])\n",
      "Shape of Train Labels: torch.Size([7320])\n",
      "Shape of Test Embeddings: torch.Size([1830, 100, 2048])\n",
      "Shape of Test Labels: torch.Size([1830])\n"
     ]
    },
    {
     "data": {
      "text/plain": [
       "0"
      ]
     },
     "execution_count": 5,
     "metadata": {},
     "output_type": "execute_result"
    }
   ],
   "source": [
    "test_size = 0.2\n",
    "\n",
    "\n",
    "# Split the data into training and testing\n",
    "x_train, x_test, y_train, y_test = train_test_split(file_embeddings,\n",
    "                                                    file_labels,\n",
    "                                                    test_size=test_size,\n",
    "                                                    random_state=42)\n",
    "\n",
    "\n",
    "# convert to tensor\n",
    "train_embeddings = torch.from_numpy(x_train).to(device)\n",
    "# train_embeddings = train_embeddings.reshape(train_embeddings.shape[0], -1)\n",
    "train_labels = torch.from_numpy(y_train).to(device)\n",
    "test_embeddings = torch.from_numpy(x_test).to(device)\n",
    "# test_embeddings = test_embeddings.reshape(test_embeddings.shape[0], -1)\n",
    "test_labels = torch.from_numpy(y_test).to(device)\n",
    "\n",
    "print('Shape of Train Embeddings:', train_embeddings.shape)\n",
    "print('Shape of Train Labels:', train_labels.shape)\n",
    "print('Shape of Test Embeddings:', test_embeddings.shape)\n",
    "print('Shape of Test Labels:', test_labels.shape)\n",
    "\n",
    "gc.collect()"
   ]
  },
  {
   "cell_type": "markdown",
   "id": "ec762ff3",
   "metadata": {
    "papermill": {
     "duration": 0.00756,
     "end_time": "2024-03-19T03:26:10.881621",
     "exception": false,
     "start_time": "2024-03-19T03:26:10.874061",
     "status": "completed"
    },
    "tags": []
   },
   "source": [
    "### Delete all unnecessary variables\n",
    "\n",
    "This is important because the embeddings are huge in size and the variables take around 15.1 GiB / 29 GiB. **After running the cell it will drop down to 1.2 GiB**"
   ]
  },
  {
   "cell_type": "code",
   "execution_count": 6,
   "id": "9517ad00",
   "metadata": {
    "execution": {
     "iopub.execute_input": "2024-03-19T03:26:10.897792Z",
     "iopub.status.busy": "2024-03-19T03:26:10.897480Z",
     "iopub.status.idle": "2024-03-19T03:26:11.033759Z",
     "shell.execute_reply": "2024-03-19T03:26:11.032860Z"
    },
    "papermill": {
     "duration": 0.146797,
     "end_time": "2024-03-19T03:26:11.035878",
     "exception": false,
     "start_time": "2024-03-19T03:26:10.889081",
     "status": "completed"
    },
    "tags": []
   },
   "outputs": [
    {
     "data": {
      "text/plain": [
       "0"
      ]
     },
     "execution_count": 6,
     "metadata": {},
     "output_type": "execute_result"
    }
   ],
   "source": [
    "del file_embeddings\n",
    "del file_labels\n",
    "del x_train\n",
    "del x_test\n",
    "del y_train\n",
    "del y_test\n",
    "gc.collect()"
   ]
  },
  {
   "cell_type": "markdown",
   "id": "96cbadbe",
   "metadata": {
    "papermill": {
     "duration": 0.007575,
     "end_time": "2024-03-19T03:26:11.051323",
     "exception": false,
     "start_time": "2024-03-19T03:26:11.043748",
     "status": "completed"
    },
    "tags": []
   },
   "source": [
    "### Reshaping the tensors\n",
    "\n",
    "To fit in SRU model we need to reshape the tensors. Currently, they are in 3D shape, `(videos, frames, features)`. But SRU expects the tensor in different format.\n",
    "\n",
    "SRU expects a 3D tensor shaped like `(sequence_length, batch_size, input_size)`, which for our case, `sequence_length` would be `frames`, `batch_size` would be `videos` and `input_size` would be `features`. So, we need to convert from shape `(7320, 100, 2048)` to shape `(100, 7320, 2048)`"
   ]
  },
  {
   "cell_type": "markdown",
   "id": "796280de",
   "metadata": {
    "papermill": {
     "duration": 0.007484,
     "end_time": "2024-03-19T03:26:11.066382",
     "exception": false,
     "start_time": "2024-03-19T03:26:11.058898",
     "status": "completed"
    },
    "tags": []
   },
   "source": [
    "Now we need to reshape the labels as well"
   ]
  },
  {
   "cell_type": "code",
   "execution_count": 7,
   "id": "fde92d62",
   "metadata": {
    "execution": {
     "iopub.execute_input": "2024-03-19T03:26:11.082947Z",
     "iopub.status.busy": "2024-03-19T03:26:11.082570Z",
     "iopub.status.idle": "2024-03-19T03:26:11.087611Z",
     "shell.execute_reply": "2024-03-19T03:26:11.086782Z"
    },
    "papermill": {
     "duration": 0.01553,
     "end_time": "2024-03-19T03:26:11.089504",
     "exception": false,
     "start_time": "2024-03-19T03:26:11.073974",
     "status": "completed"
    },
    "tags": []
   },
   "outputs": [],
   "source": [
    "\n",
    "\n",
    "\n",
    "# batch_size = 8\n",
    "\n",
    "# # Create TensorDataset\n",
    "# train_data = TensorDataset(train_embeddings, train_labels)\n",
    "# test_data = TensorDataset(test_embeddings, test_labels)\n",
    "\n",
    "# \"\"\"\n",
    "# Each train data has (2, 100 , 2048)\n",
    "# len(train_data) -> videos -\n",
    "# train_data[i][0] -> Video embed,  Shape: (100, 2048)\n",
    "# train_data[i][1] -> Label, Shape: (1, )\n",
    "\n",
    "# train_data[i][0][0] -> First (0th) frame Features, Shape: (2048, )\n",
    "# Same goes for test data\n",
    "# \"\"\"\n",
    "\n",
    "# ###########################\n",
    "\n",
    "# train_loader = DataLoader(train_data, shuffle=True, batch_size=batch_size)\n",
    "# test_loader = DataLoader(test_data, shuffle=True, batch_size=batch_size)\n",
    "\n",
    "# \"\"\"\n",
    "# Length of loader = train data // batch size = 7320 // 8 = 915\n",
    "# Inside of each (915) element in data_loader...........\n",
    "\n",
    "# len(i) -> 2 Which means each element has 2 sub element\n",
    "# We can access i[0] and i[1].\n",
    "# len(i[0]) = 8 and len(i[0]) = 8\n",
    "\n",
    "\n",
    "# So both element has 8 elements. First one is 8 video, secons one is 8 labels corresponding to the videos.\\\n",
    "\n",
    "# For example,\n",
    "\n",
    "#             for i in train_loader:\n",
    "#             print(i[0])\n",
    "#             break\n",
    "    \n",
    "# prints: tensor([1, 0, 0, 0, 0, 1, 0, 1], device='cuda:0')\n",
    "\n",
    "# so The first element contains 8 videos. \n",
    "# \"\"\""
   ]
  },
  {
   "cell_type": "code",
   "execution_count": 8,
   "id": "eee4a6f6",
   "metadata": {
    "execution": {
     "iopub.execute_input": "2024-03-19T03:26:11.105996Z",
     "iopub.status.busy": "2024-03-19T03:26:11.105732Z",
     "iopub.status.idle": "2024-03-19T03:26:11.110844Z",
     "shell.execute_reply": "2024-03-19T03:26:11.110029Z"
    },
    "papermill": {
     "duration": 0.015593,
     "end_time": "2024-03-19T03:26:11.112731",
     "exception": false,
     "start_time": "2024-03-19T03:26:11.097138",
     "status": "completed"
    },
    "tags": []
   },
   "outputs": [],
   "source": [
    "batch_size = 8\n",
    "\n",
    "# Create TensorDataset\n",
    "train_data = TensorDataset(train_embeddings, train_labels)\n",
    "test_data = TensorDataset(test_embeddings, test_labels)\n",
    "\n",
    "train_loader = DataLoader(train_data, shuffle=True, batch_size=batch_size)\n",
    "test_loader = DataLoader(test_data, shuffle=True, batch_size=batch_size)\n",
    "\n",
    "# Train loader length is = 915 which means 915 * batch size 8 = 7320 data points, which are actually videos.\n",
    "# same goes for test loader\n",
    "# our sequence length is then 204800 which is the total features"
   ]
  },
  {
   "cell_type": "code",
   "execution_count": 9,
   "id": "5349e9bc",
   "metadata": {
    "execution": {
     "iopub.execute_input": "2024-03-19T03:26:11.128912Z",
     "iopub.status.busy": "2024-03-19T03:26:11.128675Z",
     "iopub.status.idle": "2024-03-19T03:26:11.390522Z",
     "shell.execute_reply": "2024-03-19T03:26:11.389659Z"
    },
    "papermill": {
     "duration": 0.272357,
     "end_time": "2024-03-19T03:26:11.392575",
     "exception": false,
     "start_time": "2024-03-19T03:26:11.120218",
     "status": "completed"
    },
    "tags": []
   },
   "outputs": [
    {
     "data": {
      "text/plain": [
       "SRUModel(\n",
       "  (sru_layers): SRU(\n",
       "    (rnn_lst): ModuleList(\n",
       "      (0): SRUCell(2048, 1024, rescale=True,\n",
       "        transform_module=Linear(in_features=2048, out_features=4096, bias=False)\n",
       "      )\n",
       "      (1): SRUCell(1024, 1024, rescale=True,\n",
       "        transform_module=Linear(in_features=1024, out_features=3072, bias=False)\n",
       "      )\n",
       "    )\n",
       "  )\n",
       "  (dropout): Dropout(p=0.2, inplace=False)\n",
       "  (linear): Linear(in_features=1024, out_features=2, bias=True)\n",
       ")"
      ]
     },
     "execution_count": 9,
     "metadata": {},
     "output_type": "execute_result"
    }
   ],
   "source": [
    "class SRUModel(Module):\n",
    "    def __init__(self, input_size, hidden_size, **kwargs):\n",
    "        super(SRUModel, self).__init__()\n",
    "        # Main SRU layer\n",
    "        self.sru_layers = SRU(\n",
    "            input_size=input_size,\n",
    "            hidden_size=hidden_size,\n",
    "            num_layers=kwargs.get('num_layers', 2),\n",
    "            dropout=kwargs.get('dropout_prob', 0.0),\n",
    "            bidirectional=kwargs.get('bidirectional', False),\n",
    "            layer_norm=kwargs.get('layer_norm', False),\n",
    "            highway_bias=kwargs.get('highway_bias', 0.0),\n",
    "            rescale=kwargs.get('rescale', True),\n",
    "            nn_rnn_compatible_return=kwargs.get('nn_rnn_compatible_return', False),\n",
    "            proj_input_to_hidden_first=kwargs.get('proj_input_to_hidden_first', False),\n",
    "            amp_recurrence_fp16=kwargs.get('amp_recurrence_fp16', False),\n",
    "            normalize_after=kwargs.get('normalize_after', False),\n",
    "        ).to(device)\n",
    "        # Dropout layer\n",
    "        self.dropout = Dropout(kwargs.get('dropout_layer_prob', 0.2)).to(device)\n",
    "        # Linear layer (Fully connected layer)\n",
    "        self.linear = Linear(\n",
    "            in_features=hidden_size * 2 if kwargs.get('bidirectional', False) else hidden_size,\n",
    "            out_features=kwargs.get('num_classes', 2)\n",
    "        ).to(device)\n",
    "        # L2 regularization\n",
    "        self.l2_reg_lambda = kwargs.get('l2_reg_lambda', 1e-5)\n",
    "\n",
    "    def forward(self, x):\n",
    "        output_states, _ = self.sru_layers(x)\n",
    "        output = self.linear(self.dropout(output_states[-1]))\n",
    "        return output\n",
    "\n",
    "    def l2_regularization(self):\n",
    "        l2_reg = torch.tensor(0., device=device)\n",
    "        for param in self.parameters():\n",
    "            l2_reg += torch.norm(param, p=2)\n",
    "        return self.l2_reg_lambda * l2_reg\n",
    "\n",
    "\n",
    "model = SRUModel(2048, 1024)\n",
    "model = model.to(device)\n",
    "model"
   ]
  },
  {
   "cell_type": "code",
   "execution_count": 10,
   "id": "6b237daa",
   "metadata": {
    "execution": {
     "iopub.execute_input": "2024-03-19T03:26:11.409620Z",
     "iopub.status.busy": "2024-03-19T03:26:11.409346Z",
     "iopub.status.idle": "2024-03-19T03:26:13.875388Z",
     "shell.execute_reply": "2024-03-19T03:26:13.874626Z"
    },
    "papermill": {
     "duration": 2.477148,
     "end_time": "2024-03-19T03:26:13.877800",
     "exception": false,
     "start_time": "2024-03-19T03:26:11.400652",
     "status": "completed"
    },
    "tags": []
   },
   "outputs": [],
   "source": [
    "# Define your loss function and optimizer\n",
    "criterion = CrossEntropyLoss()\n",
    "optimizer = Adam(model.parameters())"
   ]
  },
  {
   "cell_type": "code",
   "execution_count": 11,
   "id": "3ec66aec",
   "metadata": {
    "execution": {
     "iopub.execute_input": "2024-03-19T03:26:13.895723Z",
     "iopub.status.busy": "2024-03-19T03:26:13.895319Z",
     "iopub.status.idle": "2024-03-19T03:35:15.255442Z",
     "shell.execute_reply": "2024-03-19T03:35:15.254378Z"
    },
    "papermill": {
     "duration": 541.371315,
     "end_time": "2024-03-19T03:35:15.257459",
     "exception": false,
     "start_time": "2024-03-19T03:26:13.886144",
     "status": "completed"
    },
    "tags": []
   },
   "outputs": [
    {
     "name": "stderr",
     "output_type": "stream",
     "text": [
      "Epoch 1/50: 100%|██████████| 915/915 [00:11<00:00, 79.51it/s, accuracy=50.2, loss=0.665]\n"
     ]
    },
    {
     "name": "stdout",
     "output_type": "stream",
     "text": [
      "Epoch [1/50], Loss: 0.6976477209336119, Accuracy: 50.177595628415304%\n"
     ]
    },
    {
     "name": "stderr",
     "output_type": "stream",
     "text": [
      "Epoch 2/50: 100%|██████████| 915/915 [00:10<00:00, 85.43it/s, accuracy=53.1, loss=0.728]\n"
     ]
    },
    {
     "name": "stdout",
     "output_type": "stream",
     "text": [
      "Epoch [2/50], Loss: 0.6913663995721953, Accuracy: 53.14207650273224%\n"
     ]
    },
    {
     "name": "stderr",
     "output_type": "stream",
     "text": [
      "Epoch 3/50: 100%|██████████| 915/915 [00:10<00:00, 84.53it/s, accuracy=58.5, loss=0.689]\n"
     ]
    },
    {
     "name": "stdout",
     "output_type": "stream",
     "text": [
      "Epoch [3/50], Loss: 0.6725147883097331, Accuracy: 58.45628415300546%\n"
     ]
    },
    {
     "name": "stderr",
     "output_type": "stream",
     "text": [
      "Epoch 4/50: 100%|██████████| 915/915 [00:10<00:00, 84.46it/s, accuracy=61.8, loss=0.675]\n"
     ]
    },
    {
     "name": "stdout",
     "output_type": "stream",
     "text": [
      "Epoch [4/50], Loss: 0.6545781615979033, Accuracy: 61.81693989071038%\n"
     ]
    },
    {
     "name": "stderr",
     "output_type": "stream",
     "text": [
      "Epoch 5/50: 100%|██████████| 915/915 [00:10<00:00, 84.78it/s, accuracy=63.2, loss=0.656]\n"
     ]
    },
    {
     "name": "stdout",
     "output_type": "stream",
     "text": [
      "Epoch [5/50], Loss: 0.6492501698556493, Accuracy: 63.23770491803279%\n"
     ]
    },
    {
     "name": "stderr",
     "output_type": "stream",
     "text": [
      "Epoch 6/50: 100%|██████████| 915/915 [00:10<00:00, 84.96it/s, accuracy=65.1, loss=0.716]\n"
     ]
    },
    {
     "name": "stdout",
     "output_type": "stream",
     "text": [
      "Epoch [6/50], Loss: 0.6367327845813147, Accuracy: 65.10928961748634%\n"
     ]
    },
    {
     "name": "stderr",
     "output_type": "stream",
     "text": [
      "Epoch 7/50: 100%|██████████| 915/915 [00:10<00:00, 85.28it/s, accuracy=65.8, loss=0.424]\n"
     ]
    },
    {
     "name": "stdout",
     "output_type": "stream",
     "text": [
      "Epoch [7/50], Loss: 0.6311279763289488, Accuracy: 65.80601092896175%\n"
     ]
    },
    {
     "name": "stderr",
     "output_type": "stream",
     "text": [
      "Epoch 8/50: 100%|██████████| 915/915 [00:10<00:00, 85.11it/s, accuracy=67, loss=0.589]\n"
     ]
    },
    {
     "name": "stdout",
     "output_type": "stream",
     "text": [
      "Epoch [8/50], Loss: 0.6141859832845751, Accuracy: 67.00819672131148%\n"
     ]
    },
    {
     "name": "stderr",
     "output_type": "stream",
     "text": [
      "Epoch 9/50: 100%|██████████| 915/915 [00:10<00:00, 84.55it/s, accuracy=67.6, loss=0.802]\n"
     ]
    },
    {
     "name": "stdout",
     "output_type": "stream",
     "text": [
      "Epoch [9/50], Loss: 0.6052667210336591, Accuracy: 67.63661202185793%\n"
     ]
    },
    {
     "name": "stderr",
     "output_type": "stream",
     "text": [
      "Epoch 10/50: 100%|██████████| 915/915 [00:10<00:00, 85.18it/s, accuracy=68.2, loss=0.707]\n"
     ]
    },
    {
     "name": "stdout",
     "output_type": "stream",
     "text": [
      "Epoch [10/50], Loss: 0.5993110478250055, Accuracy: 68.23770491803279%\n"
     ]
    },
    {
     "name": "stderr",
     "output_type": "stream",
     "text": [
      "Epoch 11/50: 100%|██████████| 915/915 [00:10<00:00, 84.71it/s, accuracy=69.3, loss=0.679]\n"
     ]
    },
    {
     "name": "stdout",
     "output_type": "stream",
     "text": [
      "Epoch [11/50], Loss: 0.5848013615510502, Accuracy: 69.34426229508196%\n"
     ]
    },
    {
     "name": "stderr",
     "output_type": "stream",
     "text": [
      "Epoch 12/50: 100%|██████████| 915/915 [00:10<00:00, 84.93it/s, accuracy=70.5, loss=0.436]\n"
     ]
    },
    {
     "name": "stdout",
     "output_type": "stream",
     "text": [
      "Epoch [12/50], Loss: 0.5804564490181501, Accuracy: 70.5464480874317%\n"
     ]
    },
    {
     "name": "stderr",
     "output_type": "stream",
     "text": [
      "Epoch 13/50: 100%|██████████| 915/915 [00:10<00:00, 85.05it/s, accuracy=70.3, loss=0.301]\n"
     ]
    },
    {
     "name": "stdout",
     "output_type": "stream",
     "text": [
      "Epoch [13/50], Loss: 0.5770984095790999, Accuracy: 70.27322404371584%\n"
     ]
    },
    {
     "name": "stderr",
     "output_type": "stream",
     "text": [
      "Epoch 14/50: 100%|██████████| 915/915 [00:10<00:00, 84.86it/s, accuracy=71.5, loss=0.554]\n"
     ]
    },
    {
     "name": "stdout",
     "output_type": "stream",
     "text": [
      "Epoch [14/50], Loss: 0.5634622885962653, Accuracy: 71.53005464480874%\n"
     ]
    },
    {
     "name": "stderr",
     "output_type": "stream",
     "text": [
      "Epoch 15/50: 100%|██████████| 915/915 [00:10<00:00, 84.82it/s, accuracy=70.5, loss=0.356]\n"
     ]
    },
    {
     "name": "stdout",
     "output_type": "stream",
     "text": [
      "Epoch [15/50], Loss: 0.5629519679588698, Accuracy: 70.5327868852459%\n"
     ]
    },
    {
     "name": "stderr",
     "output_type": "stream",
     "text": [
      "Epoch 16/50: 100%|██████████| 915/915 [00:10<00:00, 85.03it/s, accuracy=72, loss=0.555]\n"
     ]
    },
    {
     "name": "stdout",
     "output_type": "stream",
     "text": [
      "Epoch [16/50], Loss: 0.5548182504261777, Accuracy: 72.00819672131148%\n"
     ]
    },
    {
     "name": "stderr",
     "output_type": "stream",
     "text": [
      "Epoch 17/50: 100%|██████████| 915/915 [00:10<00:00, 84.55it/s, accuracy=72.6, loss=0.317]\n"
     ]
    },
    {
     "name": "stdout",
     "output_type": "stream",
     "text": [
      "Epoch [17/50], Loss: 0.5468907707945897, Accuracy: 72.59562841530055%\n"
     ]
    },
    {
     "name": "stderr",
     "output_type": "stream",
     "text": [
      "Epoch 18/50: 100%|██████████| 915/915 [00:10<00:00, 84.91it/s, accuracy=72.3, loss=0.319]\n"
     ]
    },
    {
     "name": "stdout",
     "output_type": "stream",
     "text": [
      "Epoch [18/50], Loss: 0.5527339308965401, Accuracy: 72.28142076502732%\n"
     ]
    },
    {
     "name": "stderr",
     "output_type": "stream",
     "text": [
      "Epoch 19/50: 100%|██████████| 915/915 [00:10<00:00, 84.94it/s, accuracy=73.1, loss=0.565]\n"
     ]
    },
    {
     "name": "stdout",
     "output_type": "stream",
     "text": [
      "Epoch [19/50], Loss: 0.5458271659137122, Accuracy: 73.06010928961749%\n"
     ]
    },
    {
     "name": "stderr",
     "output_type": "stream",
     "text": [
      "Epoch 20/50: 100%|██████████| 915/915 [00:10<00:00, 84.62it/s, accuracy=73.9, loss=0.542]\n"
     ]
    },
    {
     "name": "stdout",
     "output_type": "stream",
     "text": [
      "Epoch [20/50], Loss: 0.5362699206898122, Accuracy: 73.9207650273224%\n"
     ]
    },
    {
     "name": "stderr",
     "output_type": "stream",
     "text": [
      "Epoch 21/50: 100%|██████████| 915/915 [00:10<00:00, 84.98it/s, accuracy=74, loss=0.58]\n"
     ]
    },
    {
     "name": "stdout",
     "output_type": "stream",
     "text": [
      "Epoch [21/50], Loss: 0.5273212825502854, Accuracy: 73.96174863387978%\n"
     ]
    },
    {
     "name": "stderr",
     "output_type": "stream",
     "text": [
      "Epoch 22/50: 100%|██████████| 915/915 [00:10<00:00, 84.99it/s, accuracy=74.2, loss=0.518]\n"
     ]
    },
    {
     "name": "stdout",
     "output_type": "stream",
     "text": [
      "Epoch [22/50], Loss: 0.5353068335948746, Accuracy: 74.23497267759562%\n"
     ]
    },
    {
     "name": "stderr",
     "output_type": "stream",
     "text": [
      "Epoch 23/50: 100%|██████████| 915/915 [00:10<00:00, 84.77it/s, accuracy=74.8, loss=0.69]\n"
     ]
    },
    {
     "name": "stdout",
     "output_type": "stream",
     "text": [
      "Epoch [23/50], Loss: 0.5211315019371731, Accuracy: 74.84972677595628%\n"
     ]
    },
    {
     "name": "stderr",
     "output_type": "stream",
     "text": [
      "Epoch 24/50: 100%|██████████| 915/915 [00:10<00:00, 84.95it/s, accuracy=74.7, loss=0.398]\n"
     ]
    },
    {
     "name": "stdout",
     "output_type": "stream",
     "text": [
      "Epoch [24/50], Loss: 0.5211320091954997, Accuracy: 74.68579234972678%\n"
     ]
    },
    {
     "name": "stderr",
     "output_type": "stream",
     "text": [
      "Epoch 25/50: 100%|██████████| 915/915 [00:10<00:00, 84.82it/s, accuracy=74.2, loss=0.268]\n"
     ]
    },
    {
     "name": "stdout",
     "output_type": "stream",
     "text": [
      "Epoch [25/50], Loss: 0.5256231592571149, Accuracy: 74.18032786885246%\n"
     ]
    },
    {
     "name": "stderr",
     "output_type": "stream",
     "text": [
      "Epoch 26/50: 100%|██████████| 915/915 [00:10<00:00, 84.41it/s, accuracy=74.8, loss=0.547]\n"
     ]
    },
    {
     "name": "stdout",
     "output_type": "stream",
     "text": [
      "Epoch [26/50], Loss: 0.5213447762154491, Accuracy: 74.79508196721312%\n"
     ]
    },
    {
     "name": "stderr",
     "output_type": "stream",
     "text": [
      "Epoch 27/50: 100%|██████████| 915/915 [00:10<00:00, 84.68it/s, accuracy=75.4, loss=0.866]\n"
     ]
    },
    {
     "name": "stdout",
     "output_type": "stream",
     "text": [
      "Epoch [27/50], Loss: 0.5150234800381739, Accuracy: 75.3688524590164%\n"
     ]
    },
    {
     "name": "stderr",
     "output_type": "stream",
     "text": [
      "Epoch 28/50: 100%|██████████| 915/915 [00:10<00:00, 84.65it/s, accuracy=75, loss=0.25]\n"
     ]
    },
    {
     "name": "stdout",
     "output_type": "stream",
     "text": [
      "Epoch [28/50], Loss: 0.516894208065799, Accuracy: 74.98633879781421%\n"
     ]
    },
    {
     "name": "stderr",
     "output_type": "stream",
     "text": [
      "Epoch 29/50: 100%|██████████| 915/915 [00:10<00:00, 84.47it/s, accuracy=76.1, loss=0.557]\n"
     ]
    },
    {
     "name": "stdout",
     "output_type": "stream",
     "text": [
      "Epoch [29/50], Loss: 0.5053726914231894, Accuracy: 76.0792349726776%\n"
     ]
    },
    {
     "name": "stderr",
     "output_type": "stream",
     "text": [
      "Epoch 30/50: 100%|██████████| 915/915 [00:10<00:00, 84.78it/s, accuracy=75.1, loss=0.583]\n"
     ]
    },
    {
     "name": "stdout",
     "output_type": "stream",
     "text": [
      "Epoch [30/50], Loss: 0.5097295846118302, Accuracy: 75.05464480874316%\n"
     ]
    },
    {
     "name": "stderr",
     "output_type": "stream",
     "text": [
      "Epoch 31/50: 100%|██████████| 915/915 [00:10<00:00, 84.76it/s, accuracy=76.2, loss=0.551]\n"
     ]
    },
    {
     "name": "stdout",
     "output_type": "stream",
     "text": [
      "Epoch [31/50], Loss: 0.49893151033934346, Accuracy: 76.20218579234972%\n"
     ]
    },
    {
     "name": "stderr",
     "output_type": "stream",
     "text": [
      "Epoch 32/50: 100%|██████████| 915/915 [00:10<00:00, 84.37it/s, accuracy=75.7, loss=0.212]\n"
     ]
    },
    {
     "name": "stdout",
     "output_type": "stream",
     "text": [
      "Epoch [32/50], Loss: 0.5098697439568942, Accuracy: 75.65573770491804%\n"
     ]
    },
    {
     "name": "stderr",
     "output_type": "stream",
     "text": [
      "Epoch 33/50: 100%|██████████| 915/915 [00:10<00:00, 83.83it/s, accuracy=76.2, loss=0.594]\n"
     ]
    },
    {
     "name": "stdout",
     "output_type": "stream",
     "text": [
      "Epoch [33/50], Loss: 0.4997076505683159, Accuracy: 76.2431693989071%\n"
     ]
    },
    {
     "name": "stderr",
     "output_type": "stream",
     "text": [
      "Epoch 34/50: 100%|██████████| 915/915 [00:11<00:00, 82.87it/s, accuracy=76.2, loss=0.285]\n"
     ]
    },
    {
     "name": "stdout",
     "output_type": "stream",
     "text": [
      "Epoch [34/50], Loss: 0.5016405470302847, Accuracy: 76.22950819672131%\n"
     ]
    },
    {
     "name": "stderr",
     "output_type": "stream",
     "text": [
      "Epoch 35/50: 100%|██████████| 915/915 [00:10<00:00, 83.79it/s, accuracy=75.8, loss=0.666]\n"
     ]
    },
    {
     "name": "stdout",
     "output_type": "stream",
     "text": [
      "Epoch [35/50], Loss: 0.5014325002340672, Accuracy: 75.76502732240438%\n"
     ]
    },
    {
     "name": "stderr",
     "output_type": "stream",
     "text": [
      "Epoch 36/50: 100%|██████████| 915/915 [00:10<00:00, 84.62it/s, accuracy=76.7, loss=0.524]\n"
     ]
    },
    {
     "name": "stdout",
     "output_type": "stream",
     "text": [
      "Epoch [36/50], Loss: 0.4911074839735943, Accuracy: 76.69398907103825%\n"
     ]
    },
    {
     "name": "stderr",
     "output_type": "stream",
     "text": [
      "Epoch 37/50: 100%|██████████| 915/915 [00:10<00:00, 84.53it/s, accuracy=77.1, loss=0.277]\n"
     ]
    },
    {
     "name": "stdout",
     "output_type": "stream",
     "text": [
      "Epoch [37/50], Loss: 0.48270536734432473, Accuracy: 77.14480874316939%\n"
     ]
    },
    {
     "name": "stderr",
     "output_type": "stream",
     "text": [
      "Epoch 38/50: 100%|██████████| 915/915 [00:10<00:00, 84.67it/s, accuracy=76.5, loss=0.385]\n"
     ]
    },
    {
     "name": "stdout",
     "output_type": "stream",
     "text": [
      "Epoch [38/50], Loss: 0.49129535977224836, Accuracy: 76.48907103825137%\n"
     ]
    },
    {
     "name": "stderr",
     "output_type": "stream",
     "text": [
      "Epoch 39/50: 100%|██████████| 915/915 [00:10<00:00, 84.49it/s, accuracy=76.6, loss=0.322]\n"
     ]
    },
    {
     "name": "stdout",
     "output_type": "stream",
     "text": [
      "Epoch [39/50], Loss: 0.4880912799978517, Accuracy: 76.63934426229508%\n"
     ]
    },
    {
     "name": "stderr",
     "output_type": "stream",
     "text": [
      "Epoch 40/50: 100%|██████████| 915/915 [00:10<00:00, 84.47it/s, accuracy=77.1, loss=0.971]\n"
     ]
    },
    {
     "name": "stdout",
     "output_type": "stream",
     "text": [
      "Epoch [40/50], Loss: 0.4858414850925487, Accuracy: 77.14480874316939%\n"
     ]
    },
    {
     "name": "stderr",
     "output_type": "stream",
     "text": [
      "Epoch 41/50: 100%|██████████| 915/915 [00:10<00:00, 84.93it/s, accuracy=77.3, loss=0.336]\n"
     ]
    },
    {
     "name": "stdout",
     "output_type": "stream",
     "text": [
      "Epoch [41/50], Loss: 0.48427203256901497, Accuracy: 77.3224043715847%\n"
     ]
    },
    {
     "name": "stderr",
     "output_type": "stream",
     "text": [
      "Epoch 42/50: 100%|██████████| 915/915 [00:10<00:00, 84.45it/s, accuracy=77.2, loss=0.518]\n"
     ]
    },
    {
     "name": "stdout",
     "output_type": "stream",
     "text": [
      "Epoch [42/50], Loss: 0.4847014718042697, Accuracy: 77.1584699453552%\n"
     ]
    },
    {
     "name": "stderr",
     "output_type": "stream",
     "text": [
      "Epoch 43/50: 100%|██████████| 915/915 [00:10<00:00, 84.51it/s, accuracy=78.5, loss=0.297]\n"
     ]
    },
    {
     "name": "stdout",
     "output_type": "stream",
     "text": [
      "Epoch [43/50], Loss: 0.4669286574496598, Accuracy: 78.46994535519126%\n"
     ]
    },
    {
     "name": "stderr",
     "output_type": "stream",
     "text": [
      "Epoch 44/50: 100%|██████████| 915/915 [00:10<00:00, 84.92it/s, accuracy=76.9, loss=0.18]\n"
     ]
    },
    {
     "name": "stdout",
     "output_type": "stream",
     "text": [
      "Epoch [44/50], Loss: 0.48701227435974476, Accuracy: 76.91256830601093%\n"
     ]
    },
    {
     "name": "stderr",
     "output_type": "stream",
     "text": [
      "Epoch 45/50: 100%|██████████| 915/915 [00:10<00:00, 84.18it/s, accuracy=78, loss=0.263]\n"
     ]
    },
    {
     "name": "stdout",
     "output_type": "stream",
     "text": [
      "Epoch [45/50], Loss: 0.4710893685374755, Accuracy: 77.96448087431693%\n"
     ]
    },
    {
     "name": "stderr",
     "output_type": "stream",
     "text": [
      "Epoch 46/50: 100%|██████████| 915/915 [00:10<00:00, 84.30it/s, accuracy=77.7, loss=0.447]\n"
     ]
    },
    {
     "name": "stdout",
     "output_type": "stream",
     "text": [
      "Epoch [46/50], Loss: 0.4823911969290405, Accuracy: 77.6639344262295%\n"
     ]
    },
    {
     "name": "stderr",
     "output_type": "stream",
     "text": [
      "Epoch 47/50: 100%|██████████| 915/915 [00:10<00:00, 84.70it/s, accuracy=78.2, loss=1.14]\n"
     ]
    },
    {
     "name": "stdout",
     "output_type": "stream",
     "text": [
      "Epoch [47/50], Loss: 0.47517914466682026, Accuracy: 78.15573770491804%\n"
     ]
    },
    {
     "name": "stderr",
     "output_type": "stream",
     "text": [
      "Epoch 48/50: 100%|██████████| 915/915 [00:10<00:00, 84.46it/s, accuracy=78.6, loss=0.366]\n"
     ]
    },
    {
     "name": "stdout",
     "output_type": "stream",
     "text": [
      "Epoch [48/50], Loss: 0.4693522439546924, Accuracy: 78.64754098360656%\n"
     ]
    },
    {
     "name": "stderr",
     "output_type": "stream",
     "text": [
      "Epoch 49/50: 100%|██████████| 915/915 [00:10<00:00, 84.28it/s, accuracy=79.2, loss=0.415]\n"
     ]
    },
    {
     "name": "stdout",
     "output_type": "stream",
     "text": [
      "Epoch [49/50], Loss: 0.45845063125175206, Accuracy: 79.19398907103825%\n"
     ]
    },
    {
     "name": "stderr",
     "output_type": "stream",
     "text": [
      "Epoch 50/50: 100%|██████████| 915/915 [00:10<00:00, 84.57it/s, accuracy=79.1, loss=0.864]\n"
     ]
    },
    {
     "name": "stdout",
     "output_type": "stream",
     "text": [
      "Epoch [50/50], Loss: 0.45705055347312995, Accuracy: 79.09836065573771%\n",
      "Average Train Accuracy of the model on the train videos: 72.53430632113967%\n"
     ]
    }
   ],
   "source": [
    "epochs = 50\n",
    "\n",
    "total_correct_all_epochs = 0\n",
    "total_samples_all_epochs = 0\n",
    "\n",
    "# Setup logging\n",
    "logging.basicConfig(filename='training.log', level=logging.INFO)\n",
    "\n",
    "for epoch in range(epochs):\n",
    "    total_correct = 0\n",
    "    total_samples = 0\n",
    "    total_loss = 0.0\n",
    "\n",
    "    # Create tqdm progress bar for training loader\n",
    "    progress_bar = tqdm(enumerate(train_loader), desc=f\"Epoch {epoch + 1}/{epochs}\", total=len(train_loader))\n",
    "\n",
    "    for i, (videos, labels) in progress_bar:\n",
    "        videos = videos.permute(1, 0, 2)\n",
    "        # Forward pass\n",
    "        outputs = model(videos)\n",
    "        labels = labels.long()  # Convert labels to Long type\n",
    "        loss = criterion(outputs, labels) + model.l2_regularization()  # calculates loss\n",
    "        total_loss += loss.item()\n",
    "        # Backward and optimize\n",
    "        optimizer.zero_grad()\n",
    "        loss.backward()\n",
    "        optimizer.step()\n",
    "        # Calculate accuracy per batch\n",
    "        _, predicted = torch.max(outputs.data, 1)\n",
    "        total_samples += labels.size(0)\n",
    "        total_correct += (predicted == labels).sum().item()\n",
    "        batch_accuracy = 100 * total_correct / total_samples\n",
    "\n",
    "        # Update progress bar\n",
    "        progress_bar.set_postfix(loss=loss.item(), accuracy=batch_accuracy)\n",
    "        \n",
    "        # Update overall accuracy counters\n",
    "        total_correct_all_epochs += total_correct\n",
    "        total_samples_all_epochs += total_samples\n",
    "\n",
    "    # Log epoch statistics\n",
    "    epoch_loss = total_loss / len(train_loader)\n",
    "    epoch_accuracy = 100 * total_correct / total_samples\n",
    "    logging.info(f'Epoch [{epoch + 1}/{epochs}], Loss: {epoch_loss}, Accuracy: {epoch_accuracy}%')\n",
    "\n",
    "    print(f'Epoch [{epoch + 1}/{epochs}], Loss: {epoch_loss}, Accuracy: {epoch_accuracy}%')\n",
    "\n",
    "# Close logging\n",
    "logging.shutdown()\n",
    "\n",
    "overall_accuracy = 100 * total_correct_all_epochs / total_samples_all_epochs\n",
    "print(f'Average Train Accuracy of the model on the train videos: {overall_accuracy}%')"
   ]
  },
  {
   "cell_type": "code",
   "execution_count": 12,
   "id": "78cf93ef",
   "metadata": {
    "execution": {
     "iopub.execute_input": "2024-03-19T03:35:23.906582Z",
     "iopub.status.busy": "2024-03-19T03:35:23.905718Z",
     "iopub.status.idle": "2024-03-19T03:35:24.696917Z",
     "shell.execute_reply": "2024-03-19T03:35:24.695818Z"
    },
    "papermill": {
     "duration": 5.167317,
     "end_time": "2024-03-19T03:35:24.699390",
     "exception": false,
     "start_time": "2024-03-19T03:35:19.532073",
     "status": "completed"
    },
    "tags": []
   },
   "outputs": [
    {
     "name": "stdout",
     "output_type": "stream",
     "text": [
      "Test Accuracy of the model on the test videos: 75.68306010928961%\n"
     ]
    }
   ],
   "source": [
    "model.eval()\n",
    "\n",
    "with torch.no_grad():\n",
    "    correct = 0\n",
    "    total = 0\n",
    "    for videos, labels in test_loader:\n",
    "        videos = videos.permute(1, 0, 2)\n",
    "        outputs = model(videos)\n",
    "        _, predicted = torch.max(outputs.data, 1)\n",
    "        total += labels.size(0)\n",
    "        correct += (predicted == labels).sum().item()\n",
    "        #print test accuracy per test\n",
    "\n",
    "    print(f'Test Accuracy of the model on the test videos: {100 * correct / total}%')"
   ]
  },
  {
   "cell_type": "code",
   "execution_count": 13,
   "id": "5009c88a",
   "metadata": {
    "execution": {
     "iopub.execute_input": "2024-03-19T03:35:33.183394Z",
     "iopub.status.busy": "2024-03-19T03:35:33.183068Z",
     "iopub.status.idle": "2024-03-19T03:35:35.127467Z",
     "shell.execute_reply": "2024-03-19T03:35:35.126493Z"
    },
    "papermill": {
     "duration": 6.192047,
     "end_time": "2024-03-19T03:35:35.129562",
     "exception": false,
     "start_time": "2024-03-19T03:35:28.937515",
     "status": "completed"
    },
    "tags": []
   },
   "outputs": [
    {
     "name": "stdout",
     "output_type": "stream",
     "text": [
      "Confusion Matrix:\n",
      "[[875  40]\n",
      " [405 510]]\n"
     ]
    },
    {
     "data": {
      "image/png": "[encoded data removed]",
      "text/plain": [
       "<Figure size 800x600 with 2 Axes>"
      ]
     },
     "metadata": {},
     "output_type": "display_data"
    }
   ],
   "source": [
    "from sklearn.metrics import confusion_matrix\n",
    "import numpy as np\n",
    "\n",
    "# Set model to evaluation mode\n",
    "model.eval()\n",
    "\n",
    "# Initialize variables for predictions and ground truth labels\n",
    "all_predictions = []\n",
    "all_labels = []\n",
    "\n",
    "# Iterate through the test dataset\n",
    "for videos, labels in test_loader:\n",
    "#     videos = videos.unsqueeze(0)\n",
    "    videos = videos.permute(1, 0, 2)\n",
    "    # Forward pass\n",
    "    outputs = model(videos)\n",
    "    # Predictions\n",
    "    _, predicted = torch.max(outputs.data, 1)\n",
    "    # Append predictions and labels to the lists\n",
    "    all_predictions.extend(predicted.tolist())\n",
    "    all_labels.extend(labels.tolist())\n",
    "\n",
    "# Convert predictions and labels lists to numpy arrays\n",
    "all_predictions = np.array(all_predictions)\n",
    "all_labels = np.array(all_labels)\n",
    "\n",
    "# Generate confusion matrix\n",
    "conf_matrix = confusion_matrix(all_labels, all_predictions)\n",
    "\n",
    "print(\"Confusion Matrix:\")\n",
    "print(conf_matrix)\n",
    "\n",
    "import matplotlib.pyplot as plt\n",
    "import seaborn as sns\n",
    "\n",
    "# Plot confusion matrix\n",
    "plt.figure(figsize=(8, 6))\n",
    "sns.heatmap(conf_matrix, annot=True, fmt=\"d\", cmap=\"Blues\")\n",
    "plt.title(\"Confusion Matrix\")\n",
    "plt.xlabel(\"Predicted\")\n",
    "plt.ylabel(\"True\")\n",
    "plt.show()"
   ]
  },
  {
   "cell_type": "code",
   "execution_count": 14,
   "id": "1c3bb1aa",
   "metadata": {
    "execution": {
     "iopub.execute_input": "2024-03-19T03:35:43.683865Z",
     "iopub.status.busy": "2024-03-19T03:35:43.682981Z",
     "iopub.status.idle": "2024-03-19T03:35:44.937987Z",
     "shell.execute_reply": "2024-03-19T03:35:44.936975Z"
    },
    "papermill": {
     "duration": 5.591725,
     "end_time": "2024-03-19T03:35:44.940435",
     "exception": false,
     "start_time": "2024-03-19T03:35:39.348710",
     "status": "completed"
    },
    "tags": []
   },
   "outputs": [
    {
     "data": {
      "image/png": "[encoded data removed]",
      "text/plain": [
       "<Figure size 640x480 with 1 Axes>"
      ]
     },
     "metadata": {},
     "output_type": "display_data"
    },
    {
     "data": {
      "image/png": "[encoded data removed]",
      "text/plain": [
       "<Figure size 640x480 with 1 Axes>"
      ]
     },
     "metadata": {},
     "output_type": "display_data"
    }
   ],
   "source": [
    "from sklearn.metrics import roc_curve, auc, precision_recall_curve, average_precision_score\n",
    "import matplotlib.pyplot as plt\n",
    "\n",
    "# Set model to evaluation mode\n",
    "model.eval()\n",
    "\n",
    "# Initialize variables for predictions and ground truth labels\n",
    "all_probs = []\n",
    "all_labels = []\n",
    "\n",
    "# Iterate through the test dataset\n",
    "for videos, labels in test_loader:\n",
    "#     videos = videos.unsqueeze(0)\n",
    "    videos = videos.permute(1, 0, 2)\n",
    "    # Forward pass\n",
    "    outputs = model(videos)\n",
    "    # Get probabilities\n",
    "    probs = torch.softmax(outputs, dim=1)[:, 1].detach().cpu().numpy()\n",
    "    # Append probabilities and labels to the lists\n",
    "    all_probs.extend(probs.tolist())\n",
    "    all_labels.extend(labels.tolist())\n",
    "\n",
    "# Convert probabilities and labels lists to numpy arrays\n",
    "all_probs = np.array(all_probs)\n",
    "all_labels = np.array(all_labels)\n",
    "\n",
    "# AUC ROC Curve\n",
    "fpr, tpr, _ = roc_curve(all_labels, all_probs)\n",
    "roc_auc = auc(fpr, tpr)\n",
    "\n",
    "plt.figure()\n",
    "plt.plot(fpr, tpr, color='darkorange', lw=2, label='ROC curve (area = %0.2f)' % roc_auc)\n",
    "plt.plot([0, 1], [0, 1], color='navy', lw=2, linestyle='--')\n",
    "plt.xlim([0.0, 1.0])\n",
    "plt.ylim([0.0, 1.05])\n",
    "plt.xlabel('False Positive Rate')\n",
    "plt.ylabel('True Positive Rate')\n",
    "plt.title('Receiver Operating Characteristic (ROC) Curve')\n",
    "plt.legend(loc=\"lower right\")\n",
    "plt.show()\n",
    "\n",
    "# Precision-Recall Curve\n",
    "precision, recall, _ = precision_recall_curve(all_labels, all_probs)\n",
    "average_precision = average_precision_score(all_labels, all_probs)\n",
    "\n",
    "plt.figure()\n",
    "plt.step(recall, precision, color='b', alpha=0.2, where='post')\n",
    "plt.fill_between(recall, precision, step='post', alpha=0.2, color='b')\n",
    "plt.xlabel('Recall')\n",
    "plt.ylabel('Precision')\n",
    "plt.ylim([0.0, 1.05])\n",
    "plt.xlim([0.0, 1.0])\n",
    "plt.title('Precision-Recall Curve (AP={0:0.2f})'.format(average_precision))\n",
    "plt.show()"
   ]
  },
  {
   "cell_type": "code",
   "execution_count": null,
   "id": "7f1b2918",
   "metadata": {
    "papermill": {
     "duration": 4.106677,
     "end_time": "2024-03-19T03:35:53.556983",
     "exception": false,
     "start_time": "2024-03-19T03:35:49.450306",
     "status": "completed"
    },
    "tags": []
   },
   "outputs": [],
   "source": []
  }
 ],
 "metadata": {
  "kaggle": {
   "accelerator": "gpu",
   "dataSources": [
    {
     "datasetId": 4611142,
     "sourceId": 7860701,
     "sourceType": "datasetVersion"
    }
   ],
   "dockerImageVersionId": 30665,
   "isGpuEnabled": true,
   "isInternetEnabled": true,
   "language": "python",
   "sourceType": "notebook"
  },
  "kernelspec": {
   "display_name": "Python 3",
   "language": "python",
   "name": "python3"
  },
  "language_info": {
   "codemirror_mode": {
    "name": "ipython",
    "version": 3
   },
   "file_extension": ".py",
   "mimetype": "text/x-python",
   "name": "python",
   "nbconvert_exporter": "python",
   "pygments_lexer": "ipython3",
   "version": "3.10.13"
  },
  "papermill": {
   "default_parameters": {},
   "duration": 730.097029,
   "end_time": "2024-03-19T03:35:59.446615",
   "environment_variables": {},
   "exception": null,
   "input_path": "__notebook__.ipynb",
   "output_path": "__notebook__.ipynb",
   "parameters": {},
   "start_time": "2024-03-19T03:23:49.349586",
   "version": "2.5.0"
  }
 },
 "nbformat": 4,
 "nbformat_minor": 5
}
