{
 "cells": [
  {
   "cell_type": "markdown",
   "id": "b8f73243",
   "metadata": {
    "papermill": {
     "duration": 0.006489,
     "end_time": "2024-03-18T20:38:40.122937",
     "exception": false,
     "start_time": "2024-03-18T20:38:40.116448",
     "status": "completed"
    },
    "tags": []
   },
   "source": [
    "## Train SRU model with embedding-cnn-100-v-0-2-0"
   ]
  },
  {
   "cell_type": "markdown",
   "id": "3bdb34b5",
   "metadata": {
    "papermill": {
     "duration": 0.005843,
     "end_time": "2024-03-18T20:38:40.134986",
     "exception": false,
     "start_time": "2024-03-18T20:38:40.129143",
     "status": "completed"
    },
    "tags": []
   },
   "source": [
    "### Installing SRU with v3.0.0"
   ]
  },
  {
   "cell_type": "code",
   "execution_count": 1,
   "id": "a6db606c",
   "metadata": {
    "_cell_guid": "b1076dfc-b9ad-4769-8c92-a6c4dae69d19",
    "_uuid": "8f2839f25d086af736a60e9eeb907d3b93b6e0e5",
    "execution": {
     "iopub.execute_input": "2024-03-18T20:38:40.149146Z",
     "iopub.status.busy": "2024-03-18T20:38:40.148316Z",
     "iopub.status.idle": "2024-03-18T20:38:53.889372Z",
     "shell.execute_reply": "2024-03-18T20:38:53.888256Z"
    },
    "papermill": {
     "duration": 13.750589,
     "end_time": "2024-03-18T20:38:53.891649",
     "exception": false,
     "start_time": "2024-03-18T20:38:40.141060",
     "status": "completed"
    },
    "tags": []
   },
   "outputs": [
    {
     "name": "stdout",
     "output_type": "stream",
     "text": [
      "Collecting sru==3.0.0.dev6\r\n",
      "  Downloading sru-3.0.0.dev6-py3-none-any.whl.metadata (3.8 kB)\r\n",
      "Requirement already satisfied: torch>=1.5.1 in /opt/conda/lib/python3.10/site-packages (from sru==3.0.0.dev6) (2.1.2)\r\n",
      "Requirement already satisfied: ninja in /opt/conda/lib/python3.10/site-packages (from sru==3.0.0.dev6) (1.11.1.1)\r\n",
      "Requirement already satisfied: filelock in /opt/conda/lib/python3.10/site-packages (from torch>=1.5.1->sru==3.0.0.dev6) (3.13.1)\r\n",
      "Requirement already satisfied: typing-extensions in /opt/conda/lib/python3.10/site-packages (from torch>=1.5.1->sru==3.0.0.dev6) (4.9.0)\r\n",
      "Requirement already satisfied: sympy in /opt/conda/lib/python3.10/site-packages (from torch>=1.5.1->sru==3.0.0.dev6) (1.12)\r\n",
      "Requirement already satisfied: networkx in /opt/conda/lib/python3.10/site-packages (from torch>=1.5.1->sru==3.0.0.dev6) (3.2.1)\r\n",
      "Requirement already satisfied: jinja2 in /opt/conda/lib/python3.10/site-packages (from torch>=1.5.1->sru==3.0.0.dev6) (3.1.2)\r\n",
      "Requirement already satisfied: fsspec in /opt/conda/lib/python3.10/site-packages (from torch>=1.5.1->sru==3.0.0.dev6) (2024.2.0)\r\n",
      "Requirement already satisfied: MarkupSafe>=2.0 in /opt/conda/lib/python3.10/site-packages (from jinja2->torch>=1.5.1->sru==3.0.0.dev6) (2.1.3)\r\n",
      "Requirement already satisfied: mpmath>=0.19 in /opt/conda/lib/python3.10/site-packages (from sympy->torch>=1.5.1->sru==3.0.0.dev6) (1.3.0)\r\n",
      "Downloading sru-3.0.0.dev6-py3-none-any.whl (30 kB)\r\n",
      "Installing collected packages: sru\r\n",
      "Successfully installed sru-3.0.0.dev6\r\n"
     ]
    }
   ],
   "source": [
    "!pip install sru==3.0.0.dev6"
   ]
  },
  {
   "cell_type": "markdown",
   "id": "22ba83f1",
   "metadata": {
    "papermill": {
     "duration": 0.006385,
     "end_time": "2024-03-18T20:38:53.905124",
     "exception": false,
     "start_time": "2024-03-18T20:38:53.898739",
     "status": "completed"
    },
    "tags": []
   },
   "source": [
    "### Importing Necessary Libraries"
   ]
  },
  {
   "cell_type": "code",
   "execution_count": 2,
   "id": "d09ff0f2",
   "metadata": {
    "execution": {
     "iopub.execute_input": "2024-03-18T20:38:53.919660Z",
     "iopub.status.busy": "2024-03-18T20:38:53.919349Z",
     "iopub.status.idle": "2024-03-18T20:39:46.744977Z",
     "shell.execute_reply": "2024-03-18T20:39:46.744075Z"
    },
    "papermill": {
     "duration": 52.841741,
     "end_time": "2024-03-18T20:39:46.753365",
     "exception": false,
     "start_time": "2024-03-18T20:38:53.911624",
     "status": "completed"
    },
    "tags": []
   },
   "outputs": [
    {
     "data": {
      "text/plain": [
       "40"
      ]
     },
     "execution_count": 2,
     "metadata": {},
     "output_type": "execute_result"
    }
   ],
   "source": [
    "import logging\n",
    "import os\n",
    "\n",
    "import numpy as np\n",
    "import torch\n",
    "from sklearn.model_selection import train_test_split\n",
    "from sru import SRUpp\n",
    "from torch.nn import CrossEntropyLoss\n",
    "from torch.nn import Module, Dropout, Linear\n",
    "from torch.optim import Adam\n",
    "from torch.utils.data import TensorDataset, DataLoader\n",
    "from tqdm import tqdm\n",
    "import gc\n",
    "\n",
    "gc.collect()"
   ]
  },
  {
   "cell_type": "markdown",
   "id": "b35f8107",
   "metadata": {
    "papermill": {
     "duration": 0.006559,
     "end_time": "2024-03-18T20:39:46.766653",
     "exception": false,
     "start_time": "2024-03-18T20:39:46.760094",
     "status": "completed"
    },
    "tags": []
   },
   "source": [
    "### Set the Device to CUDA"
   ]
  },
  {
   "cell_type": "code",
   "execution_count": 3,
   "id": "d5040341",
   "metadata": {
    "execution": {
     "iopub.execute_input": "2024-03-18T20:39:46.781434Z",
     "iopub.status.busy": "2024-03-18T20:39:46.781048Z",
     "iopub.status.idle": "2024-03-18T20:39:46.943694Z",
     "shell.execute_reply": "2024-03-18T20:39:46.942565Z"
    },
    "papermill": {
     "duration": 0.172793,
     "end_time": "2024-03-18T20:39:46.946221",
     "exception": false,
     "start_time": "2024-03-18T20:39:46.773428",
     "status": "completed"
    },
    "tags": []
   },
   "outputs": [
    {
     "name": "stdout",
     "output_type": "stream",
     "text": [
      "Device selected: cuda\n",
      "Mon Mar 18 20:39:46 2024       \n",
      "+---------------------------------------------------------------------------------------+\n",
      "| NVIDIA-SMI 535.129.03             Driver Version: 535.129.03   CUDA Version: 12.2     |\n",
      "|-----------------------------------------+----------------------+----------------------+\n",
      "| GPU  Name                 Persistence-M | Bus-Id        Disp.A | Volatile Uncorr. ECC |\n",
      "| Fan  Temp   Perf          Pwr:Usage/Cap |         Memory-Usage | GPU-Util  Compute M. |\n",
      "|                                         |                      |               MIG M. |\n",
      "|=========================================+======================+======================|\n",
      "|   0  Tesla P100-PCIE-16GB           Off | 00000000:00:04.0 Off |                    0 |\n",
      "| N/A   34C    P0              25W / 250W |      2MiB / 16384MiB |      0%      Default |\n",
      "|                                         |                      |                  N/A |\n",
      "+-----------------------------------------+----------------------+----------------------+\n",
      "                                                                                         \n",
      "+---------------------------------------------------------------------------------------+\n",
      "| Processes:                                                                            |\n",
      "|  GPU   GI   CI        PID   Type   Process name                            GPU Memory |\n",
      "|        ID   ID                                                             Usage      |\n",
      "|=======================================================================================|\n",
      "|  No running processes found                                                           |\n",
      "+---------------------------------------------------------------------------------------+\n",
      "\n",
      "Device type: cuda\n",
      "Capability: (6, 0)\n"
     ]
    },
    {
     "data": {
      "text/plain": [
       "0"
      ]
     },
     "execution_count": 3,
     "metadata": {},
     "output_type": "execute_result"
    }
   ],
   "source": [
    "# Set the device to use (e.g., 'cpu', 'cuda', 'mps')\n",
    "device = torch.device(\"mps\" if torch.backends.mps.is_available() else\n",
    "                      (\"cuda\" if torch.cuda.is_available() else \"cpu\"))\n",
    "\n",
    "# Select Device According to Availability\n",
    "print(\"Device selected:\", device)\n",
    "\n",
    "# If the device is CUDA, print the device capability\n",
    "if device.type == \"cuda\":\n",
    "    os.system(\"nvidia-smi\")\n",
    "    print()\n",
    "    print(\"Device type:\", device.type)\n",
    "    print(\"Capability:\", torch.cuda.get_device_capability(device))\n",
    "else:\n",
    "    print(\"Device capabilities are limited on MPSs and CPUs.\")\n",
    "\n",
    "gc.collect()"
   ]
  },
  {
   "cell_type": "markdown",
   "id": "b83c4607",
   "metadata": {
    "papermill": {
     "duration": 0.008219,
     "end_time": "2024-03-18T20:39:46.961724",
     "exception": false,
     "start_time": "2024-03-18T20:39:46.953505",
     "status": "completed"
    },
    "tags": []
   },
   "source": [
    "\n",
    "### Read the file, Validate and View Shape"
   ]
  },
  {
   "cell_type": "code",
   "execution_count": 4,
   "id": "01224df2",
   "metadata": {
    "execution": {
     "iopub.execute_input": "2024-03-18T20:39:46.977510Z",
     "iopub.status.busy": "2024-03-18T20:39:46.976729Z",
     "iopub.status.idle": "2024-03-18T20:40:46.417353Z",
     "shell.execute_reply": "2024-03-18T20:40:46.416385Z"
    },
    "papermill": {
     "duration": 59.457543,
     "end_time": "2024-03-18T20:40:46.426286",
     "exception": false,
     "start_time": "2024-03-18T20:39:46.968743",
     "status": "completed"
    },
    "tags": []
   },
   "outputs": [
    {
     "name": "stdout",
     "output_type": "stream",
     "text": [
      "Files Loaded Successfully\n",
      "Video Embeddings Shape: (9150, 100, 2048)\n",
      "Video Labels Shape: (9150,)\n"
     ]
    },
    {
     "data": {
      "text/plain": [
       "22"
      ]
     },
     "execution_count": 4,
     "metadata": {},
     "output_type": "execute_result"
    }
   ],
   "source": [
    "# /kaggle/input/embedding-cnn-100-v-0-2-0/train_embeddings.npy\n",
    "\n",
    "file_embeddings = np.load('/kaggle/input/train_embeddings.npy')\n",
    "file_labels = np.load('/kaggle/input/train_labels.npy')\n",
    "\n",
    "# Check if the embeddings and labels are of the same length\n",
    "if len(file_embeddings) != len(file_labels):\n",
    "    raise ValueError(\"The length of the embeddings and labels should be the same\")\n",
    "\n",
    "# check if the embedding is a 3D array\n",
    "if len(file_embeddings.shape) != 3:\n",
    "    raise ValueError(f\"The embeddings should be a 4D array [instances, windows, frames, features].\"\n",
    "                     f\" Found {len(file_embeddings.shape)}D instead.\")\n",
    "\n",
    "print(\"Files Loaded Successfully\")\n",
    "print(\"Video Embeddings Shape:\", file_embeddings.shape)\n",
    "print(\"Video Labels Shape:\", file_labels.shape)\n",
    "gc.collect()"
   ]
  },
  {
   "cell_type": "markdown",
   "id": "dca1425a",
   "metadata": {
    "papermill": {
     "duration": 0.007323,
     "end_time": "2024-03-18T20:40:46.440850",
     "exception": false,
     "start_time": "2024-03-18T20:40:46.433527",
     "status": "completed"
    },
    "tags": []
   },
   "source": [
    "### Train Test Split, Convert to torch.tensor and View Shape"
   ]
  },
  {
   "cell_type": "code",
   "execution_count": 5,
   "id": "29f1b23f",
   "metadata": {
    "execution": {
     "iopub.execute_input": "2024-03-18T20:40:46.457470Z",
     "iopub.status.busy": "2024-03-18T20:40:46.456594Z",
     "iopub.status.idle": "2024-03-18T20:40:50.395479Z",
     "shell.execute_reply": "2024-03-18T20:40:50.394409Z"
    },
    "papermill": {
     "duration": 3.949405,
     "end_time": "2024-03-18T20:40:50.397588",
     "exception": false,
     "start_time": "2024-03-18T20:40:46.448183",
     "status": "completed"
    },
    "tags": []
   },
   "outputs": [
    {
     "name": "stdout",
     "output_type": "stream",
     "text": [
      "Shape of Train Embeddings: torch.Size([7320, 100, 2048])\n",
      "Shape of Train Labels: torch.Size([7320])\n",
      "Shape of Test Embeddings: torch.Size([1830, 100, 2048])\n",
      "Shape of Test Labels: torch.Size([1830])\n"
     ]
    },
    {
     "data": {
      "text/plain": [
       "0"
      ]
     },
     "execution_count": 5,
     "metadata": {},
     "output_type": "execute_result"
    }
   ],
   "source": [
    "test_size = 0.2\n",
    "\n",
    "\n",
    "# Split the data into training and testing\n",
    "x_train, x_test, y_train, y_test = train_test_split(file_embeddings,\n",
    "                                                    file_labels,\n",
    "                                                    test_size=test_size,\n",
    "                                                    random_state=42)\n",
    "\n",
    "\n",
    "# convert to tensor\n",
    "train_embeddings = torch.from_numpy(x_train).to(device)\n",
    "# train_embeddings = train_embeddings.reshape(train_embeddings.shape[0], -1)\n",
    "train_labels = torch.from_numpy(y_train).to(device)\n",
    "test_embeddings = torch.from_numpy(x_test).to(device)\n",
    "# test_embeddings = test_embeddings.reshape(test_embeddings.shape[0], -1)\n",
    "test_labels = torch.from_numpy(y_test).to(device)\n",
    "\n",
    "print('Shape of Train Embeddings:', train_embeddings.shape)\n",
    "print('Shape of Train Labels:', train_labels.shape)\n",
    "print('Shape of Test Embeddings:', test_embeddings.shape)\n",
    "print('Shape of Test Labels:', test_labels.shape)\n",
    "\n",
    "gc.collect()"
   ]
  },
  {
   "cell_type": "markdown",
   "id": "d4e73fdd",
   "metadata": {
    "papermill": {
     "duration": 0.007244,
     "end_time": "2024-03-18T20:40:50.412417",
     "exception": false,
     "start_time": "2024-03-18T20:40:50.405173",
     "status": "completed"
    },
    "tags": []
   },
   "source": [
    "### Delete all unnecessary variables\n",
    "\n",
    "This is important because the embeddings are huge in size and the variables take around 15.1 GiB / 29 GiB. **After running the cell it will drop down to 1.2 GiB**"
   ]
  },
  {
   "cell_type": "code",
   "execution_count": 6,
   "id": "0db2fb54",
   "metadata": {
    "execution": {
     "iopub.execute_input": "2024-03-18T20:40:50.427954Z",
     "iopub.status.busy": "2024-03-18T20:40:50.427656Z",
     "iopub.status.idle": "2024-03-18T20:40:50.558394Z",
     "shell.execute_reply": "2024-03-18T20:40:50.557508Z"
    },
    "papermill": {
     "duration": 0.140694,
     "end_time": "2024-03-18T20:40:50.560312",
     "exception": false,
     "start_time": "2024-03-18T20:40:50.419618",
     "status": "completed"
    },
    "tags": []
   },
   "outputs": [
    {
     "data": {
      "text/plain": [
       "0"
      ]
     },
     "execution_count": 6,
     "metadata": {},
     "output_type": "execute_result"
    }
   ],
   "source": [
    "del file_embeddings\n",
    "del file_labels\n",
    "del x_train\n",
    "del x_test\n",
    "del y_train\n",
    "del y_test\n",
    "gc.collect()"
   ]
  },
  {
   "cell_type": "markdown",
   "id": "e00b0e6b",
   "metadata": {
    "papermill": {
     "duration": 0.00723,
     "end_time": "2024-03-18T20:40:50.575331",
     "exception": false,
     "start_time": "2024-03-18T20:40:50.568101",
     "status": "completed"
    },
    "tags": []
   },
   "source": [
    "### Reshaping the tensors\n",
    "\n",
    "To fit in SRU model we need to reshape the tensors. Currently, they are in 3D shape, `(videos, frames, features)`. But SRU expects the tensor in different format.\n",
    "\n",
    "SRU expects a 3D tensor shaped like `(sequence_length, batch_size, input_size)`, which for our case, `sequence_length` would be `frames`, `batch_size` would be `videos` and `input_size` would be `features`. So, we need to convert from shape `(7320, 100, 2048)` to shape `(100, 7320, 2048)`"
   ]
  },
  {
   "cell_type": "markdown",
   "id": "0f79b5d6",
   "metadata": {
    "papermill": {
     "duration": 0.00756,
     "end_time": "2024-03-18T20:40:50.590304",
     "exception": false,
     "start_time": "2024-03-18T20:40:50.582744",
     "status": "completed"
    },
    "tags": []
   },
   "source": [
    "Now we need to reshape the labels as well"
   ]
  },
  {
   "cell_type": "code",
   "execution_count": 7,
   "id": "766765c1",
   "metadata": {
    "execution": {
     "iopub.execute_input": "2024-03-18T20:40:50.606566Z",
     "iopub.status.busy": "2024-03-18T20:40:50.606045Z",
     "iopub.status.idle": "2024-03-18T20:40:50.611314Z",
     "shell.execute_reply": "2024-03-18T20:40:50.610442Z"
    },
    "papermill": {
     "duration": 0.015469,
     "end_time": "2024-03-18T20:40:50.613192",
     "exception": false,
     "start_time": "2024-03-18T20:40:50.597723",
     "status": "completed"
    },
    "tags": []
   },
   "outputs": [],
   "source": [
    "batch_size = 8\n",
    "\n",
    "# Create TensorDataset\n",
    "train_data = TensorDataset(train_embeddings, train_labels)\n",
    "test_data = TensorDataset(test_embeddings, test_labels)\n",
    "\n",
    "train_loader = DataLoader(train_data, shuffle=True, batch_size=batch_size)\n",
    "test_loader = DataLoader(test_data, shuffle=True, batch_size=batch_size)\n",
    "\n",
    "# Train loader length is = 915 which means 915 * batch size 8 = 7320 data points, which are actually videos.\n",
    "# same goes for test loader\n",
    "# our sequence length is then 204800 which is the total features"
   ]
  },
  {
   "cell_type": "code",
   "execution_count": 8,
   "id": "1652400c",
   "metadata": {
    "execution": {
     "iopub.execute_input": "2024-03-18T20:40:50.629555Z",
     "iopub.status.busy": "2024-03-18T20:40:50.629302Z",
     "iopub.status.idle": "2024-03-18T20:40:50.954799Z",
     "shell.execute_reply": "2024-03-18T20:40:50.953915Z"
    },
    "papermill": {
     "duration": 0.33627,
     "end_time": "2024-03-18T20:40:50.956998",
     "exception": false,
     "start_time": "2024-03-18T20:40:50.620728",
     "status": "completed"
    },
    "tags": []
   },
   "outputs": [
    {
     "data": {
      "text/plain": [
       "SRUppModel(\n",
       "  (srupp_layers): SRUpp(\n",
       "    (rnn_lst): ModuleList(\n",
       "      (0): SRUppCell(2048, 1024, rescale=True,\n",
       "        transform_module=SRUppAttention(\n",
       "        (dropout): Dropout(p=0.0, inplace=False)\n",
       "        (linear1): Linear(in_features=2048, out_features=784, bias=False)\n",
       "        (linear2): Linear(in_features=784, out_features=1568, bias=False)\n",
       "        (linear3): Linear(in_features=784, out_features=4096, bias=False)\n",
       "        (layer_norm): LayerNorm((784,), eps=1e-05, elementwise_affine=True)\n",
       "      )\n",
       "      )\n",
       "      (1): SRUppCell(1024, 1024, rescale=True,\n",
       "        transform_module=SRUppAttention(\n",
       "        (dropout): Dropout(p=0.0, inplace=False)\n",
       "        (linear1): Linear(in_features=1024, out_features=784, bias=False)\n",
       "        (linear2): Linear(in_features=784, out_features=1568, bias=False)\n",
       "        (linear3): Linear(in_features=784, out_features=3072, bias=False)\n",
       "        (layer_norm): LayerNorm((784,), eps=1e-05, elementwise_affine=True)\n",
       "      )\n",
       "      )\n",
       "    )\n",
       "  )\n",
       "  (dropout): Dropout(p=0.2, inplace=False)\n",
       "  (linear): Linear(in_features=1024, out_features=2, bias=True)\n",
       ")"
      ]
     },
     "execution_count": 8,
     "metadata": {},
     "output_type": "execute_result"
    }
   ],
   "source": [
    "class SRUppModel(Module):\n",
    "    def __init__(self, input_size, hidden_size, **kwargs):\n",
    "        super(SRUppModel, self).__init__()\n",
    "        # Main SRUpp layer\n",
    "        self.srupp_layers = SRUpp(\n",
    "            input_size=input_size,\n",
    "            hidden_size=hidden_size,\n",
    "            num_layers=kwargs.get('num_layers', 2),\n",
    "            proj_size = 784,\n",
    "            dropout=kwargs.get('dropout_prob', 0.0),\n",
    "            bidirectional=kwargs.get('bidirectional', False),\n",
    "            layer_norm=kwargs.get('layer_norm', False),\n",
    "            highway_bias=kwargs.get('highway_bias', 0.0),\n",
    "            rescale=kwargs.get('rescale', True),\n",
    "            nn_rnn_compatible_return=kwargs.get('nn_rnn_compatible_return', False),\n",
    "            proj_input_to_hidden_first=kwargs.get('proj_input_to_hidden_first', False),\n",
    "            # amp_recurrence_fp16=kwargs.get('amp_recurrence_fp16', False),\n",
    "            normalize_after=kwargs.get('normalize_after', False),\n",
    "        ).to(device)\n",
    "        # Dropout layer\n",
    "        self.dropout = Dropout(kwargs.get('dropout_layer_prob', 0.2)).to(device)\n",
    "        # Linear layer (Fully connected layer)\n",
    "        self.linear = Linear(\n",
    "            in_features=hidden_size * 2 if kwargs.get('bidirectional', False) else hidden_size,\n",
    "            out_features=kwargs.get('num_classes', 2)\n",
    "        ).to(device)\n",
    "        # L2 regularization\n",
    "        self.l2_reg_lambda = kwargs.get('l2_reg_lambda', 1e-5)\n",
    "\n",
    "    def forward(self, x):\n",
    "        output_states, _, _ = self.srupp_layers(x)\n",
    "        output = self.linear(self.dropout(output_states[-1]))\n",
    "        return output\n",
    "\n",
    "    def l2_regularization(self):\n",
    "        l2_reg = torch.tensor(0., device=device)\n",
    "        for param in self.parameters():\n",
    "            l2_reg += torch.norm(param, p=2)\n",
    "        return self.l2_reg_lambda * l2_reg\n",
    "\n",
    "model = SRUppModel(2048, 1024)\n",
    "model = model.to(device)\n",
    "model"
   ]
  },
  {
   "cell_type": "code",
   "execution_count": 9,
   "id": "8d9aa3a7",
   "metadata": {
    "execution": {
     "iopub.execute_input": "2024-03-18T20:40:50.973625Z",
     "iopub.status.busy": "2024-03-18T20:40:50.973353Z",
     "iopub.status.idle": "2024-03-18T20:40:53.436379Z",
     "shell.execute_reply": "2024-03-18T20:40:53.435604Z"
    },
    "papermill": {
     "duration": 2.474045,
     "end_time": "2024-03-18T20:40:53.438837",
     "exception": false,
     "start_time": "2024-03-18T20:40:50.964792",
     "status": "completed"
    },
    "tags": []
   },
   "outputs": [],
   "source": [
    "# Define your loss function and optimizer\n",
    "criterion = CrossEntropyLoss()\n",
    "optimizer = Adam(model.parameters())"
   ]
  },
  {
   "cell_type": "code",
   "execution_count": 10,
   "id": "6d02eeb6",
   "metadata": {
    "execution": {
     "iopub.execute_input": "2024-03-18T20:40:53.456005Z",
     "iopub.status.busy": "2024-03-18T20:40:53.455582Z",
     "iopub.status.idle": "2024-03-18T21:29:18.146004Z",
     "shell.execute_reply": "2024-03-18T21:29:18.144910Z"
    },
    "papermill": {
     "duration": 2904.70115,
     "end_time": "2024-03-18T21:29:18.147984",
     "exception": false,
     "start_time": "2024-03-18T20:40:53.446834",
     "status": "completed"
    },
    "tags": []
   },
   "outputs": [
    {
     "name": "stderr",
     "output_type": "stream",
     "text": [
      "Epoch 1/200: 100%|██████████| 915/915 [00:15<00:00, 60.06it/s, accuracy=49.8, loss=0.718]\n"
     ]
    },
    {
     "name": "stdout",
     "output_type": "stream",
     "text": [
      "Epoch [1/200], Loss: 0.7742881710412073, Accuracy: 49.849726775956285%\n"
     ]
    },
    {
     "name": "stderr",
     "output_type": "stream",
     "text": [
      "Epoch 2/200: 100%|██████████| 915/915 [00:14<00:00, 63.88it/s, accuracy=50.5, loss=0.685]\n"
     ]
    },
    {
     "name": "stdout",
     "output_type": "stream",
     "text": [
      "Epoch [2/200], Loss: 0.7017172383154676, Accuracy: 50.505464480874316%\n"
     ]
    },
    {
     "name": "stderr",
     "output_type": "stream",
     "text": [
      "Epoch 3/200: 100%|██████████| 915/915 [00:14<00:00, 63.58it/s, accuracy=52, loss=0.686]\n"
     ]
    },
    {
     "name": "stdout",
     "output_type": "stream",
     "text": [
      "Epoch [3/200], Loss: 0.7026884132395677, Accuracy: 51.994535519125684%\n"
     ]
    },
    {
     "name": "stderr",
     "output_type": "stream",
     "text": [
      "Epoch 4/200: 100%|██████████| 915/915 [00:14<00:00, 63.84it/s, accuracy=56.7, loss=0.735]\n"
     ]
    },
    {
     "name": "stdout",
     "output_type": "stream",
     "text": [
      "Epoch [4/200], Loss: 0.6848730749445535, Accuracy: 56.721311475409834%\n"
     ]
    },
    {
     "name": "stderr",
     "output_type": "stream",
     "text": [
      "Epoch 5/200: 100%|██████████| 915/915 [00:14<00:00, 63.78it/s, accuracy=60.8, loss=0.614]\n"
     ]
    },
    {
     "name": "stdout",
     "output_type": "stream",
     "text": [
      "Epoch [5/200], Loss: 0.6679111102239682, Accuracy: 60.778688524590166%\n"
     ]
    },
    {
     "name": "stderr",
     "output_type": "stream",
     "text": [
      "Epoch 6/200: 100%|██████████| 915/915 [00:14<00:00, 63.89it/s, accuracy=61.9, loss=0.698]\n"
     ]
    },
    {
     "name": "stdout",
     "output_type": "stream",
     "text": [
      "Epoch [6/200], Loss: 0.6592634386703616, Accuracy: 61.91256830601093%\n"
     ]
    },
    {
     "name": "stderr",
     "output_type": "stream",
     "text": [
      "Epoch 7/200: 100%|██████████| 915/915 [00:14<00:00, 63.57it/s, accuracy=63.6, loss=0.537]\n"
     ]
    },
    {
     "name": "stdout",
     "output_type": "stream",
     "text": [
      "Epoch [7/200], Loss: 0.6468200612915018, Accuracy: 63.60655737704918%\n"
     ]
    },
    {
     "name": "stderr",
     "output_type": "stream",
     "text": [
      "Epoch 8/200: 100%|██████████| 915/915 [00:14<00:00, 63.71it/s, accuracy=66.1, loss=0.533]\n"
     ]
    },
    {
     "name": "stdout",
     "output_type": "stream",
     "text": [
      "Epoch [8/200], Loss: 0.6313072147590867, Accuracy: 66.12021857923497%\n"
     ]
    },
    {
     "name": "stderr",
     "output_type": "stream",
     "text": [
      "Epoch 9/200: 100%|██████████| 915/915 [00:14<00:00, 63.63it/s, accuracy=66, loss=0.366]\n"
     ]
    },
    {
     "name": "stdout",
     "output_type": "stream",
     "text": [
      "Epoch [9/200], Loss: 0.6245505165695493, Accuracy: 66.03825136612022%\n"
     ]
    },
    {
     "name": "stderr",
     "output_type": "stream",
     "text": [
      "Epoch 10/200: 100%|██████████| 915/915 [00:14<00:00, 63.90it/s, accuracy=67.8, loss=0.489]\n"
     ]
    },
    {
     "name": "stdout",
     "output_type": "stream",
     "text": [
      "Epoch [10/200], Loss: 0.609661075212265, Accuracy: 67.78688524590164%\n"
     ]
    },
    {
     "name": "stderr",
     "output_type": "stream",
     "text": [
      "Epoch 11/200: 100%|██████████| 915/915 [00:14<00:00, 63.77it/s, accuracy=68.1, loss=0.501]\n"
     ]
    },
    {
     "name": "stdout",
     "output_type": "stream",
     "text": [
      "Epoch [11/200], Loss: 0.6064782738522754, Accuracy: 68.14207650273224%\n"
     ]
    },
    {
     "name": "stderr",
     "output_type": "stream",
     "text": [
      "Epoch 12/200: 100%|██████████| 915/915 [00:14<00:00, 63.75it/s, accuracy=69.4, loss=0.779]\n"
     ]
    },
    {
     "name": "stdout",
     "output_type": "stream",
     "text": [
      "Epoch [12/200], Loss: 0.5872894035011041, Accuracy: 69.35792349726776%\n"
     ]
    },
    {
     "name": "stderr",
     "output_type": "stream",
     "text": [
      "Epoch 13/200: 100%|██████████| 915/915 [00:14<00:00, 63.77it/s, accuracy=70.9, loss=0.422]\n"
     ]
    },
    {
     "name": "stdout",
     "output_type": "stream",
     "text": [
      "Epoch [13/200], Loss: 0.5751481617246169, Accuracy: 70.90163934426229%\n"
     ]
    },
    {
     "name": "stderr",
     "output_type": "stream",
     "text": [
      "Epoch 14/200: 100%|██████████| 915/915 [00:14<00:00, 63.59it/s, accuracy=70.5, loss=0.536]\n"
     ]
    },
    {
     "name": "stdout",
     "output_type": "stream",
     "text": [
      "Epoch [14/200], Loss: 0.5793568434611044, Accuracy: 70.49180327868852%\n"
     ]
    },
    {
     "name": "stderr",
     "output_type": "stream",
     "text": [
      "Epoch 15/200: 100%|██████████| 915/915 [00:14<00:00, 63.57it/s, accuracy=72, loss=0.849]\n"
     ]
    },
    {
     "name": "stdout",
     "output_type": "stream",
     "text": [
      "Epoch [15/200], Loss: 0.564334453569084, Accuracy: 72.03551912568307%\n"
     ]
    },
    {
     "name": "stderr",
     "output_type": "stream",
     "text": [
      "Epoch 16/200: 100%|██████████| 915/915 [00:14<00:00, 63.73it/s, accuracy=71.9, loss=0.494]\n"
     ]
    },
    {
     "name": "stdout",
     "output_type": "stream",
     "text": [
      "Epoch [16/200], Loss: 0.5568267153749049, Accuracy: 71.89890710382514%\n"
     ]
    },
    {
     "name": "stderr",
     "output_type": "stream",
     "text": [
      "Epoch 17/200: 100%|██████████| 915/915 [00:14<00:00, 63.81it/s, accuracy=72.4, loss=0.585]\n"
     ]
    },
    {
     "name": "stdout",
     "output_type": "stream",
     "text": [
      "Epoch [17/200], Loss: 0.5540751850670153, Accuracy: 72.37704918032787%\n"
     ]
    },
    {
     "name": "stderr",
     "output_type": "stream",
     "text": [
      "Epoch 18/200: 100%|██████████| 915/915 [00:14<00:00, 63.45it/s, accuracy=72.5, loss=0.901]\n"
     ]
    },
    {
     "name": "stdout",
     "output_type": "stream",
     "text": [
      "Epoch [18/200], Loss: 0.5495052105253512, Accuracy: 72.5%\n"
     ]
    },
    {
     "name": "stderr",
     "output_type": "stream",
     "text": [
      "Epoch 19/200: 100%|██████████| 915/915 [00:14<00:00, 63.82it/s, accuracy=73, loss=0.665]\n"
     ]
    },
    {
     "name": "stdout",
     "output_type": "stream",
     "text": [
      "Epoch [19/200], Loss: 0.5456479872510733, Accuracy: 73.00546448087432%\n"
     ]
    },
    {
     "name": "stderr",
     "output_type": "stream",
     "text": [
      "Epoch 20/200: 100%|██████████| 915/915 [00:14<00:00, 63.37it/s, accuracy=73, loss=0.557]\n"
     ]
    },
    {
     "name": "stdout",
     "output_type": "stream",
     "text": [
      "Epoch [20/200], Loss: 0.5409318503704879, Accuracy: 73.0464480874317%\n"
     ]
    },
    {
     "name": "stderr",
     "output_type": "stream",
     "text": [
      "Epoch 21/200: 100%|██████████| 915/915 [00:14<00:00, 63.71it/s, accuracy=74.7, loss=0.778]\n"
     ]
    },
    {
     "name": "stdout",
     "output_type": "stream",
     "text": [
      "Epoch [21/200], Loss: 0.5240563965967444, Accuracy: 74.6584699453552%\n"
     ]
    },
    {
     "name": "stderr",
     "output_type": "stream",
     "text": [
      "Epoch 22/200: 100%|██████████| 915/915 [00:14<00:00, 63.70it/s, accuracy=74.7, loss=0.21]\n"
     ]
    },
    {
     "name": "stdout",
     "output_type": "stream",
     "text": [
      "Epoch [22/200], Loss: 0.5256343195591467, Accuracy: 74.74043715846994%\n"
     ]
    },
    {
     "name": "stderr",
     "output_type": "stream",
     "text": [
      "Epoch 23/200: 100%|██████████| 915/915 [00:14<00:00, 63.92it/s, accuracy=74.4, loss=0.521]\n"
     ]
    },
    {
     "name": "stdout",
     "output_type": "stream",
     "text": [
      "Epoch [23/200], Loss: 0.5246498761444144, Accuracy: 74.42622950819673%\n"
     ]
    },
    {
     "name": "stderr",
     "output_type": "stream",
     "text": [
      "Epoch 24/200: 100%|██████████| 915/915 [00:14<00:00, 63.53it/s, accuracy=74.1, loss=0.493]\n"
     ]
    },
    {
     "name": "stdout",
     "output_type": "stream",
     "text": [
      "Epoch [24/200], Loss: 0.5296496417841625, Accuracy: 74.05737704918033%\n"
     ]
    },
    {
     "name": "stderr",
     "output_type": "stream",
     "text": [
      "Epoch 25/200: 100%|██████████| 915/915 [00:14<00:00, 63.45it/s, accuracy=75.7, loss=0.402]\n"
     ]
    },
    {
     "name": "stdout",
     "output_type": "stream",
     "text": [
      "Epoch [25/200], Loss: 0.5125848192741962, Accuracy: 75.66939890710383%\n"
     ]
    },
    {
     "name": "stderr",
     "output_type": "stream",
     "text": [
      "Epoch 26/200: 100%|██████████| 915/915 [00:14<00:00, 63.70it/s, accuracy=75.1, loss=0.249]\n"
     ]
    },
    {
     "name": "stdout",
     "output_type": "stream",
     "text": [
      "Epoch [26/200], Loss: 0.5222198411740891, Accuracy: 75.12295081967213%\n"
     ]
    },
    {
     "name": "stderr",
     "output_type": "stream",
     "text": [
      "Epoch 27/200: 100%|██████████| 915/915 [00:14<00:00, 63.65it/s, accuracy=76.2, loss=0.467]\n"
     ]
    },
    {
     "name": "stdout",
     "output_type": "stream",
     "text": [
      "Epoch [27/200], Loss: 0.506119780218015, Accuracy: 76.22950819672131%\n"
     ]
    },
    {
     "name": "stderr",
     "output_type": "stream",
     "text": [
      "Epoch 28/200: 100%|██████████| 915/915 [00:14<00:00, 64.02it/s, accuracy=75.6, loss=0.452]\n"
     ]
    },
    {
     "name": "stdout",
     "output_type": "stream",
     "text": [
      "Epoch [28/200], Loss: 0.5089981079264416, Accuracy: 75.58743169398907%\n"
     ]
    },
    {
     "name": "stderr",
     "output_type": "stream",
     "text": [
      "Epoch 29/200: 100%|██████████| 915/915 [00:14<00:00, 63.51it/s, accuracy=75.7, loss=0.23]\n"
     ]
    },
    {
     "name": "stdout",
     "output_type": "stream",
     "text": [
      "Epoch [29/200], Loss: 0.5133652747939519, Accuracy: 75.7103825136612%\n"
     ]
    },
    {
     "name": "stderr",
     "output_type": "stream",
     "text": [
      "Epoch 30/200: 100%|██████████| 915/915 [00:14<00:00, 63.79it/s, accuracy=76, loss=0.738]\n"
     ]
    },
    {
     "name": "stdout",
     "output_type": "stream",
     "text": [
      "Epoch [30/200], Loss: 0.5077101569683825, Accuracy: 75.98360655737704%\n"
     ]
    },
    {
     "name": "stderr",
     "output_type": "stream",
     "text": [
      "Epoch 31/200: 100%|██████████| 915/915 [00:14<00:00, 63.46it/s, accuracy=76.1, loss=0.635]\n"
     ]
    },
    {
     "name": "stdout",
     "output_type": "stream",
     "text": [
      "Epoch [31/200], Loss: 0.5001923571356007, Accuracy: 76.10655737704919%\n"
     ]
    },
    {
     "name": "stderr",
     "output_type": "stream",
     "text": [
      "Epoch 32/200: 100%|██████████| 915/915 [00:14<00:00, 64.00it/s, accuracy=77, loss=0.192]\n"
     ]
    },
    {
     "name": "stdout",
     "output_type": "stream",
     "text": [
      "Epoch [32/200], Loss: 0.49027317980599533, Accuracy: 77.00819672131148%\n"
     ]
    },
    {
     "name": "stderr",
     "output_type": "stream",
     "text": [
      "Epoch 33/200: 100%|██████████| 915/915 [00:14<00:00, 63.09it/s, accuracy=77.4, loss=0.627]\n"
     ]
    },
    {
     "name": "stdout",
     "output_type": "stream",
     "text": [
      "Epoch [33/200], Loss: 0.48419221397387524, Accuracy: 77.40437158469945%\n"
     ]
    },
    {
     "name": "stderr",
     "output_type": "stream",
     "text": [
      "Epoch 34/200: 100%|██████████| 915/915 [00:14<00:00, 63.97it/s, accuracy=76.4, loss=0.349]\n"
     ]
    },
    {
     "name": "stdout",
     "output_type": "stream",
     "text": [
      "Epoch [34/200], Loss: 0.5021764665516348, Accuracy: 76.39344262295081%\n"
     ]
    },
    {
     "name": "stderr",
     "output_type": "stream",
     "text": [
      "Epoch 35/200: 100%|██████████| 915/915 [00:14<00:00, 63.95it/s, accuracy=77.1, loss=0.174]\n"
     ]
    },
    {
     "name": "stdout",
     "output_type": "stream",
     "text": [
      "Epoch [35/200], Loss: 0.4942418461451765, Accuracy: 77.06284153005464%\n"
     ]
    },
    {
     "name": "stderr",
     "output_type": "stream",
     "text": [
      "Epoch 36/200: 100%|██████████| 915/915 [00:14<00:00, 62.81it/s, accuracy=77.3, loss=0.333]\n"
     ]
    },
    {
     "name": "stdout",
     "output_type": "stream",
     "text": [
      "Epoch [36/200], Loss: 0.4853361874248812, Accuracy: 77.3360655737705%\n"
     ]
    },
    {
     "name": "stderr",
     "output_type": "stream",
     "text": [
      "Epoch 37/200: 100%|██████████| 915/915 [00:14<00:00, 63.77it/s, accuracy=77.6, loss=0.388]\n"
     ]
    },
    {
     "name": "stdout",
     "output_type": "stream",
     "text": [
      "Epoch [37/200], Loss: 0.48117058480697905, Accuracy: 77.55464480874316%\n"
     ]
    },
    {
     "name": "stderr",
     "output_type": "stream",
     "text": [
      "Epoch 38/200: 100%|██████████| 915/915 [00:14<00:00, 63.34it/s, accuracy=78.1, loss=0.826]\n"
     ]
    },
    {
     "name": "stdout",
     "output_type": "stream",
     "text": [
      "Epoch [38/200], Loss: 0.47219715277191066, Accuracy: 78.08743169398907%\n"
     ]
    },
    {
     "name": "stderr",
     "output_type": "stream",
     "text": [
      "Epoch 39/200: 100%|██████████| 915/915 [00:14<00:00, 63.86it/s, accuracy=77.6, loss=1.04]\n"
     ]
    },
    {
     "name": "stdout",
     "output_type": "stream",
     "text": [
      "Epoch [39/200], Loss: 0.4789820430301578, Accuracy: 77.58196721311475%\n"
     ]
    },
    {
     "name": "stderr",
     "output_type": "stream",
     "text": [
      "Epoch 40/200: 100%|██████████| 915/915 [00:14<00:00, 63.42it/s, accuracy=78.8, loss=0.447]\n"
     ]
    },
    {
     "name": "stdout",
     "output_type": "stream",
     "text": [
      "Epoch [40/200], Loss: 0.46821611390087775, Accuracy: 78.79781420765028%\n"
     ]
    },
    {
     "name": "stderr",
     "output_type": "stream",
     "text": [
      "Epoch 41/200: 100%|██████████| 915/915 [00:14<00:00, 63.86it/s, accuracy=78.9, loss=0.412]\n"
     ]
    },
    {
     "name": "stdout",
     "output_type": "stream",
     "text": [
      "Epoch [41/200], Loss: 0.46427295488086556, Accuracy: 78.86612021857924%\n"
     ]
    },
    {
     "name": "stderr",
     "output_type": "stream",
     "text": [
      "Epoch 42/200: 100%|██████████| 915/915 [00:14<00:00, 63.61it/s, accuracy=78.1, loss=1.16]\n"
     ]
    },
    {
     "name": "stdout",
     "output_type": "stream",
     "text": [
      "Epoch [42/200], Loss: 0.4798200644959843, Accuracy: 78.11475409836065%\n"
     ]
    },
    {
     "name": "stderr",
     "output_type": "stream",
     "text": [
      "Epoch 43/200: 100%|██████████| 915/915 [00:14<00:00, 63.70it/s, accuracy=79, loss=0.301]\n"
     ]
    },
    {
     "name": "stdout",
     "output_type": "stream",
     "text": [
      "Epoch [43/200], Loss: 0.4646132013022574, Accuracy: 79.01639344262296%\n"
     ]
    },
    {
     "name": "stderr",
     "output_type": "stream",
     "text": [
      "Epoch 44/200: 100%|██████████| 915/915 [00:14<00:00, 63.87it/s, accuracy=78.1, loss=0.529]\n"
     ]
    },
    {
     "name": "stdout",
     "output_type": "stream",
     "text": [
      "Epoch [44/200], Loss: 0.46757805182145595, Accuracy: 78.14207650273224%\n"
     ]
    },
    {
     "name": "stderr",
     "output_type": "stream",
     "text": [
      "Epoch 45/200: 100%|██████████| 915/915 [00:14<00:00, 63.55it/s, accuracy=79.2, loss=0.408]\n"
     ]
    },
    {
     "name": "stdout",
     "output_type": "stream",
     "text": [
      "Epoch [45/200], Loss: 0.45278505215146503, Accuracy: 79.24863387978142%\n"
     ]
    },
    {
     "name": "stderr",
     "output_type": "stream",
     "text": [
      "Epoch 46/200: 100%|██████████| 915/915 [00:14<00:00, 64.02it/s, accuracy=79.7, loss=0.716]\n"
     ]
    },
    {
     "name": "stdout",
     "output_type": "stream",
     "text": [
      "Epoch [46/200], Loss: 0.4444801514917384, Accuracy: 79.69945355191257%\n"
     ]
    },
    {
     "name": "stderr",
     "output_type": "stream",
     "text": [
      "Epoch 47/200: 100%|██████████| 915/915 [00:14<00:00, 63.72it/s, accuracy=79.9, loss=0.81]\n"
     ]
    },
    {
     "name": "stdout",
     "output_type": "stream",
     "text": [
      "Epoch [47/200], Loss: 0.44564122386643146, Accuracy: 79.90437158469945%\n"
     ]
    },
    {
     "name": "stderr",
     "output_type": "stream",
     "text": [
      "Epoch 48/200: 100%|██████████| 915/915 [00:14<00:00, 63.85it/s, accuracy=79.2, loss=0.841]\n"
     ]
    },
    {
     "name": "stdout",
     "output_type": "stream",
     "text": [
      "Epoch [48/200], Loss: 0.45905533651999436, Accuracy: 79.22131147540983%\n"
     ]
    },
    {
     "name": "stderr",
     "output_type": "stream",
     "text": [
      "Epoch 49/200: 100%|██████████| 915/915 [00:14<00:00, 63.58it/s, accuracy=79.1, loss=0.15]\n"
     ]
    },
    {
     "name": "stdout",
     "output_type": "stream",
     "text": [
      "Epoch [49/200], Loss: 0.4532568144179433, Accuracy: 79.1256830601093%\n"
     ]
    },
    {
     "name": "stderr",
     "output_type": "stream",
     "text": [
      "Epoch 50/200: 100%|██████████| 915/915 [00:14<00:00, 63.54it/s, accuracy=80.2, loss=0.351]\n"
     ]
    },
    {
     "name": "stdout",
     "output_type": "stream",
     "text": [
      "Epoch [50/200], Loss: 0.44576459570172056, Accuracy: 80.23224043715847%\n"
     ]
    },
    {
     "name": "stderr",
     "output_type": "stream",
     "text": [
      "Epoch 51/200: 100%|██████████| 915/915 [00:14<00:00, 63.68it/s, accuracy=80.7, loss=0.145]\n"
     ]
    },
    {
     "name": "stdout",
     "output_type": "stream",
     "text": [
      "Epoch [51/200], Loss: 0.4369724023700412, Accuracy: 80.66939890710383%\n"
     ]
    },
    {
     "name": "stderr",
     "output_type": "stream",
     "text": [
      "Epoch 52/200: 100%|██████████| 915/915 [00:14<00:00, 63.82it/s, accuracy=80.1, loss=0.433]\n"
     ]
    },
    {
     "name": "stdout",
     "output_type": "stream",
     "text": [
      "Epoch [52/200], Loss: 0.43657570199969686, Accuracy: 80.12295081967213%\n"
     ]
    },
    {
     "name": "stderr",
     "output_type": "stream",
     "text": [
      "Epoch 53/200: 100%|██████████| 915/915 [00:14<00:00, 63.59it/s, accuracy=81, loss=0.482]\n"
     ]
    },
    {
     "name": "stdout",
     "output_type": "stream",
     "text": [
      "Epoch [53/200], Loss: 0.43008592842462284, Accuracy: 80.99726775956285%\n"
     ]
    },
    {
     "name": "stderr",
     "output_type": "stream",
     "text": [
      "Epoch 54/200: 100%|██████████| 915/915 [00:14<00:00, 63.24it/s, accuracy=79.8, loss=0.714]\n"
     ]
    },
    {
     "name": "stdout",
     "output_type": "stream",
     "text": [
      "Epoch [54/200], Loss: 0.43727435398785797, Accuracy: 79.75409836065573%\n"
     ]
    },
    {
     "name": "stderr",
     "output_type": "stream",
     "text": [
      "Epoch 55/200: 100%|██████████| 915/915 [00:14<00:00, 62.37it/s, accuracy=81.1, loss=0.434]\n"
     ]
    },
    {
     "name": "stdout",
     "output_type": "stream",
     "text": [
      "Epoch [55/200], Loss: 0.42986127417432807, Accuracy: 81.13387978142076%\n"
     ]
    },
    {
     "name": "stderr",
     "output_type": "stream",
     "text": [
      "Epoch 56/200: 100%|██████████| 915/915 [00:14<00:00, 62.94it/s, accuracy=82.1, loss=0.236]\n"
     ]
    },
    {
     "name": "stdout",
     "output_type": "stream",
     "text": [
      "Epoch [56/200], Loss: 0.40957816093752947, Accuracy: 82.10382513661202%\n"
     ]
    },
    {
     "name": "stderr",
     "output_type": "stream",
     "text": [
      "Epoch 57/200: 100%|██████████| 915/915 [00:14<00:00, 63.78it/s, accuracy=81.1, loss=0.344]\n"
     ]
    },
    {
     "name": "stdout",
     "output_type": "stream",
     "text": [
      "Epoch [57/200], Loss: 0.42417023953437155, Accuracy: 81.05191256830601%\n"
     ]
    },
    {
     "name": "stderr",
     "output_type": "stream",
     "text": [
      "Epoch 58/200: 100%|██████████| 915/915 [00:14<00:00, 63.75it/s, accuracy=81.4, loss=0.581]\n"
     ]
    },
    {
     "name": "stdout",
     "output_type": "stream",
     "text": [
      "Epoch [58/200], Loss: 0.4226447139525674, Accuracy: 81.43442622950819%\n"
     ]
    },
    {
     "name": "stderr",
     "output_type": "stream",
     "text": [
      "Epoch 59/200: 100%|██████████| 915/915 [00:14<00:00, 63.34it/s, accuracy=81.9, loss=0.108]\n"
     ]
    },
    {
     "name": "stdout",
     "output_type": "stream",
     "text": [
      "Epoch [59/200], Loss: 0.41738541425088715, Accuracy: 81.91256830601093%\n"
     ]
    },
    {
     "name": "stderr",
     "output_type": "stream",
     "text": [
      "Epoch 60/200: 100%|██████████| 915/915 [00:14<00:00, 63.03it/s, accuracy=81.7, loss=0.24]\n"
     ]
    },
    {
     "name": "stdout",
     "output_type": "stream",
     "text": [
      "Epoch [60/200], Loss: 0.4130024327077175, Accuracy: 81.70765027322405%\n"
     ]
    },
    {
     "name": "stderr",
     "output_type": "stream",
     "text": [
      "Epoch 61/200: 100%|██████████| 915/915 [00:14<00:00, 63.68it/s, accuracy=82, loss=0.446]\n"
     ]
    },
    {
     "name": "stdout",
     "output_type": "stream",
     "text": [
      "Epoch [61/200], Loss: 0.41115833741149616, Accuracy: 82.00819672131148%\n"
     ]
    },
    {
     "name": "stderr",
     "output_type": "stream",
     "text": [
      "Epoch 62/200: 100%|██████████| 915/915 [00:14<00:00, 62.47it/s, accuracy=82.2, loss=0.404]\n"
     ]
    },
    {
     "name": "stdout",
     "output_type": "stream",
     "text": [
      "Epoch [62/200], Loss: 0.40284885254795433, Accuracy: 82.24043715846994%\n"
     ]
    },
    {
     "name": "stderr",
     "output_type": "stream",
     "text": [
      "Epoch 63/200: 100%|██████████| 915/915 [00:14<00:00, 63.51it/s, accuracy=81.5, loss=0.443]\n"
     ]
    },
    {
     "name": "stdout",
     "output_type": "stream",
     "text": [
      "Epoch [63/200], Loss: 0.4169861308334629, Accuracy: 81.48907103825137%\n"
     ]
    },
    {
     "name": "stderr",
     "output_type": "stream",
     "text": [
      "Epoch 64/200: 100%|██████████| 915/915 [00:14<00:00, 62.17it/s, accuracy=82, loss=0.594]\n"
     ]
    },
    {
     "name": "stdout",
     "output_type": "stream",
     "text": [
      "Epoch [64/200], Loss: 0.4092164991983299, Accuracy: 81.9672131147541%\n"
     ]
    },
    {
     "name": "stderr",
     "output_type": "stream",
     "text": [
      "Epoch 65/200: 100%|██████████| 915/915 [00:14<00:00, 62.02it/s, accuracy=81.9, loss=0.316]\n"
     ]
    },
    {
     "name": "stdout",
     "output_type": "stream",
     "text": [
      "Epoch [65/200], Loss: 0.4051425270166228, Accuracy: 81.91256830601093%\n"
     ]
    },
    {
     "name": "stderr",
     "output_type": "stream",
     "text": [
      "Epoch 66/200: 100%|██████████| 915/915 [00:14<00:00, 63.00it/s, accuracy=82.8, loss=0.113]\n"
     ]
    },
    {
     "name": "stdout",
     "output_type": "stream",
     "text": [
      "Epoch [66/200], Loss: 0.3969729865550018, Accuracy: 82.78688524590164%\n"
     ]
    },
    {
     "name": "stderr",
     "output_type": "stream",
     "text": [
      "Epoch 67/200: 100%|██████████| 915/915 [00:14<00:00, 63.09it/s, accuracy=82.8, loss=0.21]\n"
     ]
    },
    {
     "name": "stdout",
     "output_type": "stream",
     "text": [
      "Epoch [67/200], Loss: 0.3957137456194299, Accuracy: 82.80054644808743%\n"
     ]
    },
    {
     "name": "stderr",
     "output_type": "stream",
     "text": [
      "Epoch 68/200: 100%|██████████| 915/915 [00:14<00:00, 63.63it/s, accuracy=82.3, loss=0.457]\n"
     ]
    },
    {
     "name": "stdout",
     "output_type": "stream",
     "text": [
      "Epoch [68/200], Loss: 0.4056506849540387, Accuracy: 82.3224043715847%\n"
     ]
    },
    {
     "name": "stderr",
     "output_type": "stream",
     "text": [
      "Epoch 69/200: 100%|██████████| 915/915 [00:14<00:00, 63.13it/s, accuracy=82.9, loss=0.128]\n"
     ]
    },
    {
     "name": "stdout",
     "output_type": "stream",
     "text": [
      "Epoch [69/200], Loss: 0.3957355012537026, Accuracy: 82.89617486338798%\n"
     ]
    },
    {
     "name": "stderr",
     "output_type": "stream",
     "text": [
      "Epoch 70/200: 100%|██████████| 915/915 [00:14<00:00, 63.03it/s, accuracy=83.7, loss=0.449]\n"
     ]
    },
    {
     "name": "stdout",
     "output_type": "stream",
     "text": [
      "Epoch [70/200], Loss: 0.3844386122347227, Accuracy: 83.68852459016394%\n"
     ]
    },
    {
     "name": "stderr",
     "output_type": "stream",
     "text": [
      "Epoch 71/200: 100%|██████████| 915/915 [00:14<00:00, 63.10it/s, accuracy=83.8, loss=0.266]\n"
     ]
    },
    {
     "name": "stdout",
     "output_type": "stream",
     "text": [
      "Epoch [71/200], Loss: 0.3826349093736521, Accuracy: 83.77049180327869%\n"
     ]
    },
    {
     "name": "stderr",
     "output_type": "stream",
     "text": [
      "Epoch 72/200: 100%|██████████| 915/915 [00:14<00:00, 62.87it/s, accuracy=83.7, loss=0.511]\n"
     ]
    },
    {
     "name": "stdout",
     "output_type": "stream",
     "text": [
      "Epoch [72/200], Loss: 0.38141145015267724, Accuracy: 83.66120218579235%\n"
     ]
    },
    {
     "name": "stderr",
     "output_type": "stream",
     "text": [
      "Epoch 73/200: 100%|██████████| 915/915 [00:14<00:00, 63.28it/s, accuracy=83.2, loss=0.575]\n"
     ]
    },
    {
     "name": "stdout",
     "output_type": "stream",
     "text": [
      "Epoch [73/200], Loss: 0.3879062912788222, Accuracy: 83.15573770491804%\n"
     ]
    },
    {
     "name": "stderr",
     "output_type": "stream",
     "text": [
      "Epoch 74/200: 100%|██████████| 915/915 [00:14<00:00, 63.34it/s, accuracy=83.3, loss=0.501]\n"
     ]
    },
    {
     "name": "stdout",
     "output_type": "stream",
     "text": [
      "Epoch [74/200], Loss: 0.3808277528366593, Accuracy: 83.25136612021858%\n"
     ]
    },
    {
     "name": "stderr",
     "output_type": "stream",
     "text": [
      "Epoch 75/200: 100%|██████████| 915/915 [00:14<00:00, 62.70it/s, accuracy=83.9, loss=0.169]\n"
     ]
    },
    {
     "name": "stdout",
     "output_type": "stream",
     "text": [
      "Epoch [75/200], Loss: 0.3790520036806826, Accuracy: 83.85245901639344%\n"
     ]
    },
    {
     "name": "stderr",
     "output_type": "stream",
     "text": [
      "Epoch 76/200: 100%|██████████| 915/915 [00:14<00:00, 63.50it/s, accuracy=84.3, loss=0.337]\n"
     ]
    },
    {
     "name": "stdout",
     "output_type": "stream",
     "text": [
      "Epoch [76/200], Loss: 0.36793781595070507, Accuracy: 84.33060109289617%\n"
     ]
    },
    {
     "name": "stderr",
     "output_type": "stream",
     "text": [
      "Epoch 77/200: 100%|██████████| 915/915 [00:14<00:00, 62.52it/s, accuracy=84.2, loss=1.51]\n"
     ]
    },
    {
     "name": "stdout",
     "output_type": "stream",
     "text": [
      "Epoch [77/200], Loss: 0.3618056725893841, Accuracy: 84.23497267759562%\n"
     ]
    },
    {
     "name": "stderr",
     "output_type": "stream",
     "text": [
      "Epoch 78/200: 100%|██████████| 915/915 [00:14<00:00, 63.34it/s, accuracy=84.2, loss=0.0923]\n"
     ]
    },
    {
     "name": "stdout",
     "output_type": "stream",
     "text": [
      "Epoch [78/200], Loss: 0.3689929001847577, Accuracy: 84.16666666666667%\n"
     ]
    },
    {
     "name": "stderr",
     "output_type": "stream",
     "text": [
      "Epoch 79/200: 100%|██████████| 915/915 [00:14<00:00, 62.82it/s, accuracy=83.7, loss=0.411]\n"
     ]
    },
    {
     "name": "stdout",
     "output_type": "stream",
     "text": [
      "Epoch [79/200], Loss: 0.3699233967546231, Accuracy: 83.72950819672131%\n"
     ]
    },
    {
     "name": "stderr",
     "output_type": "stream",
     "text": [
      "Epoch 80/200: 100%|██████████| 915/915 [00:14<00:00, 63.20it/s, accuracy=84.4, loss=0.078]\n"
     ]
    },
    {
     "name": "stdout",
     "output_type": "stream",
     "text": [
      "Epoch [80/200], Loss: 0.3648073102159253, Accuracy: 84.42622950819673%\n"
     ]
    },
    {
     "name": "stderr",
     "output_type": "stream",
     "text": [
      "Epoch 81/200: 100%|██████████| 915/915 [00:14<00:00, 63.52it/s, accuracy=84.2, loss=0.202]\n"
     ]
    },
    {
     "name": "stdout",
     "output_type": "stream",
     "text": [
      "Epoch [81/200], Loss: 0.36938533113221, Accuracy: 84.18032786885246%\n"
     ]
    },
    {
     "name": "stderr",
     "output_type": "stream",
     "text": [
      "Epoch 82/200: 100%|██████████| 915/915 [00:14<00:00, 63.12it/s, accuracy=84.2, loss=0.43]\n"
     ]
    },
    {
     "name": "stdout",
     "output_type": "stream",
     "text": [
      "Epoch [82/200], Loss: 0.3760422798942347, Accuracy: 84.23497267759562%\n"
     ]
    },
    {
     "name": "stderr",
     "output_type": "stream",
     "text": [
      "Epoch 83/200: 100%|██████████| 915/915 [00:14<00:00, 63.31it/s, accuracy=84.3, loss=0.169]\n"
     ]
    },
    {
     "name": "stdout",
     "output_type": "stream",
     "text": [
      "Epoch [83/200], Loss: 0.36382314215918055, Accuracy: 84.33060109289617%\n"
     ]
    },
    {
     "name": "stderr",
     "output_type": "stream",
     "text": [
      "Epoch 84/200: 100%|██████████| 915/915 [00:14<00:00, 62.47it/s, accuracy=84.4, loss=0.317]\n"
     ]
    },
    {
     "name": "stdout",
     "output_type": "stream",
     "text": [
      "Epoch [84/200], Loss: 0.36569315681610604, Accuracy: 84.42622950819673%\n"
     ]
    },
    {
     "name": "stderr",
     "output_type": "stream",
     "text": [
      "Epoch 85/200: 100%|██████████| 915/915 [00:14<00:00, 63.13it/s, accuracy=84.2, loss=0.504]\n"
     ]
    },
    {
     "name": "stdout",
     "output_type": "stream",
     "text": [
      "Epoch [85/200], Loss: 0.3623676325942649, Accuracy: 84.24863387978142%\n"
     ]
    },
    {
     "name": "stderr",
     "output_type": "stream",
     "text": [
      "Epoch 86/200: 100%|██████████| 915/915 [00:14<00:00, 62.79it/s, accuracy=84.8, loss=0.405]\n"
     ]
    },
    {
     "name": "stdout",
     "output_type": "stream",
     "text": [
      "Epoch [86/200], Loss: 0.35034861394046435, Accuracy: 84.8360655737705%\n"
     ]
    },
    {
     "name": "stderr",
     "output_type": "stream",
     "text": [
      "Epoch 87/200: 100%|██████████| 915/915 [00:14<00:00, 63.24it/s, accuracy=85.1, loss=0.147]\n"
     ]
    },
    {
     "name": "stdout",
     "output_type": "stream",
     "text": [
      "Epoch [87/200], Loss: 0.34997426335969584, Accuracy: 85.12295081967213%\n"
     ]
    },
    {
     "name": "stderr",
     "output_type": "stream",
     "text": [
      "Epoch 88/200: 100%|██████████| 915/915 [00:14<00:00, 63.15it/s, accuracy=86, loss=1.41]\n"
     ]
    },
    {
     "name": "stdout",
     "output_type": "stream",
     "text": [
      "Epoch [88/200], Loss: 0.33445963772227527, Accuracy: 86.01092896174863%\n"
     ]
    },
    {
     "name": "stderr",
     "output_type": "stream",
     "text": [
      "Epoch 89/200: 100%|██████████| 915/915 [00:14<00:00, 62.54it/s, accuracy=84.9, loss=0.438]\n"
     ]
    },
    {
     "name": "stdout",
     "output_type": "stream",
     "text": [
      "Epoch [89/200], Loss: 0.3575384252791196, Accuracy: 84.89071038251366%\n"
     ]
    },
    {
     "name": "stderr",
     "output_type": "stream",
     "text": [
      "Epoch 90/200: 100%|██████████| 915/915 [00:14<00:00, 63.18it/s, accuracy=86.3, loss=0.177]\n"
     ]
    },
    {
     "name": "stdout",
     "output_type": "stream",
     "text": [
      "Epoch [90/200], Loss: 0.34121544955532407, Accuracy: 86.33879781420765%\n"
     ]
    },
    {
     "name": "stderr",
     "output_type": "stream",
     "text": [
      "Epoch 91/200: 100%|██████████| 915/915 [00:14<00:00, 63.13it/s, accuracy=85.1, loss=0.145]\n"
     ]
    },
    {
     "name": "stdout",
     "output_type": "stream",
     "text": [
      "Epoch [91/200], Loss: 0.34631614255734156, Accuracy: 85.05464480874316%\n"
     ]
    },
    {
     "name": "stderr",
     "output_type": "stream",
     "text": [
      "Epoch 92/200: 100%|██████████| 915/915 [00:14<00:00, 63.42it/s, accuracy=86, loss=0.165]\n"
     ]
    },
    {
     "name": "stdout",
     "output_type": "stream",
     "text": [
      "Epoch [92/200], Loss: 0.3363978376927597, Accuracy: 86.01092896174863%\n"
     ]
    },
    {
     "name": "stderr",
     "output_type": "stream",
     "text": [
      "Epoch 93/200: 100%|██████████| 915/915 [00:14<00:00, 62.96it/s, accuracy=85.9, loss=0.23]\n"
     ]
    },
    {
     "name": "stdout",
     "output_type": "stream",
     "text": [
      "Epoch [93/200], Loss: 0.34478823913088263, Accuracy: 85.94262295081967%\n"
     ]
    },
    {
     "name": "stderr",
     "output_type": "stream",
     "text": [
      "Epoch 94/200: 100%|██████████| 915/915 [00:14<00:00, 62.15it/s, accuracy=85.8, loss=0.365]\n"
     ]
    },
    {
     "name": "stdout",
     "output_type": "stream",
     "text": [
      "Epoch [94/200], Loss: 0.3346773418287436, Accuracy: 85.84699453551913%\n"
     ]
    },
    {
     "name": "stderr",
     "output_type": "stream",
     "text": [
      "Epoch 95/200: 100%|██████████| 915/915 [00:14<00:00, 63.00it/s, accuracy=86, loss=0.353]\n"
     ]
    },
    {
     "name": "stdout",
     "output_type": "stream",
     "text": [
      "Epoch [95/200], Loss: 0.3382823327403577, Accuracy: 86.02459016393442%\n"
     ]
    },
    {
     "name": "stderr",
     "output_type": "stream",
     "text": [
      "Epoch 96/200: 100%|██████████| 915/915 [00:14<00:00, 63.56it/s, accuracy=86.7, loss=0.5]\n"
     ]
    },
    {
     "name": "stdout",
     "output_type": "stream",
     "text": [
      "Epoch [96/200], Loss: 0.32106905777231265, Accuracy: 86.68032786885246%\n"
     ]
    },
    {
     "name": "stderr",
     "output_type": "stream",
     "text": [
      "Epoch 97/200: 100%|██████████| 915/915 [00:14<00:00, 63.16it/s, accuracy=86.1, loss=0.397]\n"
     ]
    },
    {
     "name": "stdout",
     "output_type": "stream",
     "text": [
      "Epoch [97/200], Loss: 0.3294309758443813, Accuracy: 86.09289617486338%\n"
     ]
    },
    {
     "name": "stderr",
     "output_type": "stream",
     "text": [
      "Epoch 98/200: 100%|██████████| 915/915 [00:14<00:00, 63.30it/s, accuracy=86.1, loss=0.168]\n"
     ]
    },
    {
     "name": "stdout",
     "output_type": "stream",
     "text": [
      "Epoch [98/200], Loss: 0.33248982258303894, Accuracy: 86.13387978142076%\n"
     ]
    },
    {
     "name": "stderr",
     "output_type": "stream",
     "text": [
      "Epoch 99/200: 100%|██████████| 915/915 [00:14<00:00, 62.81it/s, accuracy=86.9, loss=0.236]\n"
     ]
    },
    {
     "name": "stdout",
     "output_type": "stream",
     "text": [
      "Epoch [99/200], Loss: 0.3138355059213326, Accuracy: 86.93989071038251%\n"
     ]
    },
    {
     "name": "stderr",
     "output_type": "stream",
     "text": [
      "Epoch 100/200: 100%|██████████| 915/915 [00:14<00:00, 63.24it/s, accuracy=87, loss=0.328]\n"
     ]
    },
    {
     "name": "stdout",
     "output_type": "stream",
     "text": [
      "Epoch [100/200], Loss: 0.31729869936170474, Accuracy: 87.00819672131148%\n"
     ]
    },
    {
     "name": "stderr",
     "output_type": "stream",
     "text": [
      "Epoch 101/200: 100%|██████████| 915/915 [00:14<00:00, 63.07it/s, accuracy=87, loss=0.258]\n"
     ]
    },
    {
     "name": "stdout",
     "output_type": "stream",
     "text": [
      "Epoch [101/200], Loss: 0.3204690719277807, Accuracy: 86.98087431693989%\n"
     ]
    },
    {
     "name": "stderr",
     "output_type": "stream",
     "text": [
      "Epoch 102/200: 100%|██████████| 915/915 [00:14<00:00, 63.55it/s, accuracy=86.8, loss=0.0774]\n"
     ]
    },
    {
     "name": "stdout",
     "output_type": "stream",
     "text": [
      "Epoch [102/200], Loss: 0.3216848039602647, Accuracy: 86.81693989071039%\n"
     ]
    },
    {
     "name": "stderr",
     "output_type": "stream",
     "text": [
      "Epoch 103/200: 100%|██████████| 915/915 [00:14<00:00, 62.01it/s, accuracy=86.7, loss=0.327]\n"
     ]
    },
    {
     "name": "stdout",
     "output_type": "stream",
     "text": [
      "Epoch [103/200], Loss: 0.32367270650352287, Accuracy: 86.65300546448087%\n"
     ]
    },
    {
     "name": "stderr",
     "output_type": "stream",
     "text": [
      "Epoch 104/200: 100%|██████████| 915/915 [00:14<00:00, 62.83it/s, accuracy=87.9, loss=0.16]\n"
     ]
    },
    {
     "name": "stdout",
     "output_type": "stream",
     "text": [
      "Epoch [104/200], Loss: 0.3025785371905468, Accuracy: 87.90983606557377%\n"
     ]
    },
    {
     "name": "stderr",
     "output_type": "stream",
     "text": [
      "Epoch 105/200: 100%|██████████| 915/915 [00:14<00:00, 63.54it/s, accuracy=85.1, loss=0.062]\n"
     ]
    },
    {
     "name": "stdout",
     "output_type": "stream",
     "text": [
      "Epoch [105/200], Loss: 0.35616340716598466, Accuracy: 85.06830601092896%\n"
     ]
    },
    {
     "name": "stderr",
     "output_type": "stream",
     "text": [
      "Epoch 106/200: 100%|██████████| 915/915 [00:14<00:00, 63.46it/s, accuracy=87.1, loss=0.652]\n"
     ]
    },
    {
     "name": "stdout",
     "output_type": "stream",
     "text": [
      "Epoch [106/200], Loss: 0.3194937768916452, Accuracy: 87.06284153005464%\n"
     ]
    },
    {
     "name": "stderr",
     "output_type": "stream",
     "text": [
      "Epoch 107/200: 100%|██████████| 915/915 [00:14<00:00, 63.54it/s, accuracy=87.7, loss=0.326]\n"
     ]
    },
    {
     "name": "stdout",
     "output_type": "stream",
     "text": [
      "Epoch [107/200], Loss: 0.2996957061211757, Accuracy: 87.69125683060109%\n"
     ]
    },
    {
     "name": "stderr",
     "output_type": "stream",
     "text": [
      "Epoch 108/200: 100%|██████████| 915/915 [00:14<00:00, 61.85it/s, accuracy=87.7, loss=0.0745]\n"
     ]
    },
    {
     "name": "stdout",
     "output_type": "stream",
     "text": [
      "Epoch [108/200], Loss: 0.2988479832971031, Accuracy: 87.6775956284153%\n"
     ]
    },
    {
     "name": "stderr",
     "output_type": "stream",
     "text": [
      "Epoch 109/200: 100%|██████████| 915/915 [00:14<00:00, 63.32it/s, accuracy=87, loss=0.481]\n"
     ]
    },
    {
     "name": "stdout",
     "output_type": "stream",
     "text": [
      "Epoch [109/200], Loss: 0.30910643390456183, Accuracy: 87.02185792349727%\n"
     ]
    },
    {
     "name": "stderr",
     "output_type": "stream",
     "text": [
      "Epoch 110/200: 100%|██████████| 915/915 [00:14<00:00, 63.53it/s, accuracy=87.2, loss=0.292]\n"
     ]
    },
    {
     "name": "stdout",
     "output_type": "stream",
     "text": [
      "Epoch [110/200], Loss: 0.3068863007804898, Accuracy: 87.17213114754098%\n"
     ]
    },
    {
     "name": "stderr",
     "output_type": "stream",
     "text": [
      "Epoch 111/200: 100%|██████████| 915/915 [00:14<00:00, 63.53it/s, accuracy=87.9, loss=0.183]\n"
     ]
    },
    {
     "name": "stdout",
     "output_type": "stream",
     "text": [
      "Epoch [111/200], Loss: 0.30744039382724486, Accuracy: 87.88251366120218%\n"
     ]
    },
    {
     "name": "stderr",
     "output_type": "stream",
     "text": [
      "Epoch 112/200: 100%|██████████| 915/915 [00:14<00:00, 63.26it/s, accuracy=87.1, loss=0.512]\n"
     ]
    },
    {
     "name": "stdout",
     "output_type": "stream",
     "text": [
      "Epoch [112/200], Loss: 0.31954115241195985, Accuracy: 87.11748633879782%\n"
     ]
    },
    {
     "name": "stderr",
     "output_type": "stream",
     "text": [
      "Epoch 113/200: 100%|██████████| 915/915 [00:14<00:00, 62.82it/s, accuracy=87.6, loss=0.0511]\n"
     ]
    },
    {
     "name": "stdout",
     "output_type": "stream",
     "text": [
      "Epoch [113/200], Loss: 0.2998790021578634, Accuracy: 87.63661202185793%\n"
     ]
    },
    {
     "name": "stderr",
     "output_type": "stream",
     "text": [
      "Epoch 114/200: 100%|██████████| 915/915 [00:14<00:00, 63.42it/s, accuracy=87.8, loss=0.0673]\n"
     ]
    },
    {
     "name": "stdout",
     "output_type": "stream",
     "text": [
      "Epoch [114/200], Loss: 0.2970201079881256, Accuracy: 87.78688524590164%\n"
     ]
    },
    {
     "name": "stderr",
     "output_type": "stream",
     "text": [
      "Epoch 115/200: 100%|██████████| 915/915 [00:14<00:00, 63.63it/s, accuracy=86.8, loss=0.375]\n"
     ]
    },
    {
     "name": "stdout",
     "output_type": "stream",
     "text": [
      "Epoch [115/200], Loss: 0.3373121788572581, Accuracy: 86.76229508196721%\n"
     ]
    },
    {
     "name": "stderr",
     "output_type": "stream",
     "text": [
      "Epoch 116/200: 100%|██████████| 915/915 [00:14<00:00, 63.24it/s, accuracy=88.3, loss=0.317]\n"
     ]
    },
    {
     "name": "stdout",
     "output_type": "stream",
     "text": [
      "Epoch [116/200], Loss: 0.2954765494729652, Accuracy: 88.25136612021858%\n"
     ]
    },
    {
     "name": "stderr",
     "output_type": "stream",
     "text": [
      "Epoch 117/200: 100%|██████████| 915/915 [00:14<00:00, 63.56it/s, accuracy=88, loss=0.312]\n"
     ]
    },
    {
     "name": "stdout",
     "output_type": "stream",
     "text": [
      "Epoch [117/200], Loss: 0.2978756205672449, Accuracy: 88.0464480874317%\n"
     ]
    },
    {
     "name": "stderr",
     "output_type": "stream",
     "text": [
      "Epoch 118/200: 100%|██████████| 915/915 [00:14<00:00, 62.87it/s, accuracy=88.2, loss=0.159]\n"
     ]
    },
    {
     "name": "stdout",
     "output_type": "stream",
     "text": [
      "Epoch [118/200], Loss: 0.29796386280916426, Accuracy: 88.19672131147541%\n"
     ]
    },
    {
     "name": "stderr",
     "output_type": "stream",
     "text": [
      "Epoch 119/200: 100%|██████████| 915/915 [00:14<00:00, 63.36it/s, accuracy=86, loss=0.152]\n"
     ]
    },
    {
     "name": "stdout",
     "output_type": "stream",
     "text": [
      "Epoch [119/200], Loss: 0.33847229404201923, Accuracy: 86.03825136612022%\n"
     ]
    },
    {
     "name": "stderr",
     "output_type": "stream",
     "text": [
      "Epoch 120/200: 100%|██████████| 915/915 [00:14<00:00, 63.46it/s, accuracy=89.1, loss=0.222]\n"
     ]
    },
    {
     "name": "stdout",
     "output_type": "stream",
     "text": [
      "Epoch [120/200], Loss: 0.27947160341049154, Accuracy: 89.05737704918033%\n"
     ]
    },
    {
     "name": "stderr",
     "output_type": "stream",
     "text": [
      "Epoch 121/200: 100%|██████████| 915/915 [00:14<00:00, 63.41it/s, accuracy=88, loss=0.21]\n"
     ]
    },
    {
     "name": "stdout",
     "output_type": "stream",
     "text": [
      "Epoch [121/200], Loss: 0.2998559302604589, Accuracy: 87.97814207650273%\n"
     ]
    },
    {
     "name": "stderr",
     "output_type": "stream",
     "text": [
      "Epoch 122/200: 100%|██████████| 915/915 [00:14<00:00, 63.39it/s, accuracy=88.3, loss=0.106]\n"
     ]
    },
    {
     "name": "stdout",
     "output_type": "stream",
     "text": [
      "Epoch [122/200], Loss: 0.29622001648152785, Accuracy: 88.31967213114754%\n"
     ]
    },
    {
     "name": "stderr",
     "output_type": "stream",
     "text": [
      "Epoch 123/200: 100%|██████████| 915/915 [00:14<00:00, 62.32it/s, accuracy=86.3, loss=0.451]\n"
     ]
    },
    {
     "name": "stdout",
     "output_type": "stream",
     "text": [
      "Epoch [123/200], Loss: 0.337304004232903, Accuracy: 86.29781420765028%\n"
     ]
    },
    {
     "name": "stderr",
     "output_type": "stream",
     "text": [
      "Epoch 124/200: 100%|██████████| 915/915 [00:14<00:00, 63.73it/s, accuracy=86.7, loss=0.22]\n"
     ]
    },
    {
     "name": "stdout",
     "output_type": "stream",
     "text": [
      "Epoch [124/200], Loss: 0.3298821181710301, Accuracy: 86.73497267759562%\n"
     ]
    },
    {
     "name": "stderr",
     "output_type": "stream",
     "text": [
      "Epoch 125/200: 100%|██████████| 915/915 [00:14<00:00, 63.18it/s, accuracy=86.7, loss=0.252]\n"
     ]
    },
    {
     "name": "stdout",
     "output_type": "stream",
     "text": [
      "Epoch [125/200], Loss: 0.3245970213409167, Accuracy: 86.68032786885246%\n"
     ]
    },
    {
     "name": "stderr",
     "output_type": "stream",
     "text": [
      "Epoch 126/200: 100%|██████████| 915/915 [00:14<00:00, 63.63it/s, accuracy=87.3, loss=0.295]\n"
     ]
    },
    {
     "name": "stdout",
     "output_type": "stream",
     "text": [
      "Epoch [126/200], Loss: 0.3138810911058077, Accuracy: 87.25409836065573%\n"
     ]
    },
    {
     "name": "stderr",
     "output_type": "stream",
     "text": [
      "Epoch 127/200: 100%|██████████| 915/915 [00:14<00:00, 63.02it/s, accuracy=88.1, loss=0.0279]\n"
     ]
    },
    {
     "name": "stdout",
     "output_type": "stream",
     "text": [
      "Epoch [127/200], Loss: 0.3003796237637925, Accuracy: 88.10109289617486%\n"
     ]
    },
    {
     "name": "stderr",
     "output_type": "stream",
     "text": [
      "Epoch 128/200: 100%|██████████| 915/915 [00:14<00:00, 62.84it/s, accuracy=86.8, loss=0.118]\n"
     ]
    },
    {
     "name": "stdout",
     "output_type": "stream",
     "text": [
      "Epoch [128/200], Loss: 0.3234339087692603, Accuracy: 86.77595628415301%\n"
     ]
    },
    {
     "name": "stderr",
     "output_type": "stream",
     "text": [
      "Epoch 129/200: 100%|██████████| 915/915 [00:14<00:00, 63.45it/s, accuracy=88.1, loss=0.0577]\n"
     ]
    },
    {
     "name": "stdout",
     "output_type": "stream",
     "text": [
      "Epoch [129/200], Loss: 0.2989295692310307, Accuracy: 88.14207650273224%\n"
     ]
    },
    {
     "name": "stderr",
     "output_type": "stream",
     "text": [
      "Epoch 130/200: 100%|██████████| 915/915 [00:14<00:00, 63.43it/s, accuracy=89.8, loss=0.164]\n"
     ]
    },
    {
     "name": "stdout",
     "output_type": "stream",
     "text": [
      "Epoch [130/200], Loss: 0.27247001542786103, Accuracy: 89.76775956284153%\n"
     ]
    },
    {
     "name": "stderr",
     "output_type": "stream",
     "text": [
      "Epoch 131/200: 100%|██████████| 915/915 [00:14<00:00, 63.41it/s, accuracy=88.7, loss=0.259]\n"
     ]
    },
    {
     "name": "stdout",
     "output_type": "stream",
     "text": [
      "Epoch [131/200], Loss: 0.280507298719769, Accuracy: 88.70218579234972%\n"
     ]
    },
    {
     "name": "stderr",
     "output_type": "stream",
     "text": [
      "Epoch 132/200: 100%|██████████| 915/915 [00:14<00:00, 62.91it/s, accuracy=90.1, loss=0.0707]\n"
     ]
    },
    {
     "name": "stdout",
     "output_type": "stream",
     "text": [
      "Epoch [132/200], Loss: 0.2580051422159854, Accuracy: 90.12295081967213%\n"
     ]
    },
    {
     "name": "stderr",
     "output_type": "stream",
     "text": [
      "Epoch 133/200: 100%|██████████| 915/915 [00:14<00:00, 62.76it/s, accuracy=87.7, loss=0.786]\n"
     ]
    },
    {
     "name": "stdout",
     "output_type": "stream",
     "text": [
      "Epoch [133/200], Loss: 0.30162591859698296, Accuracy: 87.74590163934427%\n"
     ]
    },
    {
     "name": "stderr",
     "output_type": "stream",
     "text": [
      "Epoch 134/200: 100%|██████████| 915/915 [00:14<00:00, 63.40it/s, accuracy=88.9, loss=0.0521]\n"
     ]
    },
    {
     "name": "stdout",
     "output_type": "stream",
     "text": [
      "Epoch [134/200], Loss: 0.2751241313894101, Accuracy: 88.90710382513662%\n"
     ]
    },
    {
     "name": "stderr",
     "output_type": "stream",
     "text": [
      "Epoch 135/200: 100%|██████████| 915/915 [00:14<00:00, 63.41it/s, accuracy=89.9, loss=0.0411]\n"
     ]
    },
    {
     "name": "stdout",
     "output_type": "stream",
     "text": [
      "Epoch [135/200], Loss: 0.26197010613367205, Accuracy: 89.94535519125684%\n"
     ]
    },
    {
     "name": "stderr",
     "output_type": "stream",
     "text": [
      "Epoch 136/200: 100%|██████████| 915/915 [00:14<00:00, 62.74it/s, accuracy=89.8, loss=0.428]\n"
     ]
    },
    {
     "name": "stdout",
     "output_type": "stream",
     "text": [
      "Epoch [136/200], Loss: 0.2555441192040841, Accuracy: 89.75409836065573%\n"
     ]
    },
    {
     "name": "stderr",
     "output_type": "stream",
     "text": [
      "Epoch 137/200: 100%|██████████| 915/915 [00:14<00:00, 62.00it/s, accuracy=89.7, loss=0.176]\n"
     ]
    },
    {
     "name": "stdout",
     "output_type": "stream",
     "text": [
      "Epoch [137/200], Loss: 0.2647465331632583, Accuracy: 89.6584699453552%\n"
     ]
    },
    {
     "name": "stderr",
     "output_type": "stream",
     "text": [
      "Epoch 138/200: 100%|██████████| 915/915 [00:15<00:00, 60.49it/s, accuracy=90, loss=0.56]\n"
     ]
    },
    {
     "name": "stdout",
     "output_type": "stream",
     "text": [
      "Epoch [138/200], Loss: 0.2669523251390522, Accuracy: 89.98633879781421%\n"
     ]
    },
    {
     "name": "stderr",
     "output_type": "stream",
     "text": [
      "Epoch 139/200: 100%|██████████| 915/915 [00:14<00:00, 62.45it/s, accuracy=89.6, loss=0.317]\n"
     ]
    },
    {
     "name": "stdout",
     "output_type": "stream",
     "text": [
      "Epoch [139/200], Loss: 0.26872811830231075, Accuracy: 89.57650273224044%\n"
     ]
    },
    {
     "name": "stderr",
     "output_type": "stream",
     "text": [
      "Epoch 140/200: 100%|██████████| 915/915 [00:14<00:00, 62.29it/s, accuracy=88.8, loss=0.373]\n"
     ]
    },
    {
     "name": "stdout",
     "output_type": "stream",
     "text": [
      "Epoch [140/200], Loss: 0.2799671473724595, Accuracy: 88.83879781420765%\n"
     ]
    },
    {
     "name": "stderr",
     "output_type": "stream",
     "text": [
      "Epoch 141/200: 100%|██████████| 915/915 [00:14<00:00, 62.47it/s, accuracy=89.2, loss=0.107]\n"
     ]
    },
    {
     "name": "stdout",
     "output_type": "stream",
     "text": [
      "Epoch [141/200], Loss: 0.2717736396816422, Accuracy: 89.19398907103825%\n"
     ]
    },
    {
     "name": "stderr",
     "output_type": "stream",
     "text": [
      "Epoch 142/200: 100%|██████████| 915/915 [00:14<00:00, 62.33it/s, accuracy=88.7, loss=0.0841]\n"
     ]
    },
    {
     "name": "stdout",
     "output_type": "stream",
     "text": [
      "Epoch [142/200], Loss: 0.2761715017564473, Accuracy: 88.67486338797814%\n"
     ]
    },
    {
     "name": "stderr",
     "output_type": "stream",
     "text": [
      "Epoch 143/200: 100%|██████████| 915/915 [00:14<00:00, 61.45it/s, accuracy=80.9, loss=0.914]\n"
     ]
    },
    {
     "name": "stdout",
     "output_type": "stream",
     "text": [
      "Epoch [143/200], Loss: 0.42361687766846085, Accuracy: 80.9153005464481%\n"
     ]
    },
    {
     "name": "stderr",
     "output_type": "stream",
     "text": [
      "Epoch 144/200: 100%|██████████| 915/915 [00:14<00:00, 62.31it/s, accuracy=78.5, loss=0.558]\n"
     ]
    },
    {
     "name": "stdout",
     "output_type": "stream",
     "text": [
      "Epoch [144/200], Loss: 0.4716416555838507, Accuracy: 78.52459016393442%\n"
     ]
    },
    {
     "name": "stderr",
     "output_type": "stream",
     "text": [
      "Epoch 145/200: 100%|██████████| 915/915 [00:14<00:00, 62.34it/s, accuracy=84, loss=0.235]\n"
     ]
    },
    {
     "name": "stdout",
     "output_type": "stream",
     "text": [
      "Epoch [145/200], Loss: 0.38811251716128464, Accuracy: 84.03005464480874%\n"
     ]
    },
    {
     "name": "stderr",
     "output_type": "stream",
     "text": [
      "Epoch 146/200: 100%|██████████| 915/915 [00:14<00:00, 62.56it/s, accuracy=84.9, loss=0.199]\n"
     ]
    },
    {
     "name": "stdout",
     "output_type": "stream",
     "text": [
      "Epoch [146/200], Loss: 0.36380875115511846, Accuracy: 84.87704918032787%\n"
     ]
    },
    {
     "name": "stderr",
     "output_type": "stream",
     "text": [
      "Epoch 147/200: 100%|██████████| 915/915 [00:14<00:00, 62.02it/s, accuracy=85.1, loss=0.214]\n"
     ]
    },
    {
     "name": "stdout",
     "output_type": "stream",
     "text": [
      "Epoch [147/200], Loss: 0.3648096828899586, Accuracy: 85.05464480874316%\n"
     ]
    },
    {
     "name": "stderr",
     "output_type": "stream",
     "text": [
      "Epoch 148/200: 100%|██████████| 915/915 [00:15<00:00, 60.93it/s, accuracy=85.7, loss=0.0974]\n"
     ]
    },
    {
     "name": "stdout",
     "output_type": "stream",
     "text": [
      "Epoch [148/200], Loss: 0.3504614864338617, Accuracy: 85.66939890710383%\n"
     ]
    },
    {
     "name": "stderr",
     "output_type": "stream",
     "text": [
      "Epoch 149/200: 100%|██████████| 915/915 [00:14<00:00, 62.10it/s, accuracy=87.4, loss=0.0843]\n"
     ]
    },
    {
     "name": "stdout",
     "output_type": "stream",
     "text": [
      "Epoch [149/200], Loss: 0.32096007208192284, Accuracy: 87.37704918032787%\n"
     ]
    },
    {
     "name": "stderr",
     "output_type": "stream",
     "text": [
      "Epoch 150/200: 100%|██████████| 915/915 [00:14<00:00, 62.51it/s, accuracy=88, loss=0.315]\n"
     ]
    },
    {
     "name": "stdout",
     "output_type": "stream",
     "text": [
      "Epoch [150/200], Loss: 0.3070521998824806, Accuracy: 88.00546448087432%\n"
     ]
    },
    {
     "name": "stderr",
     "output_type": "stream",
     "text": [
      "Epoch 151/200: 100%|██████████| 915/915 [00:14<00:00, 62.36it/s, accuracy=87.3, loss=0.197]\n"
     ]
    },
    {
     "name": "stdout",
     "output_type": "stream",
     "text": [
      "Epoch [151/200], Loss: 0.3131600750416843, Accuracy: 87.25409836065573%\n"
     ]
    },
    {
     "name": "stderr",
     "output_type": "stream",
     "text": [
      "Epoch 152/200: 100%|██████████| 915/915 [00:14<00:00, 62.19it/s, accuracy=88, loss=0.297]\n"
     ]
    },
    {
     "name": "stdout",
     "output_type": "stream",
     "text": [
      "Epoch [152/200], Loss: 0.30300293164989334, Accuracy: 88.0464480874317%\n"
     ]
    },
    {
     "name": "stderr",
     "output_type": "stream",
     "text": [
      "Epoch 153/200: 100%|██████████| 915/915 [00:14<00:00, 61.28it/s, accuracy=89.8, loss=0.0944]\n"
     ]
    },
    {
     "name": "stdout",
     "output_type": "stream",
     "text": [
      "Epoch [153/200], Loss: 0.27295198770535123, Accuracy: 89.79508196721312%\n"
     ]
    },
    {
     "name": "stderr",
     "output_type": "stream",
     "text": [
      "Epoch 154/200: 100%|██████████| 915/915 [00:14<00:00, 63.28it/s, accuracy=88.6, loss=0.0514]\n"
     ]
    },
    {
     "name": "stdout",
     "output_type": "stream",
     "text": [
      "Epoch [154/200], Loss: 0.29311318257263774, Accuracy: 88.63387978142076%\n"
     ]
    },
    {
     "name": "stderr",
     "output_type": "stream",
     "text": [
      "Epoch 155/200: 100%|██████████| 915/915 [00:14<00:00, 62.90it/s, accuracy=89.2, loss=0.198]\n"
     ]
    },
    {
     "name": "stdout",
     "output_type": "stream",
     "text": [
      "Epoch [155/200], Loss: 0.273865936806456, Accuracy: 89.22131147540983%\n"
     ]
    },
    {
     "name": "stderr",
     "output_type": "stream",
     "text": [
      "Epoch 156/200: 100%|██████████| 915/915 [00:14<00:00, 62.72it/s, accuracy=88.8, loss=0.102]\n"
     ]
    },
    {
     "name": "stdout",
     "output_type": "stream",
     "text": [
      "Epoch [156/200], Loss: 0.2818820239619805, Accuracy: 88.82513661202186%\n"
     ]
    },
    {
     "name": "stderr",
     "output_type": "stream",
     "text": [
      "Epoch 157/200: 100%|██████████| 915/915 [00:14<00:00, 62.29it/s, accuracy=87.3, loss=0.318]\n"
     ]
    },
    {
     "name": "stdout",
     "output_type": "stream",
     "text": [
      "Epoch [157/200], Loss: 0.3425561747610406, Accuracy: 87.29508196721312%\n"
     ]
    },
    {
     "name": "stderr",
     "output_type": "stream",
     "text": [
      "Epoch 158/200: 100%|██████████| 915/915 [00:14<00:00, 61.77it/s, accuracy=88.1, loss=0.548]\n"
     ]
    },
    {
     "name": "stdout",
     "output_type": "stream",
     "text": [
      "Epoch [158/200], Loss: 0.3044686529398616, Accuracy: 88.06010928961749%\n"
     ]
    },
    {
     "name": "stderr",
     "output_type": "stream",
     "text": [
      "Epoch 159/200: 100%|██████████| 915/915 [00:14<00:00, 62.82it/s, accuracy=88.5, loss=0.485]\n"
     ]
    },
    {
     "name": "stdout",
     "output_type": "stream",
     "text": [
      "Epoch [159/200], Loss: 0.2882521561402929, Accuracy: 88.53825136612022%\n"
     ]
    },
    {
     "name": "stderr",
     "output_type": "stream",
     "text": [
      "Epoch 160/200: 100%|██████████| 915/915 [00:14<00:00, 62.58it/s, accuracy=89.6, loss=0.206]\n"
     ]
    },
    {
     "name": "stdout",
     "output_type": "stream",
     "text": [
      "Epoch [160/200], Loss: 0.270127004533599, Accuracy: 89.57650273224044%\n"
     ]
    },
    {
     "name": "stderr",
     "output_type": "stream",
     "text": [
      "Epoch 161/200: 100%|██████████| 915/915 [00:14<00:00, 62.71it/s, accuracy=89.8, loss=0.39]\n"
     ]
    },
    {
     "name": "stdout",
     "output_type": "stream",
     "text": [
      "Epoch [161/200], Loss: 0.26863209044794895, Accuracy: 89.75409836065573%\n"
     ]
    },
    {
     "name": "stderr",
     "output_type": "stream",
     "text": [
      "Epoch 162/200: 100%|██████████| 915/915 [00:14<00:00, 62.76it/s, accuracy=88.4, loss=0.218]\n"
     ]
    },
    {
     "name": "stdout",
     "output_type": "stream",
     "text": [
      "Epoch [162/200], Loss: 0.29856402481717814, Accuracy: 88.3879781420765%\n"
     ]
    },
    {
     "name": "stderr",
     "output_type": "stream",
     "text": [
      "Epoch 163/200: 100%|██████████| 915/915 [00:14<00:00, 62.90it/s, accuracy=90.3, loss=0.33]\n"
     ]
    },
    {
     "name": "stdout",
     "output_type": "stream",
     "text": [
      "Epoch [163/200], Loss: 0.25832601703621977, Accuracy: 90.27322404371584%\n"
     ]
    },
    {
     "name": "stderr",
     "output_type": "stream",
     "text": [
      "Epoch 164/200: 100%|██████████| 915/915 [00:14<00:00, 62.70it/s, accuracy=90.1, loss=0.246]\n"
     ]
    },
    {
     "name": "stdout",
     "output_type": "stream",
     "text": [
      "Epoch [164/200], Loss: 0.2562894534095715, Accuracy: 90.05464480874316%\n"
     ]
    },
    {
     "name": "stderr",
     "output_type": "stream",
     "text": [
      "Epoch 165/200: 100%|██████████| 915/915 [00:14<00:00, 62.93it/s, accuracy=89.2, loss=0.662]\n"
     ]
    },
    {
     "name": "stdout",
     "output_type": "stream",
     "text": [
      "Epoch [165/200], Loss: 0.28384804999852764, Accuracy: 89.22131147540983%\n"
     ]
    },
    {
     "name": "stderr",
     "output_type": "stream",
     "text": [
      "Epoch 166/200: 100%|██████████| 915/915 [00:14<00:00, 63.12it/s, accuracy=90.9, loss=0.413]\n"
     ]
    },
    {
     "name": "stdout",
     "output_type": "stream",
     "text": [
      "Epoch [166/200], Loss: 0.2488194739476579, Accuracy: 90.92896174863388%\n"
     ]
    },
    {
     "name": "stderr",
     "output_type": "stream",
     "text": [
      "Epoch 167/200: 100%|██████████| 915/915 [00:14<00:00, 62.49it/s, accuracy=90.1, loss=0.221]\n"
     ]
    },
    {
     "name": "stdout",
     "output_type": "stream",
     "text": [
      "Epoch [167/200], Loss: 0.25716107173166314, Accuracy: 90.06830601092896%\n"
     ]
    },
    {
     "name": "stderr",
     "output_type": "stream",
     "text": [
      "Epoch 168/200: 100%|██████████| 915/915 [00:14<00:00, 62.52it/s, accuracy=85.1, loss=0.302]\n"
     ]
    },
    {
     "name": "stdout",
     "output_type": "stream",
     "text": [
      "Epoch [168/200], Loss: 0.392539617993304, Accuracy: 85.10928961748634%\n"
     ]
    },
    {
     "name": "stderr",
     "output_type": "stream",
     "text": [
      "Epoch 169/200: 100%|██████████| 915/915 [00:14<00:00, 62.96it/s, accuracy=87.8, loss=0.718]\n"
     ]
    },
    {
     "name": "stdout",
     "output_type": "stream",
     "text": [
      "Epoch [169/200], Loss: 0.3182985136662025, Accuracy: 87.80054644808743%\n"
     ]
    },
    {
     "name": "stderr",
     "output_type": "stream",
     "text": [
      "Epoch 170/200: 100%|██████████| 915/915 [00:14<00:00, 62.87it/s, accuracy=89.2, loss=0.0948]\n"
     ]
    },
    {
     "name": "stdout",
     "output_type": "stream",
     "text": [
      "Epoch [170/200], Loss: 0.29067751573490314, Accuracy: 89.15300546448087%\n"
     ]
    },
    {
     "name": "stderr",
     "output_type": "stream",
     "text": [
      "Epoch 171/200: 100%|██████████| 915/915 [00:14<00:00, 62.69it/s, accuracy=89.3, loss=0.217]\n"
     ]
    },
    {
     "name": "stdout",
     "output_type": "stream",
     "text": [
      "Epoch [171/200], Loss: 0.28315336425977, Accuracy: 89.27595628415301%\n"
     ]
    },
    {
     "name": "stderr",
     "output_type": "stream",
     "text": [
      "Epoch 172/200: 100%|██████████| 915/915 [00:14<00:00, 63.09it/s, accuracy=88.9, loss=0.286]\n"
     ]
    },
    {
     "name": "stdout",
     "output_type": "stream",
     "text": [
      "Epoch [172/200], Loss: 0.29524170913697917, Accuracy: 88.93442622950819%\n"
     ]
    },
    {
     "name": "stderr",
     "output_type": "stream",
     "text": [
      "Epoch 173/200: 100%|██████████| 915/915 [00:14<00:00, 62.67it/s, accuracy=87.2, loss=0.345]\n"
     ]
    },
    {
     "name": "stdout",
     "output_type": "stream",
     "text": [
      "Epoch [173/200], Loss: 0.3317560175912139, Accuracy: 87.18579234972678%\n"
     ]
    },
    {
     "name": "stderr",
     "output_type": "stream",
     "text": [
      "Epoch 174/200: 100%|██████████| 915/915 [00:14<00:00, 62.92it/s, accuracy=76.7, loss=0.399]\n"
     ]
    },
    {
     "name": "stdout",
     "output_type": "stream",
     "text": [
      "Epoch [174/200], Loss: 0.5348067613288028, Accuracy: 76.68032786885246%\n"
     ]
    },
    {
     "name": "stderr",
     "output_type": "stream",
     "text": [
      "Epoch 175/200: 100%|██████████| 915/915 [00:14<00:00, 62.96it/s, accuracy=83.3, loss=0.548]\n"
     ]
    },
    {
     "name": "stdout",
     "output_type": "stream",
     "text": [
      "Epoch [175/200], Loss: 0.3956838304553527, Accuracy: 83.27868852459017%\n"
     ]
    },
    {
     "name": "stderr",
     "output_type": "stream",
     "text": [
      "Epoch 176/200: 100%|██████████| 915/915 [00:14<00:00, 62.78it/s, accuracy=88, loss=0.236]\n"
     ]
    },
    {
     "name": "stdout",
     "output_type": "stream",
     "text": [
      "Epoch [176/200], Loss: 0.3080006228770063, Accuracy: 87.95081967213115%\n"
     ]
    },
    {
     "name": "stderr",
     "output_type": "stream",
     "text": [
      "Epoch 177/200: 100%|██████████| 915/915 [00:14<00:00, 62.41it/s, accuracy=88.7, loss=0.116]\n"
     ]
    },
    {
     "name": "stdout",
     "output_type": "stream",
     "text": [
      "Epoch [177/200], Loss: 0.29763006975090567, Accuracy: 88.71584699453553%\n"
     ]
    },
    {
     "name": "stderr",
     "output_type": "stream",
     "text": [
      "Epoch 178/200: 100%|██████████| 915/915 [00:14<00:00, 62.99it/s, accuracy=84.8, loss=0.618]\n"
     ]
    },
    {
     "name": "stdout",
     "output_type": "stream",
     "text": [
      "Epoch [178/200], Loss: 0.3688334312432451, Accuracy: 84.8224043715847%\n"
     ]
    },
    {
     "name": "stderr",
     "output_type": "stream",
     "text": [
      "Epoch 179/200: 100%|██████████| 915/915 [00:14<00:00, 62.72it/s, accuracy=85.5, loss=0.246]\n"
     ]
    },
    {
     "name": "stdout",
     "output_type": "stream",
     "text": [
      "Epoch [179/200], Loss: 0.357396144379195, Accuracy: 85.5464480874317%\n"
     ]
    },
    {
     "name": "stderr",
     "output_type": "stream",
     "text": [
      "Epoch 180/200: 100%|██████████| 915/915 [00:14<00:00, 63.04it/s, accuracy=86.4, loss=0.325]\n"
     ]
    },
    {
     "name": "stdout",
     "output_type": "stream",
     "text": [
      "Epoch [180/200], Loss: 0.3363367867152222, Accuracy: 86.40710382513662%\n"
     ]
    },
    {
     "name": "stderr",
     "output_type": "stream",
     "text": [
      "Epoch 181/200: 100%|██████████| 915/915 [00:14<00:00, 63.01it/s, accuracy=87.2, loss=0.866]\n"
     ]
    },
    {
     "name": "stdout",
     "output_type": "stream",
     "text": [
      "Epoch [181/200], Loss: 0.33126838138438963, Accuracy: 87.1584699453552%\n"
     ]
    },
    {
     "name": "stderr",
     "output_type": "stream",
     "text": [
      "Epoch 182/200: 100%|██████████| 915/915 [00:14<00:00, 62.60it/s, accuracy=87.3, loss=0.447]\n"
     ]
    },
    {
     "name": "stdout",
     "output_type": "stream",
     "text": [
      "Epoch [182/200], Loss: 0.32485477232216486, Accuracy: 87.25409836065573%\n"
     ]
    },
    {
     "name": "stderr",
     "output_type": "stream",
     "text": [
      "Epoch 183/200: 100%|██████████| 915/915 [00:14<00:00, 63.06it/s, accuracy=87.7, loss=0.0752]\n"
     ]
    },
    {
     "name": "stdout",
     "output_type": "stream",
     "text": [
      "Epoch [183/200], Loss: 0.3087012375883066, Accuracy: 87.74590163934427%\n"
     ]
    },
    {
     "name": "stderr",
     "output_type": "stream",
     "text": [
      "Epoch 184/200: 100%|██████████| 915/915 [00:14<00:00, 62.89it/s, accuracy=89.3, loss=0.369]\n"
     ]
    },
    {
     "name": "stdout",
     "output_type": "stream",
     "text": [
      "Epoch [184/200], Loss: 0.28428813809213416, Accuracy: 89.26229508196721%\n"
     ]
    },
    {
     "name": "stderr",
     "output_type": "stream",
     "text": [
      "Epoch 185/200: 100%|██████████| 915/915 [00:14<00:00, 62.50it/s, accuracy=85.8, loss=0.597]\n"
     ]
    },
    {
     "name": "stdout",
     "output_type": "stream",
     "text": [
      "Epoch [185/200], Loss: 0.3598627631985099, Accuracy: 85.80601092896175%\n"
     ]
    },
    {
     "name": "stderr",
     "output_type": "stream",
     "text": [
      "Epoch 186/200: 100%|██████████| 915/915 [00:15<00:00, 59.95it/s, accuracy=88.6, loss=0.367]\n"
     ]
    },
    {
     "name": "stdout",
     "output_type": "stream",
     "text": [
      "Epoch [186/200], Loss: 0.29937856000914276, Accuracy: 88.5792349726776%\n"
     ]
    },
    {
     "name": "stderr",
     "output_type": "stream",
     "text": [
      "Epoch 187/200: 100%|██████████| 915/915 [00:14<00:00, 61.60it/s, accuracy=85.2, loss=0.0819]\n"
     ]
    },
    {
     "name": "stdout",
     "output_type": "stream",
     "text": [
      "Epoch [187/200], Loss: 0.3714693246928395, Accuracy: 85.19125683060109%\n"
     ]
    },
    {
     "name": "stderr",
     "output_type": "stream",
     "text": [
      "Epoch 188/200: 100%|██████████| 915/915 [00:14<00:00, 62.41it/s, accuracy=89.8, loss=0.0688]\n"
     ]
    },
    {
     "name": "stdout",
     "output_type": "stream",
     "text": [
      "Epoch [188/200], Loss: 0.2810660730518116, Accuracy: 89.80874316939891%\n"
     ]
    },
    {
     "name": "stderr",
     "output_type": "stream",
     "text": [
      "Epoch 189/200: 100%|██████████| 915/915 [00:14<00:00, 63.15it/s, accuracy=89.3, loss=0.705]\n"
     ]
    },
    {
     "name": "stdout",
     "output_type": "stream",
     "text": [
      "Epoch [189/200], Loss: 0.27728279138319806, Accuracy: 89.27595628415301%\n"
     ]
    },
    {
     "name": "stderr",
     "output_type": "stream",
     "text": [
      "Epoch 190/200: 100%|██████████| 915/915 [00:14<00:00, 62.88it/s, accuracy=89.9, loss=1.08]\n"
     ]
    },
    {
     "name": "stdout",
     "output_type": "stream",
     "text": [
      "Epoch [190/200], Loss: 0.26685429731679094, Accuracy: 89.87704918032787%\n"
     ]
    },
    {
     "name": "stderr",
     "output_type": "stream",
     "text": [
      "Epoch 191/200: 100%|██████████| 915/915 [00:14<00:00, 62.99it/s, accuracy=82.6, loss=0.398]\n"
     ]
    },
    {
     "name": "stdout",
     "output_type": "stream",
     "text": [
      "Epoch [191/200], Loss: 0.4214586063201636, Accuracy: 82.60928961748634%\n"
     ]
    },
    {
     "name": "stderr",
     "output_type": "stream",
     "text": [
      "Epoch 192/200: 100%|██████████| 915/915 [00:14<00:00, 62.26it/s, accuracy=86.9, loss=0.151]\n"
     ]
    },
    {
     "name": "stdout",
     "output_type": "stream",
     "text": [
      "Epoch [192/200], Loss: 0.33892751887359257, Accuracy: 86.87158469945355%\n"
     ]
    },
    {
     "name": "stderr",
     "output_type": "stream",
     "text": [
      "Epoch 193/200: 100%|██████████| 915/915 [00:14<00:00, 63.10it/s, accuracy=87.2, loss=0.364]\n"
     ]
    },
    {
     "name": "stdout",
     "output_type": "stream",
     "text": [
      "Epoch [193/200], Loss: 0.33043419050632933, Accuracy: 87.18579234972678%\n"
     ]
    },
    {
     "name": "stderr",
     "output_type": "stream",
     "text": [
      "Epoch 194/200: 100%|██████████| 915/915 [00:14<00:00, 62.51it/s, accuracy=87.6, loss=0.114]\n"
     ]
    },
    {
     "name": "stdout",
     "output_type": "stream",
     "text": [
      "Epoch [194/200], Loss: 0.33102932319940764, Accuracy: 87.60928961748634%\n"
     ]
    },
    {
     "name": "stderr",
     "output_type": "stream",
     "text": [
      "Epoch 195/200: 100%|██████████| 915/915 [00:14<00:00, 61.66it/s, accuracy=87.8, loss=0.398]\n"
     ]
    },
    {
     "name": "stdout",
     "output_type": "stream",
     "text": [
      "Epoch [195/200], Loss: 0.3181514902946239, Accuracy: 87.80054644808743%\n"
     ]
    },
    {
     "name": "stderr",
     "output_type": "stream",
     "text": [
      "Epoch 196/200: 100%|██████████| 915/915 [00:14<00:00, 61.98it/s, accuracy=89, loss=0.188]\n"
     ]
    },
    {
     "name": "stdout",
     "output_type": "stream",
     "text": [
      "Epoch [196/200], Loss: 0.2913352398904132, Accuracy: 89.04371584699453%\n"
     ]
    },
    {
     "name": "stderr",
     "output_type": "stream",
     "text": [
      "Epoch 197/200: 100%|██████████| 915/915 [00:14<00:00, 62.71it/s, accuracy=88.5, loss=0.188]\n"
     ]
    },
    {
     "name": "stdout",
     "output_type": "stream",
     "text": [
      "Epoch [197/200], Loss: 0.3026585564302291, Accuracy: 88.53825136612022%\n"
     ]
    },
    {
     "name": "stderr",
     "output_type": "stream",
     "text": [
      "Epoch 198/200: 100%|██████████| 915/915 [00:14<00:00, 61.99it/s, accuracy=89.2, loss=0.452]\n"
     ]
    },
    {
     "name": "stdout",
     "output_type": "stream",
     "text": [
      "Epoch [198/200], Loss: 0.29454770586529716, Accuracy: 89.16666666666667%\n"
     ]
    },
    {
     "name": "stderr",
     "output_type": "stream",
     "text": [
      "Epoch 199/200: 100%|██████████| 915/915 [00:14<00:00, 61.43it/s, accuracy=82.6, loss=0.665]\n"
     ]
    },
    {
     "name": "stdout",
     "output_type": "stream",
     "text": [
      "Epoch [199/200], Loss: 0.4312538563105904, Accuracy: 82.56830601092896%\n"
     ]
    },
    {
     "name": "stderr",
     "output_type": "stream",
     "text": [
      "Epoch 200/200: 100%|██████████| 915/915 [00:14<00:00, 61.27it/s, accuracy=87.2, loss=0.218]\n"
     ]
    },
    {
     "name": "stdout",
     "output_type": "stream",
     "text": [
      "Epoch [200/200], Loss: 0.3149804801400242, Accuracy: 87.24043715846994%\n",
      "Average Train Accuracy of the model on the train videos: 82.75610816808647%\n"
     ]
    }
   ],
   "source": [
    "epochs = 200\n",
    "\n",
    "total_correct_all_epochs = 0\n",
    "total_samples_all_epochs = 0\n",
    "\n",
    "# Setup logging\n",
    "logging.basicConfig(filename='training.log', level=logging.INFO)\n",
    "\n",
    "for epoch in range(epochs):\n",
    "    total_correct = 0\n",
    "    total_samples = 0\n",
    "    total_loss = 0.0\n",
    "\n",
    "    # Create tqdm progress bar for training loader\n",
    "    progress_bar = tqdm(enumerate(train_loader), desc=f\"Epoch {epoch + 1}/{epochs}\", total=len(train_loader))\n",
    "\n",
    "    for i, (videos, labels) in progress_bar:\n",
    "        videos = videos.permute(1, 0, 2)\n",
    "        # Forward pass\n",
    "        outputs = model(videos)\n",
    "        labels = labels.long()  # Convert labels to Long type\n",
    "        loss = criterion(outputs, labels) + model.l2_regularization()  # calculates loss\n",
    "        total_loss += loss.item()\n",
    "        # Backward and optimize\n",
    "        optimizer.zero_grad()\n",
    "        loss.backward()\n",
    "        optimizer.step()\n",
    "        # Calculate accuracy per batch\n",
    "        _, predicted = torch.max(outputs.data, 1)\n",
    "        total_samples += labels.size(0)\n",
    "        total_correct += (predicted == labels).sum().item()\n",
    "        batch_accuracy = 100 * total_correct / total_samples\n",
    "\n",
    "        # Update progress bar\n",
    "        progress_bar.set_postfix(loss=loss.item(), accuracy=batch_accuracy)\n",
    "        \n",
    "        # Update overall accuracy counters\n",
    "        total_correct_all_epochs += total_correct\n",
    "        total_samples_all_epochs += total_samples\n",
    "\n",
    "    # Log epoch statistics\n",
    "    epoch_loss = total_loss / len(train_loader)\n",
    "    epoch_accuracy = 100 * total_correct / total_samples\n",
    "    logging.info(f'Epoch [{epoch + 1}/{epochs}], Loss: {epoch_loss}, Accuracy: {epoch_accuracy}%')\n",
    "\n",
    "    print(f'Epoch [{epoch + 1}/{epochs}], Loss: {epoch_loss}, Accuracy: {epoch_accuracy}%')\n",
    "\n",
    "# Close logging\n",
    "logging.shutdown()\n",
    "\n",
    "overall_accuracy = 100 * total_correct_all_epochs / total_samples_all_epochs\n",
    "print(f'Average Train Accuracy of the model on the train videos: {overall_accuracy}%')\n",
    "\n"
   ]
  },
  {
   "cell_type": "code",
   "execution_count": 11,
   "id": "d2e517d4",
   "metadata": {
    "execution": {
     "iopub.execute_input": "2024-03-18T21:29:53.197925Z",
     "iopub.status.busy": "2024-03-18T21:29:53.197163Z",
     "iopub.status.idle": "2024-03-18T21:29:54.121019Z",
     "shell.execute_reply": "2024-03-18T21:29:54.120082Z"
    },
    "papermill": {
     "duration": 18.434662,
     "end_time": "2024-03-18T21:29:54.123174",
     "exception": false,
     "start_time": "2024-03-18T21:29:35.688512",
     "status": "completed"
    },
    "tags": []
   },
   "outputs": [
    {
     "name": "stdout",
     "output_type": "stream",
     "text": [
      "Test Accuracy of the model on the test videos: 80.10928961748634%\n"
     ]
    }
   ],
   "source": [
    "model.eval()\n",
    "\n",
    "with torch.no_grad():\n",
    "    correct = 0\n",
    "    total = 0\n",
    "    for videos, labels in test_loader:\n",
    "        videos = videos.permute(1, 0, 2)\n",
    "        outputs = model(videos)\n",
    "        _, predicted = torch.max(outputs.data, 1)\n",
    "        total += labels.size(0)\n",
    "        correct += (predicted == labels).sum().item()\n",
    "        #print test accuracy per test\n",
    "\n",
    "    print(f'Test Accuracy of the model on the test videos: {100 * correct / total}%')"
   ]
  },
  {
   "cell_type": "code",
   "execution_count": 12,
   "id": "bb68cfcd",
   "metadata": {
    "execution": {
     "iopub.execute_input": "2024-03-18T21:30:29.215782Z",
     "iopub.status.busy": "2024-03-18T21:30:29.215017Z",
     "iopub.status.idle": "2024-03-18T21:30:31.314805Z",
     "shell.execute_reply": "2024-03-18T21:30:31.313783Z"
    },
    "papermill": {
     "duration": 19.692112,
     "end_time": "2024-03-18T21:30:31.316899",
     "exception": false,
     "start_time": "2024-03-18T21:30:11.624787",
     "status": "completed"
    },
    "tags": []
   },
   "outputs": [
    {
     "name": "stdout",
     "output_type": "stream",
     "text": [
      "Confusion Matrix:\n",
      "[[640 275]\n",
      " [ 89 826]]\n"
     ]
    },
    {
     "data": {
      "image/png": "[encoded data removed]",
      "text/plain": [
       "<Figure size 800x600 with 2 Axes>"
      ]
     },
     "metadata": {},
     "output_type": "display_data"
    }
   ],
   "source": [
    "from sklearn.metrics import confusion_matrix\n",
    "import numpy as np\n",
    "\n",
    "# Set model to evaluation mode\n",
    "model.eval()\n",
    "\n",
    "# Initialize variables for predictions and ground truth labels\n",
    "all_predictions = []\n",
    "all_labels = []\n",
    "\n",
    "# Iterate through the test dataset\n",
    "for videos, labels in test_loader:\n",
    "#     videos = videos.unsqueeze(0)\n",
    "    videos = videos.permute(1, 0, 2)\n",
    "    # Forward pass\n",
    "    outputs = model(videos)\n",
    "    # Predictions\n",
    "    _, predicted = torch.max(outputs.data, 1)\n",
    "    # Append predictions and labels to the lists\n",
    "    all_predictions.extend(predicted.tolist())\n",
    "    all_labels.extend(labels.tolist())\n",
    "\n",
    "# Convert predictions and labels lists to numpy arrays\n",
    "all_predictions = np.array(all_predictions)\n",
    "all_labels = np.array(all_labels)\n",
    "\n",
    "# Generate confusion matrix\n",
    "conf_matrix = confusion_matrix(all_labels, all_predictions)\n",
    "\n",
    "print(\"Confusion Matrix:\")\n",
    "print(conf_matrix)\n",
    "\n",
    "import matplotlib.pyplot as plt\n",
    "import seaborn as sns\n",
    "\n",
    "# Plot confusion matrix\n",
    "plt.figure(figsize=(8, 6))\n",
    "sns.heatmap(conf_matrix, annot=True, fmt=\"d\", cmap=\"Blues\")\n",
    "plt.title(\"Confusion Matrix\")\n",
    "plt.xlabel(\"Predicted\")\n",
    "plt.ylabel(\"True\")\n",
    "plt.show()"
   ]
  },
  {
   "cell_type": "code",
   "execution_count": 13,
   "id": "5c18ea3d",
   "metadata": {
    "execution": {
     "iopub.execute_input": "2024-03-18T21:31:06.645973Z",
     "iopub.status.busy": "2024-03-18T21:31:06.645430Z",
     "iopub.status.idle": "2024-03-18T21:31:08.112209Z",
     "shell.execute_reply": "2024-03-18T21:31:08.111310Z"
    },
    "papermill": {
     "duration": 19.373476,
     "end_time": "2024-03-18T21:31:08.114421",
     "exception": false,
     "start_time": "2024-03-18T21:30:48.740945",
     "status": "completed"
    },
    "tags": []
   },
   "outputs": [
    {
     "data": {
      "image/png": "[encoded data removed]",
      "text/plain": [
       "<Figure size 640x480 with 1 Axes>"
      ]
     },
     "metadata": {},
     "output_type": "display_data"
    },
    {
     "data": {
      "image/png": "[encoded data removed]",
      "text/plain": [
       "<Figure size 640x480 with 1 Axes>"
      ]
     },
     "metadata": {},
     "output_type": "display_data"
    }
   ],
   "source": [
    "from sklearn.metrics import roc_curve, auc, precision_recall_curve, average_precision_score\n",
    "import matplotlib.pyplot as plt\n",
    "\n",
    "# Set model to evaluation mode\n",
    "model.eval()\n",
    "\n",
    "# Initialize variables for predictions and ground truth labels\n",
    "all_probs = []\n",
    "all_labels = []\n",
    "\n",
    "# Iterate through the test dataset\n",
    "for videos, labels in test_loader:\n",
    "#     videos = videos.unsqueeze(0)\n",
    "    videos = videos.permute(1, 0, 2)\n",
    "    # Forward pass\n",
    "    outputs = model(videos)\n",
    "    # Get probabilities\n",
    "    probs = torch.softmax(outputs, dim=1)[:, 1].detach().cpu().numpy()\n",
    "    # Append probabilities and labels to the lists\n",
    "    all_probs.extend(probs.tolist())\n",
    "    all_labels.extend(labels.tolist())\n",
    "\n",
    "# Convert probabilities and labels lists to numpy arrays\n",
    "all_probs = np.array(all_probs)\n",
    "all_labels = np.array(all_labels)\n",
    "\n",
    "# AUC ROC Curve\n",
    "fpr, tpr, _ = roc_curve(all_labels, all_probs)\n",
    "roc_auc = auc(fpr, tpr)\n",
    "\n",
    "plt.figure()\n",
    "plt.plot(fpr, tpr, color='darkorange', lw=2, label='ROC curve (area = %0.2f)' % roc_auc)\n",
    "plt.plot([0, 1], [0, 1], color='navy', lw=2, linestyle='--')\n",
    "plt.xlim([0.0, 1.0])\n",
    "plt.ylim([0.0, 1.05])\n",
    "plt.xlabel('False Positive Rate')\n",
    "plt.ylabel('True Positive Rate')\n",
    "plt.title('Receiver Operating Characteristic (ROC) Curve')\n",
    "plt.legend(loc=\"lower right\")\n",
    "plt.show()\n",
    "\n",
    "# Precision-Recall Curve\n",
    "precision, recall, _ = precision_recall_curve(all_labels, all_probs)\n",
    "average_precision = average_precision_score(all_labels, all_probs)\n",
    "\n",
    "plt.figure()\n",
    "plt.step(recall, precision, color='b', alpha=0.2, where='post')\n",
    "plt.fill_between(recall, precision, step='post', alpha=0.2, color='b')\n",
    "plt.xlabel('Recall')\n",
    "plt.ylabel('Precision')\n",
    "plt.ylim([0.0, 1.05])\n",
    "plt.xlim([0.0, 1.0])\n",
    "plt.title('Precision-Recall Curve (AP={0:0.2f})'.format(average_precision))\n",
    "plt.show()\n"
   ]
  },
  {
   "cell_type": "code",
   "execution_count": null,
   "id": "e1ac76a8",
   "metadata": {
    "papermill": {
     "duration": 17.554715,
     "end_time": "2024-03-18T21:31:43.090119",
     "exception": false,
     "start_time": "2024-03-18T21:31:25.535404",
     "status": "completed"
    },
    "tags": []
   },
   "outputs": [],
   "source": []
  }
 ],
 "metadata": {
  "kaggle": {
   "accelerator": "gpu",
   "dataSources": [
    {
     "datasetId": 4611142,
     "sourceId": 7860701,
     "sourceType": "datasetVersion"
    }
   ],
   "dockerImageVersionId": 30665,
   "isGpuEnabled": true,
   "isInternetEnabled": true,
   "language": "python",
   "sourceType": "notebook"
  },
  "kernelspec": {
   "display_name": "Python 3",
   "language": "python",
   "name": "python3"
  },
  "language_info": {
   "codemirror_mode": {
    "name": "ipython",
    "version": 3
   },
   "file_extension": ".py",
   "mimetype": "text/x-python",
   "name": "python",
   "nbconvert_exporter": "python",
   "pygments_lexer": "ipython3",
   "version": "3.10.13"
  },
  "papermill": {
   "default_parameters": {},
   "duration": 3205.173827,
   "end_time": "2024-03-18T21:32:02.506997",
   "environment_variables": {},
   "exception": null,
   "input_path": "__notebook__.ipynb",
   "output_path": "__notebook__.ipynb",
   "parameters": {},
   "start_time": "2024-03-18T20:38:37.333170",
   "version": "2.5.0"
  }
 },
 "nbformat": 4,
 "nbformat_minor": 5
}
