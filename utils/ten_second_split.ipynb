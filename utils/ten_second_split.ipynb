{
 "cells": [
  {
   "cell_type": "markdown",
   "source": [
    "## Code to split the video into 10 second clips\n",
    "\n",
    "##### USAGE: USE THIS SCRIPT TO SPLIT VIDEOS INTO 10 SECONDS SEGMENTS\n",
    "\n",
    "---\n",
    "\n",
    "This file is a Python script that segments a video into multiple videos of a specified duration. It uses the OpenCV library to read and write video files, and the os and tqdm libraries for file and progress bar operations, respectively.\n",
    "\n",
    "The segment_video function takes an input video file, an output video file pattern, and an optional segment duration as input. It opens the input video file using OpenCVs' VideoCapture class, and then calculates the frame rate and total number of frames in the video. It then calculates the number of frames for the segment duration, and initializes the current frame and segment index. It then loops through the video frames and segments the video into multiple videos of the specified duration. For each segment, it creates a VideoWriter object to write the segment to a new video file, and then writes the frames to the output file. Finally, it releases the VideoWriter object and increments the segment index for the next segment.\n",
    "\n",
    "The main part of the script demonstrates how to use the segment_video function to segment all input videos in a specified directory. It first specifies the input and output directories, and then loops over all input videos in the input directory. For each video, it calls the segment_video function to segment the video into multiple videos of the specified duration, and saves the segmented videos to the output directory.\n",
    "\n",
    "To use this script, you can simply replace the input_dir and output_dir variables with the paths to your input and output directories, and then run the script. It will segment all videos in the input directory and save the segmented videos to the output directory.\n",
    "\n",
    "---\n",
    "##### WARNING: Some videos may have less than 10 seconds of content, so the last segment may be shorter than the specified duration. You may need to handle this case separately if necessary.\n",
    "\n",
    "\n",
    "[![Open In Colab](https://colab.research.google.com/assets/colab-badge.svg)](https://colab.research.google.com/github/tinykishore/fydp-experiments/blob/master/ten_second_split.ipynb)\n",
    "\n"
   ],
   "metadata": {
    "collapsed": false
   },
   "id": "9d20832baad34b20"
  },
  {
   "cell_type": "code",
   "id": "initial_id",
   "metadata": {
    "collapsed": true
   },
   "source": [
    "# Import necessary libraries\n",
    "import cv2\n",
    "import os\n",
    "from tqdm import tqdm\n",
    "# For notebook use\n",
    "from multiprocessing.pool import ThreadPool as Pool\n",
    "# For script use\n",
    "# from multiprocessing import Pool"
   ],
   "outputs": [],
   "execution_count": null
  },
  {
   "cell_type": "markdown",
   "source": [
    "#### Function to segment a video into multiple videos of a specified duration\n",
    "\n",
    "This function segments a video into multiple videos of a specified duration."
   ],
   "metadata": {
    "collapsed": false
   },
   "id": "23f28fa94e5e472f"
  },
  {
   "cell_type": "code",
   "source": [
    "def segment_video(args):\n",
    "    \"\"\"\n",
    "    This function segments a video into multiple videos of a specified duration.\n",
    "    :param args: A tuple containing input file, output file pattern, and segment duration.\n",
    "    \"\"\"\n",
    "    # Get all the arguments from the tuple\n",
    "    in_file, out_file, segment_duration = args\n",
    "    # Open the input video file\n",
    "    cap = cv2.VideoCapture(in_file)\n",
    "    # Get the frame rate and total number of frames\n",
    "    fps = cap.get(cv2.CAP_PROP_FPS)\n",
    "    # Get the total number of frames\n",
    "    total_frames = int(cap.get(cv2.CAP_PROP_FRAME_COUNT))\n",
    "\n",
    "    # Calculate the number of frames for the segment duration\n",
    "    # e.g., 10 seconds at 30 fps is 300 frames (10 * 30 = 300)\n",
    "    segment_frames = int(segment_duration * fps)\n",
    "\n",
    "    # Initialize the current frame and segment index\n",
    "    current_frame = 0\n",
    "    segment_index = 0\n",
    "\n",
    "    # Loop through the video frames and segment the video\n",
    "    while current_frame < total_frames:\n",
    "        # Set the start and end frames for the segment (e.g., 0 - 300, 300 - 600, etc.)\n",
    "        start_frame = current_frame\n",
    "        # Ensure the end frame does not exceed the total number of frames\n",
    "        # e.g., for the last segment, the end frame should be the total number of frames\n",
    "        end_frame = min(start_frame + segment_frames, total_frames)\n",
    "\n",
    "        # Set the output file name for the segment (e.g., output_000.mp4, output_001.mp4, etc.)\n",
    "        output_file = out_file % segment_index\n",
    "\n",
    "        # Create a VideoWriter object to write the segment to a new video file\n",
    "        # The VideoWriter object takes the output file name, codec, frame rate, and frame size as input\n",
    "        out = cv2.VideoWriter(output_file, cv2.VideoWriter.fourcc(*'mp4v'), fps, (int(cap.get(3)), int(cap.get(4))))\n",
    "\n",
    "        # Set the current frame to the start frame\n",
    "        cap.set(cv2.CAP_PROP_POS_FRAMES, start_frame)\n",
    "        # Loop through the frames and write them to the output file\n",
    "        while current_frame < end_frame:\n",
    "            # Read the next frame from the input video\n",
    "            ret, frame = cap.read()\n",
    "            if not ret:\n",
    "                break\n",
    "            # Write the frame to the output video, writes in the location of the output file\n",
    "            out.write(frame)\n",
    "            current_frame += 1\n",
    "\n",
    "        out.release()\n",
    "        # Increment the segment index for the next segment\n",
    "        segment_index += 1\n",
    "\n",
    "    cap.release()"
   ],
   "metadata": {
    "collapsed": false
   },
   "id": "6a7c97aab2502de2",
   "outputs": [],
   "execution_count": null
  },
  {
   "cell_type": "markdown",
   "source": [
    "#### Main part of the script to segment all input videos in a specified directory\n",
    "\n",
    "**This part of the script demonstrates how to use the segment_video function to segment all input videos in a specified directory.**\n",
    "\n",
    "Specify the input directory (containing the videos to be segmented) and the output directory (where the segmented videos will be saved). Create the output directory if it doesn't exist. Loop over all input videos in the input directory and call the segment_video function to segment each video into multiple videos of the specified duration. Save the segmented videos to the output directory.\n",
    "\n",
    "*NOTE: Now multiprocessing is used.*"
   ],
   "metadata": {
    "collapsed": false
   },
   "id": "83a0d3642442cd22"
  },
  {
   "cell_type": "code",
   "source": [
    "# Specify the input directory (containing the videos to be segmented)\n",
    "input_dir = '/Users/tinykishore/Capstone Project/VAD/abuse'\n",
    "# Specify the output directory (where the segmented videos will be saved)\n",
    "output_dir = 'output/'\n",
    "# Create output directory if it doesn't exist\n",
    "os.makedirs(output_dir, exist_ok=True)\n",
    "\n",
    "# list of args for each video, used for multiprocessing\n",
    "args_list = []\n",
    "\n",
    "# Loop over all input videos in the input directory\n",
    "for filename in os.listdir(input_dir):\n",
    "    if filename.endswith(\".mp4\"):\n",
    "        input_file = os.path.join(input_dir, filename)\n",
    "        output_pattern = os.path.join(output_dir, filename.split('.')[0] + '_%03d.mp4')\n",
    "        args_list.append((input_file, output_pattern, 10))  # Assuming default segment duration of 10 seconds\n",
    "        \n",
    "# Start Pool for multiprocessing\n",
    "with Pool() as pool:\n",
    "    list(tqdm(pool.imap(segment_video, args_list), total=len(args_list)))"
   ],
   "metadata": {
    "collapsed": false
   },
   "id": "e0be03da89b103a9",
   "outputs": [],
   "execution_count": null
  },
  {
   "cell_type": "markdown",
   "source": [
    "#### NOTE: REMEMBER TO DELETE THE VIDEOS THAT IS LESS THAN 10 SECONDS\n",
    "\n",
    "(Or you can write a function to delete the videos that are less than 10 seconds)"
   ],
   "metadata": {
    "collapsed": false
   },
   "id": "165e06d4c826f5b1"
  }
 ],
 "metadata": {
  "kernelspec": {
   "display_name": "Python 3",
   "language": "python",
   "name": "python3"
  },
  "language_info": {
   "codemirror_mode": {
    "name": "ipython",
    "version": 2
   },
   "file_extension": ".py",
   "mimetype": "text/x-python",
   "name": "python",
   "nbconvert_exporter": "python",
   "pygments_lexer": "ipython2",
   "version": "2.7.6"
  }
 },
 "nbformat": 4,
 "nbformat_minor": 5
}
